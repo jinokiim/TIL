{
 "cells": [
  {
   "cell_type": "markdown",
   "id": "f75df653",
   "metadata": {},
   "source": [
    "# openCV Day1"
   ]
  },
  {
   "cell_type": "markdown",
   "id": "89c79d9e",
   "metadata": {},
   "source": [
    "* numpy 설치"
   ]
  },
  {
   "cell_type": "code",
   "execution_count": 17,
   "id": "7c290f10",
   "metadata": {},
   "outputs": [
    {
     "data": {
      "text/plain": [
       "'1.20.3'"
      ]
     },
     "execution_count": 17,
     "metadata": {},
     "output_type": "execute_result"
    }
   ],
   "source": [
    "# pip install numpy\n",
    "import numpy\n",
    "\n",
    "# 버전 확인\n",
    "numpy.__version__"
   ]
  },
  {
   "cell_type": "markdown",
   "id": "6d31f9b0",
   "metadata": {},
   "source": [
    "* openCV 설치"
   ]
  },
  {
   "cell_type": "code",
   "execution_count": 18,
   "id": "231f7e5b",
   "metadata": {},
   "outputs": [
    {
     "data": {
      "text/plain": [
       "'4.5.3'"
      ]
     },
     "execution_count": 18,
     "metadata": {},
     "output_type": "execute_result"
    }
   ],
   "source": [
    "# pip install opencv-python\n",
    "# pip install open-contrib-python\n",
    "import cv2\n",
    "\n",
    "# 버전 확인\n",
    "cv2.__version__"
   ]
  },
  {
   "cell_type": "markdown",
   "id": "1e456ce8",
   "metadata": {},
   "source": [
    "## 이미지와 비디오 입출력\n",
    "\n",
    "### 이미지 읽기\n",
    "\n",
    "이미지 파일을 화면에 표시"
   ]
  },
  {
   "cell_type": "code",
   "execution_count": 2,
   "id": "607e0cec",
   "metadata": {},
   "outputs": [],
   "source": [
    "import cv2\n",
    "\n",
    "img_file = './img/girl.jpg'    # 표시할 이미지 경로\n",
    "img = cv2.imread(img_file)     # 이미지를 읽어서 img로 선언\n",
    "\n",
    "if img is not None:\n",
    "    cv2.imshow('IMG', img)     # 읽은 이미지를 화면에 표시\n",
    "    cv2.waitKey()              # 키가 입력될 때까지 대기\n",
    "    cv2.destroyAllWindows()    # 창 모두 닫기\n",
    "else:\n",
    "    print('No image file.')"
   ]
  },
  {
   "cell_type": "markdown",
   "id": "ee6fd41f",
   "metadata": {},
   "source": [
    "### 코드 해석\n",
    "##### img = cv2.imread(file_name [, mode_flag]) : 파일로부터 이미지 읽기  \n",
    "* file_name : 이미지 경로, 문자열  \n",
    "\n",
    "##### mode_flag=cv.imread_color : 읽기 모드 지정  \n",
    "* cv2.imread_color : 컬러스케일로 읽기, 기본값\n",
    "* cv2.imread_unchanged : 파일 그대로 읽기\n",
    "* cv2.imread_grayscale : 그레이스케일로 읽기\n",
    "\n",
    "##### img : 읽은 이미지, numpy 배열\n",
    "\n",
    "##### cv2.imshow( 'title' , img) : 이미지를 화면에 표시\n",
    "* title : 창 제목, 문자열\n",
    "* img : 표시알 이미지, numpy 배열\n",
    "\n",
    "##### cv2.waitKey( [delay] ) : 키보드 입력 대기\n",
    "* delay = 0 :키보드 입력을 대기할 시간(ms) / 0 : 무한대(기본 값)\n",
    "* key : 사용자가 입력한 키 값, 정수\n",
    "* -1 : 대기시간 동안 키 입력 없음"
   ]
  },
  {
   "cell_type": "markdown",
   "id": "46c1d20f",
   "metadata": {},
   "source": [
    "* 옵션 변경하여 실행 (그레이 스캐일로 변경)"
   ]
  },
  {
   "cell_type": "code",
   "execution_count": 3,
   "id": "42974e52",
   "metadata": {},
   "outputs": [],
   "source": [
    "import cv2\n",
    "\n",
    "img = cv2.imread(img_file, cv2.IMREAD_GRAYSCALE)\n",
    "\n",
    "if img is not None:\n",
    "    cv2.imshow('IMG', img)\n",
    "    cv2.waitKey()\n",
    "    cv2.destroyAllWindows()\n",
    "else:\n",
    "    print('No image file.')"
   ]
  },
  {
   "cell_type": "markdown",
   "id": "24dd82e7",
   "metadata": {},
   "source": [
    "### 이미지 저장하기\n",
    "* 이미지를 그레이 스케일로 저장"
   ]
  },
  {
   "cell_type": "code",
   "execution_count": 4,
   "id": "a53f62aa",
   "metadata": {},
   "outputs": [],
   "source": [
    "import cv2\n",
    "\n",
    "img_file = './img/girl.jpg'\n",
    "save_file = './img/girl_gray1.jpg'\n",
    "\n",
    "img = cv2.imread(img_file, cv2.IMREAD_GRAYSCALE)\n",
    "cv2.imshow(img_file, img)\n",
    "cv2.imwrite(save_file, img)     # 파일로 저장, 포맷은 확장자에따라 다름\n",
    "cv2.waitKey()\n",
    "cv2.destroyAllWindows()"
   ]
  },
  {
   "cell_type": "markdown",
   "id": "bae1a975",
   "metadata": {},
   "source": [
    "### 코드 해석\n",
    "\n",
    "##### cv2.imwrite(file_path, img) : 이미지를 파일에 저장\n",
    "* file_path : 저장할 파일 경로 이름, 문자열\n",
    "* img : 저장할 영상, numpy 배열"
   ]
  },
  {
   "cell_type": "markdown",
   "id": "15738639",
   "metadata": {},
   "source": [
    "### 동영상 파일 읽기\n",
    "\n",
    "##### cap = cv2.VideoCapture(file_path 또는 index) : 비디오 캡처 객체 생성자\n",
    "* file_path : 동영상 파일 경로\n",
    "* index : 카메라 장치 번호, 0부터 순차적으로 증가\n",
    "* cap : VideoCapture 객체\n",
    "\n",
    "##### ret = cap.isOpened( ) : 객체 초기화 확인\n",
    "* ret : 초기화 여부, True/False\n",
    "\n",
    "##### ret, img = cap.read( ) : 영상 프레임 읽기\n",
    "* ret : 프레임 읽기 성공 또는 실패 여부, True/False\n",
    "* img : 프레임 이미지, numpy 배열 또는 None\n",
    "\n",
    "##### cap.set( id, value) : 프로퍼티 변경\n",
    "\n",
    "##### cap.get(id) : 프로퍼티 확인\n",
    "\n",
    "##### cap.release( ) : 캡처 자원 반납\n"
   ]
  },
  {
   "cell_type": "code",
   "execution_count": 2,
   "id": "9d4950df",
   "metadata": {},
   "outputs": [],
   "source": [
    "import cv2\n",
    "\n",
    "video_file = './img/big_buck.avi'    # 동영상 파일 경로\n",
    "\n",
    "cap = cv2.VideoCapture(video_file)    # 동영상 캡처 객체 생성\n",
    "if cap.isOpened():             # 캡처 객체 초기화 확인\n",
    "    while True:\n",
    "        ret, img = cap.read()    # 다음 프레임 읽기\n",
    "        if ret:     # 프레임 읽기 정상이면\n",
    "            cv2.imshow(video_file, img)    # 화면에 표시\n",
    "            cv2.waitKey(25)      # 25ms 지연\n",
    "        else:      # 읽을 수 없으면\n",
    "            break   # 완료\n",
    "else:\n",
    "    print(\"can't open video\")    # 캡처 객체 초기화 실패\n",
    "cap.release()      # 캡처 자원 반납\n",
    "cv2.destroyAllWindows()"
   ]
  },
  {
   "cell_type": "markdown",
   "id": "d2e513f3",
   "metadata": {},
   "source": [
    "### 카메라(웹캠) 프레임 읽기"
   ]
  },
  {
   "cell_type": "code",
   "execution_count": 1,
   "id": "6bc8baec",
   "metadata": {},
   "outputs": [],
   "source": [
    "import cv2\n",
    "\n",
    "cap = cv2.VideoCapture(0)     # 0번 카메라 장치 연결\n",
    "if cap.isOpened():\n",
    "    while True:\n",
    "        ret, img = cap.read()   # 카메라 프레임 읽기\n",
    "        if ret:\n",
    "            cv2.imshow('camera', img)    # 프레임 이미지 표시\n",
    "            if cv2.waitKey(1) != -1:     # 1ms 동안 키 입력 대기\n",
    "                break                 # 아무 키나 눌렀으면 중지\n",
    "        else:\n",
    "            print('no frame')\n",
    "            break\n",
    "else:\n",
    "    print(\"can't open cameera.\")\n",
    "cap.release()\n",
    "cv2.destroyAllWindows()"
   ]
  },
  {
   "cell_type": "markdown",
   "id": "458c10cb",
   "metadata": {},
   "source": [
    "### 카메라 비디오 속성 제어\n",
    "\n",
    "##### 속성 ID : 'cv2.CAP_PROP_'로 시작하는 상수\n",
    "* cv2.CAP_PROP_FRAME_WIDTH : 프레임 폭\n",
    "* cv2.CAP_PROP_FRAME_HEIGHT : 프레임 높이\n",
    "* cv2.CAP_PROP_FPS : 초당 프레임 수\n",
    "* cv2.CAP_PROP_POS_MSEC : 동영상 파일의 프레임 위치(ms)\n",
    "* cv2.CAP_PROP_POS_AVI_RATIO : 동영상 파일의 상대 위치(0:시작, 1:끝)\n",
    "* cv2.CAP_PROP_FOURCC : 동영상 파일 코덱 문자\n",
    "* cv2.CAP_PROP_AUTOFOCUS : 카메라 자동 초점 조절\n",
    "* cv2.CAP_PROP_ZOOM : 카메라 줌"
   ]
  },
  {
   "cell_type": "code",
   "execution_count": 8,
   "id": "78468d51",
   "metadata": {},
   "outputs": [
    {
     "name": "stdout",
     "output_type": "stream",
     "text": [
      "FPS: 24.000000, Delay: 41ms\n"
     ]
    }
   ],
   "source": [
    "import cv2\n",
    "\n",
    "video_file = './img/big_buck.avi'    # 동영상 파일 경로\n",
    "\n",
    "cap = cv2.VideoCapture(video_file)    # 동영상 캡처 객체 생성\n",
    "if cap.isOpened():     # 캡처 객체 초기화 확인\n",
    "    fps = cap.get(cv2.CAP_PROP_FPS)    # 프레임 수 구하기\n",
    "    delay = int(1000/fps)      # 지연시간 구하기\n",
    "    print(\"FPS: %f, Delay: %dms\"%(fps, delay))\n",
    "    \n",
    "    while True:\n",
    "        ret, img = cap.read()    # 다음 프레임 읽기\n",
    "        if ret:    \n",
    "            cv2.imshow(video_file, img)\n",
    "            cv2.waitKey(delay)   # fps 에 맞게 시간 지연\n",
    "        else:\n",
    "            break\n",
    "else:\n",
    "    print(\"can't open video.\")\n",
    "cap.release()\n",
    "cv2.destroyAllWindows()"
   ]
  },
  {
   "cell_type": "markdown",
   "id": "0a5bdddf",
   "metadata": {},
   "source": [
    "* 카메라 프레임 크기 설정"
   ]
  },
  {
   "cell_type": "code",
   "execution_count": 20,
   "id": "2bae22ce",
   "metadata": {},
   "outputs": [
    {
     "name": "stdout",
     "output_type": "stream",
     "text": [
      "Original width: 1280, height:720\n",
      "Resized width: 1280, height:720\n"
     ]
    }
   ],
   "source": [
    "import cv2\n",
    "\n",
    "cap = cv2.VideoCapture(0)\n",
    "width=cap.get(cv2.CAP_PROP_FRAME_WIDTH)   # 프레임 폭 값 구하기\n",
    "height = cap.get(cv2.CAP_PROP_FRAME_HEIGHT)   # 프레임 높이 값 구하기\n",
    "print(\"Original width: %d, height:%d\"%(width, height))\n",
    "\n",
    "cap.set(cv2.CAP_PROP_FRAME_WIDTH, 320)    # 프레임 폭을 320으로 설정\n",
    "cap.set(cv2.CAP_PROP_FRAME_HEIGHT, 240)\n",
    "width = cap.get(cv2.CAP_PROP_FRAME_WIDTH)    # 프레임 높이를 240으로 설정\n",
    "height = cap.get(cv2.CAP_PROP_FRAME_HEIGHT)   # 재지정한 프레임 폭 값 구하기\n",
    "print(\"Resized width: %d, height:%d\"%(width,height))    # 재지정한 프레임 높이 값 구하기\n",
    "\n",
    "if cap.isOpened():\n",
    "    while True:\n",
    "        ret, img = cap.read()\n",
    "        if ret:\n",
    "            cv2.imshow('camera', img)\n",
    "\n",
    "            if cv2.waitKey(1) != -1:   # 아무키나 누르면\n",
    "                break\n",
    "        else:\n",
    "            print('no frame')\n",
    "            break\n",
    "else:\n",
    "    print(\"can't open camera\")\n",
    "    \n",
    "cap.release()\n",
    "cv2.destroyAllWindows()"
   ]
  },
  {
   "cell_type": "markdown",
   "id": "a1a51b75",
   "metadata": {},
   "source": [
    "### 비디오 파일 저장하기\n",
    "\n",
    "* 카메라로 사진찍기"
   ]
  },
  {
   "cell_type": "code",
   "execution_count": 6,
   "id": "b26dd3fb",
   "metadata": {},
   "outputs": [],
   "source": [
    "import cv2\n",
    "\n",
    "cap = cv2.VideoCapture(0)\n",
    "if cap.isOpened():\n",
    "    while True:\n",
    "        ret, frame = cap.read()\n",
    "        if ret:\n",
    "            cv2.imshow('camera', frame)\n",
    "            if cv2.waitKey(1) != -1:    # 아무키나 누르면\n",
    "                cv2.imwrite('photo.jpg', frame)   # 저장\n",
    "                break\n",
    "        else:\n",
    "            print('no frame')\n",
    "            break\n",
    "else:\n",
    "    print('no camera')\n",
    "cap.release()\n",
    "cv2.destroyAllWindows()"
   ]
  },
  {
   "cell_type": "markdown",
   "id": "4094c0c5",
   "metadata": {},
   "source": [
    "* 카메라로 녹화하기"
   ]
  },
  {
   "cell_type": "code",
   "execution_count": 21,
   "id": "ab8046d8",
   "metadata": {},
   "outputs": [],
   "source": [
    "import cv2\n",
    "\n",
    "cap = cv2.VideoCapture(0)\n",
    "if cap.isOpened:\n",
    "    file_path = './record.avi'\n",
    "    fps = 25.40\n",
    "    fourcc = cv2.VideoWriter_fourcc(*'DIVX')\n",
    "    width = cap.get(cv2.CAP_PROP_FRAME_WIDTH)\n",
    "    height = cap.get(cv2.CAP_PROP_FRAME_HEIGHT)\n",
    "    size = (int(width), int(height))\n",
    "    out = cv2.VideoWriter(file_path, fourcc, fps, size)\n",
    "    while True:\n",
    "        ret, frame = cap.read()\n",
    "        if ret:\n",
    "            cv2.imshow('camera-recording', frame)\n",
    "            out.write(frame)\n",
    "            if cv2.waitKey(int(1000/fps)) != -1:\n",
    "                break\n",
    "        else:\n",
    "            print('no frame')\n",
    "            break\n",
    "    out.release()\n",
    "else:\n",
    "    print(\"can't open camera\")\n",
    "cap.release()\n",
    "cv2.destroyAllWindows()"
   ]
  },
  {
   "cell_type": "markdown",
   "id": "5193cbfe",
   "metadata": {},
   "source": [
    "## 그림그리기\n",
    "\n",
    "### 하양색 배경 만들기"
   ]
  },
  {
   "cell_type": "code",
   "execution_count": 9,
   "id": "9c0443fa",
   "metadata": {},
   "outputs": [
    {
     "ename": "error",
     "evalue": "OpenCV(4.5.3) :-1: error: (-5:Bad argument) in function 'imwrite'\n> Overload resolution failed:\n>  - imwrite() missing required argument 'img' (pos 2)\n>  - imwrite() missing required argument 'img' (pos 2)\n",
     "output_type": "error",
     "traceback": [
      "\u001b[0;31m---------------------------------------------------------------------------\u001b[0m",
      "\u001b[0;31merror\u001b[0m                                     Traceback (most recent call last)",
      "\u001b[0;32m<ipython-input-9-84eb738dfadd>\u001b[0m in \u001b[0;36m<module>\u001b[0;34m\u001b[0m\n\u001b[1;32m      3\u001b[0m \u001b[0;34m\u001b[0m\u001b[0m\n\u001b[1;32m      4\u001b[0m \u001b[0mimg\u001b[0m \u001b[0;34m=\u001b[0m \u001b[0mnp\u001b[0m\u001b[0;34m.\u001b[0m\u001b[0mfull\u001b[0m\u001b[0;34m(\u001b[0m\u001b[0;34m(\u001b[0m\u001b[0;36m500\u001b[0m\u001b[0;34m,\u001b[0m \u001b[0;36m500\u001b[0m\u001b[0;34m,\u001b[0m \u001b[0;36m3\u001b[0m\u001b[0;34m)\u001b[0m\u001b[0;34m,\u001b[0m \u001b[0;36m255\u001b[0m\u001b[0;34m,\u001b[0m \u001b[0mdtype\u001b[0m\u001b[0;34m=\u001b[0m\u001b[0mnp\u001b[0m\u001b[0;34m.\u001b[0m\u001b[0muint8\u001b[0m\u001b[0;34m)\u001b[0m\u001b[0;34m\u001b[0m\u001b[0;34m\u001b[0m\u001b[0m\n\u001b[0;32m----> 5\u001b[0;31m \u001b[0mcv2\u001b[0m\u001b[0;34m.\u001b[0m\u001b[0mimwrite\u001b[0m\u001b[0;34m(\u001b[0m\u001b[0;34m'../img/blank_500.jpg, jpg'\u001b[0m\u001b[0;34m)\u001b[0m\u001b[0;34m\u001b[0m\u001b[0;34m\u001b[0m\u001b[0m\n\u001b[0m",
      "\u001b[0;31merror\u001b[0m: OpenCV(4.5.3) :-1: error: (-5:Bad argument) in function 'imwrite'\n> Overload resolution failed:\n>  - imwrite() missing required argument 'img' (pos 2)\n>  - imwrite() missing required argument 'img' (pos 2)\n"
     ]
    }
   ],
   "source": [
    "import cv2\n",
    "import numpy as np\n",
    "\n",
    "img = np.full((500, 500, 3), 255, dtype=np.uint8)\n",
    "cv2.imwrite('../img/blank_500.jpg, jpg')"
   ]
  },
  {
   "cell_type": "markdown",
   "id": "1d1ce851",
   "metadata": {},
   "source": [
    "### 직선그리기\n",
    "\n",
    "##### cv2.line(img, start, end, colot [ , thikness, lineType]) : 직선 그리기\n",
    "* img : 그림 그릴 대상 이미지, numpy 배열\n",
    "* start : 선 시작 지점 좌표(x, y)\n",
    "* end : 선 끝 지점 좌표(x, y)\n",
    "* color : 선 색상, (Blue, Green, Red), 0-255\n",
    "* thickness=1 : 선두께\n",
    "\n",
    "##### lineType : 선 그리기 형식\n",
    "* cv2.LINE_4 : 연결선 알고리즘\n",
    "* cv2.LINE_8 : 연결선 알고리즘\n",
    "* cv2.LINE_AA : 안티에일리어싱(antialiasing, 계단 현상 없는 선)"
   ]
  },
  {
   "cell_type": "code",
   "execution_count": 9,
   "id": "0121496c",
   "metadata": {},
   "outputs": [],
   "source": [
    "import cv2\n",
    "\n",
    "img = cv2.imread('./img/blank_500.jpg')\n",
    "\n",
    "cv2.line(img, (50, 50), (150, 50), (255, 0, 0))    # 파란색 1픽셀 선\n",
    "cv2.line(img, (200, 50), (300, 50), (0, 255, 0))   # 초록색 1픽셀 선\n",
    "cv2.line(img, (350, 50), (450, 50), (0, 0, 255))   # 빨간색 1픽셀 선\n",
    "\n",
    "# 하늘색 10픽셀 선\n",
    "cv2.line(img, (100, 100), (400, 100), (255, 255, 0), 10)\n",
    "# 분홍색 10픽셀 선\n",
    "cv2.line(img, (100, 150), (400, 150), (255, 0, 255), 10)\n",
    "# 노란색 10픽셀 선\n",
    "cv2.line(img, (100, 200), (400, 200), (0, 255, 255), 10)\n",
    "# 회색 10픽셀 선\n",
    "cv2.line(img, (100, 250), (400, 250), (200, 200, 200), 10)\n",
    "# 검은색 10픽셀 선\n",
    "cv2.line(img, (100, 300), (400, 300), (0, 0, 0), 10)\n",
    "\n",
    "# 4연결 선\n",
    "cv2.line(img, (100, 350), (400, 400), (0, 0, 255), 20, cv2.LINE_4)\n",
    "# 8연결 선\n",
    "cv2.line(img, (100, 400), (400, 450), (0, 0, 255), 20, cv2.LINE_8)\n",
    "# 안티에일리어싱 선\n",
    "cv2.line(img, (100, 450), (400, 500), (0, 0, 255), 20, cv2.LINE_AA)\n",
    "# 이미지 전체에 대각선\n",
    "cv2.line(img, (0, 0), (500, 500), (0, 0, 255))\n",
    "\n",
    "cv2.imshow('lines', img)\n",
    "cv2.waitKey(0)\n",
    "cv2.destroyAllWindows()"
   ]
  },
  {
   "cell_type": "markdown",
   "id": "1e4bad28",
   "metadata": {},
   "source": [
    "### 사각형 그리기\n",
    "* 사각형을 그리는 함수는 cv2.rectangle()이다.\n",
    "\n",
    "##### cv2.rectangle( img, start, end, color [ , thickness, lineType ] ) : 사각형 그리기\n",
    "* img : 그림 그릴 대상 이미지, numpy 배열\n",
    "* start : 사각형 시작 꼭짓점(x,y)\n",
    "* end : 사각형 끝 꼭짓점(x,y)\n",
    "* color : 색상(blue, green, red)\n",
    "* thickness : 선 두께\n",
    " - -1 : 채우기\n",
    "* lineType : 선 타입, cv2.line()과 동일"
   ]
  },
  {
   "cell_type": "code",
   "execution_count": 24,
   "id": "baba9504",
   "metadata": {},
   "outputs": [],
   "source": [
    "import cv2\n",
    "\n",
    "img = cv2.imread('./img/blank_500.jpg')\n",
    "# 좌상, 우하 좌표로 사각형 그리기\n",
    "cv2.rectangle(img,  (50, 50), (150, 150), (255, 0, 0))\n",
    "cv2.rectangle(img,  (300, 300), (100, 100), (0, 255, 0), 10)\n",
    "cv2.rectangle(img,  (450, 200), (200, 450), (0, 0, 255), -1)\n",
    "\n",
    "cv2.imshow('rectangle', img)\n",
    "cv2.waitKey(0)\n",
    "cv2.destroyAllWindows()"
   ]
  },
  {
   "cell_type": "markdown",
   "id": "e11c4e47",
   "metadata": {},
   "source": [
    "### 다각형 그리기\n",
    "* 다각형을 그리는 함수는 cv2.polylines()이다.\n",
    "\n",
    "##### cv2.polylines( img, points, isClosed, color [ , thickness, lineType ] ) : 다각형 그리기\n",
    "* img : 그림 그릴 대상 이미지, numpy 배열\n",
    "* points : 꼭지점 좌표, numpy 배열 리스트\n",
    "* isClosed : 닫힌도형 여부, True/False\n",
    "* color : 색상(blue, green, red)\n",
    "* thickness : 선 두께\n",
    "* lineType : 선 타입, cv2.line()과 동일"
   ]
  },
  {
   "cell_type": "code",
   "execution_count": 13,
   "id": "52f000d7",
   "metadata": {},
   "outputs": [],
   "source": [
    "import cv2\n",
    "import numpy as np     # 좌표 표현을 위한 numpy ahebf\n",
    "\n",
    "img = cv2.imread('./img/blank_500.jpg')\n",
    "\n",
    "pts1 = np.array([[50,50], [150,150], [100,140], [200,240]], dtype=np.int32)\n",
    "pts2 = np.array([[350,50], [250,200], [450,200]], dtype=np.int32)\n",
    "pts3 = np.array([[150,300], [50,450], [250,450]], dtype=np.int32)\n",
    "pts4 = np.array([[350,250], [450,350], [400,450], [300,450], [250,350]], dtype=np.int32)\n",
    "\n",
    "cv2.polylines(img, [pts1], False, (255,0,0))    # 번개모양\n",
    "cv2.polylines(img, [pts2], False, (0,0,0), 10)   # 삼각형 열린 선 그리기\n",
    "cv2.polylines(img, [pts3], True, (0,0,255), 10)   # 삼각형 닫힌 도형 그리기\n",
    "cv2.polylines(img, [pts4], True, (0,0,0))    # 오각형 닫힌 도형 그리기\n",
    "\n",
    "cv2.imshow('polyline', img)\n",
    "cv2.waitKey(0)\n",
    "cv2.destroyAllWindows()"
   ]
  },
  {
   "cell_type": "markdown",
   "id": "1bc64c0d",
   "metadata": {},
   "source": [
    "### 원, 타원, 호 그리기\n",
    "\n",
    "##### cv2.circle( img, center, radius, color [ , thickness, lineType ] ) : 원 그리기\n",
    "* img : 그림 대상 이미지\n",
    "* center : 원점 좌표(x,y)\n",
    "* radius : 원의 반지름\n",
    "* color : 색상(blue, green, red)\n",
    "* thickness : 선 두께(-1 : 채우기)\n",
    "* lineType : 선 타입, cv2.line()과 동일\n",
    "\n",
    "##### cv2.ellipse( img, center, axes, angle, from, to, color [ , thickness, lineType ] ) : 호나 타원 그리기\n",
    "* img : 그림 대상 이미지\n",
    "* center : 원점 좌표(x,y)\n",
    "* axes : 기준 축 길이\n",
    "* angle : 기준 축 회전 각도\n",
    "* form, to : 호를 그릴 시작 각도와 끝 각도"
   ]
  },
  {
   "cell_type": "code",
   "execution_count": 15,
   "id": "5b875a65",
   "metadata": {},
   "outputs": [],
   "source": [
    "import cv2\n",
    "\n",
    "img = cv2.imread('./img/blank_500.jpg')\n",
    "\n",
    "# 원점(150, 150), 반지름 100\n",
    "cv2.circle(img, (150, 150), 100, (255,0,0))\n",
    "# 원점(300, 150), 반지름 70\n",
    "cv2.circle(img, (300, 150), 70, (0,255,0), 5)\n",
    "# 원점(400, 150), 반지름 50, 채우기\n",
    "cv2.circle(img, (400, 150), 50, (0,0,255), -1)\n",
    "\n",
    "# 원점(50, 300), 반지름(50), 회전 0, 0도부터 360도 그리기\n",
    "cv2.ellipse(img, (50, 300), (50, 50), 0, 0, 360, (0,0,255))\n",
    "# 원점(150, 300), 아래 반원 그리기\n",
    "cv2.ellipse(img, (150, 300), (50, 50), 0, 0, 100, (255,0,0))\n",
    "# 원점(200, 300), 위 반원 그리기\n",
    "cv2.ellipse(img, (200, 300), (50, 50), 0, 181, 360, (0,0,255))\n",
    "\n",
    "# 원점(325, 300), 반지름(75, 50), 납작한 타원 그리기\n",
    "cv2.ellipse(img, (325, 300), (75, 50), 0, 0, 360, (0,255,0))\n",
    "# 원점(450, 300), 반지름(50, 70), 홀쭉한 타원 그리기\n",
    "cv2.ellipse(img, (450, 300), (50, 70), 0, 0, 360, (255,0,255))\n",
    "\n",
    "# 원점(50, 425), 반지름(50, 75), 회전 15도\n",
    "cv2.ellipse(img, (50, 425), (50, 75), 15, 0, 360, (0,0,0))\n",
    "# 원점(200, 425) 반지름(50, 75), 회전 45도\n",
    "cv2.ellipse(img, (200, 425), (50, 75), 45, 0, 360, (0,0,0))\n",
    "\n",
    "# 원점(350, 425), 홀쭉한 타원 45도 회전후 아래반원 그리기\n",
    "cv2.ellipse(img, (350, 425), (50, 70), 45, 0, 180, (0,0,255))\n",
    "# 원점(350, 425), 홀쭉한 타원 45도 회전후 위 반원 그리기\n",
    "cv2.ellipse(img, (400, 425), (50, 75), 45, 181, 360, (255,0,0))\n",
    "\n",
    "cv2.imshow('circle', img)\n",
    "cv2.waitKey(0)\n",
    "cv2.destroyAllWindows()"
   ]
  },
  {
   "cell_type": "markdown",
   "id": "a6dba322",
   "metadata": {},
   "source": [
    "### 글씨 그리기\n",
    "\n",
    "##### cv2.putText(img, text, point, fontFace, fontSize, color [ , thickness, lineType ] )\n",
    "* txt : 표시할 문자열\n",
    "* point : 표시할 좌표(x,y)\n",
    "* fontFace : 글꼴"
   ]
  },
  {
   "cell_type": "code",
   "execution_count": 4,
   "id": "e75c408d",
   "metadata": {},
   "outputs": [],
   "source": [
    "import cv2\n",
    "\n",
    "img = cv2.imread('./img/blank_500.jpg')\n",
    "\n",
    "cv2.putText(img, 'Plain', (50, 30), cv2.FONT_HERSHEY_PLAIN, 1, (0, 0, 0))\n",
    "cv2.putText(img, 'Simplex', (50, 70), cv2.FONT_HERSHEY_SIMPLEX, 1, (0, 0, 0))\n",
    "cv2.putText(img, 'Duplex', (50, 110), cv2.FONT_HERSHEY_DUPLEX, 1, (0, 0, 0))\n",
    "cv2.putText(img, 'Simplex', (200, 110), cv2.FONT_HERSHEY_SIMPLEX, 2, (0, 0, 0))\n",
    "\n",
    "cv2.putText(img, 'Complex Small', (50, 180), cv2.FONT_HERSHEY_COMPLEX_SMALL, 1, (0, 0, 0))\n",
    "cv2.putText(img, 'Complex', (50, 220), cv2.FONT_HERSHEY_COMPLEX_SMALL, 1, (0, 0, 0))\n",
    "cv2.putText(img, 'Triplex', (50, 110), cv2.FONT_HERSHEY_TRIPLEX, 1, (0, 0, 0))\n",
    "\n",
    "cv2.putText(img, 'Complex', (200, 260), cv2.FONT_HERSHEY_TRIPLEX, 2, (0, 0, 255))\n",
    "cv2.putText(img, 'Script Simplex', (50, 330), cv2.FONT_HERSHEY_SCRIPT_SIMPLEX, 1, (0, 0, 0))\n",
    "cv2.putText(img, 'Script Simplex', (50, 370), cv2.FONT_HERSHEY_SCRIPT_SIMPLEX, 1, (0, 0, 0))\n",
    "\n",
    "cv2.putText(img, 'Plain Italic', (50, 430), cv2.FONT_HERSHEY_PLAIN | cv2.FONT_ITALIC, 1, (0, 0, 0))\n",
    "cv2.putText(img, 'Complex Italic', (50, 470), cv2.FONT_HERSHEY_PLAIN | cv2.FONT_ITALIC, 1, (0, 0, 0))\n",
    "\n",
    "cv2.imshow('draw text', img)\n",
    "cv2.waitKey()\n",
    "cv2.destroyAllWindows()"
   ]
  },
  {
   "cell_type": "markdown",
   "id": "349e34e8",
   "metadata": {},
   "source": [
    "## 창 관리\n",
    "\n",
    "##### cv2.namedWindow( title [ , option ] ) : 이름을 갖는 창 열기\n",
    "* title : 창 이름, 제목 줄에 표시\n",
    "* option : 창 옵션, 'cv2.WINDOW_'로 시작\n",
    " - cv2.WINDOW_NORMAL : 임의의 크기, 사용자 창 크기 조정 가능\n",
    " - cv2.WINDOW_AUTOSIZE : 이미지와 같은 크기, 창 크기 재조정 불가능\n",
    "\n",
    "* cv2.moveWindow(title, x, y) : 창 위치 이동\n",
    " - title : 위치를 변경할 창의 이름\n",
    " - x, y : 이동할 창의 위치\n",
    "\n",
    "* cv2.resizeWindow(title, width, height) : 창 크기 변경\n",
    " - title : 크기를 변경할 창의 이름\n",
    " - width, height : 변경할 폭과 높이\n",
    "\n",
    "* cv2.destroyWindow(title) : 창 닫기\n",
    " - title : 닫을 대상 창 이름\n",
    "\n",
    "* cv2.destroyAllWindow() : 열린 모든 창 닫기\n"
   ]
  },
  {
   "cell_type": "code",
   "execution_count": 7,
   "id": "5f28efe2",
   "metadata": {},
   "outputs": [],
   "source": [
    "import cv2\n",
    "\n",
    "file_path = './img/girl.jpg'\n",
    "img = cv2.imread(file_path)\n",
    "img_gray = cv2.imread(file_path, cv2.IMREAD_GRAYSCALE)\n",
    "\n",
    "cv2.namedWindow('origin', cv2.WINDOW_AUTOSIZE)\n",
    "cv2.namedWindow('gray', cv2.WINDOW_NORMAL)\n",
    "\n",
    "cv2.imshow('origin', img)\n",
    "cv2.imshow('gray', img_gray)\n",
    "\n",
    "cv2.moveWindow('origin', 0, 0)\n",
    "cv2.moveWindow('gray', 100, 100)\n",
    "\n",
    "cv2.waitKey(0)  # 아무키나 누르면\n",
    "cv2.resizeWindow('origin', 200, 200)\n",
    "cv2.resizeWindow('gray', 100, 100)\n",
    "\n",
    "cv2.waitKey(0)\n",
    "cv2.destroyWindow('gray')\n",
    "\n",
    "cv2.waitKey(0)\n",
    "cv2.destroyAllWindows()"
   ]
  }
 ],
 "metadata": {
  "kernelspec": {
   "display_name": "Python 3.8.8 64-bit ('base': conda)",
   "language": "python",
   "name": "python388jvsc74a57bd073769b30c8fab288a5558a7fff30e3c8e36bc07cececaa2fd452c8fe00f0dbf4"
  },
  "language_info": {
   "codemirror_mode": {
    "name": "ipython",
    "version": 3
   },
   "file_extension": ".py",
   "mimetype": "text/x-python",
   "name": "python",
   "nbconvert_exporter": "python",
   "pygments_lexer": "ipython3",
   "version": "3.8.8"
  }
 },
 "nbformat": 4,
 "nbformat_minor": 5
}
