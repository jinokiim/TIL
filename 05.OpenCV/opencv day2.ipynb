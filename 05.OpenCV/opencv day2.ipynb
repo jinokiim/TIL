{
 "cells": [
  {
   "cell_type": "markdown",
   "id": "42fdf428",
   "metadata": {},
   "source": [
    "# openCV Day2"
   ]
  },
  {
   "cell_type": "code",
   "execution_count": 14,
   "id": "a5e8f0d4",
   "metadata": {},
   "outputs": [],
   "source": [
    "import numpy as np\n",
    "import cv2"
   ]
  },
  {
   "cell_type": "markdown",
   "id": "8b9f9db5",
   "metadata": {},
   "source": [
    "## 이벤트 처리\n",
    "\n",
    "### 키보드 이벤트\n",
    "\n",
    "* 키보드에서 어떤 키를 눌렀는지 알아내려면\n",
    "cv2.waitKey( ) 함수의 반환값을 출력해보면 된다."
   ]
  },
  {
   "cell_type": "code",
   "execution_count": 25,
   "id": "53a6579b",
   "metadata": {
    "collapsed": true
   },
   "outputs": [
    {
     "name": "stdout",
     "output_type": "stream",
     "text": [
      "100 d\n",
      "100 d\n",
      "100 d\n",
      "3 \u0003\n",
      "3 \u0003\n",
      "3 \u0003\n",
      "2 \u0002\n",
      "104 h\n",
      "104 h\n",
      "104 h\n",
      "108 l\n",
      "108 l\n",
      "108 l\n",
      "108 l\n",
      "108 l\n",
      "108 l\n",
      "107 k\n",
      "107 k\n",
      "107 k\n",
      "106 j\n",
      "106 j\n",
      "106 j\n",
      "106 j\n",
      "106 j\n",
      "108 l\n",
      "108 l\n",
      "108 l\n",
      "108 l\n",
      "108 l\n",
      "108 l\n",
      "108 l\n",
      "108 l\n",
      "108 l\n",
      "108 l\n",
      "108 l\n",
      "108 l\n",
      "108 l\n",
      "108 l\n",
      "107 k\n",
      "107 k\n",
      "106 j\n",
      "106 j\n",
      "100 d\n",
      "27 \u001b\n"
     ]
    }
   ],
   "source": [
    "import cv2\n",
    "\n",
    "img_file = './img/girl.jpg'\n",
    "img = cv2.imread(img_file)\n",
    "title = 'IMG'\n",
    "x, y = 100, 100    # 최초 좌표\n",
    "\n",
    "while True:\n",
    "    cv2.imshow(title, img)\n",
    "    cv2.moveWindow(title, x, y)\n",
    "    key = cv2.waitKey(0) &0xFF   # 키보드 입력을 무한 대기, 8비트 마스크 처리\n",
    "    print(key, chr(key))     # 키보드 입력값, 문자값 출력\n",
    "    \n",
    "    if key == ord('h'):      # h 키 누르면 좌로 10이동\n",
    "        x -= 10\n",
    "    elif key == ord('j'):    # j 키 누르면 좌로 10이동\n",
    "        y += 10\n",
    "    elif key == ord('k'):    # k 키 누르면 좌로 10이동\n",
    "        y -= 10\n",
    "    elif key == ord('l'):    # l 키 누르면 좌로 10이동\n",
    "        x += 10\n",
    "    elif key == ord('q') or key == 27:    # q, esc 키 누르면 좌로 10이동\n",
    "        break\n",
    "        cv2.destroyAllWindows()\n",
    "    cv2.moveWindow(title,x,y)    # 새로운 좌표로 창 이동"
   ]
  },
  {
   "cell_type": "markdown",
   "id": "082f3662",
   "metadata": {},
   "source": [
    "### 마우스 이벤트\n",
    "\n",
    "마우스에서 입력을 받으면 이벤트를 처리할 함수를 미리 선언하고  \n",
    "cv2.setMouseCallback( ) 함수에 그 함수를 전달한다.\n",
    "\n",
    "간단히 표연하면 다음과 같다.  \n",
    "def onMouse(event, x, y, flags, param):\n",
    " (마우스 이벤트에 맞게 해야할 작업을 작성)  \n",
    "cv2.setMouseCallback('title', onMouse)\n",
    "\n",
    "##### cv2.setMouseCallback(win_name, onMouse [ , param] ) : onMouse 함수를 등록\n",
    "* win_name : 이벤트를 등록할 윈도 이름\n",
    "* onMouse : 이벤트 처리를 위해 미리 선언해 놓은 콜백 함수\n",
    "* 필요에 따라 on Mouse 함수에 전달할 인자\n",
    "\n",
    "##### MouseCallback(event, x, y, flags, param) : 콜백함수 선언부\n",
    "* event : 마우스 이벤트 종류, cv2.EVENT_ 로 시작하는 상수\n",
    "  * cv2.EVENT_MOUSEMOVE : 마우스 움직임\n",
    "  * cv2.EVENT_LBUTTONDOWN / UP : 마우스 왼쪽 버튼 누름 / 뗌\n",
    "  * cv2.EVENT_RBUTTONDOWN / UP : 마우스 오른쪽 버튼 누름 / 뗌\n",
    "  * cv2.EVENT_MBUTTONDOWN / UP : 마우스 가운데 버튼 누름 / 뗌\n",
    "  * cv2.EVENT_LBUTTONDBLCLK : 왼쪽 버튼 더블클릭\n",
    "  * cv2.EVENT_RBUTTONDBLCLK : 오른쪽 버튼 더블클릭\n",
    "  * cv2.EVENT_MBUTTONDBLCLK : 가운데 버튼 더블클릭\n",
    "  * cv2.EVENT_MOUSEWHEEL : 휠 스크롤\n",
    "  * cv2.EVENT_MOUSEHWHEEL : 휠 가로스크롤\n",
    "\n",
    "* x, y : 마우스 좌표\n",
    "  \n",
    "* flags : 마우스 동작과 함께 일어난 상태, cv2.EVENT_FLAG_ 로 시작하는 상수\n",
    "  * cv2.EVENT_FLAG_LBUTTON(1) : 왼쪽 버튼 누름\n",
    "  * cv2.EVENT_FLAG_RBUTTON(2) : 오른쪽 버튼 누름\n",
    "  * cv2.EVENT_FLAG_MBUTTON(4) : 가운데 버튼 누름\n",
    "  * cv2.EVENT_FLAG_CTRLKEY(8) : Ctrl키 누름\n",
    "  * cv2.EVENT_FLAG_SHIFTKEY(16) : Shift키 누름\n",
    "  * cv2.EVENT_FLAG_ALTKEY(32) : Alt키 누름\n",
    "\n",
    "* param : cv2.setMouseCallback( ) 함수에서 전달한 인자"
   ]
  },
  {
   "cell_type": "markdown",
   "id": "52d49fee",
   "metadata": {},
   "source": [
    "* 마우스 이벤트로 동그라미 그리기"
   ]
  },
  {
   "cell_type": "code",
   "execution_count": 3,
   "id": "1c01731a",
   "metadata": {
    "collapsed": true
   },
   "outputs": [
    {
     "name": "stdout",
     "output_type": "stream",
     "text": [
      "0 336 179\n",
      "0 350 179\n",
      "0 363 181\n",
      "0 377 182\n",
      "0 415 188\n",
      "0 446 196\n",
      "0 476 210\n",
      "0 487 216\n",
      "0 499 226\n",
      "0 462 217\n",
      "0 419 206\n",
      "0 405 204\n",
      "0 382 200\n",
      "0 378 200\n",
      "0 365 197\n",
      "0 356 194\n",
      "0 351 191\n",
      "0 349 189\n",
      "0 344 183\n",
      "0 343 180\n",
      "0 339 171\n",
      "0 338 167\n",
      "0 337 162\n",
      "0 335 150\n",
      "0 335 143\n",
      "0 335 129\n",
      "0 335 120\n",
      "0 336 104\n",
      "0 342 87\n",
      "0 343 84\n",
      "0 348 72\n",
      "0 350 68\n",
      "0 352 63\n",
      "0 352 62\n",
      "0 353 61\n",
      "0 353 61\n",
      "0 353 50\n",
      "0 353 43\n",
      "0 353 29\n",
      "0 353 23\n",
      "0 354 6\n",
      "0 234 113\n",
      "0 233 115\n",
      "0 233 115\n",
      "0 233 116\n",
      "0 233 117\n",
      "0 233 118\n",
      "0 233 118\n",
      "1 233 118\n",
      "0 233 118\n",
      "4 233 118\n",
      "0 233 119\n",
      "0 233 125\n",
      "0 230 145\n",
      "0 227 157\n",
      "0 215 186\n",
      "0 213 194\n",
      "0 202 222\n",
      "0 196 235\n",
      "0 191 247\n",
      "0 184 267\n",
      "0 184 271\n",
      "0 181 280\n",
      "0 180 282\n",
      "0 180 286\n",
      "0 180 287\n",
      "1 180 287\n",
      "0 180 287\n",
      "4 180 287\n",
      "0 182 287\n",
      "0 185 287\n",
      "0 193 288\n",
      "0 199 290\n",
      "0 205 292\n",
      "0 219 295\n",
      "0 234 300\n",
      "0 241 302\n",
      "0 248 304\n",
      "0 253 306\n",
      "0 260 309\n",
      "0 262 310\n",
      "0 265 311\n",
      "0 266 312\n",
      "0 266 312\n",
      "0 267 312\n",
      "0 271 312\n",
      "0 281 313\n",
      "0 287 315\n",
      "0 298 322\n",
      "0 302 326\n",
      "0 323 340\n",
      "0 332 349\n",
      "0 337 353\n",
      "0 342 359\n",
      "0 344 361\n",
      "0 345 364\n",
      "0 346 365\n",
      "1 346 365\n",
      "0 346 365\n",
      "4 346 365\n",
      "0 346 365\n",
      "0 346 356\n",
      "0 348 344\n",
      "0 355 315\n",
      "0 361 296\n",
      "0 368 249\n",
      "0 369 227\n",
      "0 370 218\n",
      "0 371 184\n",
      "0 371 179\n",
      "0 371 168\n",
      "0 371 165\n",
      "0 372 164\n",
      "0 372 164\n",
      "0 373 164\n",
      "1 373 165\n",
      "0 373 165\n",
      "4 373 165\n",
      "0 370 165\n",
      "0 369 165\n",
      "0 361 163\n",
      "0 345 157\n",
      "0 339 154\n",
      "0 317 142\n",
      "0 304 136\n",
      "0 277 124\n",
      "0 265 118\n",
      "0 255 114\n",
      "0 237 105\n",
      "0 229 99\n",
      "0 224 96\n",
      "0 220 94\n",
      "0 214 90\n",
      "0 212 89\n",
      "0 204 86\n",
      "0 201 86\n",
      "0 193 85\n",
      "0 188 85\n",
      "0 182 85\n",
      "0 167 85\n",
      "0 158 86\n",
      "0 142 90\n",
      "0 131 93\n",
      "0 125 94\n",
      "0 116 95\n",
      "0 113 96\n",
      "0 111 96\n",
      "0 108 96\n",
      "1 108 96\n",
      "0 108 96\n",
      "4 108 96\n"
     ]
    }
   ],
   "source": [
    "import cv2\n",
    "\n",
    "title = 'mouse event'\n",
    "img = cv2.imread('./img/blank_500.jpg')\n",
    "cv2.imshow(title, img)\n",
    "\n",
    "def onMouse(event, x, y, flags, param):    # 마우스 콜백 함수 구현\n",
    "    print(event, x, y)      # 파라미터 출력\n",
    "    if event == cv2.EVENT_LBUTTONDOWN:   # 왼쪽버튼을 누르면\n",
    "        cv2.circle(img, (x,y), 30, (0,0,0), -1)   # 원을 좌표에 스림\n",
    "        cv2.imshow(title, img)   # 그려진 이미지를 다시 표시\n",
    "        \n",
    "cv2.setMouseCallback(title, onMouse)   # 마우스 콜백 함수를 GUI 윈도에 등록\n",
    "\n",
    "while True:\n",
    "    if cv2.waitKey(0) &0xFF == 27:    # esc로 종료\n",
    "        break\n",
    "cv2.destroyAllWindows()"
   ]
  },
  {
   "cell_type": "markdown",
   "id": "363d95d5",
   "metadata": {},
   "source": [
    "* 플래그를 이용한 동그라미 그리기"
   ]
  },
  {
   "cell_type": "code",
   "execution_count": 6,
   "id": "489e3043",
   "metadata": {
    "collapsed": true
   },
   "outputs": [
    {
     "name": "stdout",
     "output_type": "stream",
     "text": [
      "0 497 285\n",
      "0 467 256\n",
      "0 444 238\n",
      "0 438 233\n",
      "0 426 223\n",
      "0 421 218\n",
      "0 412 209\n",
      "0 409 203\n",
      "0 406 198\n",
      "0 403 192\n",
      "0 402 188\n",
      "0 400 179\n",
      "0 400 172\n",
      "0 400 165\n",
      "0 400 159\n",
      "0 402 153\n",
      "0 403 149\n",
      "0 406 143\n",
      "0 407 141\n",
      "0 409 140\n",
      "0 409 139\n",
      "0 410 139\n",
      "0 411 139\n",
      "0 411 139\n",
      "1 411 139\n",
      "0 411 139\n",
      "4 411 139\n",
      "0 411 139\n",
      "0 407 140\n",
      "0 405 141\n",
      "0 399 142\n",
      "0 396 143\n",
      "0 384 147\n",
      "0 378 148\n",
      "0 366 151\n",
      "0 363 151\n",
      "0 354 153\n",
      "0 350 153\n",
      "0 346 153\n",
      "0 338 153\n",
      "0 335 153\n",
      "0 330 154\n",
      "0 327 154\n",
      "0 319 155\n",
      "0 318 156\n",
      "0 312 158\n",
      "0 310 159\n",
      "0 307 161\n",
      "0 305 161\n",
      "0 303 162\n",
      "0 302 163\n",
      "0 302 163\n",
      "0 302 164\n",
      "0 301 164\n",
      "0 301 164\n",
      "0 301 164\n",
      "0 300 164\n",
      "0 300 164\n",
      "0 299 164\n",
      "0 299 164\n",
      "0 298 164\n",
      "0 297 163\n",
      "0 295 162\n",
      "0 295 162\n",
      "0 294 162\n",
      "0 294 161\n",
      "0 293 161\n",
      "0 293 161\n",
      "0 292 161\n",
      "0 292 161\n",
      "0 291 161\n",
      "0 291 161\n",
      "0 290 161\n",
      "0 290 161\n",
      "0 290 161\n",
      "0 290 161\n",
      "1 290 161\n",
      "4 290 161\n",
      "0 290 161\n",
      "0 290 166\n",
      "0 290 170\n",
      "0 290 177\n",
      "0 290 182\n",
      "0 290 194\n",
      "0 290 199\n",
      "0 290 205\n",
      "0 290 213\n",
      "0 290 218\n",
      "0 290 226\n",
      "0 290 229\n",
      "0 291 235\n",
      "0 291 238\n",
      "0 292 243\n",
      "0 292 244\n",
      "0 292 246\n",
      "0 292 248\n",
      "0 293 250\n",
      "0 293 251\n",
      "0 294 251\n",
      "0 294 251\n",
      "0 295 252\n",
      "0 295 252\n",
      "0 295 252\n",
      "0 295 252\n",
      "0 295 252\n",
      "0 295 252\n",
      "0 295 253\n",
      "0 296 253\n",
      "0 296 253\n",
      "0 296 253\n",
      "0 297 253\n",
      "0 297 254\n",
      "0 297 254\n",
      "0 297 254\n",
      "0 297 255\n",
      "0 297 255\n",
      "0 297 257\n",
      "0 297 258\n",
      "0 297 258\n",
      "0 297 260\n",
      "0 297 260\n",
      "0 297 262\n",
      "0 298 262\n",
      "0 298 264\n",
      "0 299 265\n",
      "0 299 266\n",
      "0 300 267\n",
      "0 300 269\n",
      "0 301 269\n",
      "0 301 270\n",
      "0 302 271\n",
      "0 302 271\n",
      "0 303 273\n",
      "0 303 273\n",
      "0 304 274\n",
      "0 304 275\n",
      "0 305 276\n",
      "0 305 277\n",
      "0 306 278\n",
      "0 306 278\n",
      "0 306 279\n",
      "0 306 280\n",
      "0 306 280\n",
      "0 307 281\n",
      "0 307 281\n",
      "0 307 282\n",
      "0 307 282\n",
      "0 307 283\n",
      "0 307 283\n",
      "0 307 283\n",
      "0 307 283\n",
      "0 307 283\n",
      "1 307 283\n",
      "0 307 283\n",
      "4 307 283\n",
      "0 306 283\n",
      "0 305 283\n",
      "0 303 283\n",
      "0 302 283\n",
      "0 300 283\n",
      "0 298 283\n",
      "0 296 283\n",
      "0 294 283\n",
      "0 291 283\n",
      "0 290 283\n",
      "0 286 283\n",
      "0 283 283\n",
      "0 281 283\n",
      "0 275 281\n",
      "0 272 281\n",
      "0 265 278\n",
      "0 262 277\n",
      "0 256 274\n",
      "0 252 273\n",
      "0 247 270\n",
      "0 244 269\n",
      "0 239 266\n",
      "0 237 266\n",
      "0 233 264\n",
      "0 232 263\n",
      "0 230 263\n",
      "0 229 263\n",
      "0 229 263\n",
      "0 229 263\n",
      "0 228 262\n",
      "0 228 262\n",
      "0 228 263\n",
      "0 228 264\n",
      "0 228 267\n",
      "0 228 269\n",
      "0 228 269\n",
      "0 228 270\n",
      "0 228 270\n",
      "0 228 271\n",
      "0 228 271\n",
      "0 228 271\n",
      "1 228 271\n",
      "4 228 271\n",
      "0 228 271\n",
      "0 227 271\n",
      "0 224 271\n",
      "0 221 271\n",
      "0 218 271\n",
      "0 210 271\n",
      "0 206 271\n",
      "0 197 268\n",
      "0 192 266\n",
      "0 178 253\n",
      "0 173 247\n",
      "0 166 235\n",
      "0 162 228\n",
      "0 156 214\n",
      "0 154 208\n",
      "0 150 198\n",
      "0 148 193\n",
      "0 145 185\n",
      "0 144 182\n",
      "0 142 177\n",
      "0 142 176\n",
      "0 141 175\n",
      "0 141 174\n",
      "0 141 174\n",
      "1 141 174\n",
      "4 141 174\n",
      "0 141 171\n",
      "0 141 167\n",
      "0 142 157\n",
      "0 144 152\n",
      "0 151 133\n",
      "0 157 124\n",
      "0 167 107\n",
      "0 172 101\n",
      "0 181 91\n",
      "0 183 90\n",
      "0 187 88\n",
      "0 193 85\n",
      "0 195 85\n",
      "0 199 85\n",
      "0 200 85\n",
      "0 202 85\n",
      "0 203 85\n",
      "0 204 87\n",
      "0 205 88\n",
      "0 205 89\n",
      "0 205 89\n",
      "0 206 89\n",
      "0 206 90\n",
      "0 207 90\n",
      "0 207 90\n",
      "0 209 90\n",
      "0 210 89\n",
      "0 210 89\n",
      "0 210 89\n",
      "0 211 89\n",
      "1 211 89\n",
      "4 211 89\n",
      "0 208 89\n",
      "0 206 89\n",
      "0 204 89\n",
      "0 198 88\n",
      "0 195 87\n",
      "0 179 79\n",
      "0 174 77\n",
      "0 153 65\n",
      "0 142 59\n",
      "0 132 53\n",
      "0 112 40\n",
      "0 102 35\n",
      "0 85 26\n",
      "0 75 21\n",
      "0 60 17\n",
      "0 53 15\n",
      "0 39 13\n",
      "0 36 13\n",
      "0 27 12\n",
      "0 24 12\n",
      "0 20 11\n",
      "0 17 10\n",
      "0 17 10\n",
      "0 16 9\n",
      "0 16 9\n",
      "0 16 7\n",
      "0 16 6\n",
      "0 15 5\n",
      "0 15 4\n",
      "0 15 2\n",
      "0 15 1\n",
      "0 189 54\n",
      "0 299 121\n",
      "0 329 142\n",
      "0 346 154\n",
      "0 361 165\n",
      "0 381 181\n",
      "0 389 187\n",
      "0 395 195\n"
     ]
    }
   ],
   "source": [
    "import cv2\n",
    "\n",
    "title = 'mouse event'\n",
    "img = cv2.imread('./img/blank_500.jpg')\n",
    "cv2.imshow(title, img)\n",
    "\n",
    "colors = {'black':(0,0,0),\n",
    "         'red' : (0,0,255),\n",
    "         'blue' : (255,0,0)\n",
    "         'green' : (0,255,0)}\n",
    "\n",
    "def onMouse(event, x, y, flags, param):\n",
    "    print(event, x, y)\n",
    "    color = colors['black']\n",
    "    if event == cv2.EVENT_LBUTTONDOWN:\n",
    "        if flags & cv2.EVENT_FLAG_CTRLKEY and flags & cv2.EVENT_FLAG_SHIFTKEY:\n",
    "            color = colors['green']\n",
    "        elif flags & cv2.EVENT_FLAG_SHIFTKEY:\n",
    "            color = colors['blue']\n",
    "        elif flags & cv2.EVENT_FLAG_CTRLKEY:\n",
    "            color = colors['red']\n",
    "        \n",
    "        cv2.circle(img, (x,y), 30, (0,0,0), -1)\n",
    "        cv2.imshow(title, img)\n",
    "        \n",
    "cv2.setMouseCallback(title, onMouse)\n",
    "\n",
    "while True:\n",
    "    if cv2.waitKey(0) &0xFF == 27:\n",
    "        break\n",
    "cv2.destroyAllWindows()"
   ]
  },
  {
   "cell_type": "markdown",
   "id": "843d0645",
   "metadata": {},
   "source": [
    "### 트랙바\n",
    "\n",
    "슬라이드 모양의 인터페이스를 마우스로 움직여서 값을 입력받는 GUI 이다.\n",
    "\n",
    "##### cv2.createTrackbar(trackbar_name, win_name, value, count, onChange) : 트랙바 생성\n",
    "* traackbar_name : 트랙바 이름\n",
    "* win_name : 트랙바를 표시할 창 이름\n",
    "* value : 트랙바 초기 값, 0-count 사이의 값\n",
    "* count : 트랙바 눈금의 개수, 트랙바가 표시할 수 있는 최대 값\n",
    "* onChange : TrackbarCallback, 트랙바 이벤트 핸들러 함수\n",
    "\n",
    "##### TrackbarCallback(value) : 트랙바 이벤트 콜백 함수\n",
    "* value : 트랙바가 움직인 새 위치 값\n",
    "\n",
    "##### pos = cv2.getTrackbarPos(trackbar_name, win_name)\n",
    "* trackbar_name : 찾고자 하는 트랙바 이름\n",
    "* win_name : 트랙바가 있는 창의 이름\n",
    "* pos : 트랙바 위치 값"
   ]
  },
  {
   "cell_type": "code",
   "execution_count": 4,
   "id": "34194821",
   "metadata": {},
   "outputs": [
    {
     "name": "stdout",
     "output_type": "stream",
     "text": [
      "178\n",
      "255 178 255\n",
      "178\n",
      "255 178 255\n",
      "178\n",
      "255 178 255\n",
      "147\n",
      "147 178 255\n",
      "147\n",
      "147 178 255\n",
      "40\n",
      "147 178 40\n",
      "39\n",
      "147 178 39\n",
      "39\n",
      "147 178 39\n",
      "0\n",
      "147 178 0\n",
      "0\n",
      "147 178 0\n",
      "0\n",
      "147 178 0\n",
      "0\n",
      "147 178 0\n",
      "249\n",
      "147 249 0\n",
      "249\n",
      "147 249 0\n",
      "249\n",
      "147 249 0\n",
      "255\n",
      "147 255 0\n",
      "255\n",
      "147 255 0\n",
      "0\n",
      "0 255 0\n",
      "0\n",
      "0 255 0\n",
      "0\n",
      "0 255 0\n",
      "0\n",
      "0 255 0\n",
      "78\n",
      "0 78 0\n",
      "78\n",
      "0 78 0\n",
      "7\n",
      "0 7 0\n",
      "7\n",
      "0 7 0\n",
      "7\n",
      "0 7 0\n",
      "0\n",
      "0 0 0\n",
      "0\n",
      "0 0 0\n"
     ]
    }
   ],
   "source": [
    "import cv2\n",
    "import numpy as np\n",
    "\n",
    "win_name = 'Trackbar'\n",
    "\n",
    "img = cv2.imread('./img/blank_500.jpg')\n",
    "cv2.imshow(win_name, img)    # 초기 이미지 창에 표시\n",
    "\n",
    "def onChange(x):\n",
    "    print(x)         # 트랙바의 새로운 위치 값\n",
    "    # 트랙바 위치 값\n",
    "    r = cv2.getTrackbarPos('R', win_name)\n",
    "    g = cv2.getTrackbarPos('G', win_name)\n",
    "    b = cv2.getTrackbarPos('B', win_name)\n",
    "    print(r, g, b)\n",
    "    img[:] = [b,g,r]    # 기존 이미지에 새로운 픽셀 값 적용\n",
    "    cv2.imshow(win_name, img)     # 새 이미지 창에 표시\n",
    "\n",
    "cv2.createTrackbar('R', win_name, 255, 255, onChange)\n",
    "cv2.createTrackbar('G', win_name, 255, 255, onChange)\n",
    "cv2.createTrackbar('B', win_name, 255, 255, onChange)\n",
    "\n",
    "while True:\n",
    "    if cv2.waitKey(1) & 0xFF == 27:\n",
    "        break\n",
    "cv2.destroyAllWindows()"
   ]
  },
  {
   "cell_type": "markdown",
   "id": "9b1adc43",
   "metadata": {},
   "source": [
    "## numpy 복습"
   ]
  },
  {
   "cell_type": "code",
   "execution_count": 15,
   "id": "adf38fcc",
   "metadata": {},
   "outputs": [
    {
     "data": {
      "text/plain": [
       "array([1, 2, 3, 4])"
      ]
     },
     "execution_count": 15,
     "metadata": {},
     "output_type": "execute_result"
    }
   ],
   "source": [
    "a = np.array([1, 2, 3, 4])\n",
    "a"
   ]
  },
  {
   "cell_type": "code",
   "execution_count": 16,
   "id": "2cfe5c39",
   "metadata": {},
   "outputs": [
    {
     "data": {
      "text/plain": [
       "dtype('int64')"
      ]
     },
     "execution_count": 16,
     "metadata": {},
     "output_type": "execute_result"
    }
   ],
   "source": [
    "a.dtype"
   ]
  },
  {
   "cell_type": "code",
   "execution_count": 17,
   "id": "f4442208",
   "metadata": {},
   "outputs": [
    {
     "data": {
      "text/plain": [
       "(4,)"
      ]
     },
     "execution_count": 17,
     "metadata": {},
     "output_type": "execute_result"
    }
   ],
   "source": [
    "a.shape"
   ]
  },
  {
   "cell_type": "code",
   "execution_count": 19,
   "id": "a2b0b4c7",
   "metadata": {},
   "outputs": [
    {
     "data": {
      "text/plain": [
       "array([[1, 2, 3, 4],\n",
       "       [5, 6, 7, 8]])"
      ]
     },
     "execution_count": 19,
     "metadata": {},
     "output_type": "execute_result"
    }
   ],
   "source": [
    "b = np.array([[1, 2, 3, 4],[5, 6, 7, 8]])\n",
    "b"
   ]
  },
  {
   "cell_type": "code",
   "execution_count": 20,
   "id": "f1a5df0a",
   "metadata": {},
   "outputs": [
    {
     "data": {
      "text/plain": [
       "(2, 4)"
      ]
     },
     "execution_count": 20,
     "metadata": {},
     "output_type": "execute_result"
    }
   ],
   "source": [
    "b.shape"
   ]
  },
  {
   "cell_type": "code",
   "execution_count": 21,
   "id": "d5ab67e5",
   "metadata": {},
   "outputs": [
    {
     "data": {
      "text/plain": [
       "array([1.  , 2.  , 3.14, 4.  ])"
      ]
     },
     "execution_count": 21,
     "metadata": {},
     "output_type": "execute_result"
    }
   ],
   "source": [
    "c = np.array([1, 2, 3.14, 4])\n",
    "c"
   ]
  },
  {
   "cell_type": "code",
   "execution_count": 22,
   "id": "692bde30",
   "metadata": {},
   "outputs": [
    {
     "data": {
      "text/plain": [
       "dtype('float64')"
      ]
     },
     "execution_count": 22,
     "metadata": {},
     "output_type": "execute_result"
    }
   ],
   "source": [
    "c.dtype"
   ]
  },
  {
   "cell_type": "code",
   "execution_count": 23,
   "id": "14b94595",
   "metadata": {},
   "outputs": [
    {
     "data": {
      "text/plain": [
       "array([1., 2., 3., 4.], dtype=float32)"
      ]
     },
     "execution_count": 23,
     "metadata": {},
     "output_type": "execute_result"
    }
   ],
   "source": [
    "d = np.array([1, 2, 3, 4], dtype=np.float32)\n",
    "d"
   ]
  },
  {
   "cell_type": "markdown",
   "id": "667e8f53",
   "metadata": {},
   "source": [
    "66~69 실행"
   ]
  },
  {
   "cell_type": "code",
   "execution_count": null,
   "id": "3a596b9c",
   "metadata": {},
   "outputs": [],
   "source": []
  },
  {
   "cell_type": "code",
   "execution_count": null,
   "id": "bbac4b3b",
   "metadata": {},
   "outputs": [],
   "source": []
  },
  {
   "cell_type": "code",
   "execution_count": null,
   "id": "98629379",
   "metadata": {},
   "outputs": [],
   "source": []
  },
  {
   "cell_type": "code",
   "execution_count": null,
   "id": "aa7903a6",
   "metadata": {},
   "outputs": [],
   "source": []
  },
  {
   "cell_type": "markdown",
   "id": "f9fc194f",
   "metadata": {},
   "source": [
    "### 시퀀스와 난수로 생성"
   ]
  },
  {
   "cell_type": "code",
   "execution_count": 27,
   "id": "98d96cf1",
   "metadata": {},
   "outputs": [
    {
     "data": {
      "text/plain": [
       "array([0, 1, 2, 3, 4])"
      ]
     },
     "execution_count": 27,
     "metadata": {},
     "output_type": "execute_result"
    }
   ],
   "source": [
    "a = np.arange(5)\n",
    "a"
   ]
  },
  {
   "cell_type": "code",
   "execution_count": 28,
   "id": "f0767552",
   "metadata": {},
   "outputs": [
    {
     "data": {
      "text/plain": [
       "dtype('int64')"
      ]
     },
     "execution_count": 28,
     "metadata": {},
     "output_type": "execute_result"
    }
   ],
   "source": [
    "a.dtype"
   ]
  },
  {
   "cell_type": "code",
   "execution_count": 29,
   "id": "8490c8af",
   "metadata": {},
   "outputs": [
    {
     "data": {
      "text/plain": [
       "(5,)"
      ]
     },
     "execution_count": 29,
     "metadata": {},
     "output_type": "execute_result"
    }
   ],
   "source": [
    "a.shape"
   ]
  },
  {
   "cell_type": "code",
   "execution_count": 31,
   "id": "1b0c9cc4",
   "metadata": {},
   "outputs": [
    {
     "data": {
      "text/plain": [
       "array([0., 1., 2., 3., 4.])"
      ]
     },
     "execution_count": 31,
     "metadata": {},
     "output_type": "execute_result"
    }
   ],
   "source": [
    "b = np.arange(5.0)\n",
    "b"
   ]
  },
  {
   "cell_type": "code",
   "execution_count": 32,
   "id": "092fae2d",
   "metadata": {},
   "outputs": [
    {
     "data": {
      "text/plain": [
       "dtype('float64')"
      ]
     },
     "execution_count": 32,
     "metadata": {},
     "output_type": "execute_result"
    }
   ],
   "source": [
    "b.dtype"
   ]
  },
  {
   "cell_type": "code",
   "execution_count": 33,
   "id": "b19e4d4f",
   "metadata": {},
   "outputs": [
    {
     "data": {
      "text/plain": [
       "array([3, 5, 7])"
      ]
     },
     "execution_count": 33,
     "metadata": {},
     "output_type": "execute_result"
    }
   ],
   "source": [
    "c = np.arange(3, 9, 2)\n",
    "c"
   ]
  },
  {
   "cell_type": "code",
   "execution_count": 41,
   "id": "2a0ba154",
   "metadata": {},
   "outputs": [
    {
     "data": {
      "text/plain": [
       "0.02285858057022161"
      ]
     },
     "execution_count": 41,
     "metadata": {},
     "output_type": "execute_result"
    }
   ],
   "source": [
    "np.random.rand()"
   ]
  },
  {
   "cell_type": "code",
   "execution_count": 42,
   "id": "b9301bb9",
   "metadata": {},
   "outputs": [
    {
     "data": {
      "text/plain": [
       "0.48078871515121746"
      ]
     },
     "execution_count": 42,
     "metadata": {},
     "output_type": "execute_result"
    }
   ],
   "source": [
    "np.random.randn()"
   ]
  },
  {
   "cell_type": "code",
   "execution_count": 44,
   "id": "5797a4be",
   "metadata": {},
   "outputs": [
    {
     "data": {
      "text/plain": [
       "array([[0.38832821, 0.33165737, 0.14226445],\n",
       "       [0.16790181, 0.16539196, 0.12832403]])"
      ]
     },
     "execution_count": 44,
     "metadata": {},
     "output_type": "execute_result"
    }
   ],
   "source": [
    "a=np.random.rand(2,3)\n",
    "a"
   ]
  },
  {
   "cell_type": "code",
   "execution_count": 45,
   "id": "38516479",
   "metadata": {},
   "outputs": [
    {
     "data": {
      "text/plain": [
       "array([[-0.13559487,  0.39575157,  0.62658166],\n",
       "       [ 0.14630926, -0.60472903, -1.59230845]])"
      ]
     },
     "execution_count": 45,
     "metadata": {},
     "output_type": "execute_result"
    }
   ],
   "source": [
    "b=np.random.randn(2,3)\n",
    "b"
   ]
  },
  {
   "cell_type": "markdown",
   "id": "b4cf7519",
   "metadata": {},
   "source": [
    "### dtype 변경"
   ]
  },
  {
   "cell_type": "code",
   "execution_count": 46,
   "id": "20f9eadc",
   "metadata": {},
   "outputs": [
    {
     "data": {
      "text/plain": [
       "array([0, 1, 2, 3, 4])"
      ]
     },
     "execution_count": 46,
     "metadata": {},
     "output_type": "execute_result"
    }
   ],
   "source": [
    "a=np.arange(5)\n",
    "a"
   ]
  },
  {
   "cell_type": "code",
   "execution_count": 48,
   "id": "fde3222f",
   "metadata": {},
   "outputs": [
    {
     "data": {
      "text/plain": [
       "dtype('int64')"
      ]
     },
     "execution_count": 48,
     "metadata": {},
     "output_type": "execute_result"
    }
   ],
   "source": [
    "a.dtype"
   ]
  },
  {
   "cell_type": "code",
   "execution_count": 49,
   "id": "16315a5f",
   "metadata": {},
   "outputs": [
    {
     "data": {
      "text/plain": [
       "array([0., 1., 2., 3., 4.], dtype=float32)"
      ]
     },
     "execution_count": 49,
     "metadata": {},
     "output_type": "execute_result"
    }
   ],
   "source": [
    "b = a.astype('float32')\n",
    "b"
   ]
  },
  {
   "cell_type": "markdown",
   "id": "35309c55",
   "metadata": {},
   "source": [
    "### 차원 변경"
   ]
  },
  {
   "cell_type": "code",
   "execution_count": 50,
   "id": "83593eab",
   "metadata": {},
   "outputs": [
    {
     "data": {
      "text/plain": [
       "array([0, 1, 2, 3, 4, 5])"
      ]
     },
     "execution_count": 50,
     "metadata": {},
     "output_type": "execute_result"
    }
   ],
   "source": [
    "a = np.arange(6)\n",
    "a"
   ]
  },
  {
   "cell_type": "code",
   "execution_count": 51,
   "id": "1d224d72",
   "metadata": {},
   "outputs": [
    {
     "data": {
      "text/plain": [
       "array([[0, 1, 2],\n",
       "       [3, 4, 5]])"
      ]
     },
     "execution_count": 51,
     "metadata": {},
     "output_type": "execute_result"
    }
   ],
   "source": [
    "b = a.reshape(2,3)\n",
    "b"
   ]
  },
  {
   "cell_type": "code",
   "execution_count": 53,
   "id": "bf6e53ba",
   "metadata": {},
   "outputs": [
    {
     "data": {
      "text/plain": [
       "array([[0, 1, 2],\n",
       "       [3, 4, 5]])"
      ]
     },
     "execution_count": 53,
     "metadata": {},
     "output_type": "execute_result"
    }
   ],
   "source": [
    "c = np.reshape(a, (2,3))\n",
    "c"
   ]
  },
  {
   "cell_type": "code",
   "execution_count": 54,
   "id": "f664919a",
   "metadata": {},
   "outputs": [
    {
     "data": {
      "text/plain": [
       "array([[ 0,  1,  2,  3,  4,  5,  6,  7,  8,  9, 10, 11, 12, 13, 14, 15,\n",
       "        16, 17, 18, 19, 20, 21, 22, 23, 24, 25, 26, 27, 28, 29, 30, 31,\n",
       "        32, 33, 34, 35, 36, 37, 38, 39, 40, 41, 42, 43, 44, 45, 46, 47,\n",
       "        48, 49],\n",
       "       [50, 51, 52, 53, 54, 55, 56, 57, 58, 59, 60, 61, 62, 63, 64, 65,\n",
       "        66, 67, 68, 69, 70, 71, 72, 73, 74, 75, 76, 77, 78, 79, 80, 81,\n",
       "        82, 83, 84, 85, 86, 87, 88, 89, 90, 91, 92, 93, 94, 95, 96, 97,\n",
       "        98, 99]])"
      ]
     },
     "execution_count": 54,
     "metadata": {},
     "output_type": "execute_result"
    }
   ],
   "source": [
    "d = np.arange(100).reshape(2, -1)\n",
    "d"
   ]
  },
  {
   "cell_type": "code",
   "execution_count": 55,
   "id": "bd81b0d1",
   "metadata": {},
   "outputs": [
    {
     "data": {
      "text/plain": [
       "array([[ 0,  1,  2,  3,  4],\n",
       "       [ 5,  6,  7,  8,  9],\n",
       "       [10, 11, 12, 13, 14],\n",
       "       [15, 16, 17, 18, 19],\n",
       "       [20, 21, 22, 23, 24],\n",
       "       [25, 26, 27, 28, 29],\n",
       "       [30, 31, 32, 33, 34],\n",
       "       [35, 36, 37, 38, 39],\n",
       "       [40, 41, 42, 43, 44],\n",
       "       [45, 46, 47, 48, 49],\n",
       "       [50, 51, 52, 53, 54],\n",
       "       [55, 56, 57, 58, 59],\n",
       "       [60, 61, 62, 63, 64],\n",
       "       [65, 66, 67, 68, 69],\n",
       "       [70, 71, 72, 73, 74],\n",
       "       [75, 76, 77, 78, 79],\n",
       "       [80, 81, 82, 83, 84],\n",
       "       [85, 86, 87, 88, 89],\n",
       "       [90, 91, 92, 93, 94],\n",
       "       [95, 96, 97, 98, 99]])"
      ]
     },
     "execution_count": 55,
     "metadata": {},
     "output_type": "execute_result"
    }
   ],
   "source": [
    "e = np.arange(100).reshape(-1,5)\n",
    "e"
   ]
  },
  {
   "cell_type": "code",
   "execution_count": 56,
   "id": "d0b85253",
   "metadata": {},
   "outputs": [
    {
     "data": {
      "text/plain": [
       "(20, 5)"
      ]
     },
     "execution_count": 56,
     "metadata": {},
     "output_type": "execute_result"
    }
   ],
   "source": [
    "e.shape"
   ]
  },
  {
   "cell_type": "code",
   "execution_count": 57,
   "id": "5930a1f3",
   "metadata": {},
   "outputs": [
    {
     "data": {
      "text/plain": [
       "array([[0., 0., 0.],\n",
       "       [0., 0., 0.]])"
      ]
     },
     "execution_count": 57,
     "metadata": {},
     "output_type": "execute_result"
    }
   ],
   "source": [
    "f = np.zeros((2,3))\n",
    "f"
   ]
  },
  {
   "cell_type": "code",
   "execution_count": 58,
   "id": "c3df2293",
   "metadata": {},
   "outputs": [
    {
     "data": {
      "text/plain": [
       "array([0., 0., 0., 0., 0., 0.])"
      ]
     },
     "execution_count": 58,
     "metadata": {},
     "output_type": "execute_result"
    }
   ],
   "source": [
    "f.reshape((6,))"
   ]
  },
  {
   "cell_type": "code",
   "execution_count": 59,
   "id": "ab35fa27",
   "metadata": {},
   "outputs": [
    {
     "data": {
      "text/plain": [
       "array([0., 0., 0., 0., 0., 0.])"
      ]
     },
     "execution_count": 59,
     "metadata": {},
     "output_type": "execute_result"
    }
   ],
   "source": [
    "f.reshape(-1)"
   ]
  },
  {
   "cell_type": "code",
   "execution_count": 60,
   "id": "f31f5dfa",
   "metadata": {},
   "outputs": [
    {
     "data": {
      "text/plain": [
       "array([0., 0., 0., 0., 0., 0.])"
      ]
     },
     "execution_count": 60,
     "metadata": {},
     "output_type": "execute_result"
    }
   ],
   "source": [
    "np.ravel(f)"
   ]
  },
  {
   "cell_type": "code",
   "execution_count": 62,
   "id": "e6a51bf3",
   "metadata": {},
   "outputs": [
    {
     "data": {
      "text/plain": [
       "array([[0, 1, 2, 3, 4],\n",
       "       [5, 6, 7, 8, 9]])"
      ]
     },
     "execution_count": 62,
     "metadata": {},
     "output_type": "execute_result"
    }
   ],
   "source": [
    "g=np.arange(10).reshape(2,-1)\n",
    "g"
   ]
  },
  {
   "cell_type": "code",
   "execution_count": 63,
   "id": "008ddbd4",
   "metadata": {},
   "outputs": [
    {
     "data": {
      "text/plain": [
       "array([[0, 5],\n",
       "       [1, 6],\n",
       "       [2, 7],\n",
       "       [3, 8],\n",
       "       [4, 9]])"
      ]
     },
     "execution_count": 63,
     "metadata": {},
     "output_type": "execute_result"
    }
   ],
   "source": [
    "g.T"
   ]
  },
  {
   "cell_type": "markdown",
   "id": "93fba250",
   "metadata": {},
   "source": [
    "### 브로드캐스팅 연산"
   ]
  },
  {
   "cell_type": "code",
   "execution_count": 64,
   "id": "150dee1a",
   "metadata": {},
   "outputs": [
    {
     "data": {
      "text/plain": [
       "array([[1., 1., 1.],\n",
       "       [1., 1., 1.]])"
      ]
     },
     "execution_count": 64,
     "metadata": {},
     "output_type": "execute_result"
    }
   ],
   "source": [
    "a = np.ones((2,3))\n",
    "a"
   ]
  },
  {
   "cell_type": "code",
   "execution_count": 65,
   "id": "5ba6af25",
   "metadata": {},
   "outputs": [
    {
     "data": {
      "text/plain": [
       "array([0, 1, 2])"
      ]
     },
     "execution_count": 65,
     "metadata": {},
     "output_type": "execute_result"
    }
   ],
   "source": [
    "c = np.arange(3)\n",
    "c"
   ]
  },
  {
   "cell_type": "code",
   "execution_count": 66,
   "id": "57757a46",
   "metadata": {},
   "outputs": [
    {
     "data": {
      "text/plain": [
       "array([[1., 2., 3.],\n",
       "       [1., 2., 3.]])"
      ]
     },
     "execution_count": 66,
     "metadata": {},
     "output_type": "execute_result"
    }
   ],
   "source": [
    "a+c"
   ]
  },
  {
   "cell_type": "markdown",
   "id": "e73f2112",
   "metadata": {},
   "source": [
    "### 인덱싱과 슬라이싱"
   ]
  },
  {
   "cell_type": "code",
   "execution_count": null,
   "id": "6a72ef2f",
   "metadata": {},
   "outputs": [],
   "source": []
  },
  {
   "cell_type": "markdown",
   "id": "7fa9fb0b",
   "metadata": {},
   "source": [
    "### 팬시 인덱싱"
   ]
  },
  {
   "cell_type": "code",
   "execution_count": 67,
   "id": "3b18331d",
   "metadata": {},
   "outputs": [
    {
     "data": {
      "text/plain": [
       "array([0, 1, 2, 3, 4])"
      ]
     },
     "execution_count": 67,
     "metadata": {},
     "output_type": "execute_result"
    }
   ],
   "source": [
    "a = np.arange(5)\n",
    "a"
   ]
  },
  {
   "cell_type": "code",
   "execution_count": 72,
   "id": "0890df94",
   "metadata": {},
   "outputs": [
    {
     "data": {
      "text/plain": [
       "array([1, 3])"
      ]
     },
     "execution_count": 72,
     "metadata": {},
     "output_type": "execute_result"
    }
   ],
   "source": [
    "a[[1,3]]"
   ]
  },
  {
   "cell_type": "code",
   "execution_count": 73,
   "id": "268e1b3f",
   "metadata": {},
   "outputs": [
    {
     "data": {
      "text/plain": [
       "array([0, 2, 4])"
      ]
     },
     "execution_count": 73,
     "metadata": {},
     "output_type": "execute_result"
    }
   ],
   "source": [
    "a[[True, False, True, False, True]]"
   ]
  },
  {
   "cell_type": "code",
   "execution_count": 75,
   "id": "4e2ae359",
   "metadata": {},
   "outputs": [
    {
     "data": {
      "text/plain": [
       "array([0, 1, 2, 3, 4, 5, 6, 7, 8, 9])"
      ]
     },
     "execution_count": 75,
     "metadata": {},
     "output_type": "execute_result"
    }
   ],
   "source": [
    "a=np.arange(10)\n",
    "a"
   ]
  },
  {
   "cell_type": "code",
   "execution_count": 77,
   "id": "72cc70e2",
   "metadata": {},
   "outputs": [
    {
     "data": {
      "text/plain": [
       "array([False, False, False, False, False, False,  True,  True,  True,\n",
       "        True])"
      ]
     },
     "execution_count": 77,
     "metadata": {},
     "output_type": "execute_result"
    }
   ],
   "source": [
    "b = a>5\n",
    "b"
   ]
  },
  {
   "cell_type": "code",
   "execution_count": 78,
   "id": "93333617",
   "metadata": {},
   "outputs": [
    {
     "data": {
      "text/plain": [
       "array([6, 7, 8, 9])"
      ]
     },
     "execution_count": 78,
     "metadata": {},
     "output_type": "execute_result"
    }
   ],
   "source": [
    "a[b]"
   ]
  },
  {
   "cell_type": "code",
   "execution_count": 79,
   "id": "b72d9878",
   "metadata": {},
   "outputs": [
    {
     "data": {
      "text/plain": [
       "array([6, 7, 8, 9])"
      ]
     },
     "execution_count": 79,
     "metadata": {},
     "output_type": "execute_result"
    }
   ],
   "source": [
    "a[a>5]"
   ]
  },
  {
   "cell_type": "code",
   "execution_count": 80,
   "id": "f7596ae5",
   "metadata": {},
   "outputs": [
    {
     "data": {
      "text/plain": [
       "array([0, 1, 2, 3, 4, 5, 6, 7, 8, 9])"
      ]
     },
     "execution_count": 80,
     "metadata": {},
     "output_type": "execute_result"
    }
   ],
   "source": [
    "a"
   ]
  },
  {
   "cell_type": "code",
   "execution_count": 82,
   "id": "b6c70fe3",
   "metadata": {},
   "outputs": [
    {
     "data": {
      "text/plain": [
       "array([[ 0,  1,  2,  3],\n",
       "       [ 4,  5,  6,  7],\n",
       "       [ 8,  9, 10, 11]])"
      ]
     },
     "execution_count": 82,
     "metadata": {},
     "output_type": "execute_result"
    }
   ],
   "source": [
    "b=np.arange(12).reshape(3,4)\n",
    "b"
   ]
  },
  {
   "cell_type": "code",
   "execution_count": 83,
   "id": "834d8fd9",
   "metadata": {},
   "outputs": [
    {
     "data": {
      "text/plain": [
       "array([[ 0,  1,  2,  3],\n",
       "       [ 8,  9, 10, 11]])"
      ]
     },
     "execution_count": 83,
     "metadata": {},
     "output_type": "execute_result"
    }
   ],
   "source": [
    "b[[0,2]]"
   ]
  },
  {
   "cell_type": "code",
   "execution_count": 84,
   "id": "b95d4a7e",
   "metadata": {},
   "outputs": [
    {
     "data": {
      "text/plain": [
       "array([ 2, 11])"
      ]
     },
     "execution_count": 84,
     "metadata": {},
     "output_type": "execute_result"
    }
   ],
   "source": [
    "b[[0,2],[2,3]]"
   ]
  },
  {
   "cell_type": "markdown",
   "id": "735be774",
   "metadata": {},
   "source": [
    "### 병합과 분리"
   ]
  },
  {
   "cell_type": "code",
   "execution_count": 86,
   "id": "11c09e05",
   "metadata": {},
   "outputs": [
    {
     "data": {
      "text/plain": [
       "array([[0, 1],\n",
       "       [2, 3]])"
      ]
     },
     "execution_count": 86,
     "metadata": {},
     "output_type": "execute_result"
    }
   ],
   "source": [
    "a = np.arange(4).reshape(2,2)\n",
    "a"
   ]
  },
  {
   "cell_type": "code",
   "execution_count": 87,
   "id": "ffc8a85c",
   "metadata": {},
   "outputs": [
    {
     "data": {
      "text/plain": [
       "array([[10, 11],\n",
       "       [12, 13]])"
      ]
     },
     "execution_count": 87,
     "metadata": {},
     "output_type": "execute_result"
    }
   ],
   "source": [
    "b=np.arange(10,14).reshape(2,2)\n",
    "b"
   ]
  },
  {
   "cell_type": "code",
   "execution_count": 88,
   "id": "b39d1719",
   "metadata": {},
   "outputs": [
    {
     "data": {
      "text/plain": [
       "array([[ 0,  1],\n",
       "       [ 2,  3],\n",
       "       [10, 11],\n",
       "       [12, 13]])"
      ]
     },
     "execution_count": 88,
     "metadata": {},
     "output_type": "execute_result"
    }
   ],
   "source": [
    "np.vstack((a,b))"
   ]
  },
  {
   "cell_type": "code",
   "execution_count": 90,
   "id": "04588ca2",
   "metadata": {},
   "outputs": [
    {
     "data": {
      "text/plain": [
       "array([[ 0,  1, 10, 11],\n",
       "       [ 2,  3, 12, 13]])"
      ]
     },
     "execution_count": 90,
     "metadata": {},
     "output_type": "execute_result"
    }
   ],
   "source": [
    "np.hstack((a,b))"
   ]
  },
  {
   "cell_type": "code",
   "execution_count": 91,
   "id": "26869143",
   "metadata": {},
   "outputs": [
    {
     "data": {
      "text/plain": [
       "array([[ 0,  1],\n",
       "       [ 2,  3],\n",
       "       [10, 11],\n",
       "       [12, 13]])"
      ]
     },
     "execution_count": 91,
     "metadata": {},
     "output_type": "execute_result"
    }
   ],
   "source": [
    "np.concatenate((a,b),0)"
   ]
  },
  {
   "cell_type": "code",
   "execution_count": 92,
   "id": "cf3e8f8e",
   "metadata": {},
   "outputs": [
    {
     "data": {
      "text/plain": [
       "array([[ 0,  1, 10, 11],\n",
       "       [ 2,  3, 12, 13]])"
      ]
     },
     "execution_count": 92,
     "metadata": {},
     "output_type": "execute_result"
    }
   ],
   "source": [
    "np.concatenate((a,b),1)"
   ]
  },
  {
   "cell_type": "code",
   "execution_count": 94,
   "id": "89eef778",
   "metadata": {},
   "outputs": [
    {
     "data": {
      "text/plain": [
       "array([[ 0,  1,  2],\n",
       "       [ 3,  4,  5],\n",
       "       [ 6,  7,  8],\n",
       "       [ 9, 10, 11]])"
      ]
     },
     "execution_count": 94,
     "metadata": {},
     "output_type": "execute_result"
    }
   ],
   "source": [
    "a=np.arange(12).reshape(4,3)\n",
    "a"
   ]
  },
  {
   "cell_type": "code",
   "execution_count": 95,
   "id": "7d8f4577",
   "metadata": {},
   "outputs": [
    {
     "data": {
      "text/plain": [
       "array([[ 10,  20,  30],\n",
       "       [ 40,  50,  60],\n",
       "       [ 70,  80,  90],\n",
       "       [100, 110, 120]])"
      ]
     },
     "execution_count": 95,
     "metadata": {},
     "output_type": "execute_result"
    }
   ],
   "source": [
    "b=np.arange(10,130,10).reshape(4,3)\n",
    "b"
   ]
  },
  {
   "cell_type": "code",
   "execution_count": 96,
   "id": "9bffcfa5",
   "metadata": {},
   "outputs": [
    {
     "data": {
      "text/plain": [
       "array([[[  0,   1,   2],\n",
       "        [  3,   4,   5],\n",
       "        [  6,   7,   8],\n",
       "        [  9,  10,  11]],\n",
       "\n",
       "       [[ 10,  20,  30],\n",
       "        [ 40,  50,  60],\n",
       "        [ 70,  80,  90],\n",
       "        [100, 110, 120]]])"
      ]
     },
     "execution_count": 96,
     "metadata": {},
     "output_type": "execute_result"
    }
   ],
   "source": [
    "c=np.stack((a,b),0)\n",
    "c"
   ]
  },
  {
   "cell_type": "code",
   "execution_count": 97,
   "id": "c387aee4",
   "metadata": {},
   "outputs": [
    {
     "data": {
      "text/plain": [
       "array([[[  0,   1,   2],\n",
       "        [ 10,  20,  30]],\n",
       "\n",
       "       [[  3,   4,   5],\n",
       "        [ 40,  50,  60]],\n",
       "\n",
       "       [[  6,   7,   8],\n",
       "        [ 70,  80,  90]],\n",
       "\n",
       "       [[  9,  10,  11],\n",
       "        [100, 110, 120]]])"
      ]
     },
     "execution_count": 97,
     "metadata": {},
     "output_type": "execute_result"
    }
   ],
   "source": [
    "d=np.stack((a,b),1)\n",
    "d"
   ]
  },
  {
   "cell_type": "code",
   "execution_count": 98,
   "id": "41094e67",
   "metadata": {},
   "outputs": [
    {
     "data": {
      "text/plain": [
       "array([[[  0,  10],\n",
       "        [  1,  20],\n",
       "        [  2,  30]],\n",
       "\n",
       "       [[  3,  40],\n",
       "        [  4,  50],\n",
       "        [  5,  60]],\n",
       "\n",
       "       [[  6,  70],\n",
       "        [  7,  80],\n",
       "        [  8,  90]],\n",
       "\n",
       "       [[  9, 100],\n",
       "        [ 10, 110],\n",
       "        [ 11, 120]]])"
      ]
     },
     "execution_count": 98,
     "metadata": {},
     "output_type": "execute_result"
    }
   ],
   "source": [
    "e=np.stack((a,b),2)\n",
    "e"
   ]
  },
  {
   "cell_type": "code",
   "execution_count": 101,
   "id": "07cfc1ba",
   "metadata": {},
   "outputs": [
    {
     "data": {
      "text/plain": [
       "array([[[  0,  10],\n",
       "        [  1,  20],\n",
       "        [  2,  30]],\n",
       "\n",
       "       [[  3,  40],\n",
       "        [  4,  50],\n",
       "        [  5,  60]],\n",
       "\n",
       "       [[  6,  70],\n",
       "        [  7,  80],\n",
       "        [  8,  90]],\n",
       "\n",
       "       [[  9, 100],\n",
       "        [ 10, 110],\n",
       "        [ 11, 120]]])"
      ]
     },
     "execution_count": 101,
     "metadata": {},
     "output_type": "execute_result"
    }
   ],
   "source": [
    "ee=np.stack((a,b),-1)\n",
    "ee"
   ]
  },
  {
   "cell_type": "code",
   "execution_count": 102,
   "id": "c5fad33e",
   "metadata": {},
   "outputs": [
    {
     "data": {
      "text/plain": [
       "array([ 0,  1,  2,  3,  4,  5,  6,  7,  8,  9, 10, 11])"
      ]
     },
     "execution_count": 102,
     "metadata": {},
     "output_type": "execute_result"
    }
   ],
   "source": [
    "a=np.arange(12)\n",
    "a"
   ]
  },
  {
   "cell_type": "code",
   "execution_count": 103,
   "id": "0062fffc",
   "metadata": {},
   "outputs": [
    {
     "data": {
      "text/plain": [
       "[array([0, 1, 2, 3]), array([4, 5, 6, 7]), array([ 8,  9, 10, 11])]"
      ]
     },
     "execution_count": 103,
     "metadata": {},
     "output_type": "execute_result"
    }
   ],
   "source": [
    "np.hsplit(a,3)"
   ]
  },
  {
   "cell_type": "code",
   "execution_count": 104,
   "id": "456ed17e",
   "metadata": {},
   "outputs": [
    {
     "data": {
      "text/plain": [
       "[array([0, 1, 2]), array([3, 4, 5]), array([ 6,  7,  8,  9, 10, 11])]"
      ]
     },
     "execution_count": 104,
     "metadata": {},
     "output_type": "execute_result"
    }
   ],
   "source": [
    "np.hsplit(a,[3,6])"
   ]
  },
  {
   "cell_type": "code",
   "execution_count": 105,
   "id": "009e8a5d",
   "metadata": {},
   "outputs": [
    {
     "data": {
      "text/plain": [
       "[array([0, 1, 2]), array([3, 4, 5]), array([6, 7, 8]), array([ 9, 10, 11])]"
      ]
     },
     "execution_count": 105,
     "metadata": {},
     "output_type": "execute_result"
    }
   ],
   "source": [
    "np.hsplit(a,[3,6,9])"
   ]
  },
  {
   "cell_type": "code",
   "execution_count": 106,
   "id": "c1a54e34",
   "metadata": {},
   "outputs": [
    {
     "data": {
      "text/plain": [
       "[array([0, 1, 2, 3]), array([4, 5, 6, 7]), array([ 8,  9, 10, 11])]"
      ]
     },
     "execution_count": 106,
     "metadata": {},
     "output_type": "execute_result"
    }
   ],
   "source": [
    "np.split(a,3,0)"
   ]
  },
  {
   "cell_type": "code",
   "execution_count": 107,
   "id": "ce6b639b",
   "metadata": {},
   "outputs": [
    {
     "data": {
      "text/plain": [
       "[array([0, 1, 2]), array([3, 4, 5]), array([6, 7, 8]), array([ 9, 10, 11])]"
      ]
     },
     "execution_count": 107,
     "metadata": {},
     "output_type": "execute_result"
    }
   ],
   "source": [
    "np.split(a,[3,6,9],0)"
   ]
  },
  {
   "cell_type": "code",
   "execution_count": 108,
   "id": "0301021d",
   "metadata": {},
   "outputs": [
    {
     "data": {
      "text/plain": [
       "array([[ 0,  1,  2],\n",
       "       [ 3,  4,  5],\n",
       "       [ 6,  7,  8],\n",
       "       [ 9, 10, 11]])"
      ]
     },
     "execution_count": 108,
     "metadata": {},
     "output_type": "execute_result"
    }
   ],
   "source": [
    "b=np.arange(12).reshape(4,3)\n",
    "b"
   ]
  },
  {
   "cell_type": "code",
   "execution_count": 109,
   "id": "1fe341a5",
   "metadata": {},
   "outputs": [
    {
     "data": {
      "text/plain": [
       "[array([[0, 1, 2],\n",
       "        [3, 4, 5]]),\n",
       " array([[ 6,  7,  8],\n",
       "        [ 9, 10, 11]])]"
      ]
     },
     "execution_count": 109,
     "metadata": {},
     "output_type": "execute_result"
    }
   ],
   "source": [
    "np.vsplit(b,2)"
   ]
  },
  {
   "cell_type": "code",
   "execution_count": 110,
   "id": "2bac5439",
   "metadata": {},
   "outputs": [
    {
     "data": {
      "text/plain": [
       "[array([[0, 1, 2],\n",
       "        [3, 4, 5]]),\n",
       " array([[ 6,  7,  8],\n",
       "        [ 9, 10, 11]])]"
      ]
     },
     "execution_count": 110,
     "metadata": {},
     "output_type": "execute_result"
    }
   ],
   "source": [
    "np.split(b,2,0)"
   ]
  },
  {
   "cell_type": "code",
   "execution_count": 111,
   "id": "174a317f",
   "metadata": {},
   "outputs": [
    {
     "data": {
      "text/plain": [
       "[array([[0],\n",
       "        [3],\n",
       "        [6],\n",
       "        [9]]),\n",
       " array([[ 1,  2],\n",
       "        [ 4,  5],\n",
       "        [ 7,  8],\n",
       "        [10, 11]])]"
      ]
     },
     "execution_count": 111,
     "metadata": {},
     "output_type": "execute_result"
    }
   ],
   "source": [
    "np.hsplit(b,[1])"
   ]
  },
  {
   "cell_type": "code",
   "execution_count": 112,
   "id": "c2084bf3",
   "metadata": {},
   "outputs": [
    {
     "data": {
      "text/plain": [
       "[array([[0],\n",
       "        [3],\n",
       "        [6],\n",
       "        [9]]),\n",
       " array([[ 1,  2],\n",
       "        [ 4,  5],\n",
       "        [ 7,  8],\n",
       "        [10, 11]])]"
      ]
     },
     "execution_count": 112,
     "metadata": {},
     "output_type": "execute_result"
    }
   ],
   "source": [
    "np.split(b,[1],1)"
   ]
  },
  {
   "cell_type": "markdown",
   "id": "8d2e31a3",
   "metadata": {},
   "source": [
    "### 검색"
   ]
  },
  {
   "cell_type": "code",
   "execution_count": 113,
   "id": "15399f40",
   "metadata": {},
   "outputs": [
    {
     "data": {
      "text/plain": [
       "array([10, 11, 12, 13, 14, 15, 16, 17, 18, 19])"
      ]
     },
     "execution_count": 113,
     "metadata": {},
     "output_type": "execute_result"
    }
   ],
   "source": [
    "a=np.arange(10,20)\n",
    "a"
   ]
  },
  {
   "cell_type": "code",
   "execution_count": 114,
   "id": "f73f1e4f",
   "metadata": {},
   "outputs": [
    {
     "data": {
      "text/plain": [
       "(array([6, 7, 8, 9]),)"
      ]
     },
     "execution_count": 114,
     "metadata": {},
     "output_type": "execute_result"
    }
   ],
   "source": [
    "np.where(a>15)"
   ]
  },
  {
   "cell_type": "code",
   "execution_count": 116,
   "id": "f1725b34",
   "metadata": {},
   "outputs": [
    {
     "data": {
      "text/plain": [
       "array([0, 0, 0, 0, 0, 0, 1, 1, 1, 1])"
      ]
     },
     "execution_count": 116,
     "metadata": {},
     "output_type": "execute_result"
    }
   ],
   "source": [
    "np.where(a>15, 1,0)"
   ]
  },
  {
   "cell_type": "code",
   "execution_count": 117,
   "id": "95143a7e",
   "metadata": {},
   "outputs": [
    {
     "data": {
      "text/plain": [
       "array([10, 11, 12, 13, 14, 15, 16, 17, 18, 19])"
      ]
     },
     "execution_count": 117,
     "metadata": {},
     "output_type": "execute_result"
    }
   ],
   "source": [
    "a"
   ]
  },
  {
   "cell_type": "code",
   "execution_count": 118,
   "id": "b07c5b52",
   "metadata": {},
   "outputs": [
    {
     "data": {
      "text/plain": [
       "array([10, 11, 12, 13, 14, 15, 99, 99, 99, 99])"
      ]
     },
     "execution_count": 118,
     "metadata": {},
     "output_type": "execute_result"
    }
   ],
   "source": [
    "np.where(a>15, 99, a)"
   ]
  },
  {
   "cell_type": "code",
   "execution_count": 119,
   "id": "350598aa",
   "metadata": {},
   "outputs": [
    {
     "data": {
      "text/plain": [
       "array([ 0,  0,  0,  0,  0,  0, 16, 17, 18, 19])"
      ]
     },
     "execution_count": 119,
     "metadata": {},
     "output_type": "execute_result"
    }
   ],
   "source": [
    "np.where(a>15,a,0)"
   ]
  },
  {
   "cell_type": "code",
   "execution_count": 120,
   "id": "5ebd4992",
   "metadata": {},
   "outputs": [
    {
     "data": {
      "text/plain": [
       "array([10, 11, 12, 13, 14, 15, 16, 17, 18, 19])"
      ]
     },
     "execution_count": 120,
     "metadata": {},
     "output_type": "execute_result"
    }
   ],
   "source": [
    "a"
   ]
  },
  {
   "cell_type": "code",
   "execution_count": 122,
   "id": "732a2e78",
   "metadata": {},
   "outputs": [
    {
     "data": {
      "text/plain": [
       "array([[ 0,  1,  2,  3],\n",
       "       [ 4,  5,  6,  7],\n",
       "       [ 8,  9, 10, 11]])"
      ]
     },
     "execution_count": 122,
     "metadata": {},
     "output_type": "execute_result"
    }
   ],
   "source": [
    "b=np.arange(12).reshape(3,4)\n",
    "b"
   ]
  },
  {
   "cell_type": "code",
   "execution_count": 124,
   "id": "185a1797",
   "metadata": {},
   "outputs": [
    {
     "data": {
      "text/plain": [
       "(array([1, 2, 2, 2, 2]), array([3, 0, 1, 2, 3]))"
      ]
     },
     "execution_count": 124,
     "metadata": {},
     "output_type": "execute_result"
    }
   ],
   "source": [
    "coords = np.where(b>6)\n",
    "coords"
   ]
  },
  {
   "cell_type": "code",
   "execution_count": 125,
   "id": "96121848",
   "metadata": {},
   "outputs": [
    {
     "data": {
      "text/plain": [
       "array([[1, 3],\n",
       "       [2, 0],\n",
       "       [2, 1],\n",
       "       [2, 2],\n",
       "       [2, 3]])"
      ]
     },
     "execution_count": 125,
     "metadata": {},
     "output_type": "execute_result"
    }
   ],
   "source": [
    "np.stack((coords[0],coords[1]),-1)"
   ]
  },
  {
   "cell_type": "code",
   "execution_count": 126,
   "id": "b0845178",
   "metadata": {},
   "outputs": [
    {
     "data": {
      "text/plain": [
       "(array([1, 2, 4, 5]),)"
      ]
     },
     "execution_count": 126,
     "metadata": {},
     "output_type": "execute_result"
    }
   ],
   "source": [
    "z = np.array([0,1,2,0,1,2])\n",
    "np.nonzero(z)"
   ]
  },
  {
   "cell_type": "code",
   "execution_count": 127,
   "id": "29a5965b",
   "metadata": {},
   "outputs": [
    {
     "data": {
      "text/plain": [
       "array([[0, 1, 2],\n",
       "       [1, 2, 0],\n",
       "       [2, 0, 1]])"
      ]
     },
     "execution_count": 127,
     "metadata": {},
     "output_type": "execute_result"
    }
   ],
   "source": [
    "zz = np.array([[0,1,2], [1,2,0], [2,0,1]])\n",
    "zz"
   ]
  },
  {
   "cell_type": "code",
   "execution_count": 129,
   "id": "e7002541",
   "metadata": {},
   "outputs": [
    {
     "data": {
      "text/plain": [
       "(array([0, 0, 1, 1, 2, 2]), array([1, 2, 0, 1, 0, 2]))"
      ]
     },
     "execution_count": 129,
     "metadata": {},
     "output_type": "execute_result"
    }
   ],
   "source": [
    "coords = np.nonzero(zz)\n",
    "coords"
   ]
  },
  {
   "cell_type": "code",
   "execution_count": 130,
   "id": "2cb09dc4",
   "metadata": {},
   "outputs": [
    {
     "data": {
      "text/plain": [
       "array([[0, 1],\n",
       "       [0, 2],\n",
       "       [1, 0],\n",
       "       [1, 1],\n",
       "       [2, 0],\n",
       "       [2, 2]])"
      ]
     },
     "execution_count": 130,
     "metadata": {},
     "output_type": "execute_result"
    }
   ],
   "source": [
    "np.stack((coords[0], coords[1]),-1)"
   ]
  },
  {
   "cell_type": "code",
   "execution_count": 131,
   "id": "ae29f223",
   "metadata": {},
   "outputs": [
    {
     "data": {
      "text/plain": [
       "array([10, 11, 12, 13, 14, 15, 16, 17, 18, 19])"
      ]
     },
     "execution_count": 131,
     "metadata": {},
     "output_type": "execute_result"
    }
   ],
   "source": [
    "a"
   ]
  },
  {
   "cell_type": "code",
   "execution_count": 132,
   "id": "5658b097",
   "metadata": {},
   "outputs": [
    {
     "data": {
      "text/plain": [
       "(array([6, 7, 8, 9]),)"
      ]
     },
     "execution_count": 132,
     "metadata": {},
     "output_type": "execute_result"
    }
   ],
   "source": [
    "np.nonzero(a>15)"
   ]
  },
  {
   "cell_type": "code",
   "execution_count": 133,
   "id": "e87b6111",
   "metadata": {},
   "outputs": [
    {
     "data": {
      "text/plain": [
       "(array([6, 7, 8, 9]),)"
      ]
     },
     "execution_count": 133,
     "metadata": {},
     "output_type": "execute_result"
    }
   ],
   "source": [
    "np.where(a>15)"
   ]
  },
  {
   "cell_type": "code",
   "execution_count": 134,
   "id": "7a1b1a55",
   "metadata": {},
   "outputs": [
    {
     "data": {
      "text/plain": [
       "array([[ 0,  1,  2,  3],\n",
       "       [ 4,  5,  6,  7],\n",
       "       [ 8,  9, 10, 11]])"
      ]
     },
     "execution_count": 134,
     "metadata": {},
     "output_type": "execute_result"
    }
   ],
   "source": [
    "b"
   ]
  },
  {
   "cell_type": "code",
   "execution_count": 135,
   "id": "2e480098",
   "metadata": {},
   "outputs": [
    {
     "data": {
      "text/plain": [
       "(array([1, 2, 2, 2, 2]), array([3, 0, 1, 2, 3]))"
      ]
     },
     "execution_count": 135,
     "metadata": {},
     "output_type": "execute_result"
    }
   ],
   "source": [
    "np.nonzero(b>6)"
   ]
  },
  {
   "cell_type": "code",
   "execution_count": 136,
   "id": "569aac4a",
   "metadata": {},
   "outputs": [
    {
     "data": {
      "text/plain": [
       "(array([1, 2, 2, 2, 2]), array([3, 0, 1, 2, 3]))"
      ]
     },
     "execution_count": 136,
     "metadata": {},
     "output_type": "execute_result"
    }
   ],
   "source": [
    "np.where(b>6)"
   ]
  },
  {
   "cell_type": "code",
   "execution_count": 138,
   "id": "1c0dfa43",
   "metadata": {},
   "outputs": [
    {
     "data": {
      "text/plain": [
       "True"
      ]
     },
     "execution_count": 138,
     "metadata": {},
     "output_type": "execute_result"
    }
   ],
   "source": [
    "t=np.array([True, True, True])\n",
    "np.all(t)"
   ]
  },
  {
   "cell_type": "code",
   "execution_count": 140,
   "id": "e1dade03",
   "metadata": {},
   "outputs": [
    {
     "data": {
      "text/plain": [
       "array([ True, False,  True])"
      ]
     },
     "execution_count": 140,
     "metadata": {},
     "output_type": "execute_result"
    }
   ],
   "source": [
    "t[1]=False\n",
    "t"
   ]
  },
  {
   "cell_type": "code",
   "execution_count": 141,
   "id": "4fe21d40",
   "metadata": {},
   "outputs": [
    {
     "data": {
      "text/plain": [
       "False"
      ]
     },
     "execution_count": 141,
     "metadata": {},
     "output_type": "execute_result"
    }
   ],
   "source": [
    "np.all(t)"
   ]
  },
  {
   "cell_type": "code",
   "execution_count": 142,
   "id": "5034c8bc",
   "metadata": {},
   "outputs": [
    {
     "data": {
      "text/plain": [
       "array([[ True,  True],\n",
       "       [False,  True],\n",
       "       [ True,  True]])"
      ]
     },
     "execution_count": 142,
     "metadata": {},
     "output_type": "execute_result"
    }
   ],
   "source": [
    "tt=np.array([[True, True], [False, True], [True, True]])\n",
    "tt"
   ]
  },
  {
   "cell_type": "code",
   "execution_count": 143,
   "id": "4f84db7e",
   "metadata": {},
   "outputs": [
    {
     "data": {
      "text/plain": [
       "array([False,  True])"
      ]
     },
     "execution_count": 143,
     "metadata": {},
     "output_type": "execute_result"
    }
   ],
   "source": [
    "np.all(tt,0)"
   ]
  },
  {
   "cell_type": "code",
   "execution_count": 145,
   "id": "53c2c580",
   "metadata": {},
   "outputs": [
    {
     "data": {
      "text/plain": [
       "array([ True, False,  True])"
      ]
     },
     "execution_count": 145,
     "metadata": {},
     "output_type": "execute_result"
    }
   ],
   "source": [
    "np.all(tt,1)"
   ]
  },
  {
   "cell_type": "code",
   "execution_count": 147,
   "id": "0df9f3ea",
   "metadata": {},
   "outputs": [
    {
     "data": {
      "text/plain": [
       "array([0, 1, 2, 3, 4, 5, 6, 7, 8, 9])"
      ]
     },
     "execution_count": 147,
     "metadata": {},
     "output_type": "execute_result"
    }
   ],
   "source": [
    "a=np.arange(10)\n",
    "a"
   ]
  },
  {
   "cell_type": "code",
   "execution_count": 148,
   "id": "d8d904e8",
   "metadata": {},
   "outputs": [
    {
     "data": {
      "text/plain": [
       "array([0, 1, 2, 3, 4, 5, 6, 7, 8, 9])"
      ]
     },
     "execution_count": 148,
     "metadata": {},
     "output_type": "execute_result"
    }
   ],
   "source": [
    "b=np.arange(10)\n",
    "b"
   ]
  },
  {
   "cell_type": "code",
   "execution_count": 149,
   "id": "cc878057",
   "metadata": {},
   "outputs": [
    {
     "data": {
      "text/plain": [
       "array([ True,  True,  True,  True,  True,  True,  True,  True,  True,\n",
       "        True])"
      ]
     },
     "execution_count": 149,
     "metadata": {},
     "output_type": "execute_result"
    }
   ],
   "source": [
    "a==b"
   ]
  },
  {
   "cell_type": "code",
   "execution_count": 150,
   "id": "1774a1e1",
   "metadata": {},
   "outputs": [
    {
     "data": {
      "text/plain": [
       "True"
      ]
     },
     "execution_count": 150,
     "metadata": {},
     "output_type": "execute_result"
    }
   ],
   "source": [
    "np.all(a==b)"
   ]
  },
  {
   "cell_type": "code",
   "execution_count": 151,
   "id": "252519ed",
   "metadata": {},
   "outputs": [],
   "source": [
    "b[5] = -1"
   ]
  },
  {
   "cell_type": "code",
   "execution_count": 152,
   "id": "cf3127c3",
   "metadata": {},
   "outputs": [
    {
     "data": {
      "text/plain": [
       "False"
      ]
     },
     "execution_count": 152,
     "metadata": {},
     "output_type": "execute_result"
    }
   ],
   "source": [
    "np.all(a==b)"
   ]
  },
  {
   "cell_type": "code",
   "execution_count": 153,
   "id": "80df4ee0",
   "metadata": {},
   "outputs": [
    {
     "data": {
      "text/plain": [
       "(array([0, 1, 2, 3, 4, 6, 7, 8, 9]),)"
      ]
     },
     "execution_count": 153,
     "metadata": {},
     "output_type": "execute_result"
    }
   ],
   "source": [
    "np.where(a==b)"
   ]
  },
  {
   "cell_type": "code",
   "execution_count": 154,
   "id": "cc27fc95",
   "metadata": {},
   "outputs": [
    {
     "data": {
      "text/plain": [
       "(array([5]),)"
      ]
     },
     "execution_count": 154,
     "metadata": {},
     "output_type": "execute_result"
    }
   ],
   "source": [
    "np.where(a!=b)"
   ]
  },
  {
   "cell_type": "markdown",
   "id": "76694272",
   "metadata": {},
   "source": [
    "### 기초 통계 함수"
   ]
  },
  {
   "cell_type": "code",
   "execution_count": null,
   "id": "925cf68c",
   "metadata": {},
   "outputs": [],
   "source": []
  },
  {
   "cell_type": "code",
   "execution_count": null,
   "id": "7e1bda13",
   "metadata": {},
   "outputs": [],
   "source": []
  },
  {
   "cell_type": "code",
   "execution_count": null,
   "id": "041d7d5f",
   "metadata": {},
   "outputs": [],
   "source": []
  },
  {
   "cell_type": "markdown",
   "id": "9a74df9a",
   "metadata": {},
   "source": [
    "### 이미지 생성"
   ]
  },
  {
   "cell_type": "code",
   "execution_count": 5,
   "id": "b9c5e800",
   "metadata": {},
   "outputs": [],
   "source": [
    "import cv2\n",
    "import numpy as np\n",
    "\n",
    "img = np.zeros((120,120), dtype=np.uint8)\n",
    "img[25:35, :] = 45\n",
    "img[55:65, :] = 115\n",
    "img[85:95, :] = 160\n",
    "img[:, 34:45] = 205\n",
    "img[:, 75:85] = 255\n",
    "cv2.imshow('Gray', img)\n",
    "cv2.waitKey(0)\n",
    "cv2.destroyAllWindows()"
   ]
  },
  {
   "cell_type": "code",
   "execution_count": 155,
   "id": "28751773",
   "metadata": {},
   "outputs": [],
   "source": [
    "import cv2\n",
    "import numpy as np\n",
    "\n",
    "img = np.zeros((120,120,3), dtype=np.uint8)\n",
    "img[25:35, :] = [255,0,0]\n",
    "img[55:65, :] = [0,255,0]\n",
    "img[85:95, :] = [0,0,255]\n",
    "img[:, 34:45] = [255,255,0]\n",
    "img[:, 75:85] = [255,0,255]\n",
    "cv2.imshow('BGR', img)\n",
    "cv2.waitKey(0)\n",
    "cv2.destroyAllWindows()"
   ]
  },
  {
   "cell_type": "markdown",
   "id": "fb9e91b7",
   "metadata": {},
   "source": [
    "### subplot"
   ]
  },
  {
   "cell_type": "code",
   "execution_count": 159,
   "id": "2de6d82f",
   "metadata": {},
   "outputs": [
    {
     "data": {
      "image/png": "[encoded data removed]",
      "text/plain": [
       "<Figure size 640x480 with 4 Axes>"
      ]
     },
     "metadata": {},
     "output_type": "display_data"
    }
   ],
   "source": [
    "import matplotlib.pyplot as plt\n",
    "import numpy as np\n",
    "\n",
    "x=np.arange(10)\n",
    "\n",
    "plt.subplot(2,2,1)\n",
    "plt.plot(x, x**2)\n",
    "\n",
    "plt.subplot(2,2,2)\n",
    "plt.plot(x,x*5)\n",
    "\n",
    "plt.subplot(223)\n",
    "plt.plot(x, np.sin(x))\n",
    "\n",
    "plt.subplot(224)\n",
    "plt.plot(x,np.cos(x))\n",
    "\n",
    "plt.show()"
   ]
  },
  {
   "cell_type": "markdown",
   "id": "eb83d157",
   "metadata": {},
   "source": [
    "### 이미지 표시"
   ]
  },
  {
   "cell_type": "code",
   "execution_count": 6,
   "id": "bdcf0ff9",
   "metadata": {},
   "outputs": [
    {
     "data": {
      "image/png": "[encoded data removed]",
      "text/plain": [
       "<Figure size 640x480 with 1 Axes>"
      ]
     },
     "metadata": {},
     "output_type": "display_data"
    }
   ],
   "source": [
    "import cv2\n",
    "from matplotlib import pyplot as plt\n",
    "\n",
    "img = cv2.imread('./img/girl.jpg')\n",
    "\n",
    "plt.imshow(img)\n",
    "plt.show()"
   ]
  },
  {
   "cell_type": "code",
   "execution_count": 7,
   "id": "5162e42b",
   "metadata": {},
   "outputs": [
    {
     "data": {
      "image/png": "[encoded data removed]",
      "text/plain": [
       "<Figure size 640x480 with 3 Axes>"
      ]
     },
     "metadata": {},
     "output_type": "display_data"
    }
   ],
   "source": [
    "img1 = cv2.imread('./img/model.jpg')\n",
    "img2 = cv2.imread('./img/model2.jpg')\n",
    "img3 = cv2.imread('./img/model3.jpg')\n",
    "\n",
    "plt.subplot(1, 3, 1)\n",
    "plt.imshow(img1[:,:,(2,1,0)])   # 색 순서 변환(matplot에서만)\n",
    "plt.xticks([])    # x축 y축 제거\n",
    "plt.yticks([])\n",
    "\n",
    "plt.subplot(1, 3, 2)\n",
    "plt.imshow(img2[:,:,::-1])\n",
    "plt.xticks([])\n",
    "plt.yticks([])\n",
    "\n",
    "plt.subplot(1, 3, 3)\n",
    "plt.imshow(img3[:,:,::-1])\n",
    "plt.xticks([])\n",
    "plt.yticks([])\n",
    "\n",
    "plt.show()"
   ]
  },
  {
   "cell_type": "markdown",
   "id": "a0b93ee7",
   "metadata": {},
   "source": [
    "# 이미지 프로세싱 기초\n",
    "\n",
    "## 관심영역\n",
    "\n",
    "### 관심영역 지정\n",
    "\n",
    "전체 이미지에서 연산과 분석의 대상이 되는 영역만을 지정하고 떼어내는 것을\n",
    "관심역역(Region Of Interest, ROI)을 지정한다고 한다."
   ]
  },
  {
   "cell_type": "code",
   "execution_count": 8,
   "id": "aefcb80f",
   "metadata": {
    "scrolled": true
   },
   "outputs": [],
   "source": [
    "import cv2\n",
    "import numpy as np\n",
    "\n",
    "img = cv2.imread('./img/sunset.jpg')\n",
    "\n",
    "x=320; y=150; w=50; h=50\n",
    "roi = img[y:y+h, x:x+w]\n",
    "img2 = roi.copy()\n",
    "img[y:y+h, x+w:x+w+w] = roi\n",
    "cv2.rectangle(img, (x,y), (x+w+w, y+h), (0,255,0))\n",
    "\n",
    "cv2.imshow('img', img)\n",
    "cv2.imshow('roi', img2)\n",
    "\n",
    "cv2.waitKey(0)\n",
    "cv2.destroyAllWindows()"
   ]
  },
  {
   "cell_type": "markdown",
   "id": "2c660024",
   "metadata": {},
   "source": [
    "### 마우스로 관심영역 지정"
   ]
  },
  {
   "cell_type": "code",
   "execution_count": 26,
   "id": "fa7a8f87",
   "metadata": {},
   "outputs": [
    {
     "name": "stdout",
     "output_type": "stream",
     "text": [
      "x:168, y49, w208, h161\n",
      "cropped\n"
     ]
    }
   ],
   "source": [
    "import cv2\n",
    "import numpy as np\n",
    "\n",
    "isDragging = False\n",
    "x0, y0, w, h = -1,-1,-1,-1\n",
    "blue, red = (255,0,0),(0,0,255)\n",
    "\n",
    "def onMouse(event,x,y,flags,param):\n",
    "    global isDragging, x0, y0, img\n",
    "    if event == cv2.EVENT_LBUTTONDOWN:\n",
    "        isDragging = True\n",
    "        x0 = x\n",
    "        y0 = y\n",
    "    elif event == cv2.EVENT_MOUSEMOVE:\n",
    "        if isDragging:\n",
    "            img_draw = img.copy()\n",
    "            cv2.rectangle(img_draw, (x0, y0), (x, y), blue, 2)\n",
    "            cv2.imshow('img', img_draw)\n",
    "    elif event == cv2.EVENT_LBUTTONUP:\n",
    "        if isDragging:\n",
    "            isDragging = False\n",
    "            w = x-x0\n",
    "            h = y-y0\n",
    "            print('x:%d, y%d, w%d, h%d' % (x0, y0, w, h))\n",
    "            if w>0 and h>0:\n",
    "                img_draw=img.copy()\n",
    "                cv2.rectangle(img_draw, (x0, y0), (x, y), red, 2)\n",
    "                cv2.imshow('img', img_draw)\n",
    "                roi = img[y0:y0+h, x0:x0+w]\n",
    "                cv2.imshow('cropped',roi)\n",
    "                cv2.moveWindow('cropped', 0, 0)\n",
    "                cv2.imwrite('./cropped.jpg',roi)\n",
    "                print('cropped')\n",
    "            else:\n",
    "                cv2.imshow('img', img)\n",
    "                \n",
    "img = cv2.imread('./img/sunset.jpg')\n",
    "cv2.imshow('img', img)\n",
    "cv2.setMouseCallback('img', onMouse)\n",
    "cv2.waitKey()\n",
    "cv2.destroyAllWindows()"
   ]
  },
  {
   "cell_type": "markdown",
   "id": "30227886",
   "metadata": {},
   "source": [
    "OpenCV는 관심영역을 지정하기 위한 새로운 함수를 제공한다.\n",
    "\n",
    "##### ret = cv2.selectROI([win_name,] img[, showCrossHair=True, fromCenter=False])\n",
    "* win_name : ROI 선택을 진행할 창의 이름, str\n",
    "* img : ROI 선택을 진행할 이미지, numpy ndarray\n",
    "* showCrossHair : 선택 영역 중심에 십자 모양 표시 여부\n",
    "* fromCenter : 마우스 시작 지점을 영역의 중심으로 지정\n",
    "* ret : 선택한 영역 좌표와 크기(x, y, w, h), 선택을 취소한 경우 모두 0"
   ]
  },
  {
   "cell_type": "code",
   "execution_count": 28,
   "id": "fbabb8a0",
   "metadata": {
    "scrolled": false
   },
   "outputs": [],
   "source": [
    "import cv2, numpy as np\n",
    "\n",
    "img = cv2.imread('./img/sunset.jpg')\n",
    "\n",
    "x,y,w,h=cv2.selectROI('img', img, False)\n",
    "if w and h:\n",
    "    roi = img[y:y+h, x:x+w]\n",
    "    cv2.imshow('cropped', roi)\n",
    "    cv2.moveWindow('cropped', 0, 0)\n",
    "    cv2.imwrite('./cropped2.jpg', roi)\n",
    "    \n",
    "cv2.imshow('img', img)\n",
    "cv2.waitKey(0)\n",
    "cv2.destroyAllWindows()"
   ]
  },
  {
   "cell_type": "markdown",
   "id": "f6285de5",
   "metadata": {},
   "source": [
    "### 컬러 스페이스"
   ]
  },
  {
   "cell_type": "code",
   "execution_count": 29,
   "id": "360aa9f0",
   "metadata": {},
   "outputs": [
    {
     "name": "stdout",
     "output_type": "stream",
     "text": [
      "default :  (120, 98, 3) color :  (120, 98, 3) unchanged :  (120, 98, 4)\n"
     ]
    }
   ],
   "source": [
    "import cv2\n",
    "import numpy as np\n",
    "\n",
    "img = cv2.imread('./img/opencv_logo.png')    # 기본값 옵션\n",
    "bgr = cv2.imread('./img/opencv_logo.png', cv2.IMREAD_COLOR)    # IMREAD_COLOR 옵션\n",
    "bgra = cv2.imread('./img/opencv_logo.png', cv2.IMREAD_UNCHANGED)    # IMREAD_UNCHANGED 옵션\n",
    "\n",
    "print('default : ', img.shape, 'color : ', bgr.shape, 'unchanged : ', bgra.shape)\n",
    "\n",
    "cv2.imshow('bgr', bgr)\n",
    "cv2.imshow('bgra', bgra)\n",
    "cv2.imshow('alpha', bgra[:,:,3])    # 알파 채널만 표시\n",
    "cv2.waitKey(0)\n",
    "cv2.destroyAllWindows()"
   ]
  },
  {
   "cell_type": "code",
   "execution_count": null,
   "id": "59ea8dc8",
   "metadata": {},
   "outputs": [],
   "source": []
  }
 ],
 "metadata": {
  "kernelspec": {
   "display_name": "Python 3.8.8 64-bit ('base': conda)",
   "language": "python",
   "name": "python388jvsc74a57bd073769b30c8fab288a5558a7fff30e3c8e36bc07cececaa2fd452c8fe00f0dbf4"
  },
  "language_info": {
   "codemirror_mode": {
    "name": "ipython",
    "version": 3
   },
   "file_extension": ".py",
   "mimetype": "text/x-python",
   "name": "python",
   "nbconvert_exporter": "python",
   "pygments_lexer": "ipython3",
   "version": "3.8.8"
  }
 },
 "nbformat": 4,
 "nbformat_minor": 5
}
