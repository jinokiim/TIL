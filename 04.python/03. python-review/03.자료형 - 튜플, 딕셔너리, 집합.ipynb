{
  "cells": [
    {
      "cell_type": "markdown",
      "metadata": {},
      "source": [
        "# 03.자료형 - 불, 변수, 튜플, 딕셔너리, 집합"
      ]
    },
    {
      "cell_type": "markdown",
      "metadata": {},
      "source": [
        "자료에 대한 타입 : 숫자, 문자열, 불  \n",
        "어떤 값을 담는 자료구조 : 변수, 리스트, 튜플, 딕셔너리, 집합"
      ]
    },
    {
      "cell_type": "markdown",
      "metadata": {},
      "source": [
        "### 튜플"
      ]
    },
    {
      "cell_type": "code",
      "execution_count": 2,
      "metadata": {},
      "outputs": [],
      "source": [
        "# 리스트\n",
        "a = [1, 2, 3] \n",
        "\n",
        "# 튜플 - 변경 불가능\n",
        "b = (1, 2, 3)"
      ]
    },
    {
      "cell_type": "markdown",
      "metadata": {},
      "source": [
        "튜플의 값을 삭제하면? 오류가 난다. 값 변경 등 도 마찬가지"
      ]
    },
    {
      "cell_type": "code",
      "execution_count": 3,
      "metadata": {},
      "outputs": [
        {
          "ename": "TypeError",
          "evalue": "'tuple' object doesn't support item deletion",
          "output_type": "error",
          "traceback": [
            "\u001b[0;31m---------------------------------------------------------------------------\u001b[0m",
            "\u001b[0;31mTypeError\u001b[0m                                 Traceback (most recent call last)",
            "\u001b[1;32m/Users/jinho/Desktop/gitClone/TIL/04. python/03. python-review/03.자료형 - 불, 변수, 튜플, 딕셔너리, 집합.ipynb Cell 6'\u001b[0m in \u001b[0;36m<cell line: 2>\u001b[0;34m()\u001b[0m\n\u001b[1;32m      <a href='vscode-notebook-cell:/Users/jinho/Desktop/gitClone/TIL/04.%20python/03.%20python-review/03.%EC%9E%90%EB%A3%8C%ED%98%95%20-%20%EB%B6%88%2C%20%EB%B3%80%EC%88%98%2C%20%ED%8A%9C%ED%94%8C%2C%20%EB%94%95%EC%85%94%EB%84%88%EB%A6%AC%2C%20%EC%A7%91%ED%95%A9.ipynb#ch0000046?line=0'>1</a>\u001b[0m t1 \u001b[39m=\u001b[39m (\u001b[39m1\u001b[39m, \u001b[39m2\u001b[39m, \u001b[39m3\u001b[39m)\n\u001b[0;32m----> <a href='vscode-notebook-cell:/Users/jinho/Desktop/gitClone/TIL/04.%20python/03.%20python-review/03.%EC%9E%90%EB%A3%8C%ED%98%95%20-%20%EB%B6%88%2C%20%EB%B3%80%EC%88%98%2C%20%ED%8A%9C%ED%94%8C%2C%20%EB%94%95%EC%85%94%EB%84%88%EB%A6%AC%2C%20%EC%A7%91%ED%95%A9.ipynb#ch0000046?line=1'>2</a>\u001b[0m \u001b[39mdel\u001b[39;00m t1[\u001b[39m0\u001b[39m]\n",
            "\u001b[0;31mTypeError\u001b[0m: 'tuple' object doesn't support item deletion"
          ]
        }
      ],
      "source": [
        "t1 = (1, 2, 3)\n",
        "del t1[0]"
      ]
    },
    {
      "cell_type": "markdown",
      "metadata": {},
      "source": [
        "인덱싱, 슬라이싱은 가능."
      ]
    },
    {
      "cell_type": "markdown",
      "metadata": {},
      "source": [
        "### 딕셔너리"
      ]
    },
    {
      "cell_type": "markdown",
      "metadata": {},
      "source": [
        "key를 통해서 value 검색가능."
      ]
    },
    {
      "cell_type": "code",
      "execution_count": 5,
      "metadata": {},
      "outputs": [
        {
          "name": "stdout",
          "output_type": "stream",
          "text": [
            "Eric\n",
            "15\n"
          ]
        }
      ],
      "source": [
        "dic = {'name': 'Eric', 'age': 15}\n",
        "\n",
        "print(dic['name'])\n",
        "print(dic['age'])"
      ]
    },
    {
      "cell_type": "markdown",
      "metadata": {},
      "source": [
        "딕셔너리 쌍 추가하기"
      ]
    },
    {
      "cell_type": "code",
      "execution_count": 6,
      "metadata": {},
      "outputs": [
        {
          "name": "stdout",
          "output_type": "stream",
          "text": [
            "{1: 'a', 'name': '익명'}\n"
          ]
        }
      ],
      "source": [
        "a = {1: 'a'}\n",
        "a['name'] = '익명'\n",
        "\n",
        "print(a)"
      ]
    },
    {
      "cell_type": "markdown",
      "metadata": {},
      "source": [
        "딕셔너리 값 삭제하기"
      ]
    },
    {
      "cell_type": "code",
      "execution_count": 7,
      "metadata": {},
      "outputs": [
        {
          "name": "stdout",
          "output_type": "stream",
          "text": [
            "{1: 'a'}\n"
          ]
        }
      ],
      "source": [
        "del a['name']\n",
        "\n",
        "print(a)"
      ]
    },
    {
      "cell_type": "code",
      "execution_count": 8,
      "metadata": {},
      "outputs": [
        {
          "name": "stdout",
          "output_type": "stream",
          "text": [
            "dict_keys([1, 2, 3])\n"
          ]
        }
      ],
      "source": [
        "a = {1: 'red', 2: 'blue', 3: 'green'}\n",
        "\n",
        "print(a.keys())"
      ]
    },
    {
      "cell_type": "code",
      "execution_count": 9,
      "metadata": {},
      "outputs": [
        {
          "name": "stdout",
          "output_type": "stream",
          "text": [
            "dict_values(['red', 'blue', 'green'])\n"
          ]
        }
      ],
      "source": [
        "print(a.values())"
      ]
    },
    {
      "cell_type": "code",
      "execution_count": 10,
      "metadata": {},
      "outputs": [
        {
          "name": "stdout",
          "output_type": "stream",
          "text": [
            "dict_items([(1, 'red'), (2, 'blue'), (3, 'green')])\n"
          ]
        }
      ],
      "source": [
        "print(a.items())"
      ]
    },
    {
      "cell_type": "markdown",
      "metadata": {},
      "source": [
        "## 집합"
      ]
    },
    {
      "cell_type": "code",
      "execution_count": 11,
      "metadata": {},
      "outputs": [
        {
          "name": "stdout",
          "output_type": "stream",
          "text": [
            "<class 'set'>\n",
            "<class 'set'>\n"
          ]
        }
      ],
      "source": [
        "s1 = set([1, 2, 3])\n",
        "s2 = {1, 2, 3}\n",
        "\n",
        "print(type(s1))\n",
        "print(type(s2))"
      ]
    },
    {
      "cell_type": "markdown",
      "metadata": {},
      "source": [
        "순서와 중복이 없다."
      ]
    },
    {
      "cell_type": "code",
      "execution_count": 12,
      "metadata": {},
      "outputs": [
        {
          "name": "stdout",
          "output_type": "stream",
          "text": [
            "{'l', 'o', 'h', 'e'}\n"
          ]
        }
      ],
      "source": [
        "s1 = set('hello')\n",
        "\n",
        "print(s1)"
      ]
    },
    {
      "cell_type": "markdown",
      "metadata": {},
      "source": [
        "교집합과 차집합"
      ]
    },
    {
      "cell_type": "code",
      "execution_count": 13,
      "metadata": {},
      "outputs": [
        {
          "name": "stdout",
          "output_type": "stream",
          "text": [
            "{4, 5, 6}\n"
          ]
        }
      ],
      "source": [
        "s1 = set([1, 2, 3, 4, 5, 6])\n",
        "s2 = set([4, 5, 6, 7, 8, 9])\n",
        "\n",
        "print(s1 & s2)"
      ]
    },
    {
      "cell_type": "code",
      "execution_count": 14,
      "metadata": {},
      "outputs": [
        {
          "name": "stdout",
          "output_type": "stream",
          "text": [
            "{4, 5, 6}\n"
          ]
        }
      ],
      "source": [
        "print(s1.intersection(s2))"
      ]
    },
    {
      "cell_type": "code",
      "execution_count": 15,
      "metadata": {},
      "outputs": [
        {
          "name": "stdout",
          "output_type": "stream",
          "text": [
            "{1, 2, 3, 4, 5, 6, 7, 8, 9}\n"
          ]
        }
      ],
      "source": [
        "print(s1 | s2)"
      ]
    },
    {
      "cell_type": "code",
      "execution_count": null,
      "metadata": {},
      "outputs": [],
      "source": []
    },
    {
      "cell_type": "markdown",
      "metadata": {},
      "source": []
    }
  ],
  "metadata": {
    "interpreter": {
      "hash": "b0fa6594d8f4cbf19f97940f81e996739fb7646882a419484c72d19e05852a7e"
    },
    "kernelspec": {
      "display_name": "Python 3.9.13 64-bit",
      "language": "python",
      "name": "python3"
    },
    "language_info": {
      "codemirror_mode": {
        "name": "ipython",
        "version": 3
      },
      "file_extension": ".py",
      "mimetype": "text/x-python",
      "name": "python",
      "nbconvert_exporter": "python",
      "pygments_lexer": "ipython3",
      "version": "3.9.13"
    },
    "orig_nbformat": 4
  },
  "nbformat": 4,
  "nbformat_minor": 2
}
