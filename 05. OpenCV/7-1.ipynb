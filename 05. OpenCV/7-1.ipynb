{
 "cells": [
  {
   "cell_type": "markdown",
   "id": "053b2fb8",
   "metadata": {},
   "source": [
    "# 영상 분할\n",
    "\n",
    "\n",
    "## 컨투어"
   ]
  },
  {
   "cell_type": "code",
   "execution_count": 16,
   "id": "4457a3f8",
   "metadata": {},
   "outputs": [
    {
     "name": "stdout",
     "output_type": "stream",
     "text": [
      "도형의 개수 : 3(3)\n"
     ]
    }
   ],
   "source": [
    "import cv2\n",
    "import numpy as np\n",
    "\n",
    "img = cv2.imread('./img/shapes.png')\n",
    "\n",
    "imgray = cv2.cvtColor(img, cv2.COLOR_BGR2GRAY)\n",
    "\n",
    "ret, imthres = cv2.threshold(imgray, 127, 255, cv2.THRESH_BINARY_INV)\n",
    "\n",
    "contour, hierarchy = cv2.findContours(imthres, cv2.RETR_EXTERNAL, cv2.CHAIN_APPROX_NONE)\n",
    "\n",
    "contour2, hierarchy = cv2.findContours(imthres, cv2.RETR_EXTERNAL, cv2.CHAIN_APPROX_SIMPLE)\n",
    "\n",
    "\n",
    "print('도형의 개수 : %d(%d)'%(len(contour), len(contour2)))\n",
    "\n",
    "cv2.drawContours(img, contour, -1, (0,255,0),4)\n",
    "cv2.drawContours(img2, contour2, -1, (0,255,0),4)\n",
    "\n",
    "for i in contour:\n",
    "    for j in i:\n",
    "        cv2.circle(img, tuple(j[0]), 1, (255,0,0), -1)\n",
    "        \n",
    "for i in contour2:\n",
    "    for j in i:\n",
    "        cv2.circle(img2, tuple(j[0]), 1, (255,0,0), -1)\n",
    "\n",
    "cv2.imshow('CHAIN_APPROX_NONE', img)\n",
    "cv2.imshow('CHAIN_APPROX_SIMPLE', img2)\n",
    "cv2.waitKey(0)\n",
    "cv2.destroyAllWindows()"
   ]
  },
  {
   "cell_type": "markdown",
   "id": "dae278d2",
   "metadata": {},
   "source": [
    "* 컨투어 "
   ]
  },
  {
   "cell_type": "code",
   "execution_count": 4,
   "id": "e5b89fd1",
   "metadata": {},
   "outputs": [
    {
     "name": "stdout",
     "output_type": "stream",
     "text": [
      "3 [[[ 1 -1 -1 -1]\n",
      "  [ 2  0 -1 -1]\n",
      "  [-1  1 -1 -1]]]\n",
      "6 [[[ 2 -1  1 -1]\n",
      "  [-1 -1 -1  0]\n",
      "  [ 4  0  3 -1]\n",
      "  [-1 -1 -1  2]\n",
      "  [-1  2  5 -1]\n",
      "  [-1 -1 -1  4]]]\n"
     ]
    }
   ],
   "source": [
    "import cv2\n",
    "import numpy as np\n",
    "\n",
    "img = cv2.imread('./img/shapes_donut.png')\n",
    "img2 = img.copy()\n",
    "\n",
    "imgray = cv2.cvtColor(img, cv2.COLOR_BGR2GRAY)\n",
    "\n",
    "ret, imthres = cv2.threshold(imgray, 127, 255, cv2.THRESH_BINARY_INV)\n",
    "\n",
    "contour, hierarchy = cv2.findContours(imthres, cv2.RETR_EXTERNAL, cv2.CHAIN_APPROX_NONE)\n",
    "\n",
    "print(len(contour), hierarchy)\n",
    "\n",
    "contour2, hierarchy = cv2.findContours(imthres, cv2.RETR_TREE, cv2.CHAIN_APPROX_SIMPLE)\n",
    "\n",
    "print(len(contour2), hierarchy)\n",
    "\n",
    "cv2.drawContours(img2, contour, -1, (0,255,0), 3)\n",
    "\n",
    "for idx, cont in enumerate(contour2):\n",
    "    color = [int(i) for i in np.random.randint(0,255,3)]\n",
    "    cv2.drawContours(img, contour2, idx, color, 3)\n",
    "    cv2.putText(img, str(idx), tuple(cont[0][0]), cv2.FONT_HERSHEY_PLAIN, 1, (0,0,255))\n",
    "    \n",
    "cv2.imshow('RETR_EXTERNAL', img2)\n",
    "cv2.imshow('RETR_TREE', img)\n",
    "cv2.waitKey(0)\n",
    "cv2.destroyAllWindows()"
   ]
  },
  {
   "cell_type": "markdown",
   "id": "ebcf5c46",
   "metadata": {},
   "source": [
    "### 이미지 모멘트와 컨투어 속성"
   ]
  },
  {
   "cell_type": "code",
   "execution_count": 6,
   "id": "483039c1",
   "metadata": {},
   "outputs": [
    {
     "name": "stdout",
     "output_type": "stream",
     "text": [
      "area:9870.00\n",
      "area:12544.00\n",
      "area:6216.00\n"
     ]
    }
   ],
   "source": [
    "import cv2\n",
    "import numpy as np\n",
    "\n",
    "img = cv2.imread('./img/shapes.png')\n",
    "\n",
    "imgray = cv2.cvtColor(img, cv2.COLOR_BGR2GRAY)\n",
    "\n",
    "ret, th = cv2.threshold(imgray, 127, 255, cv2.THRESH_BINARY_INV)\n",
    "\n",
    "contours, hierachy = cv2.findContours(th, cv2.RETR_EXTERNAL, cv2.CHAIN_APPROX_SIMPLE)\n",
    "\n",
    "for c in contours:\n",
    "    mmt = cv2.moments(c)\n",
    "    cx = int(mmt['m10']/mmt['m00'])\n",
    "    cy = int(mmt['m01']/mmt['m00'])\n",
    "    \n",
    "    a = mmt['m00']\n",
    "    l = cv2.circle(img, (cx, cy), 5, (0, 255, 255), -1)\n",
    "    cv2.circle(img, (cx, cy), 5, (0,255,255),-1)\n",
    "    cv2.putText(img, 'A:%.0f'%a, (cx, cy+20), cv2.FONT_HERSHEY_PLAIN, 1, (0,0,255))\n",
    "    cv2.putText(img, 'L:%.2f'%a, tuple(c[0][0]), cv2.FONT_HERSHEY_PLAIN, 1, (255,0,0))\n",
    "    print('area:%.2f'%cv2.contourArea(c,False))\n",
    "    \n",
    "cv2.imshow('center', img)\n",
    "cv2.waitKey(0)\n",
    "cv2.destroyAllWindows()"
   ]
  },
  {
   "cell_type": "code",
   "execution_count": 1,
   "id": "4d374c63",
   "metadata": {},
   "outputs": [],
   "source": [
    "import cv2\n",
    "import numpy as np\n",
    "\n",
    "img = cv2.imread('./img/lightning.png')\n",
    "imgray = cv2.cvtColor(img, cv2.COLOR_BGR2GRAY)\n",
    "ret, th = cv2.threshold(imgray, 127, 255, cv2.THRESH_BINARY_INV)\n",
    "\n",
    "contours, hr = cv2.findContours(th, cv2.RETR_EXTERNAL, cv2.CHAIN_APPROX_SIMPLE)\n",
    "\n",
    "contr = contours[0]\n",
    "\n",
    "x,y,w,h = cv2.boundingRect(contr)\n",
    "cv2.rectangle(img, (x,y), (x+w, y+h), (0,0,0), 3)\n",
    "\n",
    "rect = cv2.minAreaRect(contr)\n",
    "box = cv2.boxPoints(rect)\n",
    "box = np.int0(box)\n",
    "cv2.drawContours(img, [box], -1, (0,255,0), 3)\n",
    "\n",
    "(x,y), radius = cv2.minEnclosingCircle(contr)\n",
    "cv2.circle(img, (int(x), int(y)), int(radius), (255,0,0), 2)\n",
    "\n",
    "ret, tri = cv2.minEnclosingTriangle(contr)\n",
    "cv2.polylines(img, [np.int32(tri)], True, (255,0,255),2)\n",
    "\n",
    "ellipse = cv2.fitEllipse(contr)\n",
    "cv2.ellipse(img, ellipse, (0,255,255),3)\n",
    "\n",
    "[vx,vy,x,y] = cv2.fitLine(contr, cv2.DIST_L2,0,0.01,0.01)\n",
    "cols,rows = img.shape[:2]\n",
    "cv2.line(img, (0, int(0-x*(vy/vx)+y)), (cols-1, int((cols-x)*(vy/vx) + y)), (0, 0, 255), 2)\n",
    "\n",
    "cv2.imshow('Bound Fit shapes', img)\n",
    "cv2.waitKey(0)\n",
    "cv2.destroyAllWindows()"
   ]
  },
  {
   "cell_type": "markdown",
   "id": "20ef1c92",
   "metadata": {},
   "source": [
    "### 컨투어 단순화"
   ]
  },
  {
   "cell_type": "code",
   "execution_count": 11,
   "id": "2ce8f3f0",
   "metadata": {},
   "outputs": [],
   "source": [
    "import cv2\n",
    "import numpy as np\n",
    "\n",
    "img = cv2.imread('./img/bad_rect.png')\n",
    "img2 = img.copy()\n",
    "\n",
    "imgray = cv2.cvtColor(img, cv2.COLOR_BGR2GRAY)\n",
    "ret, th = cv2.threshold(imgray, 127, 255, cv2.THRESH_BINARY)\n",
    "\n",
    "contours, hierachy = cv2.findContours(th, cv2.RETR_EXTERNAL, cv2.CHAIN_APPROX_SIMPLE)\n",
    "\n",
    "contour = contours[0]\n",
    "\n",
    "epsilon = 0.5 * cv2.arcLength(contour, True)\n",
    "\n",
    "approx = cv2.approxPolyDP(contour, epsilon, True)\n",
    "\n",
    "cv2.drawContours(img, [contour], -1, (0,255,0), 3)\n",
    "cv2.drawContours(img2, [approx], -1, (0,255,0), 3)\n",
    "\n",
    "cv2.imshow('contour', img)\n",
    "cv2.imshow('approx', img2)\n",
    "cv2.waitKey()\n",
    "cv2.destroyAllWindows()"
   ]
  },
  {
   "cell_type": "code",
   "execution_count": null,
   "id": "2c3a2155",
   "metadata": {},
   "outputs": [],
   "source": []
  },
  {
   "cell_type": "code",
   "execution_count": 25,
   "id": "4d348f02",
   "metadata": {},
   "outputs": [
    {
     "name": "stdout",
     "output_type": "stream",
     "text": [
      "False True\n"
     ]
    }
   ],
   "source": [
    "import cv2\n",
    "import numpy as np\n",
    "\n",
    "img = cv2.imread('./img/hand.jpg')\n",
    "img2 = img.copy()\n",
    "\n",
    "gray = cv2.cvtColor(img, cv2.COLOR_BGR2GRAY)\n",
    "ret, th = cv2.threshold(gray, 127, 255, cv2.THRESH_BINARY_INV)\n",
    "\n",
    "contours, heiarchy = cv2.findContours(th, cv2.RETR_EXTERNAL, cv2.CHAIN_APPROX_SIMPLE)\n",
    "\n",
    "cntr = contours[0]\n",
    "cv2.drawContours(img, [cntr], -1, (0,255,0), 1)\n",
    "\n",
    "hull = cv2.convexHull(cntr)\n",
    "cv2.drawContours(img2, [hull], -1, (0,255,0), 1)\n",
    "\n",
    "print(cv2.isContourConvex(cntr), cv2.isContourConvex(hull))\n",
    "\n",
    "hull2 = cv2.convexHull(cntr, returnPoints=False)\n",
    "\n",
    "defects = cv2.convexityDefects(cntr, hull2)\n",
    "\n",
    "for i in range(defects.shape[0]):\n",
    "    startP, endP, farthestP, distance = defects[i, 0]\n",
    "    farthest = tuple(cntr[farthestP][0])\n",
    "    dist = distance/256.0\n",
    "\n",
    "    if dist > 1 :\n",
    "        cv2.circle(img2, farthest, 3, (0,0,255), -1)\n",
    "cv2.imshow('contour', img)\n",
    "cv2.imshow('convex hull', img2)\n",
    "cv2.waitKey(0)\n",
    "cv2.destroyAllWindows()"
   ]
  },
  {
   "cell_type": "markdown",
   "id": "d0ca5ab8",
   "metadata": {},
   "source": [
    "#### 비슷한 도형 찾기"
   ]
  },
  {
   "cell_type": "code",
   "execution_count": 27,
   "id": "72b10117",
   "metadata": {},
   "outputs": [],
   "source": [
    "import cv2\n",
    "import numpy as np\n",
    "\n",
    "target = cv2.imread('./img/4star.jpg')\n",
    "shapes = cv2.imread('./img/shapestomatch.jpg')\n",
    "\n",
    "targetGray = cv2.cvtColor(target, cv2.COLOR_BGR2GRAY)\n",
    "shapesGray = cv2.cvtColor(shapes, cv2.COLOR_BGR2GRAY)\n",
    "\n",
    "ret, targetTh = cv2.threshold(targetGray, 127, 255, cv2.THRESH_BINARY_INV)\n",
    "ret, shapesTh = cv2.threshold(shapesGray, 127, 255, cv2.THRESH_BINARY_INV)\n",
    "\n",
    "cntrs_target, _ = cv2.findContours(targetTh, cv2.RETR_EXTERNAL, cv2.CHAIN_APPROX_SIMPLE)\n",
    "cntrs_shapes, _ = cv2.findContours(shapesTh, cv2.RETR_EXTERNAL, cv2.CHAIN_APPROX_SIMPLE)\n",
    "\n",
    "matchs = []\n",
    "for contr in cntrs_shapes:\n",
    "    match = cv2.matchShapes(cntrs_target[0], contr, cv2.CONTOURS_MATCH_I2, 0.0)\n",
    "    matchs.append((match,contr))\n",
    "    cv2.putText(shapes, '%.2f'%match, tuple(contr[0][0]), cv2.FONT_HERSHEY_PLAIN, 1,(0,0,255),1)\n",
    "\n",
    "matchs.sort(key=lambda x :x[0])\n",
    "cv2.drawContours(shapes, [matchs[0][1]], -1, (0,255,0), 3)\n",
    "cv2.imshow('target', target)\n",
    "cv2.imshow('Match Shape', shapes)\n",
    "cv2.waitKey()\n",
    "cv2.destroyAllWindows()"
   ]
  },
  {
   "cell_type": "markdown",
   "id": "e296de4b",
   "metadata": {},
   "source": [
    "#### 허프선 검출"
   ]
  },
  {
   "cell_type": "code",
   "execution_count": 34,
   "id": "37f14327",
   "metadata": {},
   "outputs": [],
   "source": [
    "import cv2\n",
    "import numpy as np\n",
    "\n",
    "img = cv2.imread('./img/sudoku.jpg')\n",
    "img2 = img.copy()\n",
    "h,w = img.shape[:2]\n",
    "\n",
    "imgray = cv2.cvtColor(img, cv2.COLOR_BGR2GRAY)\n",
    "edges = cv2.Canny(imgray, 100, 200)\n",
    "\n",
    "lines = cv2.HoughLines(edges, 1, np.pi/180, 130)\n",
    "for line in lines:\n",
    "    r, theta = line[0]\n",
    "    tx, ty = np.cos(theta), np.sin(theta)\n",
    "    x0, y0 = tx*r, ty*r\n",
    "    \n",
    "    cv2.circle(img2, (int(abs(x0)), int(abs(y0))), 3, (0,0,255), -1)\n",
    "    x1, y1 = int(x0 + w*(-ty)), int(y0 + h * tx)\n",
    "    x2, y2 = int(x0 - w*(-ty)), int(y0 - h * tx)\n",
    "    cv2.line(img2, (x1, y1), (x2, y2), (0,255,0), 1)\n",
    "    \n",
    "merged = np.hstack((img, img2))\n",
    "cv2.imshow('hough line', merged)\n",
    "cv2.waitKey()\n",
    "cv2.destroyAllWindows()"
   ]
  },
  {
   "cell_type": "markdown",
   "id": "6050636d",
   "metadata": {},
   "source": [
    "### 확률적 허프 선 변환"
   ]
  },
  {
   "cell_type": "code",
   "execution_count": 39,
   "id": "a9ed456a",
   "metadata": {},
   "outputs": [],
   "source": [
    "import cv2\n",
    "import numpy as np\n",
    "\n",
    "img = cv2.imread('./img/sudoku.jpg')\n",
    "img2 = img.copy()\n",
    "\n",
    "imgray = cv2.cvtColor(img, cv2.COLOR_BGR2GRAY)\n",
    "edges = cv2.Canny(imgray, 50, 200)\n",
    "\n",
    "lines = cv2.HoughLinesP(edges, 1, np.pi/180, 10, None, 20, 2)\n",
    "for line in lines:\n",
    "    x1, y1, x2, y2 = line[0]\n",
    "    cv2.line(img, (x1,y1), (x2, y2), (0,255,0), 1)\n",
    "    \n",
    "cv2.imshow('Probability hough line', img)\n",
    "cv2.waitKey()\n",
    "cv2.destroyAllWindows()"
   ]
  },
  {
   "cell_type": "markdown",
   "id": "64ada71e",
   "metadata": {},
   "source": [
    "### 허프 원 변환\n",
    "\n",
    "#### 허프 원 검출"
   ]
  },
  {
   "cell_type": "code",
   "execution_count": 55,
   "id": "8a7cf932",
   "metadata": {},
   "outputs": [],
   "source": [
    "import cv2\n",
    "import numpy as np\n",
    "\n",
    "img = cv2.imread('./img/coins_connected.jpg')\n",
    "gray = cv2.cvtColor(img, cv2.COLOR_BGR2GRAY)\n",
    "blur = cv2.GaussianBlur(gray, (3,3), 0)\n",
    "circles = cv2.HoughCircles(blur, cv2.HOUGH_GRADIENT, 1.2, 30, None, 200)\n",
    "if circles is not None:\n",
    "    circles = np.uint16(np.around(circles))\n",
    "    for i in circles[0,:]:\n",
    "        cv2.circle(img,(i[0], i[1]), i[2], (0, 255, 0), 2)\n",
    "        cv2.circle(img, (i[0], i[1]), 2, (0,0,255), 5)\n",
    "\n",
    "cv2.imshow('hough circle', img)\n",
    "cv2.waitKey(0)\n",
    "cv2.destroyAllWindows()"
   ]
  },
  {
   "cell_type": "markdown",
   "id": "7d0c9042",
   "metadata": {},
   "source": [
    "## 연속 영역 분할\n",
    "\n",
    "### 거리 변환\n",
    "\n",
    "\n",
    "\n",
    "#### 거리 변환으로 전신 스켈레톤 찾기"
   ]
  },
  {
   "cell_type": "code",
   "execution_count": 60,
   "id": "9fa1b679",
   "metadata": {},
   "outputs": [],
   "source": [
    "import cv2\n",
    "import numpy as np\n",
    "\n",
    "imread = cv2.imread('./img/full_body/jpg', cv2.IMREAD_GRAYSCALE)\n",
    "_, biimg = cv2.threshold(img, 127, 255, cv2.THRESH_BINARY_INV)\n",
    "\n",
    "dst = cv2.distanceTransform(biimg, cv2.DIST_L2, 5)\n",
    "dst = (dst/(dst.max()-dst.min())* 255).astype(np.uint8)\n",
    "\n",
    "skeleton = cv2.adaptiveThreshold(dst, 255, cv2.ADAPTIVE_THRESH_GAUSSIAN_C, cv2.THRESH_BINARY, 7, -3)\n",
    "\n",
    "cv2.imshow('origin', img)\n",
    "cv2.imshow('dist', dst)\n",
    "cv2.imshow('skel', skeleton)\n",
    "cv2.waitKey(0)\n",
    "cv2.destroyAllWindows()"
   ]
  },
  {
   "cell_type": "markdown",
   "id": "21b472e2",
   "metadata": {},
   "source": [
    "### 연결 요소 레이블링"
   ]
  },
  {
   "cell_type": "code",
   "execution_count": 66,
   "id": "4ef7c095",
   "metadata": {},
   "outputs": [],
   "source": [
    "import cv2\n",
    "import numpy as np\n",
    "\n",
    "img = cv2.imread('./img/shapes_donut.png')\n",
    "img2 = np.zeros_like(img)\n",
    "gray = cv2.cvtColor(img, cv2.COLOR_BGR2GRAY)\n",
    "_, th = cv2.threshold(gray, 127, 255, cv2.THRESH_BINARY)\n",
    "\n",
    "cnt, labels = cv2.connectedComponents(th)\n",
    "# retval, labels, stats, cent = cv2.connectedComponentsWithStats(th) # 위와 동일함\n",
    "\n",
    "for i in range(cnt):\n",
    "    img2[labels==i] = [int(j) for j in np.random.randint(0,255,3)]\n",
    "    \n",
    "cv2.imshow('origin', img)\n",
    "cv2.imshow('labeled', img2)\n",
    "cv2.waitKey(0)\n",
    "cv2.destroyAllWindows()"
   ]
  },
  {
   "cell_type": "markdown",
   "id": "865f6599",
   "metadata": {},
   "source": [
    "### 색 채우기"
   ]
  },
  {
   "cell_type": "code",
   "execution_count": 68,
   "id": "f56267a2",
   "metadata": {},
   "outputs": [],
   "source": [
    "import cv2\n",
    "import numpy as np\n",
    "\n",
    "img = cv2.imread('./img/taekwonv1.jpg')\n",
    "rows, cols = img.shape[:2]\n",
    "\n",
    "mask = np.zeros((rows+2, cols+2), np.uint8)\n",
    "\n",
    "newVal = (255, 255, 255)\n",
    "\n",
    "loDiff, upDiff = (10,10,10), (10,10,10)\n",
    "\n",
    "def onMouse(event, x, y, flags, param):\n",
    "    global mask, img\n",
    "    if event == cv2.EVENT_LBUTTONDOWN:\n",
    "        seed = (x,y)\n",
    "        retval = cv2.floodFill(img, mask, seed, newVal, loDiff, upDiff)\n",
    "        cv2.imshow('img', img)\n",
    "        \n",
    "cv2.imshow('img', img)\n",
    "cv2.setMouseCallback('img', onMouse)\n",
    "cv2.waitKey(0)\n",
    "cv2.destroyAllWindows()"
   ]
  },
  {
   "cell_type": "markdown",
   "id": "c5af5f68",
   "metadata": {},
   "source": [
    "### 워터셰드"
   ]
  },
  {
   "cell_type": "code",
   "execution_count": 10,
   "id": "f08489e1",
   "metadata": {},
   "outputs": [],
   "source": [
    "import cv2\n",
    "import numpy as np\n",
    "\n",
    "img = cv2.imread('./img/taekwonv1.jpg')\n",
    "rows, cols = img.shape[:2]\n",
    "img_draw = img.copy()\n",
    "\n",
    "marker = np.zeros((rows, cols), np.int32)\n",
    "markerId = 1\n",
    "colors = []\n",
    "isDragging = False\n",
    "\n",
    "def onMouse(event, x, y, flags, param):\n",
    "    global img_draw, marker, markerId, isDragging\n",
    "    if event == cv2.EVENT_LBUTTONDOWN:\n",
    "        isDragging = True\n",
    "        colors.append((markerId, img[y,x]))\n",
    "    elif event == cv2.EVENT_MOUSEMOVE:\n",
    "        if isDragging:\n",
    "            marker[y,x] = markerId\n",
    "            cv2.circle(img_draw, (x,y), 3, (0,0,255), -1)\n",
    "            cv2.imshow('watershed', img_draw)\n",
    "    elif event == cv2.EVENT_LBUTTONUP:\n",
    "        if isDragging:\n",
    "            isDragging = False\n",
    "            markerId +=1\n",
    "    elif event == cv2.EVENT_RBUTTONDOWN:\n",
    "        cv2.watershed(img, marker)\n",
    "        img_draw[marker == -1] = (0,255,0)\n",
    "        for mid, color in colors:\n",
    "            img_draw[marker==mid] = color\n",
    "        cv2.imshow('watershed', img_draw)\n",
    "        \n",
    "cv2.imshow('watershed', img)\n",
    "cv2.setMouseCallback('watershed', onMouse)\n",
    "cv2.waitKey(0)\n",
    "cv2.destroyAllWindows()"
   ]
  },
  {
   "cell_type": "markdown",
   "id": "38081d35",
   "metadata": {},
   "source": [
    "#### 마우스와 그랩컷으로 배경 분리"
   ]
  },
  {
   "cell_type": "code",
   "execution_count": 25,
   "id": "dc14b213",
   "metadata": {},
   "outputs": [],
   "source": [
    "import cv2\n",
    "import numpy as np\n",
    "\n",
    "img = cv2.imread('./img/taekwonv1.jpg')\n",
    "img_draw = img.copy()\n",
    "mask = np.zeros(img.shape[:2], dtype=np.uint8)  # 마스크 생성\n",
    "rect = [0,0,0,0]    # 사각형 영역 좌표 초기화\n",
    "mode = cv2.GC_EVAL  # 그랩컷 초기 모드\n",
    "\n",
    "# 배경 및 전경 모델 버퍼\n",
    "bgdmodel = np.zeros((1,65),np.float64)\n",
    "fgdmodel = np.zeros((1,65),np.float64)\n",
    "\n",
    "# 마우스 이벤트 처리 함수\n",
    "def onMouse(event, x, y, flags, param):\n",
    "    global mouse_mode, rect, mask, mode\n",
    "    if event == cv2.EVENT_LBUTTONDOWN : # 왼쪽 마우스 누름\n",
    "        if flags <= 1: # 아무 키도 안 눌렀으면\n",
    "            mode = cv2.GC_INIT_WITH_RECT # 드래그 시작, 사각형 모드\n",
    "            rect[:2] = x, y # 시작 좌표 저장\n",
    "    # 마우스가 움직이고 왼쪽 버튼이 눌러진 상태\n",
    "    elif event == cv2.EVENT_MOUSEMOVE and flags & cv2.EVENT_FLAG_LBUTTON :\n",
    "        if mode == cv2.GC_INIT_WITH_RECT: # 드래그 진행 중\n",
    "            img_temp = img.copy()\n",
    "            # 드래그 사각형 화면에 표시\n",
    "            cv2.rectangle(img_temp, (rect[0], rect[1]), (x, y), (0,255,0), 2)\n",
    "            cv2.imshow('img', img_temp)\n",
    "        elif flags > 1: # 키가 눌러진 상태\n",
    "            mode = cv2.GC_INIT_WITH_MASK    # 마스크 모드\n",
    "            if flags & cv2.EVENT_FLAG_CTRLKEY :# 컨트롤 키, 분명한 전경\n",
    "                # 흰색 점 화면에 표시\n",
    "                cv2.circle(img_draw,(x,y),3, (255,255,255),-1)\n",
    "                # 마스크에 GC_FGD로 채우기\n",
    "                cv2.circle(mask,(x,y),3, cv2.GC_FGD,-1)\n",
    "            if flags & cv2.EVENT_FLAG_SHIFTKEY : # 쉬프트키, 분명한 배경\n",
    "                # 검정색 점 화면에 표시\n",
    "                cv2.circle(img_draw,(x,y),3, (0,0,0),-1)\n",
    "                # 마스크에 GC_BGD로 채우기\n",
    "                cv2.circle(mask,(x,y),3, cv2.GC_BGD,-1)\n",
    "            cv2.imshow('img', img_draw) # 그려진 모습 화면에 출력\n",
    "    elif event == cv2.EVENT_LBUTTONUP: # 마우스 왼쪽 버튼 뗀 상태\n",
    "        if mode == cv2.GC_INIT_WITH_RECT : # 사각형 그리기 종료\n",
    "            rect[2:] =x, y # 사각형 마지막 좌표 수집\n",
    "            # 사각형 그려서 화면에 출력\n",
    "            cv2.rectangle(img_draw, (rect[0], rect[1]), (x, y), (255,0,0), 2)\n",
    "            cv2.imshow('img', img_draw)\n",
    "        # 그랩컷 적용\n",
    "        cv2.grabCut(img, mask, tuple(rect), bgdmodel, fgdmodel, 1, mode)\n",
    "        img2 = img.copy()\n",
    "        # 마스크에 확실한 배경, 아마도 배경으로 표시된 영역을 0으로 채우기\n",
    "        img2[(mask==cv2.GC_BGD) | (mask==cv2.GC_PR_BGD)] = 0\n",
    "        cv2.imshow('grabcut', img2) # 최종 결과 출력\n",
    "        mode = cv2.GC_EVAL # 그랩컷 모드 리셋\n",
    "# 초기 화면 출력 및 마우스 이벤트 등록\n",
    "cv2.imshow('img', img)\n",
    "cv2.setMouseCallback('img', onMouse)\n",
    "while True:\n",
    "    if cv2.waitKey(0) & 0xFF == 27:\n",
    "        break\n",
    "cv2.destroyAllWindows()"
   ]
  },
  {
   "cell_type": "markdown",
   "id": "54d998c3",
   "metadata": {},
   "source": [
    "### 평균 이동 필터"
   ]
  },
  {
   "cell_type": "code",
   "execution_count": 24,
   "id": "20ffba76",
   "metadata": {},
   "outputs": [
    {
     "name": "stderr",
     "output_type": "stream",
     "text": [
      "[ WARN:0] global /private/var/folders/24/8k48jl6d249_n_qfxwsl6xvm0000gn/T/pip-req-build-r0utbq5z/opencv/modules/highgui/src/window.cpp (704) createTrackbar UI/Trackbar(sp@img): Using 'value' pointer is unsafe and deprecated. Use NULL as value pointer. To fetch trackbar value setup callback.\n",
      "[ WARN:0] global /private/var/folders/24/8k48jl6d249_n_qfxwsl6xvm0000gn/T/pip-req-build-r0utbq5z/opencv/modules/highgui/src/window.cpp (704) createTrackbar UI/Trackbar(sr@img): Using 'value' pointer is unsafe and deprecated. Use NULL as value pointer. To fetch trackbar value setup callback.\n",
      "[ WARN:0] global /private/var/folders/24/8k48jl6d249_n_qfxwsl6xvm0000gn/T/pip-req-build-r0utbq5z/opencv/modules/highgui/src/window.cpp (704) createTrackbar UI/Trackbar(lv@img): Using 'value' pointer is unsafe and deprecated. Use NULL as value pointer. To fetch trackbar value setup callback.\n"
     ]
    }
   ],
   "source": [
    "import cv2\n",
    "import numpy as np\n",
    "\n",
    "img = cv2.imread('./img/taekwonv1.jpg')\n",
    "\n",
    "def onChange(x):\n",
    "    sp = cv2.getTrackbarPos('sp', 'img')\n",
    "    sr = cv2.getTrackbarPos('sr', 'img')\n",
    "    lv = cv2.getTrackbarPos('lv', 'img')\n",
    "    \n",
    "    mean = cv2.pyrMeanShiftFiltering(img, sp, sr, None, lv)\n",
    "    cv2.imshow('img', np.hstack((img, mean)))\n",
    "\n",
    "cv2.imshow('img', np.hstack((img, img)))\n",
    "cv2.createTrackbar('sp', 'img', 0,100, onChange)\n",
    "cv2.createTrackbar('sr', 'img', 0,100, onChange)\n",
    "cv2.createTrackbar('lv', 'img', 0,5, onChange)\n",
    "cv2.waitKey(0)\n",
    "cv2.destroyAllWindows()"
   ]
  },
  {
   "cell_type": "code",
   "execution_count": null,
   "id": "f2e7f351",
   "metadata": {},
   "outputs": [],
   "source": []
  },
  {
   "cell_type": "code",
   "execution_count": null,
   "id": "e2056b1e",
   "metadata": {},
   "outputs": [],
   "source": []
  },
  {
   "cell_type": "code",
   "execution_count": null,
   "id": "14b201eb",
   "metadata": {},
   "outputs": [],
   "source": []
  },
  {
   "cell_type": "code",
   "execution_count": null,
   "id": "ff3293a1",
   "metadata": {},
   "outputs": [],
   "source": []
  },
  {
   "cell_type": "code",
   "execution_count": null,
   "id": "e8745f1f",
   "metadata": {},
   "outputs": [],
   "source": []
  },
  {
   "cell_type": "code",
   "execution_count": null,
   "id": "783690b3",
   "metadata": {},
   "outputs": [],
   "source": []
  },
  {
   "cell_type": "code",
   "execution_count": null,
   "id": "e80abe75",
   "metadata": {},
   "outputs": [],
   "source": []
  },
  {
   "cell_type": "code",
   "execution_count": null,
   "id": "8b8b9210",
   "metadata": {},
   "outputs": [],
   "source": []
  }
 ],
 "metadata": {
  "kernelspec": {
   "display_name": "Python 3.8.8 64-bit ('base': conda)",
   "language": "python",
   "name": "python388jvsc74a57bd073769b30c8fab288a5558a7fff30e3c8e36bc07cececaa2fd452c8fe00f0dbf4"
  },
  "language_info": {
   "codemirror_mode": {
    "name": "ipython",
    "version": 3
   },
   "file_extension": ".py",
   "mimetype": "text/x-python",
   "name": "python",
   "nbconvert_exporter": "python",
   "pygments_lexer": "ipython3",
   "version": "3.8.8"
  }
 },
 "nbformat": 4,
 "nbformat_minor": 5
}
