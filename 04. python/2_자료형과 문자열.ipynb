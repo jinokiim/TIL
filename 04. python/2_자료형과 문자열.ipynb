{
 "cells": [
  {
   "cell_type": "markdown",
   "source": [
    "# chapter 2\n",
    "\n",
    "# 2-1 자료형과 문자열\n",
    "\n",
    "## 자료형과 기본 자료형\n",
    "\n",
    "자료형 : 쉽게 사용할 수 있도록 기느오가 역할에 따라 자료를 구분했다.\n",
    "        기본적인 자료형으로는 *문자열*, *숫자*, *불* 이 있다.\n",
    "* strin(문자열) : 제목, 메시지 내용 등\n",
    "* number(숫자) : 가격, 성적 등\n",
    "* boolean(불) : Trure, Flase\n",
    "\n",
    "## 자료형(data type) 확인하기 : type()"
   ],
   "metadata": {}
  },
  {
   "cell_type": "code",
   "execution_count": 1,
   "source": [
    "print(type('Hello'))\n",
    "print(type(273))"
   ],
   "outputs": [
    {
     "output_type": "stream",
     "name": "stdout",
     "text": [
      "<class 'str'>\n",
      "<class 'int'>\n"
     ]
    }
   ],
   "metadata": {}
  },
  {
   "cell_type": "markdown",
   "source": [
    "## 문자열 만들기"
   ],
   "metadata": {}
  },
  {
   "cell_type": "code",
   "execution_count": 2,
   "source": [
    "# make string\n",
    "print(\"Hello, world!\")\n",
    "print('Hello, world!')\n",
    "print()\n",
    "\n",
    "# \"  \"와 '  '를 동시에 이용하여 표현\n",
    "print(\"my name is 'Jinho'\")\n",
    "print() \n",
    "\n",
    "# '  ' 사용하여 표현 (\"  \" 만 일때도 동일)\n",
    "print('my name is \\'Jinho\\'')\n",
    "print()\n",
    "\n",
    "# \\n -> 줄바꿈\n",
    "# \\t -> 탭\n",
    "print(\"name\\tage\\tcountry\")\n",
    "print(\"Jinho\\t27\\tKorea\")\n",
    "print(\"Sivila\\t23\\tItaly\")\n",
    "print(\"Mike\\t24\\tUSA\")\n",
    "print(\"Rodrigo\\t29\\tSpain\")\n",
    "print()\n",
    "\n",
    "# \"\"\"를(3번)이용하면 보이는 그대로 출력가능 \n",
    "#  \"\"\"뒤에 \\를 입력해주면 처음, 마지막 줄 공백 제거 가능(ex; \"\"\"\\)\n",
    "print(\"\"\"\n",
    "동해물과 백두산이 마르고 닳도록\n",
    "하느님이 보우하사 우리나라 만세\n",
    "무궁화 삼천리 화려강산\n",
    "대한사람 대한으로 길이 보전하세\n",
    "\"\"\")"
   ],
   "outputs": [
    {
     "output_type": "stream",
     "name": "stdout",
     "text": [
      "Hello, world!\n",
      "Hello, world!\n",
      "\n",
      "my name is 'Jinho'\n",
      "\n",
      "my name is 'Jinho'\n",
      "\n",
      "name\tage\tcountry\n",
      "Jinho\t27\tKorea\n",
      "Sivila\t23\tItaly\n",
      "Mike\t24\tUSA\n",
      "Rodrigo\t29\tSpain\n",
      "\n",
      "\n",
      "동해물과 백두산이 마르고 닳도록\n",
      "하느님이 보우하사 우리나라 만세\n",
      "무궁화 삼천리 화려강산\n",
      "대한사람 대한으로 길이 보전하세\n",
      "\n"
     ]
    }
   ],
   "metadata": {}
  },
  {
   "cell_type": "markdown",
   "source": [
    "## 문자열 연산자\n",
    "\n",
    "문자열에는 + 기호로 문자열 연결 연산을 적용할 수 이있다.\n",
    "         * 기호로 문자열을 반복할 수 있다.ㅔ"
   ],
   "metadata": {}
  },
  {
   "cell_type": "code",
   "execution_count": 5,
   "source": [
    "print(\"Hello \" + \"world\")\n",
    "print(\"Hello world\" +\"!\")\n",
    "print()\n",
    "print(\"Hello \" * 3)\n",
    "print(3 * \"Hello \")"
   ],
   "outputs": [
    {
     "output_type": "stream",
     "name": "stdout",
     "text": [
      "Hello world\n",
      "Hello world!\n",
      "\n",
      "Hello Hello Hello \n",
      "Hello Hello Hello \n"
     ]
    }
   ],
   "metadata": {}
  },
  {
   "cell_type": "markdown",
   "source": [
    "## 문자열 선택 연산자(indexing) : [ ]\n",
    "\n",
    "문자열 선택 연산자는 문자열 내부의 문자 하나를 선택하는 연산자이다.\n",
    "[]안에 선택할 문자의 위치를 지정하며 index 라고 부른다."
   ],
   "metadata": {}
  },
  {
   "cell_type": "code",
   "execution_count": 7,
   "source": [
    "print(\"# index\")\n",
    "print(\"Hello\")\n",
    "print(\"Hello\"[0])\n",
    "print(\"Hello\"[1])\n",
    "print(\"Hello\"[2])\n",
    "print(\"Hello\"[3])\n",
    "print(\"Hello\"[4])\n",
    "# 4번까지 있기 때문에 [5]는 error\n",
    "print()\n",
    "\n",
    "print(\"# 거꾸로 출력\")\n",
    "print(\"Hello\"[-1])\n",
    "print(\"Hello\"[-2])\n",
    "print(\"Hello\"[-3])\n",
    "print(\"Hello\"[-4])\n",
    "print(\"Hello\"[-5])\n"
   ],
   "outputs": [
    {
     "output_type": "stream",
     "name": "stdout",
     "text": [
      "# index\n",
      "Hello\n",
      "H\n",
      "e\n",
      "l\n",
      "l\n",
      "o\n",
      "\n",
      "# 거꾸로 출력\n",
      "o\n",
      "l\n",
      "l\n",
      "e\n",
      "H\n"
     ]
    }
   ],
   "metadata": {}
  },
  {
   "cell_type": "markdown",
   "source": [
    "## 문자열 범위 선택 연산자(슬라이싱) : [ : ]\n",
    "\n",
    "문자열의 특정 범위를 선택할 때 사용."
   ],
   "metadata": {}
  },
  {
   "cell_type": "code",
   "execution_count": 9,
   "source": [
    "print(\"Hello world\"[2:9])\n",
    "#        llo wor 로 출력\n",
    "\n",
    "# 3번부터 끝까지\n",
    "print(\"Hello world\"[3:])\n",
    "\n",
    "# 처음부터 7번 전까지\n",
    "print(\"Hello world\"[:7])"
   ],
   "outputs": [
    {
     "output_type": "stream",
     "name": "stdout",
     "text": [
      "llo wor\n",
      "lo world\n",
      "Hello w\n"
     ]
    }
   ],
   "metadata": {}
  },
  {
   "cell_type": "markdown",
   "source": [
    "## 문자열의 길이 구하기 : len( )\n",
    "\n",
    "( )내부에 문자열을 넣으면 문자열에 들어있는 문자의 개수(문자의 길이)를 구해준다."
   ],
   "metadata": {}
  },
  {
   "cell_type": "code",
   "execution_count": 10,
   "source": [
    "print(len(\"Hello world\"))"
   ],
   "outputs": [
    {
     "output_type": "stream",
     "name": "stdout",
     "text": [
      "11\n"
     ]
    }
   ],
   "metadata": {}
  },
  {
   "cell_type": "markdown",
   "source": [
    "# 2-2 숫자\n",
    "\n",
    "## 숫자의 종류\n",
    "\n",
    "소수점이 없는 수자를 정수형(interger) 이라고 하고,\n",
    "소수점이 있는 숫자를 실수형(floating point, 부동소수점) 이라고 한다."
   ],
   "metadata": {}
  },
  {
   "cell_type": "code",
   "execution_count": 12,
   "source": [
    "print(273)\n",
    "print(52.273)\n",
    "print(type(52))         # 정수(interger)\n",
    "print(type(52.273))     # 실수(float)\n",
    "print(type(0))          # int\n",
    "print(type(0.0))        # float\n",
    "print(0.52273e2)        # 0.52273 * 10^2\n",
    "print(0.52273e-2)       # 0.52273 * 10^-2"
   ],
   "outputs": [
    {
     "output_type": "stream",
     "name": "stdout",
     "text": [
      "273\n",
      "52.273\n",
      "<class 'int'>\n",
      "<class 'float'>\n",
      "<class 'int'>\n",
      "<class 'float'>\n",
      "52.273\n",
      "0.0052273\n"
     ]
    }
   ],
   "metadata": {}
  },
  {
   "cell_type": "markdown",
   "source": [
    "## 숫자 연산자\n",
    "\n",
    "|연산자|설명|구문|\n",
    "|:---:|:---:|:---:|\n",
    "|+|덧샘|숫자 + 숫자|\n",
    "|-|뺄셈|숫자 - 숫자|\n",
    "|* |곱셈|숫자 * 숫자|\n",
    "|** |제곱|숫자 ** 숫자|\n",
    "|/|나눗셈|숫자 / 숫자|\n",
    "|//|몫 | 숫자 // 숫자|\n",
    "|%|나머지|숫자 % |"
   ],
   "metadata": {}
  },
  {
   "cell_type": "code",
   "execution_count": 13,
   "source": [
    "print(\"안녕\" + \"하세요\" * 3)\n",
    "print()\n",
    "\n",
    "print((\"안녕\" + \"하세요\") * 3)\n",
    "print()\n",
    "\n",
    "# 연습문제\n",
    "print(\"3462 를 17로 나누었을때의\")\n",
    "print(\" - 몫 : \", 3462 // 17)\n",
    "print(\" - 나머지 : \", 3462 % 17)"
   ],
   "outputs": [
    {
     "output_type": "stream",
     "name": "stdout",
     "text": [
      "안녕하세요하세요하세요\n",
      "\n",
      "안녕하세요안녕하세요안녕하세요\n",
      "\n",
      "3462 를 17로 나누었을때의\n",
      " - 몫 :  203\n",
      " - 나머지 :  11\n"
     ]
    }
   ],
   "metadata": {}
  },
  {
   "cell_type": "markdown",
   "source": [
    "# 2-3 변수와 입력\n",
    "\n",
    "## 변수 만들기 / 사용하기\n",
    "\n",
    "### 변수를 활용하는 방법\n",
    "\n",
    "1. 변수 선언\n",
    "    변수를 생성하는 것을 의미한다.\n",
    "\n",
    "2. 변수에 값을 할당\n",
    "    변수에 값을 넣는 것을 의미한다.\n",
    "\n",
    "3. 변수 참조\n",
    "    변수에서 값을 꺼내는 것을 의미한다."
   ],
   "metadata": {}
  },
  {
   "cell_type": "code",
   "execution_count": 14,
   "source": [
    "# 변수 선언과 할당\n",
    "pi = 3.14\n",
    "r = 10\n",
    "\n",
    "# 확인 및 계산\n",
    "print(\"원주율 = \", pi)\n",
    "print(\"원의 반지름 = \", r)\n",
    "print(\"원의 둘레 = \", 2 * pi * r)\n",
    "print(\"원의 넓이 = \", pi * r * r)"
   ],
   "outputs": [
    {
     "output_type": "stream",
     "name": "stdout",
     "text": [
      "원주율 =  3.14\n",
      "원의 반지름 =  10\n",
      "원의 둘레 =  62.800000000000004\n",
      "원의 넓이 =  314.0\n"
     ]
    }
   ],
   "metadata": {}
  },
  {
   "cell_type": "markdown",
   "source": [
    "## 복합 대입 연산자\n",
    "\n",
    "|연산자 이름|설명|||\n",
    "|:---:|:---:|||\n",
    "|+=|숫자 덧셈 후 대입|a += 10  | a = a + 10|\n",
    "|-=|숫자 뺼셈 후 대입|a -= 10  | a = a - 10 |\n",
    "|* =|숫자 곱셈 후 대입|a * = 10  | a = a * 10|\n",
    "|/=|숫자 나눗셈 후 대입| a /= 10  | a = a / 10|\n",
    "|%=|숫자의 나머지를 구한 후 대입|a %= 10  | a = a % 10|\n",
    "|**|숫자 제곱 후 대입|a **= 10 | a = a ** 10|"
   ],
   "metadata": {}
  },
  {
   "cell_type": "code",
   "execution_count": 15,
   "source": [
    "n = 10\n",
    "n += 10     # 새로운 n = 기존의 n + 10 로 대체 \n",
    "n += 30\n",
    "print(n)\n",
    "print()\n",
    "a = \"hello\"\n",
    "a += \"!\"\n",
    "print(a)"
   ],
   "outputs": [
    {
     "output_type": "stream",
     "name": "stdout",
     "text": [
      "50\n",
      "\n",
      "hello!\n"
     ]
    }
   ],
   "metadata": {}
  },
  {
   "cell_type": "markdown",
   "source": [
    "## 사용자 입력 : input( )\n",
    "\n",
    "### input( ) 함수로 사용자 입력받기\n",
    "\n",
    "사용자로부터 데이터를 입력받기 위해 다음 코드를 입력한다.\n",
    "이때 input 함수 괄호 안에 입력한 내용을 프롬프트 문자열 이라고 하며,\n",
    "사용자로부터 입력을 요구하는 안내 내용을 포함한다.\n",
    "사용자가 입력한 결과는 항상 문자열(string) 이다.\n",
    "\n",
    "### 입력 자료형 확인하기"
   ],
   "metadata": {}
  },
  {
   "cell_type": "code",
   "execution_count": 16,
   "source": [
    "string = input(\"입력 > \")\n",
    "\n",
    "print('자료 : ', string)\n",
    "print('자료형 : ', type(string))"
   ],
   "outputs": [
    {
     "output_type": "stream",
     "name": "stdout",
     "text": [
      "입력 > 273\n",
      "자료 :  273\n",
      "자료형 :  <class 'str'>\n"
     ]
    }
   ],
   "metadata": {}
  },
  {
   "cell_type": "markdown",
   "source": [
    "## 문자열을 숫자로 바꾸기\n",
    "\n",
    "입력받은 문자열은 숫자로 변환해야 숫자 연산에 할용할 수 있다.\n",
    "cast 라고 부른다.\n",
    "\n",
    "* int( ) : 문자열을 int 자료형으로 변환\n",
    "* float( ) : 문자열을 float 자료형으로 변환"
   ],
   "metadata": {}
  },
  {
   "cell_type": "code",
   "execution_count": 18,
   "source": [
    "string_a = input('A 입력 > ')\n",
    "int_a = int(string_a)\n",
    "\n",
    "string_b = input('B 입력 > ')\n",
    "int_b = int(string_b)\n",
    "\n",
    "print(\"문자열자료 sting_a + string_b : \", string_a + string_b)\n",
    "print(\"숫자자료 int_a + int_b : \", int_a + int_b)\n"
   ],
   "outputs": [
    {
     "output_type": "stream",
     "name": "stdout",
     "text": [
      "A 입력 > 273\n",
      "B 입력 > 52\n",
      "문자열자료 sting_a + string_b :  27352\n",
      "숫자자료 int_a + int_b :  325\n"
     ]
    }
   ],
   "metadata": {}
  },
  {
   "cell_type": "markdown",
   "source": [
    "## 숫자를 문자열로 바꾸기\n",
    "\n",
    "str(다른 자료형)"
   ],
   "metadata": {}
  },
  {
   "cell_type": "code",
   "execution_count": 20,
   "source": [
    "output_a = str(52)\n",
    "output_b = str(52.273)\n",
    "print(output_a, type(output_a))\n",
    "print(output_b, type(output_b))"
   ],
   "outputs": [
    {
     "output_type": "stream",
     "name": "stdout",
     "text": [
      "52 <class 'str'>\n",
      "52.273 <class 'str'>\n"
     ]
    }
   ],
   "metadata": {}
  },
  {
   "cell_type": "markdown",
   "source": [
    "# 연습"
   ],
   "metadata": {}
  },
  {
   "cell_type": "code",
   "execution_count": 21,
   "source": [
    "print(\"inch -> cm 변환기 \")\n",
    "str_input = input(\"인치 입력>\")\n",
    "num_input = float(str_input)\n",
    "\n",
    "print()\n",
    "print(\"입력한 \",num_input, \"inch 는\")\n",
    "print((num_input * 2.54), \"cm\")\n",
    "print()"
   ],
   "outputs": [
    {
     "output_type": "stream",
     "name": "stdout",
     "text": [
      "inch -> cm 변환기 \n",
      "인치 입력>20\n",
      "\n",
      "입력한  20.0 inch 는\n",
      "50.8 cm\n",
      "\n"
     ]
    }
   ],
   "metadata": {}
  },
  {
   "cell_type": "markdown",
   "source": [
    "## 숫자와 문자의 다양한 기능\n",
    "\n",
    "### 문자열의 format( ) 함수\n",
    "\n",
    "format( )함수는 문자열이 가지고 있는 함수이다.\n",
    "{ }를 포함한 문자열 뒤에 . 을 찍고 함수를 사용하는데,\n",
    "{ }의 개수와 format 함수 안의 매개변수의 개수는 같아야한다.\n",
    "\n",
    "### format( ) 함수로 숫자를 문자열로 변환하기"
   ],
   "metadata": {}
  },
  {
   "cell_type": "code",
   "execution_count": null,
   "source": [
    "string_a = '{}'.format(10)\n",
    "\n",
    "print(string_a)\n",
    "print(type(string_a))"
   ],
   "outputs": [],
   "metadata": {}
  },
  {
   "cell_type": "code",
   "execution_count": null,
   "source": [],
   "outputs": [],
   "metadata": {}
  }
 ],
 "metadata": {
  "kernelspec": {
   "display_name": "Python 3",
   "language": "python",
   "name": "python3"
  },
  "language_info": {
   "codemirror_mode": {
    "name": "ipython",
    "version": 3
   },
   "file_extension": ".py",
   "mimetype": "text/x-python",
   "name": "python",
   "nbconvert_exporter": "python",
   "pygments_lexer": "ipython3",
   "version": "3.8.8"
  }
 },
 "nbformat": 4,
 "nbformat_minor": 5
}
