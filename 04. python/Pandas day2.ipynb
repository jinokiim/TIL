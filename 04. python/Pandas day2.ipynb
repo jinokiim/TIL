{
 "cells": [
  {
   "cell_type": "markdown",
   "id": "18f0c913",
   "metadata": {},
   "source": [
    "# Pandas 기초"
   ]
  },
  {
   "cell_type": "code",
   "execution_count": 1,
   "id": "8ca5b26f",
   "metadata": {},
   "outputs": [],
   "source": [
    "import pandas as pd"
   ]
  },
  {
   "cell_type": "code",
   "execution_count": 20,
   "id": "85bd3250",
   "metadata": {},
   "outputs": [
    {
     "data": {
      "text/html": [
       "<div>\n",
       "<style scoped>\n",
       "    .dataframe tbody tr th:only-of-type {\n",
       "        vertical-align: middle;\n",
       "    }\n",
       "\n",
       "    .dataframe tbody tr th {\n",
       "        vertical-align: top;\n",
       "    }\n",
       "\n",
       "    .dataframe thead th {\n",
       "        text-align: right;\n",
       "    }\n",
       "</style>\n",
       "<table border=\"1\" class=\"dataframe\">\n",
       "  <thead>\n",
       "    <tr style=\"text-align: right;\">\n",
       "      <th></th>\n",
       "      <th>title</th>\n",
       "      <th>year</th>\n",
       "      <th>name</th>\n",
       "      <th>type</th>\n",
       "      <th>character</th>\n",
       "      <th>n</th>\n",
       "    </tr>\n",
       "  </thead>\n",
       "  <tbody>\n",
       "    <tr>\n",
       "      <th>0</th>\n",
       "      <td>Closet Monster</td>\n",
       "      <td>2015</td>\n",
       "      <td>Buffy #1</td>\n",
       "      <td>actor</td>\n",
       "      <td>Buffy 4</td>\n",
       "      <td>31.0</td>\n",
       "    </tr>\n",
       "    <tr>\n",
       "      <th>1</th>\n",
       "      <td>Suuri illusioni</td>\n",
       "      <td>1985</td>\n",
       "      <td>Homo $</td>\n",
       "      <td>actor</td>\n",
       "      <td>Guests</td>\n",
       "      <td>22.0</td>\n",
       "    </tr>\n",
       "    <tr>\n",
       "      <th>2</th>\n",
       "      <td>Battle of the Sexes</td>\n",
       "      <td>2017</td>\n",
       "      <td>$hutter</td>\n",
       "      <td>actor</td>\n",
       "      <td>Bobby Riggs Fan</td>\n",
       "      <td>10.0</td>\n",
       "    </tr>\n",
       "    <tr>\n",
       "      <th>3</th>\n",
       "      <td>Secret in Their Eyes</td>\n",
       "      <td>2015</td>\n",
       "      <td>$hutter</td>\n",
       "      <td>actor</td>\n",
       "      <td>2002 Dodger Fan</td>\n",
       "      <td>NaN</td>\n",
       "    </tr>\n",
       "    <tr>\n",
       "      <th>4</th>\n",
       "      <td>Steve Jobs</td>\n",
       "      <td>2015</td>\n",
       "      <td>$hutter</td>\n",
       "      <td>actor</td>\n",
       "      <td>1988 Opera House Patron</td>\n",
       "      <td>NaN</td>\n",
       "    </tr>\n",
       "  </tbody>\n",
       "</table>\n",
       "</div>"
      ],
      "text/plain": [
       "                  title  year      name   type                character     n\n",
       "0        Closet Monster  2015  Buffy #1  actor                  Buffy 4  31.0\n",
       "1       Suuri illusioni  1985    Homo $  actor                   Guests  22.0\n",
       "2   Battle of the Sexes  2017   $hutter  actor          Bobby Riggs Fan  10.0\n",
       "3  Secret in Their Eyes  2015   $hutter  actor          2002 Dodger Fan   NaN\n",
       "4            Steve Jobs  2015   $hutter  actor  1988 Opera House Patron   NaN"
      ]
     },
     "execution_count": 20,
     "metadata": {},
     "output_type": "execute_result"
    }
   ],
   "source": [
    "casts = pd.read_csv('./pythondsp-pandasguide-b936c3b43406/data/cast.csv',\n",
    "                    index_col=None, encoding='utf-8')\n",
    "casts.head()"
   ]
  },
  {
   "cell_type": "markdown",
   "id": "a31faf2c",
   "metadata": {},
   "source": [
    "## Unstack\n",
    "\n",
    "* 10년 주기로 영화를 그룹화"
   ]
  },
  {
   "cell_type": "code",
   "execution_count": 4,
   "id": "28941269",
   "metadata": {},
   "outputs": [
    {
     "data": {
      "text/plain": [
       "year  type   \n",
       "1910  actor       384\n",
       "      actress     285\n",
       "1920  actor       710\n",
       "      actress     411\n",
       "1930  actor      2628\n",
       "      actress     820\n",
       "1940  actor      3014\n",
       "      actress     983\n",
       "dtype: int64"
      ]
     },
     "execution_count": 4,
     "metadata": {},
     "output_type": "execute_result"
    }
   ],
   "source": [
    "c = casts\n",
    "c.groupby([c['year']//10*10, 'type']).size().head(8)"
   ]
  },
  {
   "cell_type": "markdown",
   "id": "820dc64b",
   "metadata": {},
   "source": [
    "* 유형에 따라 데이터를 그룹화"
   ]
  },
  {
   "cell_type": "code",
   "execution_count": 5,
   "id": "9a346068",
   "metadata": {},
   "outputs": [
    {
     "data": {
      "text/plain": [
       "type     year\n",
       "actor    1910      384\n",
       "         1920      710\n",
       "         1930     2628\n",
       "         1940     3014\n",
       "         1950     2877\n",
       "         1960     2775\n",
       "         1970     3044\n",
       "         1980     3565\n",
       "         1990     5108\n",
       "         2000    10368\n",
       "         2010    15523\n",
       "         2020        4\n",
       "actress  1910      285\n",
       "         1920      411\n",
       "         1930      820\n",
       "         1940      983\n",
       "         1950     1015\n",
       "         1960      968\n",
       "         1970     1299\n",
       "         1980     1989\n",
       "         1990     2544\n",
       "         2000     5831\n",
       "         2010     8853\n",
       "         2020        3\n",
       "dtype: int64"
      ]
     },
     "execution_count": 5,
     "metadata": {},
     "output_type": "execute_result"
    }
   ],
   "source": [
    "c = casts\n",
    "c_decade = c.groupby(['type', c['year']//10*10]).size()\n",
    "c_decade"
   ]
  },
  {
   "cell_type": "markdown",
   "id": "172f5828",
   "metadata": {},
   "source": [
    "* unstack 으로 새로운 dataframe 생성"
   ]
  },
  {
   "cell_type": "code",
   "execution_count": 6,
   "id": "1d2cb4bc",
   "metadata": {},
   "outputs": [
    {
     "data": {
      "text/html": [
       "<div>\n",
       "<style scoped>\n",
       "    .dataframe tbody tr th:only-of-type {\n",
       "        vertical-align: middle;\n",
       "    }\n",
       "\n",
       "    .dataframe tbody tr th {\n",
       "        vertical-align: top;\n",
       "    }\n",
       "\n",
       "    .dataframe thead th {\n",
       "        text-align: right;\n",
       "    }\n",
       "</style>\n",
       "<table border=\"1\" class=\"dataframe\">\n",
       "  <thead>\n",
       "    <tr style=\"text-align: right;\">\n",
       "      <th>year</th>\n",
       "      <th>1910</th>\n",
       "      <th>1920</th>\n",
       "      <th>1930</th>\n",
       "      <th>1940</th>\n",
       "      <th>1950</th>\n",
       "      <th>1960</th>\n",
       "      <th>1970</th>\n",
       "      <th>1980</th>\n",
       "      <th>1990</th>\n",
       "      <th>2000</th>\n",
       "      <th>2010</th>\n",
       "      <th>2020</th>\n",
       "    </tr>\n",
       "    <tr>\n",
       "      <th>type</th>\n",
       "      <th></th>\n",
       "      <th></th>\n",
       "      <th></th>\n",
       "      <th></th>\n",
       "      <th></th>\n",
       "      <th></th>\n",
       "      <th></th>\n",
       "      <th></th>\n",
       "      <th></th>\n",
       "      <th></th>\n",
       "      <th></th>\n",
       "      <th></th>\n",
       "    </tr>\n",
       "  </thead>\n",
       "  <tbody>\n",
       "    <tr>\n",
       "      <th>actor</th>\n",
       "      <td>384</td>\n",
       "      <td>710</td>\n",
       "      <td>2628</td>\n",
       "      <td>3014</td>\n",
       "      <td>2877</td>\n",
       "      <td>2775</td>\n",
       "      <td>3044</td>\n",
       "      <td>3565</td>\n",
       "      <td>5108</td>\n",
       "      <td>10368</td>\n",
       "      <td>15523</td>\n",
       "      <td>4</td>\n",
       "    </tr>\n",
       "    <tr>\n",
       "      <th>actress</th>\n",
       "      <td>285</td>\n",
       "      <td>411</td>\n",
       "      <td>820</td>\n",
       "      <td>983</td>\n",
       "      <td>1015</td>\n",
       "      <td>968</td>\n",
       "      <td>1299</td>\n",
       "      <td>1989</td>\n",
       "      <td>2544</td>\n",
       "      <td>5831</td>\n",
       "      <td>8853</td>\n",
       "      <td>3</td>\n",
       "    </tr>\n",
       "  </tbody>\n",
       "</table>\n",
       "</div>"
      ],
      "text/plain": [
       "year     1910  1920  1930  1940  1950  1960  1970  1980  1990   2000   2010  \\\n",
       "type                                                                          \n",
       "actor     384   710  2628  3014  2877  2775  3044  3565  5108  10368  15523   \n",
       "actress   285   411   820   983  1015   968  1299  1989  2544   5831   8853   \n",
       "\n",
       "year     2020  \n",
       "type           \n",
       "actor       4  \n",
       "actress     3  "
      ]
     },
     "execution_count": 6,
     "metadata": {},
     "output_type": "execute_result"
    }
   ],
   "source": [
    "c_decade.unstack()"
   ]
  },
  {
   "cell_type": "code",
   "execution_count": 7,
   "id": "012b0993",
   "metadata": {},
   "outputs": [],
   "source": [
    "import matplotlib.pyplot as plt"
   ]
  },
  {
   "cell_type": "code",
   "execution_count": 8,
   "id": "5cd76bc3",
   "metadata": {},
   "outputs": [
    {
     "name": "stderr",
     "output_type": "stream",
     "text": [
      "/Users/jinho/opt/anaconda3/lib/python3.8/site-packages/pandas/plotting/_matplotlib/core.py:1192: UserWarning: FixedFormatter should only be used together with FixedLocator\n",
      "  ax.set_xticklabels(xticklabels)\n"
     ]
    },
    {
     "data": {
      "text/plain": [
       "<AxesSubplot:xlabel='type'>"
      ]
     },
     "execution_count": 8,
     "metadata": {},
     "output_type": "execute_result"
    }
   ],
   "source": [
    "c_decade.unstack().plot()"
   ]
  },
  {
   "cell_type": "code",
   "execution_count": 9,
   "id": "f285c36d",
   "metadata": {},
   "outputs": [
    {
     "data": {
      "image/png": "[encoded data removed]",
      "text/plain": [
       "<Figure size 640x480 with 1 Axes>"
      ]
     },
     "metadata": {},
     "output_type": "display_data"
    }
   ],
   "source": [
    "plt.show()"
   ]
  },
  {
   "cell_type": "code",
   "execution_count": 12,
   "id": "3d8c2f16",
   "metadata": {
    "scrolled": false
   },
   "outputs": [
    {
     "data": {
      "image/png": "[encoded data removed]",
      "text/plain": [
       "<Figure size 640x480 with 1 Axes>"
      ]
     },
     "metadata": {},
     "output_type": "display_data"
    }
   ],
   "source": [
    "c_decade.unstack().plot(kind='bar')\n",
    "plt.show()"
   ]
  },
  {
   "cell_type": "markdown",
   "id": "563beac4",
   "metadata": {},
   "source": [
    "* 데이터를 나란히 표시하기 위해 unstack(0) 사용"
   ]
  },
  {
   "cell_type": "code",
   "execution_count": 13,
   "id": "aa54b547",
   "metadata": {},
   "outputs": [
    {
     "data": {
      "text/html": [
       "<div>\n",
       "<style scoped>\n",
       "    .dataframe tbody tr th:only-of-type {\n",
       "        vertical-align: middle;\n",
       "    }\n",
       "\n",
       "    .dataframe tbody tr th {\n",
       "        vertical-align: top;\n",
       "    }\n",
       "\n",
       "    .dataframe thead th {\n",
       "        text-align: right;\n",
       "    }\n",
       "</style>\n",
       "<table border=\"1\" class=\"dataframe\">\n",
       "  <thead>\n",
       "    <tr style=\"text-align: right;\">\n",
       "      <th>type</th>\n",
       "      <th>actor</th>\n",
       "      <th>actress</th>\n",
       "    </tr>\n",
       "    <tr>\n",
       "      <th>year</th>\n",
       "      <th></th>\n",
       "      <th></th>\n",
       "    </tr>\n",
       "  </thead>\n",
       "  <tbody>\n",
       "    <tr>\n",
       "      <th>1910</th>\n",
       "      <td>384</td>\n",
       "      <td>285</td>\n",
       "    </tr>\n",
       "    <tr>\n",
       "      <th>1920</th>\n",
       "      <td>710</td>\n",
       "      <td>411</td>\n",
       "    </tr>\n",
       "    <tr>\n",
       "      <th>1930</th>\n",
       "      <td>2628</td>\n",
       "      <td>820</td>\n",
       "    </tr>\n",
       "    <tr>\n",
       "      <th>1940</th>\n",
       "      <td>3014</td>\n",
       "      <td>983</td>\n",
       "    </tr>\n",
       "    <tr>\n",
       "      <th>1950</th>\n",
       "      <td>2877</td>\n",
       "      <td>1015</td>\n",
       "    </tr>\n",
       "    <tr>\n",
       "      <th>1960</th>\n",
       "      <td>2775</td>\n",
       "      <td>968</td>\n",
       "    </tr>\n",
       "    <tr>\n",
       "      <th>1970</th>\n",
       "      <td>3044</td>\n",
       "      <td>1299</td>\n",
       "    </tr>\n",
       "    <tr>\n",
       "      <th>1980</th>\n",
       "      <td>3565</td>\n",
       "      <td>1989</td>\n",
       "    </tr>\n",
       "    <tr>\n",
       "      <th>1990</th>\n",
       "      <td>5108</td>\n",
       "      <td>2544</td>\n",
       "    </tr>\n",
       "    <tr>\n",
       "      <th>2000</th>\n",
       "      <td>10368</td>\n",
       "      <td>5831</td>\n",
       "    </tr>\n",
       "    <tr>\n",
       "      <th>2010</th>\n",
       "      <td>15523</td>\n",
       "      <td>8853</td>\n",
       "    </tr>\n",
       "    <tr>\n",
       "      <th>2020</th>\n",
       "      <td>4</td>\n",
       "      <td>3</td>\n",
       "    </tr>\n",
       "  </tbody>\n",
       "</table>\n",
       "</div>"
      ],
      "text/plain": [
       "type  actor  actress\n",
       "year                \n",
       "1910    384      285\n",
       "1920    710      411\n",
       "1930   2628      820\n",
       "1940   3014      983\n",
       "1950   2877     1015\n",
       "1960   2775      968\n",
       "1970   3044     1299\n",
       "1980   3565     1989\n",
       "1990   5108     2544\n",
       "2000  10368     5831\n",
       "2010  15523     8853\n",
       "2020      4        3"
      ]
     },
     "execution_count": 13,
     "metadata": {},
     "output_type": "execute_result"
    }
   ],
   "source": [
    "c_decade.unstack(0)"
   ]
  },
  {
   "cell_type": "code",
   "execution_count": 14,
   "id": "52c5593b",
   "metadata": {},
   "outputs": [
    {
     "data": {
      "image/png": "[encoded data removed]",
      "text/plain": [
       "<Figure size 640x480 with 1 Axes>"
      ]
     },
     "metadata": {},
     "output_type": "display_data"
    }
   ],
   "source": [
    "c_decade.unstack(0).plot(kind='bar')\n",
    "plt.show()"
   ]
  },
  {
   "cell_type": "markdown",
   "id": "4b22174e",
   "metadata": {},
   "source": [
    "## merge\n",
    "\n",
    "동일한 유형의 다른 데이터 파일을 병합하는 것"
   ]
  },
  {
   "cell_type": "code",
   "execution_count": 22,
   "id": "4b21b388",
   "metadata": {},
   "outputs": [
    {
     "data": {
      "text/html": [
       "<div>\n",
       "<style scoped>\n",
       "    .dataframe tbody tr th:only-of-type {\n",
       "        vertical-align: middle;\n",
       "    }\n",
       "\n",
       "    .dataframe tbody tr th {\n",
       "        vertical-align: top;\n",
       "    }\n",
       "\n",
       "    .dataframe thead th {\n",
       "        text-align: right;\n",
       "    }\n",
       "</style>\n",
       "<table border=\"1\" class=\"dataframe\">\n",
       "  <thead>\n",
       "    <tr style=\"text-align: right;\">\n",
       "      <th></th>\n",
       "      <th>title</th>\n",
       "      <th>year</th>\n",
       "      <th>country</th>\n",
       "      <th>date</th>\n",
       "    </tr>\n",
       "  </thead>\n",
       "  <tbody>\n",
       "    <tr>\n",
       "      <th>0</th>\n",
       "      <td>#73, Shaanthi Nivaasa</td>\n",
       "      <td>2007</td>\n",
       "      <td>India</td>\n",
       "      <td>2007-06-15</td>\n",
       "    </tr>\n",
       "    <tr>\n",
       "      <th>1</th>\n",
       "      <td>#Beings</td>\n",
       "      <td>2015</td>\n",
       "      <td>Romania</td>\n",
       "      <td>2015-01-29</td>\n",
       "    </tr>\n",
       "    <tr>\n",
       "      <th>2</th>\n",
       "      <td>#Declimax</td>\n",
       "      <td>2018</td>\n",
       "      <td>Netherlands</td>\n",
       "      <td>2018-01-21</td>\n",
       "    </tr>\n",
       "    <tr>\n",
       "      <th>3</th>\n",
       "      <td>#Ewankosau saranghaeyo</td>\n",
       "      <td>2015</td>\n",
       "      <td>Philippines</td>\n",
       "      <td>2015-01-21</td>\n",
       "    </tr>\n",
       "    <tr>\n",
       "      <th>4</th>\n",
       "      <td>#Horror</td>\n",
       "      <td>2015</td>\n",
       "      <td>USA</td>\n",
       "      <td>2015-11-20</td>\n",
       "    </tr>\n",
       "  </tbody>\n",
       "</table>\n",
       "</div>"
      ],
      "text/plain": [
       "                    title  year      country        date\n",
       "0   #73, Shaanthi Nivaasa  2007        India  2007-06-15\n",
       "1                 #Beings  2015      Romania  2015-01-29\n",
       "2               #Declimax  2018  Netherlands  2018-01-21\n",
       "3  #Ewankosau saranghaeyo  2015  Philippines  2015-01-21\n",
       "4                 #Horror  2015          USA  2015-11-20"
      ]
     },
     "execution_count": 22,
     "metadata": {},
     "output_type": "execute_result"
    }
   ],
   "source": [
    "release = pd.read_csv('./pythondsp-pandasguide-b936c3b43406/data/release_dates.csv',\n",
    "                    index_col=None, encoding='utf-8')\n",
    "release.head()"
   ]
  },
  {
   "cell_type": "markdown",
   "id": "60fc5240",
   "metadata": {},
   "source": [
    "* casts 파일에서 Amelia 를 필터링"
   ]
  },
  {
   "cell_type": "code",
   "execution_count": 23,
   "id": "282f2349",
   "metadata": {},
   "outputs": [
    {
     "data": {
      "text/html": [
       "<div>\n",
       "<style scoped>\n",
       "    .dataframe tbody tr th:only-of-type {\n",
       "        vertical-align: middle;\n",
       "    }\n",
       "\n",
       "    .dataframe tbody tr th {\n",
       "        vertical-align: top;\n",
       "    }\n",
       "\n",
       "    .dataframe thead th {\n",
       "        text-align: right;\n",
       "    }\n",
       "</style>\n",
       "<table border=\"1\" class=\"dataframe\">\n",
       "  <thead>\n",
       "    <tr style=\"text-align: right;\">\n",
       "      <th></th>\n",
       "      <th>title</th>\n",
       "      <th>year</th>\n",
       "      <th>name</th>\n",
       "      <th>type</th>\n",
       "      <th>character</th>\n",
       "      <th>n</th>\n",
       "    </tr>\n",
       "  </thead>\n",
       "  <tbody>\n",
       "    <tr>\n",
       "      <th>5767</th>\n",
       "      <td>Amelia</td>\n",
       "      <td>2009</td>\n",
       "      <td>Aaron Abrams</td>\n",
       "      <td>actor</td>\n",
       "      <td>Slim Gordon</td>\n",
       "      <td>8.0</td>\n",
       "    </tr>\n",
       "    <tr>\n",
       "      <th>23319</th>\n",
       "      <td>Amelia</td>\n",
       "      <td>2009</td>\n",
       "      <td>Jeremy Akerman</td>\n",
       "      <td>actor</td>\n",
       "      <td>Sheriff</td>\n",
       "      <td>19.0</td>\n",
       "    </tr>\n",
       "  </tbody>\n",
       "</table>\n",
       "</div>"
      ],
      "text/plain": [
       "        title  year            name   type    character     n\n",
       "5767   Amelia  2009    Aaron Abrams  actor  Slim Gordon   8.0\n",
       "23319  Amelia  2009  Jeremy Akerman  actor      Sheriff  19.0"
      ]
     },
     "execution_count": 23,
     "metadata": {},
     "output_type": "execute_result"
    }
   ],
   "source": [
    "c_amelia = casts[casts['title']=='Amelia']\n",
    "c_amelia.head()"
   ]
  },
  {
   "cell_type": "markdown",
   "id": "7f96579c",
   "metadata": {},
   "source": [
    "* release 파일에서 개봉일을 알아본다."
   ]
  },
  {
   "cell_type": "code",
   "execution_count": 25,
   "id": "767b2e92",
   "metadata": {},
   "outputs": [
    {
     "data": {
      "text/html": [
       "<div>\n",
       "<style scoped>\n",
       "    .dataframe tbody tr th:only-of-type {\n",
       "        vertical-align: middle;\n",
       "    }\n",
       "\n",
       "    .dataframe tbody tr th {\n",
       "        vertical-align: top;\n",
       "    }\n",
       "\n",
       "    .dataframe thead th {\n",
       "        text-align: right;\n",
       "    }\n",
       "</style>\n",
       "<table border=\"1\" class=\"dataframe\">\n",
       "  <thead>\n",
       "    <tr style=\"text-align: right;\">\n",
       "      <th></th>\n",
       "      <th>title</th>\n",
       "      <th>year</th>\n",
       "      <th>country</th>\n",
       "      <th>date</th>\n",
       "    </tr>\n",
       "  </thead>\n",
       "  <tbody>\n",
       "    <tr>\n",
       "      <th>20543</th>\n",
       "      <td>Amelia</td>\n",
       "      <td>1966</td>\n",
       "      <td>Mexico</td>\n",
       "      <td>1966-03-10</td>\n",
       "    </tr>\n",
       "    <tr>\n",
       "      <th>20544</th>\n",
       "      <td>Amelia</td>\n",
       "      <td>2009</td>\n",
       "      <td>Canada</td>\n",
       "      <td>2009-10-23</td>\n",
       "    </tr>\n",
       "    <tr>\n",
       "      <th>20545</th>\n",
       "      <td>Amelia</td>\n",
       "      <td>2009</td>\n",
       "      <td>USA</td>\n",
       "      <td>2009-10-23</td>\n",
       "    </tr>\n",
       "    <tr>\n",
       "      <th>20546</th>\n",
       "      <td>Amelia</td>\n",
       "      <td>2009</td>\n",
       "      <td>Australia</td>\n",
       "      <td>2009-11-12</td>\n",
       "    </tr>\n",
       "    <tr>\n",
       "      <th>20547</th>\n",
       "      <td>Amelia</td>\n",
       "      <td>2009</td>\n",
       "      <td>Singapore</td>\n",
       "      <td>2009-11-12</td>\n",
       "    </tr>\n",
       "  </tbody>\n",
       "</table>\n",
       "</div>"
      ],
      "text/plain": [
       "        title  year    country        date\n",
       "20543  Amelia  1966     Mexico  1966-03-10\n",
       "20544  Amelia  2009     Canada  2009-10-23\n",
       "20545  Amelia  2009        USA  2009-10-23\n",
       "20546  Amelia  2009  Australia  2009-11-12\n",
       "20547  Amelia  2009  Singapore  2009-11-12"
      ]
     },
     "execution_count": 25,
     "metadata": {},
     "output_type": "execute_result"
    }
   ],
   "source": [
    "release[release['title']=='Amelia'].head()"
   ]
  },
  {
   "cell_type": "markdown",
   "id": "558a4922",
   "metadata": {},
   "source": [
    "* 두개의 데이터 병합"
   ]
  },
  {
   "cell_type": "code",
   "execution_count": 26,
   "id": "eff9bc25",
   "metadata": {},
   "outputs": [
    {
     "data": {
      "text/html": [
       "<div>\n",
       "<style scoped>\n",
       "    .dataframe tbody tr th:only-of-type {\n",
       "        vertical-align: middle;\n",
       "    }\n",
       "\n",
       "    .dataframe tbody tr th {\n",
       "        vertical-align: top;\n",
       "    }\n",
       "\n",
       "    .dataframe thead th {\n",
       "        text-align: right;\n",
       "    }\n",
       "</style>\n",
       "<table border=\"1\" class=\"dataframe\">\n",
       "  <thead>\n",
       "    <tr style=\"text-align: right;\">\n",
       "      <th></th>\n",
       "      <th>title</th>\n",
       "      <th>year</th>\n",
       "      <th>name</th>\n",
       "      <th>type</th>\n",
       "      <th>character</th>\n",
       "      <th>n</th>\n",
       "      <th>country</th>\n",
       "      <th>date</th>\n",
       "    </tr>\n",
       "  </thead>\n",
       "  <tbody>\n",
       "    <tr>\n",
       "      <th>0</th>\n",
       "      <td>Amelia</td>\n",
       "      <td>2009</td>\n",
       "      <td>Aaron Abrams</td>\n",
       "      <td>actor</td>\n",
       "      <td>Slim Gordon</td>\n",
       "      <td>8.0</td>\n",
       "      <td>Canada</td>\n",
       "      <td>2009-10-23</td>\n",
       "    </tr>\n",
       "    <tr>\n",
       "      <th>1</th>\n",
       "      <td>Amelia</td>\n",
       "      <td>2009</td>\n",
       "      <td>Aaron Abrams</td>\n",
       "      <td>actor</td>\n",
       "      <td>Slim Gordon</td>\n",
       "      <td>8.0</td>\n",
       "      <td>USA</td>\n",
       "      <td>2009-10-23</td>\n",
       "    </tr>\n",
       "    <tr>\n",
       "      <th>2</th>\n",
       "      <td>Amelia</td>\n",
       "      <td>2009</td>\n",
       "      <td>Aaron Abrams</td>\n",
       "      <td>actor</td>\n",
       "      <td>Slim Gordon</td>\n",
       "      <td>8.0</td>\n",
       "      <td>Australia</td>\n",
       "      <td>2009-11-12</td>\n",
       "    </tr>\n",
       "    <tr>\n",
       "      <th>3</th>\n",
       "      <td>Amelia</td>\n",
       "      <td>2009</td>\n",
       "      <td>Aaron Abrams</td>\n",
       "      <td>actor</td>\n",
       "      <td>Slim Gordon</td>\n",
       "      <td>8.0</td>\n",
       "      <td>Singapore</td>\n",
       "      <td>2009-11-12</td>\n",
       "    </tr>\n",
       "    <tr>\n",
       "      <th>4</th>\n",
       "      <td>Amelia</td>\n",
       "      <td>2009</td>\n",
       "      <td>Aaron Abrams</td>\n",
       "      <td>actor</td>\n",
       "      <td>Slim Gordon</td>\n",
       "      <td>8.0</td>\n",
       "      <td>Ireland</td>\n",
       "      <td>2009-11-13</td>\n",
       "    </tr>\n",
       "  </tbody>\n",
       "</table>\n",
       "</div>"
      ],
      "text/plain": [
       "    title  year          name   type    character    n    country        date\n",
       "0  Amelia  2009  Aaron Abrams  actor  Slim Gordon  8.0     Canada  2009-10-23\n",
       "1  Amelia  2009  Aaron Abrams  actor  Slim Gordon  8.0        USA  2009-10-23\n",
       "2  Amelia  2009  Aaron Abrams  actor  Slim Gordon  8.0  Australia  2009-11-12\n",
       "3  Amelia  2009  Aaron Abrams  actor  Slim Gordon  8.0  Singapore  2009-11-12\n",
       "4  Amelia  2009  Aaron Abrams  actor  Slim Gordon  8.0    Ireland  2009-11-13"
      ]
     },
     "execution_count": 26,
     "metadata": {},
     "output_type": "execute_result"
    }
   ],
   "source": [
    "c_amelia.merge(release).head()"
   ]
  },
  {
   "cell_type": "markdown",
   "id": "382916fb",
   "metadata": {},
   "source": [
    "* name 이 Aaron Abrams인 항목 필터링"
   ]
  },
  {
   "cell_type": "code",
   "execution_count": 27,
   "id": "c85b9a46",
   "metadata": {},
   "outputs": [
    {
     "data": {
      "text/html": [
       "<div>\n",
       "<style scoped>\n",
       "    .dataframe tbody tr th:only-of-type {\n",
       "        vertical-align: middle;\n",
       "    }\n",
       "\n",
       "    .dataframe tbody tr th {\n",
       "        vertical-align: top;\n",
       "    }\n",
       "\n",
       "    .dataframe thead th {\n",
       "        text-align: right;\n",
       "    }\n",
       "</style>\n",
       "<table border=\"1\" class=\"dataframe\">\n",
       "  <thead>\n",
       "    <tr style=\"text-align: right;\">\n",
       "      <th></th>\n",
       "      <th>title</th>\n",
       "      <th>year</th>\n",
       "      <th>name</th>\n",
       "      <th>type</th>\n",
       "      <th>character</th>\n",
       "      <th>n</th>\n",
       "    </tr>\n",
       "  </thead>\n",
       "  <tbody>\n",
       "    <tr>\n",
       "      <th>5765</th>\n",
       "      <td>#FromJennifer</td>\n",
       "      <td>2017</td>\n",
       "      <td>Aaron Abrams</td>\n",
       "      <td>actor</td>\n",
       "      <td>Ralph Sinclair</td>\n",
       "      <td>NaN</td>\n",
       "    </tr>\n",
       "    <tr>\n",
       "      <th>5766</th>\n",
       "      <td>388 Arletta Avenue</td>\n",
       "      <td>2011</td>\n",
       "      <td>Aaron Abrams</td>\n",
       "      <td>actor</td>\n",
       "      <td>Alex</td>\n",
       "      <td>4.0</td>\n",
       "    </tr>\n",
       "  </tbody>\n",
       "</table>\n",
       "</div>"
      ],
      "text/plain": [
       "                   title  year          name   type       character    n\n",
       "5765       #FromJennifer  2017  Aaron Abrams  actor  Ralph Sinclair  NaN\n",
       "5766  388 Arletta Avenue  2011  Aaron Abrams  actor            Alex  4.0"
      ]
     },
     "execution_count": 27,
     "metadata": {},
     "output_type": "execute_result"
    }
   ],
   "source": [
    "c = casts[casts['name']=='Aaron Abrams']\n",
    "c.head(2)"
   ]
  },
  {
   "cell_type": "markdown",
   "id": "4f076053",
   "metadata": {},
   "source": [
    "* 제목과 년도를 기준으로 병합\n",
    "* 병합하려면 영화 이름과 연도가 같아야한다"
   ]
  },
  {
   "cell_type": "code",
   "execution_count": 28,
   "id": "57517710",
   "metadata": {},
   "outputs": [
    {
     "data": {
      "text/html": [
       "<div>\n",
       "<style scoped>\n",
       "    .dataframe tbody tr th:only-of-type {\n",
       "        vertical-align: middle;\n",
       "    }\n",
       "\n",
       "    .dataframe tbody tr th {\n",
       "        vertical-align: top;\n",
       "    }\n",
       "\n",
       "    .dataframe thead th {\n",
       "        text-align: right;\n",
       "    }\n",
       "</style>\n",
       "<table border=\"1\" class=\"dataframe\">\n",
       "  <thead>\n",
       "    <tr style=\"text-align: right;\">\n",
       "      <th></th>\n",
       "      <th>title</th>\n",
       "      <th>year</th>\n",
       "      <th>name_x</th>\n",
       "      <th>type_x</th>\n",
       "      <th>character_x</th>\n",
       "      <th>n_x</th>\n",
       "      <th>name_y</th>\n",
       "      <th>type_y</th>\n",
       "      <th>character_y</th>\n",
       "      <th>n_y</th>\n",
       "    </tr>\n",
       "  </thead>\n",
       "  <tbody>\n",
       "    <tr>\n",
       "      <th>0</th>\n",
       "      <td>#FromJennifer</td>\n",
       "      <td>2017</td>\n",
       "      <td>Aaron Abrams</td>\n",
       "      <td>actor</td>\n",
       "      <td>Ralph Sinclair</td>\n",
       "      <td>NaN</td>\n",
       "      <td>Aaron Abrams</td>\n",
       "      <td>actor</td>\n",
       "      <td>Ralph Sinclair</td>\n",
       "      <td>NaN</td>\n",
       "    </tr>\n",
       "    <tr>\n",
       "      <th>1</th>\n",
       "      <td>#FromJennifer</td>\n",
       "      <td>2017</td>\n",
       "      <td>Aaron Abrams</td>\n",
       "      <td>actor</td>\n",
       "      <td>Ralph Sinclair</td>\n",
       "      <td>NaN</td>\n",
       "      <td>Christian Ackerman</td>\n",
       "      <td>actor</td>\n",
       "      <td>Simon</td>\n",
       "      <td>NaN</td>\n",
       "    </tr>\n",
       "    <tr>\n",
       "      <th>2</th>\n",
       "      <td>388 Arletta Avenue</td>\n",
       "      <td>2011</td>\n",
       "      <td>Aaron Abrams</td>\n",
       "      <td>actor</td>\n",
       "      <td>Alex</td>\n",
       "      <td>4.0</td>\n",
       "      <td>Graham Abbey</td>\n",
       "      <td>actor</td>\n",
       "      <td>Officer #2</td>\n",
       "      <td>8.0</td>\n",
       "    </tr>\n",
       "    <tr>\n",
       "      <th>3</th>\n",
       "      <td>388 Arletta Avenue</td>\n",
       "      <td>2011</td>\n",
       "      <td>Aaron Abrams</td>\n",
       "      <td>actor</td>\n",
       "      <td>Alex</td>\n",
       "      <td>4.0</td>\n",
       "      <td>Aaron Abrams</td>\n",
       "      <td>actor</td>\n",
       "      <td>Alex</td>\n",
       "      <td>4.0</td>\n",
       "    </tr>\n",
       "    <tr>\n",
       "      <th>4</th>\n",
       "      <td>Amelia</td>\n",
       "      <td>2009</td>\n",
       "      <td>Aaron Abrams</td>\n",
       "      <td>actor</td>\n",
       "      <td>Slim Gordon</td>\n",
       "      <td>8.0</td>\n",
       "      <td>Aaron Abrams</td>\n",
       "      <td>actor</td>\n",
       "      <td>Slim Gordon</td>\n",
       "      <td>8.0</td>\n",
       "    </tr>\n",
       "  </tbody>\n",
       "</table>\n",
       "</div>"
      ],
      "text/plain": [
       "                title  year        name_x type_x     character_x  n_x  \\\n",
       "0       #FromJennifer  2017  Aaron Abrams  actor  Ralph Sinclair  NaN   \n",
       "1       #FromJennifer  2017  Aaron Abrams  actor  Ralph Sinclair  NaN   \n",
       "2  388 Arletta Avenue  2011  Aaron Abrams  actor            Alex  4.0   \n",
       "3  388 Arletta Avenue  2011  Aaron Abrams  actor            Alex  4.0   \n",
       "4              Amelia  2009  Aaron Abrams  actor     Slim Gordon  8.0   \n",
       "\n",
       "               name_y type_y     character_y  n_y  \n",
       "0        Aaron Abrams  actor  Ralph Sinclair  NaN  \n",
       "1  Christian Ackerman  actor           Simon  NaN  \n",
       "2        Graham Abbey  actor      Officer #2  8.0  \n",
       "3        Aaron Abrams  actor            Alex  4.0  \n",
       "4        Aaron Abrams  actor     Slim Gordon  8.0  "
      ]
     },
     "execution_count": 28,
     "metadata": {},
     "output_type": "execute_result"
    }
   ],
   "source": [
    "c.merge(casts, on=['title', 'year']).head()"
   ]
  },
  {
   "cell_type": "code",
   "execution_count": 29,
   "id": "67bee0d1",
   "metadata": {},
   "outputs": [
    {
     "data": {
      "text/html": [
       "<div>\n",
       "<style scoped>\n",
       "    .dataframe tbody tr th:only-of-type {\n",
       "        vertical-align: middle;\n",
       "    }\n",
       "\n",
       "    .dataframe tbody tr th {\n",
       "        vertical-align: top;\n",
       "    }\n",
       "\n",
       "    .dataframe thead th {\n",
       "        text-align: right;\n",
       "    }\n",
       "</style>\n",
       "<table border=\"1\" class=\"dataframe\">\n",
       "  <thead>\n",
       "    <tr style=\"text-align: right;\">\n",
       "      <th></th>\n",
       "      <th>title</th>\n",
       "      <th>year</th>\n",
       "      <th>name_x</th>\n",
       "      <th>type_x</th>\n",
       "      <th>character_x</th>\n",
       "      <th>n_x</th>\n",
       "      <th>name_y</th>\n",
       "      <th>type_y</th>\n",
       "      <th>character_y</th>\n",
       "      <th>n_y</th>\n",
       "    </tr>\n",
       "  </thead>\n",
       "  <tbody>\n",
       "    <tr>\n",
       "      <th>1</th>\n",
       "      <td>#FromJennifer</td>\n",
       "      <td>2017</td>\n",
       "      <td>Aaron Abrams</td>\n",
       "      <td>actor</td>\n",
       "      <td>Ralph Sinclair</td>\n",
       "      <td>NaN</td>\n",
       "      <td>Christian Ackerman</td>\n",
       "      <td>actor</td>\n",
       "      <td>Simon</td>\n",
       "      <td>NaN</td>\n",
       "    </tr>\n",
       "    <tr>\n",
       "      <th>2</th>\n",
       "      <td>388 Arletta Avenue</td>\n",
       "      <td>2011</td>\n",
       "      <td>Aaron Abrams</td>\n",
       "      <td>actor</td>\n",
       "      <td>Alex</td>\n",
       "      <td>4.0</td>\n",
       "      <td>Graham Abbey</td>\n",
       "      <td>actor</td>\n",
       "      <td>Officer #2</td>\n",
       "      <td>8.0</td>\n",
       "    </tr>\n",
       "    <tr>\n",
       "      <th>5</th>\n",
       "      <td>Amelia</td>\n",
       "      <td>2009</td>\n",
       "      <td>Aaron Abrams</td>\n",
       "      <td>actor</td>\n",
       "      <td>Slim Gordon</td>\n",
       "      <td>8.0</td>\n",
       "      <td>Jeremy Akerman</td>\n",
       "      <td>actor</td>\n",
       "      <td>Sheriff</td>\n",
       "      <td>19.0</td>\n",
       "    </tr>\n",
       "    <tr>\n",
       "      <th>8</th>\n",
       "      <td>Cinderella Man</td>\n",
       "      <td>2005</td>\n",
       "      <td>Aaron Abrams</td>\n",
       "      <td>actor</td>\n",
       "      <td>1928 Fan</td>\n",
       "      <td>67.0</td>\n",
       "      <td>Nick Alachiotis</td>\n",
       "      <td>actor</td>\n",
       "      <td>Baer Cornerman</td>\n",
       "      <td>38.0</td>\n",
       "    </tr>\n",
       "    <tr>\n",
       "      <th>9</th>\n",
       "      <td>Cinderella Man</td>\n",
       "      <td>2005</td>\n",
       "      <td>Aaron Abrams</td>\n",
       "      <td>actor</td>\n",
       "      <td>1928 Fan</td>\n",
       "      <td>67.0</td>\n",
       "      <td>Nick Alachiotis</td>\n",
       "      <td>actor</td>\n",
       "      <td>Undercard Boxer - Feldman</td>\n",
       "      <td>38.0</td>\n",
       "    </tr>\n",
       "  </tbody>\n",
       "</table>\n",
       "</div>"
      ],
      "text/plain": [
       "                title  year        name_x type_x     character_x   n_x  \\\n",
       "1       #FromJennifer  2017  Aaron Abrams  actor  Ralph Sinclair   NaN   \n",
       "2  388 Arletta Avenue  2011  Aaron Abrams  actor            Alex   4.0   \n",
       "5              Amelia  2009  Aaron Abrams  actor     Slim Gordon   8.0   \n",
       "8      Cinderella Man  2005  Aaron Abrams  actor        1928 Fan  67.0   \n",
       "9      Cinderella Man  2005  Aaron Abrams  actor        1928 Fan  67.0   \n",
       "\n",
       "               name_y type_y                character_y   n_y  \n",
       "1  Christian Ackerman  actor                      Simon   NaN  \n",
       "2        Graham Abbey  actor                 Officer #2   8.0  \n",
       "5      Jeremy Akerman  actor                    Sheriff  19.0  \n",
       "8     Nick Alachiotis  actor             Baer Cornerman  38.0  \n",
       "9     Nick Alachiotis  actor  Undercard Boxer - Feldman  38.0  "
      ]
     },
     "execution_count": 29,
     "metadata": {},
     "output_type": "execute_result"
    }
   ],
   "source": [
    "c_costar = c.merge(casts, on=['title', 'year'])\n",
    "c_costar = c_costar[c_costar['name_y']!='Aaron Abrams']\n",
    "c_costar.head()"
   ]
  },
  {
   "cell_type": "markdown",
   "id": "28596223",
   "metadata": {},
   "source": [
    "## Index\n",
    "\n",
    "데이터를 구성하가ㅗ 데이터에 대한 빠른 액세스를 가능하게한다.\n",
    "%%timeit을 사용하여 작업에 필요한 시간을 비교할 수 있다."
   ]
  },
  {
   "cell_type": "code",
   "execution_count": 32,
   "id": "9e15cff1",
   "metadata": {
    "scrolled": true
   },
   "outputs": [
    {
     "data": {
      "text/html": [
       "<div>\n",
       "<style scoped>\n",
       "    .dataframe tbody tr th:only-of-type {\n",
       "        vertical-align: middle;\n",
       "    }\n",
       "\n",
       "    .dataframe tbody tr th {\n",
       "        vertical-align: top;\n",
       "    }\n",
       "\n",
       "    .dataframe thead th {\n",
       "        text-align: right;\n",
       "    }\n",
       "</style>\n",
       "<table border=\"1\" class=\"dataframe\">\n",
       "  <thead>\n",
       "    <tr style=\"text-align: right;\">\n",
       "      <th></th>\n",
       "      <th>title</th>\n",
       "      <th>year</th>\n",
       "      <th>name</th>\n",
       "      <th>type</th>\n",
       "      <th>character</th>\n",
       "      <th>n</th>\n",
       "    </tr>\n",
       "  </thead>\n",
       "  <tbody>\n",
       "    <tr>\n",
       "      <th>0</th>\n",
       "      <td>Closet Monster</td>\n",
       "      <td>2015</td>\n",
       "      <td>Buffy #1</td>\n",
       "      <td>actor</td>\n",
       "      <td>Buffy 4</td>\n",
       "      <td>31.0</td>\n",
       "    </tr>\n",
       "    <tr>\n",
       "      <th>1</th>\n",
       "      <td>Suuri illusioni</td>\n",
       "      <td>1985</td>\n",
       "      <td>Homo $</td>\n",
       "      <td>actor</td>\n",
       "      <td>Guests</td>\n",
       "      <td>22.0</td>\n",
       "    </tr>\n",
       "    <tr>\n",
       "      <th>2</th>\n",
       "      <td>Battle of the Sexes</td>\n",
       "      <td>2017</td>\n",
       "      <td>$hutter</td>\n",
       "      <td>actor</td>\n",
       "      <td>Bobby Riggs Fan</td>\n",
       "      <td>10.0</td>\n",
       "    </tr>\n",
       "    <tr>\n",
       "      <th>3</th>\n",
       "      <td>Secret in Their Eyes</td>\n",
       "      <td>2015</td>\n",
       "      <td>$hutter</td>\n",
       "      <td>actor</td>\n",
       "      <td>2002 Dodger Fan</td>\n",
       "      <td>NaN</td>\n",
       "    </tr>\n",
       "    <tr>\n",
       "      <th>4</th>\n",
       "      <td>Steve Jobs</td>\n",
       "      <td>2015</td>\n",
       "      <td>$hutter</td>\n",
       "      <td>actor</td>\n",
       "      <td>1988 Opera House Patron</td>\n",
       "      <td>NaN</td>\n",
       "    </tr>\n",
       "  </tbody>\n",
       "</table>\n",
       "</div>"
      ],
      "text/plain": [
       "                  title  year      name   type                character     n\n",
       "0        Closet Monster  2015  Buffy #1  actor                  Buffy 4  31.0\n",
       "1       Suuri illusioni  1985    Homo $  actor                   Guests  22.0\n",
       "2   Battle of the Sexes  2017   $hutter  actor          Bobby Riggs Fan  10.0\n",
       "3  Secret in Their Eyes  2015   $hutter  actor          2002 Dodger Fan   NaN\n",
       "4            Steve Jobs  2015   $hutter  actor  1988 Opera House Patron   NaN"
      ]
     },
     "execution_count": 32,
     "metadata": {},
     "output_type": "execute_result"
    }
   ],
   "source": [
    "import pandas as pd\n",
    "cast = pd.read_csv('./pythondsp-pandasguide-b936c3b43406/data/cast.csv',\n",
    "                    index_col=None, encoding='utf-8')\n",
    "cast.head()"
   ]
  },
  {
   "cell_type": "markdown",
   "id": "72b2195a",
   "metadata": {},
   "source": [
    "* index 생성"
   ]
  },
  {
   "cell_type": "code",
   "execution_count": 33,
   "id": "cf5ba770",
   "metadata": {},
   "outputs": [
    {
     "name": "stdout",
     "output_type": "stream",
     "text": [
      "CPU times: user 14.3 ms, sys: 1.64 ms, total: 16 ms\n",
      "Wall time: 16.9 ms\n"
     ]
    },
    {
     "data": {
      "text/html": [
       "<div>\n",
       "<style scoped>\n",
       "    .dataframe tbody tr th:only-of-type {\n",
       "        vertical-align: middle;\n",
       "    }\n",
       "\n",
       "    .dataframe tbody tr th {\n",
       "        vertical-align: top;\n",
       "    }\n",
       "\n",
       "    .dataframe thead th {\n",
       "        text-align: right;\n",
       "    }\n",
       "</style>\n",
       "<table border=\"1\" class=\"dataframe\">\n",
       "  <thead>\n",
       "    <tr style=\"text-align: right;\">\n",
       "      <th></th>\n",
       "      <th>title</th>\n",
       "      <th>year</th>\n",
       "      <th>name</th>\n",
       "      <th>type</th>\n",
       "      <th>character</th>\n",
       "      <th>n</th>\n",
       "    </tr>\n",
       "  </thead>\n",
       "  <tbody>\n",
       "    <tr>\n",
       "      <th>12868</th>\n",
       "      <td>Macbeth</td>\n",
       "      <td>2015</td>\n",
       "      <td>Darren Adamson</td>\n",
       "      <td>actor</td>\n",
       "      <td>Soldier</td>\n",
       "      <td>NaN</td>\n",
       "    </tr>\n",
       "    <tr>\n",
       "      <th>22302</th>\n",
       "      <td>Macbeth</td>\n",
       "      <td>1916</td>\n",
       "      <td>Spottiswoode Aitken</td>\n",
       "      <td>actor</td>\n",
       "      <td>Duncan</td>\n",
       "      <td>4.0</td>\n",
       "    </tr>\n",
       "    <tr>\n",
       "      <th>25855</th>\n",
       "      <td>Macbeth</td>\n",
       "      <td>1948</td>\n",
       "      <td>Robert Alan</td>\n",
       "      <td>actor</td>\n",
       "      <td>Third Murderer</td>\n",
       "      <td>NaN</td>\n",
       "    </tr>\n",
       "    <tr>\n",
       "      <th>26990</th>\n",
       "      <td>Macbeth</td>\n",
       "      <td>2016</td>\n",
       "      <td>John Albasiny</td>\n",
       "      <td>actor</td>\n",
       "      <td>Doctor</td>\n",
       "      <td>NaN</td>\n",
       "    </tr>\n",
       "    <tr>\n",
       "      <th>38090</th>\n",
       "      <td>Macbeth</td>\n",
       "      <td>1948</td>\n",
       "      <td>William Alland</td>\n",
       "      <td>actor</td>\n",
       "      <td>Second Murderer</td>\n",
       "      <td>18.0</td>\n",
       "    </tr>\n",
       "    <tr>\n",
       "      <th>40639</th>\n",
       "      <td>Macbeth</td>\n",
       "      <td>1997</td>\n",
       "      <td>Stevie Allen</td>\n",
       "      <td>actor</td>\n",
       "      <td>Murderer</td>\n",
       "      <td>21.0</td>\n",
       "    </tr>\n",
       "    <tr>\n",
       "      <th>60543</th>\n",
       "      <td>Macbeth</td>\n",
       "      <td>2014</td>\n",
       "      <td>Moyo Akand?</td>\n",
       "      <td>actress</td>\n",
       "      <td>Witch</td>\n",
       "      <td>NaN</td>\n",
       "    </tr>\n",
       "    <tr>\n",
       "      <th>63776</th>\n",
       "      <td>Macbeth</td>\n",
       "      <td>1916</td>\n",
       "      <td>Mary Alden</td>\n",
       "      <td>actress</td>\n",
       "      <td>Lady Macduff</td>\n",
       "      <td>6.0</td>\n",
       "    </tr>\n",
       "  </tbody>\n",
       "</table>\n",
       "</div>"
      ],
      "text/plain": [
       "         title  year                 name     type        character     n\n",
       "12868  Macbeth  2015       Darren Adamson    actor          Soldier   NaN\n",
       "22302  Macbeth  1916  Spottiswoode Aitken    actor           Duncan   4.0\n",
       "25855  Macbeth  1948          Robert Alan    actor   Third Murderer   NaN\n",
       "26990  Macbeth  2016        John Albasiny    actor           Doctor   NaN\n",
       "38090  Macbeth  1948       William Alland    actor  Second Murderer  18.0\n",
       "40639  Macbeth  1997         Stevie Allen    actor         Murderer  21.0\n",
       "60543  Macbeth  2014          Moyo Akand?  actress            Witch   NaN\n",
       "63776  Macbeth  1916           Mary Alden  actress     Lady Macduff   6.0"
      ]
     },
     "execution_count": 33,
     "metadata": {},
     "output_type": "execute_result"
    }
   ],
   "source": [
    "%%time\n",
    "# indexing없이 데이터 접근\n",
    "\n",
    "cast[cast['title']=='Macbeth']"
   ]
  },
  {
   "cell_type": "code",
   "execution_count": 34,
   "id": "4679cb16",
   "metadata": {},
   "outputs": [
    {
     "name": "stdout",
     "output_type": "stream",
     "text": [
      "3.72 ms ± 23.8 µs per loop (mean ± std. dev. of 7 runs, 100 loops each)\n"
     ]
    }
   ],
   "source": [
    "%%timeit\n",
    "\n",
    "# indexing 없이 데이터 접근\n",
    "cast[cast['title']=='Macbeth']"
   ]
  },
  {
   "cell_type": "markdown",
   "id": "249b7d57",
   "metadata": {},
   "source": [
    "* set index 를 통해 데이터에 대한 인덱스를 생성한다."
   ]
  },
  {
   "cell_type": "code",
   "execution_count": 35,
   "id": "e70a30ef",
   "metadata": {},
   "outputs": [
    {
     "data": {
      "text/html": [
       "<div>\n",
       "<style scoped>\n",
       "    .dataframe tbody tr th:only-of-type {\n",
       "        vertical-align: middle;\n",
       "    }\n",
       "\n",
       "    .dataframe tbody tr th {\n",
       "        vertical-align: top;\n",
       "    }\n",
       "\n",
       "    .dataframe thead th {\n",
       "        text-align: right;\n",
       "    }\n",
       "</style>\n",
       "<table border=\"1\" class=\"dataframe\">\n",
       "  <thead>\n",
       "    <tr style=\"text-align: right;\">\n",
       "      <th></th>\n",
       "      <th>year</th>\n",
       "      <th>name</th>\n",
       "      <th>type</th>\n",
       "      <th>character</th>\n",
       "      <th>n</th>\n",
       "    </tr>\n",
       "    <tr>\n",
       "      <th>title</th>\n",
       "      <th></th>\n",
       "      <th></th>\n",
       "      <th></th>\n",
       "      <th></th>\n",
       "      <th></th>\n",
       "    </tr>\n",
       "  </thead>\n",
       "  <tbody>\n",
       "    <tr>\n",
       "      <th>Closet Monster</th>\n",
       "      <td>2015</td>\n",
       "      <td>Buffy #1</td>\n",
       "      <td>actor</td>\n",
       "      <td>Buffy 4</td>\n",
       "      <td>31.0</td>\n",
       "    </tr>\n",
       "    <tr>\n",
       "      <th>Suuri illusioni</th>\n",
       "      <td>1985</td>\n",
       "      <td>Homo $</td>\n",
       "      <td>actor</td>\n",
       "      <td>Guests</td>\n",
       "      <td>22.0</td>\n",
       "    </tr>\n",
       "    <tr>\n",
       "      <th>Battle of the Sexes</th>\n",
       "      <td>2017</td>\n",
       "      <td>$hutter</td>\n",
       "      <td>actor</td>\n",
       "      <td>Bobby Riggs Fan</td>\n",
       "      <td>10.0</td>\n",
       "    </tr>\n",
       "    <tr>\n",
       "      <th>Secret in Their Eyes</th>\n",
       "      <td>2015</td>\n",
       "      <td>$hutter</td>\n",
       "      <td>actor</td>\n",
       "      <td>2002 Dodger Fan</td>\n",
       "      <td>NaN</td>\n",
       "    </tr>\n",
       "  </tbody>\n",
       "</table>\n",
       "</div>"
      ],
      "text/plain": [
       "                      year      name   type        character     n\n",
       "title                                                             \n",
       "Closet Monster        2015  Buffy #1  actor          Buffy 4  31.0\n",
       "Suuri illusioni       1985    Homo $  actor           Guests  22.0\n",
       "Battle of the Sexes   2017   $hutter  actor  Bobby Riggs Fan  10.0\n",
       "Secret in Their Eyes  2015   $hutter  actor  2002 Dodger Fan   NaN"
      ]
     },
     "execution_count": 35,
     "metadata": {},
     "output_type": "execute_result"
    }
   ],
   "source": [
    "c = cast.set_index(['title'])\n",
    "c.head(4)"
   ]
  },
  {
   "cell_type": "markdown",
   "id": "eedb61a4",
   "metadata": {},
   "source": [
    "* 더 빠른 작업을 위해 .loc 를 사용"
   ]
  },
  {
   "cell_type": "code",
   "execution_count": 36,
   "id": "32f3d6e1",
   "metadata": {},
   "outputs": [
    {
     "name": "stdout",
     "output_type": "stream",
     "text": [
      "CPU times: user 16.3 ms, sys: 2.59 ms, total: 18.9 ms\n",
      "Wall time: 21.5 ms\n"
     ]
    },
    {
     "data": {
      "text/html": [
       "<div>\n",
       "<style scoped>\n",
       "    .dataframe tbody tr th:only-of-type {\n",
       "        vertical-align: middle;\n",
       "    }\n",
       "\n",
       "    .dataframe tbody tr th {\n",
       "        vertical-align: top;\n",
       "    }\n",
       "\n",
       "    .dataframe thead th {\n",
       "        text-align: right;\n",
       "    }\n",
       "</style>\n",
       "<table border=\"1\" class=\"dataframe\">\n",
       "  <thead>\n",
       "    <tr style=\"text-align: right;\">\n",
       "      <th></th>\n",
       "      <th>year</th>\n",
       "      <th>name</th>\n",
       "      <th>type</th>\n",
       "      <th>character</th>\n",
       "      <th>n</th>\n",
       "    </tr>\n",
       "    <tr>\n",
       "      <th>title</th>\n",
       "      <th></th>\n",
       "      <th></th>\n",
       "      <th></th>\n",
       "      <th></th>\n",
       "      <th></th>\n",
       "    </tr>\n",
       "  </thead>\n",
       "  <tbody>\n",
       "    <tr>\n",
       "      <th>Macbeth</th>\n",
       "      <td>2015</td>\n",
       "      <td>Darren Adamson</td>\n",
       "      <td>actor</td>\n",
       "      <td>Soldier</td>\n",
       "      <td>NaN</td>\n",
       "    </tr>\n",
       "    <tr>\n",
       "      <th>Macbeth</th>\n",
       "      <td>1916</td>\n",
       "      <td>Spottiswoode Aitken</td>\n",
       "      <td>actor</td>\n",
       "      <td>Duncan</td>\n",
       "      <td>4.0</td>\n",
       "    </tr>\n",
       "    <tr>\n",
       "      <th>Macbeth</th>\n",
       "      <td>1948</td>\n",
       "      <td>Robert Alan</td>\n",
       "      <td>actor</td>\n",
       "      <td>Third Murderer</td>\n",
       "      <td>NaN</td>\n",
       "    </tr>\n",
       "    <tr>\n",
       "      <th>Macbeth</th>\n",
       "      <td>2016</td>\n",
       "      <td>John Albasiny</td>\n",
       "      <td>actor</td>\n",
       "      <td>Doctor</td>\n",
       "      <td>NaN</td>\n",
       "    </tr>\n",
       "    <tr>\n",
       "      <th>Macbeth</th>\n",
       "      <td>1948</td>\n",
       "      <td>William Alland</td>\n",
       "      <td>actor</td>\n",
       "      <td>Second Murderer</td>\n",
       "      <td>18.0</td>\n",
       "    </tr>\n",
       "    <tr>\n",
       "      <th>Macbeth</th>\n",
       "      <td>1997</td>\n",
       "      <td>Stevie Allen</td>\n",
       "      <td>actor</td>\n",
       "      <td>Murderer</td>\n",
       "      <td>21.0</td>\n",
       "    </tr>\n",
       "    <tr>\n",
       "      <th>Macbeth</th>\n",
       "      <td>2014</td>\n",
       "      <td>Moyo Akand?</td>\n",
       "      <td>actress</td>\n",
       "      <td>Witch</td>\n",
       "      <td>NaN</td>\n",
       "    </tr>\n",
       "    <tr>\n",
       "      <th>Macbeth</th>\n",
       "      <td>1916</td>\n",
       "      <td>Mary Alden</td>\n",
       "      <td>actress</td>\n",
       "      <td>Lady Macduff</td>\n",
       "      <td>6.0</td>\n",
       "    </tr>\n",
       "  </tbody>\n",
       "</table>\n",
       "</div>"
      ],
      "text/plain": [
       "         year                 name     type        character     n\n",
       "title                                                             \n",
       "Macbeth  2015       Darren Adamson    actor          Soldier   NaN\n",
       "Macbeth  1916  Spottiswoode Aitken    actor           Duncan   4.0\n",
       "Macbeth  1948          Robert Alan    actor   Third Murderer   NaN\n",
       "Macbeth  2016        John Albasiny    actor           Doctor   NaN\n",
       "Macbeth  1948       William Alland    actor  Second Murderer  18.0\n",
       "Macbeth  1997         Stevie Allen    actor         Murderer  21.0\n",
       "Macbeth  2014          Moyo Akand?  actress            Witch   NaN\n",
       "Macbeth  1916           Mary Alden  actress     Lady Macduff   6.0"
      ]
     },
     "execution_count": 36,
     "metadata": {},
     "output_type": "execute_result"
    }
   ],
   "source": [
    "%%time\n",
    "\n",
    "c.loc['Macbeth']"
   ]
  },
  {
   "cell_type": "code",
   "execution_count": 37,
   "id": "1808cad1",
   "metadata": {},
   "outputs": [
    {
     "name": "stdout",
     "output_type": "stream",
     "text": [
      "1.08 ms ± 2.13 µs per loop (mean ± std. dev. of 7 runs, 1000 loops each)\n"
     ]
    }
   ],
   "source": [
    "%%timeit\n",
    "\n",
    "c.loc['Macbeth']"
   ]
  },
  {
   "cell_type": "markdown",
   "id": "1f885529",
   "metadata": {},
   "source": [
    "* 더 빠른 작업을 위해 인덱스를 정렬한다."
   ]
  },
  {
   "cell_type": "code",
   "execution_count": 38,
   "id": "60014d99",
   "metadata": {},
   "outputs": [
    {
     "data": {
      "text/html": [
       "<div>\n",
       "<style scoped>\n",
       "    .dataframe tbody tr th:only-of-type {\n",
       "        vertical-align: middle;\n",
       "    }\n",
       "\n",
       "    .dataframe tbody tr th {\n",
       "        vertical-align: top;\n",
       "    }\n",
       "\n",
       "    .dataframe thead th {\n",
       "        text-align: right;\n",
       "    }\n",
       "</style>\n",
       "<table border=\"1\" class=\"dataframe\">\n",
       "  <thead>\n",
       "    <tr style=\"text-align: right;\">\n",
       "      <th></th>\n",
       "      <th>year</th>\n",
       "      <th>name</th>\n",
       "      <th>type</th>\n",
       "      <th>character</th>\n",
       "      <th>n</th>\n",
       "    </tr>\n",
       "    <tr>\n",
       "      <th>title</th>\n",
       "      <th></th>\n",
       "      <th></th>\n",
       "      <th></th>\n",
       "      <th></th>\n",
       "      <th></th>\n",
       "    </tr>\n",
       "  </thead>\n",
       "  <tbody>\n",
       "    <tr>\n",
       "      <th>xXx: Return of Xander Cage</th>\n",
       "      <td>2017</td>\n",
       "      <td>Julie Abcede</td>\n",
       "      <td>actor</td>\n",
       "      <td>Catwalk Partiers</td>\n",
       "      <td>84.0</td>\n",
       "    </tr>\n",
       "    <tr>\n",
       "      <th>xXx: Return of Xander Cage</th>\n",
       "      <td>2017</td>\n",
       "      <td>Jeimi Abila</td>\n",
       "      <td>actress</td>\n",
       "      <td>Lazarus' Girls</td>\n",
       "      <td>64.0</td>\n",
       "    </tr>\n",
       "    <tr>\n",
       "      <th>xXx: Return of Xander Cage</th>\n",
       "      <td>2017</td>\n",
       "      <td>Wayne Ambrose</td>\n",
       "      <td>actor</td>\n",
       "      <td>Choir Members</td>\n",
       "      <td>34.0</td>\n",
       "    </tr>\n",
       "    <tr>\n",
       "      <th>xXx: State of the Union</th>\n",
       "      <td>2005</td>\n",
       "      <td>Robert Alonzo</td>\n",
       "      <td>actor</td>\n",
       "      <td>Guard</td>\n",
       "      <td>NaN</td>\n",
       "    </tr>\n",
       "  </tbody>\n",
       "</table>\n",
       "</div>"
      ],
      "text/plain": [
       "                            year           name     type         character  \\\n",
       "title                                                                        \n",
       "xXx: Return of Xander Cage  2017   Julie Abcede    actor  Catwalk Partiers   \n",
       "xXx: Return of Xander Cage  2017    Jeimi Abila  actress    Lazarus' Girls   \n",
       "xXx: Return of Xander Cage  2017  Wayne Ambrose    actor     Choir Members   \n",
       "xXx: State of the Union     2005  Robert Alonzo    actor             Guard   \n",
       "\n",
       "                               n  \n",
       "title                             \n",
       "xXx: Return of Xander Cage  84.0  \n",
       "xXx: Return of Xander Cage  64.0  \n",
       "xXx: Return of Xander Cage  34.0  \n",
       "xXx: State of the Union      NaN  "
      ]
     },
     "execution_count": 38,
     "metadata": {},
     "output_type": "execute_result"
    }
   ],
   "source": [
    "cs = cast.set_index(['title']).sort_index()\n",
    "cs.tail(4)"
   ]
  },
  {
   "cell_type": "code",
   "execution_count": 39,
   "id": "0c4553bc",
   "metadata": {},
   "outputs": [
    {
     "name": "stdout",
     "output_type": "stream",
     "text": [
      "CPU times: user 20.3 ms, sys: 804 µs, total: 21.1 ms\n",
      "Wall time: 22.7 ms\n"
     ]
    },
    {
     "data": {
      "text/html": [
       "<div>\n",
       "<style scoped>\n",
       "    .dataframe tbody tr th:only-of-type {\n",
       "        vertical-align: middle;\n",
       "    }\n",
       "\n",
       "    .dataframe tbody tr th {\n",
       "        vertical-align: top;\n",
       "    }\n",
       "\n",
       "    .dataframe thead th {\n",
       "        text-align: right;\n",
       "    }\n",
       "</style>\n",
       "<table border=\"1\" class=\"dataframe\">\n",
       "  <thead>\n",
       "    <tr style=\"text-align: right;\">\n",
       "      <th></th>\n",
       "      <th>year</th>\n",
       "      <th>name</th>\n",
       "      <th>type</th>\n",
       "      <th>character</th>\n",
       "      <th>n</th>\n",
       "    </tr>\n",
       "    <tr>\n",
       "      <th>title</th>\n",
       "      <th></th>\n",
       "      <th></th>\n",
       "      <th></th>\n",
       "      <th></th>\n",
       "      <th></th>\n",
       "    </tr>\n",
       "  </thead>\n",
       "  <tbody>\n",
       "    <tr>\n",
       "      <th>Macbeth</th>\n",
       "      <td>1948</td>\n",
       "      <td>William Alland</td>\n",
       "      <td>actor</td>\n",
       "      <td>Second Murderer</td>\n",
       "      <td>18.0</td>\n",
       "    </tr>\n",
       "    <tr>\n",
       "      <th>Macbeth</th>\n",
       "      <td>1916</td>\n",
       "      <td>Spottiswoode Aitken</td>\n",
       "      <td>actor</td>\n",
       "      <td>Duncan</td>\n",
       "      <td>4.0</td>\n",
       "    </tr>\n",
       "    <tr>\n",
       "      <th>Macbeth</th>\n",
       "      <td>1916</td>\n",
       "      <td>Mary Alden</td>\n",
       "      <td>actress</td>\n",
       "      <td>Lady Macduff</td>\n",
       "      <td>6.0</td>\n",
       "    </tr>\n",
       "    <tr>\n",
       "      <th>Macbeth</th>\n",
       "      <td>1997</td>\n",
       "      <td>Stevie Allen</td>\n",
       "      <td>actor</td>\n",
       "      <td>Murderer</td>\n",
       "      <td>21.0</td>\n",
       "    </tr>\n",
       "    <tr>\n",
       "      <th>Macbeth</th>\n",
       "      <td>1948</td>\n",
       "      <td>Robert Alan</td>\n",
       "      <td>actor</td>\n",
       "      <td>Third Murderer</td>\n",
       "      <td>NaN</td>\n",
       "    </tr>\n",
       "    <tr>\n",
       "      <th>Macbeth</th>\n",
       "      <td>2016</td>\n",
       "      <td>John Albasiny</td>\n",
       "      <td>actor</td>\n",
       "      <td>Doctor</td>\n",
       "      <td>NaN</td>\n",
       "    </tr>\n",
       "    <tr>\n",
       "      <th>Macbeth</th>\n",
       "      <td>2014</td>\n",
       "      <td>Moyo Akand?</td>\n",
       "      <td>actress</td>\n",
       "      <td>Witch</td>\n",
       "      <td>NaN</td>\n",
       "    </tr>\n",
       "    <tr>\n",
       "      <th>Macbeth</th>\n",
       "      <td>2015</td>\n",
       "      <td>Darren Adamson</td>\n",
       "      <td>actor</td>\n",
       "      <td>Soldier</td>\n",
       "      <td>NaN</td>\n",
       "    </tr>\n",
       "  </tbody>\n",
       "</table>\n",
       "</div>"
      ],
      "text/plain": [
       "         year                 name     type        character     n\n",
       "title                                                             \n",
       "Macbeth  1948       William Alland    actor  Second Murderer  18.0\n",
       "Macbeth  1916  Spottiswoode Aitken    actor           Duncan   4.0\n",
       "Macbeth  1916           Mary Alden  actress     Lady Macduff   6.0\n",
       "Macbeth  1997         Stevie Allen    actor         Murderer  21.0\n",
       "Macbeth  1948          Robert Alan    actor   Third Murderer   NaN\n",
       "Macbeth  2016        John Albasiny    actor           Doctor   NaN\n",
       "Macbeth  2014          Moyo Akand?  actress            Witch   NaN\n",
       "Macbeth  2015       Darren Adamson    actor          Soldier   NaN"
      ]
     },
     "execution_count": 39,
     "metadata": {},
     "output_type": "execute_result"
    }
   ],
   "source": [
    "%%time\n",
    "cs.loc['Macbeth']"
   ]
  },
  {
   "cell_type": "code",
   "execution_count": 40,
   "id": "72256c9b",
   "metadata": {},
   "outputs": [
    {
     "name": "stdout",
     "output_type": "stream",
     "text": [
      "70 µs ± 392 ns per loop (mean ± std. dev. of 7 runs, 10000 loops each)\n"
     ]
    }
   ],
   "source": [
    "%%timeit\n",
    "\n",
    "cs.loc['Macbeth']"
   ]
  },
  {
   "cell_type": "markdown",
   "id": "670f8654",
   "metadata": {},
   "source": [
    "### Multiple index\n",
    "\n",
    "데이터에 여러 인덱스를 갖게 할 수 있다."
   ]
  },
  {
   "cell_type": "code",
   "execution_count": 49,
   "id": "5bf49e8e",
   "metadata": {
    "scrolled": true
   },
   "outputs": [
    {
     "data": {
      "text/html": [
       "<div>\n",
       "<style scoped>\n",
       "    .dataframe tbody tr th:only-of-type {\n",
       "        vertical-align: middle;\n",
       "    }\n",
       "\n",
       "    .dataframe tbody tr th {\n",
       "        vertical-align: top;\n",
       "    }\n",
       "\n",
       "    .dataframe thead th {\n",
       "        text-align: right;\n",
       "    }\n",
       "</style>\n",
       "<table border=\"1\" class=\"dataframe\">\n",
       "  <thead>\n",
       "    <tr style=\"text-align: right;\">\n",
       "      <th></th>\n",
       "      <th></th>\n",
       "      <th>year</th>\n",
       "      <th>name</th>\n",
       "      <th>type</th>\n",
       "      <th>character</th>\n",
       "    </tr>\n",
       "    <tr>\n",
       "      <th>title</th>\n",
       "      <th>n</th>\n",
       "      <th></th>\n",
       "      <th></th>\n",
       "      <th></th>\n",
       "      <th></th>\n",
       "    </tr>\n",
       "  </thead>\n",
       "  <tbody>\n",
       "    <tr>\n",
       "      <th>Zwei in einem Anzug</th>\n",
       "      <th>2.0</th>\n",
       "      <td>1950</td>\n",
       "      <td>Wolf Albach-Retty</td>\n",
       "      <td>actor</td>\n",
       "      <td>Otto Vogel</td>\n",
       "    </tr>\n",
       "    <tr>\n",
       "      <th>Zwei in einem Auto</th>\n",
       "      <th>2.0</th>\n",
       "      <td>1951</td>\n",
       "      <td>Wolf Albach-Retty</td>\n",
       "      <td>actor</td>\n",
       "      <td>Georg Schmittlein</td>\n",
       "    </tr>\n",
       "    <tr>\n",
       "      <th>Zweimal zwei im Himmelbett</th>\n",
       "      <th>1.0</th>\n",
       "      <td>1937</td>\n",
       "      <td>Georg Alexander</td>\n",
       "      <td>actor</td>\n",
       "      <td>Arnd Krusemark</td>\n",
       "    </tr>\n",
       "    <tr>\n",
       "      <th>Zwischen Lachen und Weinen</th>\n",
       "      <th>NaN</th>\n",
       "      <td>1919</td>\n",
       "      <td>Georg Alexander</td>\n",
       "      <td>actor</td>\n",
       "      <td>Hans</td>\n",
       "    </tr>\n",
       "    <tr>\n",
       "      <th rowspan=\"2\" valign=\"top\">Zwischen Pankow und Zehlendorf</th>\n",
       "      <th>3.0</th>\n",
       "      <td>1991</td>\n",
       "      <td>Kathrin Ackermann</td>\n",
       "      <td>actress</td>\n",
       "      <td>Nora Permont</td>\n",
       "    </tr>\n",
       "    <tr>\n",
       "      <th>NaN</th>\n",
       "      <td>1991</td>\n",
       "      <td>Eugen Albert</td>\n",
       "      <td>actor</td>\n",
       "      <td>Soldat</td>\n",
       "    </tr>\n",
       "    <tr>\n",
       "      <th>Zwischen Welten</th>\n",
       "      <th>2.0</th>\n",
       "      <td>2014</td>\n",
       "      <td>Mohsin Ahmady</td>\n",
       "      <td>actor</td>\n",
       "      <td>Tarik</td>\n",
       "    </tr>\n",
       "    <tr>\n",
       "      <th>Zwischen den Sternen</th>\n",
       "      <th>2.0</th>\n",
       "      <td>2002</td>\n",
       "      <td>Fatih Alas</td>\n",
       "      <td>actor</td>\n",
       "      <td>Umut</td>\n",
       "    </tr>\n",
       "    <tr>\n",
       "      <th>Zwischen vierzehn und siebzehn - Sexualnot der Jugend</th>\n",
       "      <th>5.0</th>\n",
       "      <td>1929</td>\n",
       "      <td>Fritz Alberti</td>\n",
       "      <td>actor</td>\n",
       "      <td>Parent</td>\n",
       "    </tr>\n",
       "    <tr>\n",
       "      <th>Zwischengleis</th>\n",
       "      <th>7.0</th>\n",
       "      <td>1978</td>\n",
       "      <td>Alexander Allerson</td>\n",
       "      <td>actor</td>\n",
       "      <td>Bolle</td>\n",
       "    </tr>\n",
       "    <tr>\n",
       "      <th rowspan=\"2\" valign=\"top\">Zyat iz provintsii</th>\n",
       "      <th>NaN</th>\n",
       "      <td>1987</td>\n",
       "      <td>Dinmukhamet Akhimov</td>\n",
       "      <td>actor</td>\n",
       "      <td>?Taksist?</td>\n",
       "    </tr>\n",
       "    <tr>\n",
       "      <th>NaN</th>\n",
       "      <td>1987</td>\n",
       "      <td>Kalampyr Ajsangaliyeva</td>\n",
       "      <td>actress</td>\n",
       "      <td>Luzhan</td>\n",
       "    </tr>\n",
       "    <tr>\n",
       "      <th>Zzikhimyeon jukneunda</th>\n",
       "      <th>3.0</th>\n",
       "      <td>2000</td>\n",
       "      <td>Jae-hwan Ahn</td>\n",
       "      <td>actor</td>\n",
       "      <td>The Teacher</td>\n",
       "    </tr>\n",
       "    <tr>\n",
       "      <th>bestefreunde</th>\n",
       "      <th>3.0</th>\n",
       "      <td>2014</td>\n",
       "      <td>Tina Amon Amonsen</td>\n",
       "      <td>actress</td>\n",
       "      <td>Vivian</td>\n",
       "    </tr>\n",
       "    <tr>\n",
       "      <th>bwoy</th>\n",
       "      <th>NaN</th>\n",
       "      <td>2016</td>\n",
       "      <td>Drew (IV) Allen</td>\n",
       "      <td>actor</td>\n",
       "      <td>Boss</td>\n",
       "    </tr>\n",
       "    <tr>\n",
       "      <th rowspan=\"2\" valign=\"top\">eCupid</th>\n",
       "      <th>33.0</th>\n",
       "      <td>2011</td>\n",
       "      <td>Christy Alvarado</td>\n",
       "      <td>actress</td>\n",
       "      <td>Patron</td>\n",
       "    </tr>\n",
       "    <tr>\n",
       "      <th>47.0</th>\n",
       "      <td>2011</td>\n",
       "      <td>Shon Abram</td>\n",
       "      <td>actor</td>\n",
       "      <td>Patron</td>\n",
       "    </tr>\n",
       "    <tr>\n",
       "      <th>el Ziara</th>\n",
       "      <th>NaN</th>\n",
       "      <td>2014</td>\n",
       "      <td>Manel Abdelkoui</td>\n",
       "      <td>actor</td>\n",
       "      <td>Randa</td>\n",
       "    </tr>\n",
       "    <tr>\n",
       "      <th rowspan=\"2\" valign=\"top\">fl 19,99</th>\n",
       "      <th>NaN</th>\n",
       "      <td>1998</td>\n",
       "      <td>Thomas Acda</td>\n",
       "      <td>actor</td>\n",
       "      <td>Harrie Harings</td>\n",
       "    </tr>\n",
       "    <tr>\n",
       "      <th>NaN</th>\n",
       "      <td>1998</td>\n",
       "      <td>Marijke Aerts</td>\n",
       "      <td>actress</td>\n",
       "      <td>Mevrouw van Veen</td>\n",
       "    </tr>\n",
       "    <tr>\n",
       "      <th>iBoy</th>\n",
       "      <th>9.0</th>\n",
       "      <td>2017</td>\n",
       "      <td>Shaquille Ali-Yebuah</td>\n",
       "      <td>actor</td>\n",
       "      <td>Cass</td>\n",
       "    </tr>\n",
       "    <tr>\n",
       "      <th>inter.m@tes</th>\n",
       "      <th>6.0</th>\n",
       "      <td>2004</td>\n",
       "      <td>Jojo Alejar</td>\n",
       "      <td>actor</td>\n",
       "      <td>Gus 'Hopeless' Geronimo</td>\n",
       "    </tr>\n",
       "    <tr>\n",
       "      <th rowspan=\"2\" valign=\"top\">kingdom of ants</th>\n",
       "      <th>NaN</th>\n",
       "      <td>2016</td>\n",
       "      <td>Zayar Abdulla</td>\n",
       "      <td>actor</td>\n",
       "      <td>Hadi</td>\n",
       "    </tr>\n",
       "    <tr>\n",
       "      <th>NaN</th>\n",
       "      <td>2016</td>\n",
       "      <td>Rupak Abdulkadr</td>\n",
       "      <td>actress</td>\n",
       "      <td>Rupak mother</td>\n",
       "    </tr>\n",
       "    <tr>\n",
       "      <th>les aventures d'archives</th>\n",
       "      <th>NaN</th>\n",
       "      <td>2016</td>\n",
       "      <td>Buzz Aldrin</td>\n",
       "      <td>actor</td>\n",
       "      <td>Himself</td>\n",
       "    </tr>\n",
       "    <tr>\n",
       "      <th>w Delta z</th>\n",
       "      <th>8.0</th>\n",
       "      <td>2007</td>\n",
       "      <td>Barbara Adair</td>\n",
       "      <td>actress</td>\n",
       "      <td>Alice Jackson</td>\n",
       "    </tr>\n",
       "    <tr>\n",
       "      <th rowspan=\"3\" valign=\"top\">xXx: Return of Xander Cage</th>\n",
       "      <th>34.0</th>\n",
       "      <td>2017</td>\n",
       "      <td>Wayne Ambrose</td>\n",
       "      <td>actor</td>\n",
       "      <td>Choir Members</td>\n",
       "    </tr>\n",
       "    <tr>\n",
       "      <th>64.0</th>\n",
       "      <td>2017</td>\n",
       "      <td>Jeimi Abila</td>\n",
       "      <td>actress</td>\n",
       "      <td>Lazarus' Girls</td>\n",
       "    </tr>\n",
       "    <tr>\n",
       "      <th>84.0</th>\n",
       "      <td>2017</td>\n",
       "      <td>Julie Abcede</td>\n",
       "      <td>actor</td>\n",
       "      <td>Catwalk Partiers</td>\n",
       "    </tr>\n",
       "    <tr>\n",
       "      <th>xXx: State of the Union</th>\n",
       "      <th>NaN</th>\n",
       "      <td>2005</td>\n",
       "      <td>Robert Alonzo</td>\n",
       "      <td>actor</td>\n",
       "      <td>Guard</td>\n",
       "    </tr>\n",
       "  </tbody>\n",
       "</table>\n",
       "</div>"
      ],
      "text/plain": [
       "                                                          year  \\\n",
       "title                                              n             \n",
       "Zwei in einem Anzug                                2.0    1950   \n",
       "Zwei in einem Auto                                 2.0    1951   \n",
       "Zweimal zwei im Himmelbett                         1.0    1937   \n",
       "Zwischen Lachen und Weinen                         NaN    1919   \n",
       "Zwischen Pankow und Zehlendorf                     3.0    1991   \n",
       "                                                   NaN    1991   \n",
       "Zwischen Welten                                    2.0    2014   \n",
       "Zwischen den Sternen                               2.0    2002   \n",
       "Zwischen vierzehn und siebzehn - Sexualnot der ... 5.0    1929   \n",
       "Zwischengleis                                      7.0    1978   \n",
       "Zyat iz provintsii                                 NaN    1987   \n",
       "                                                   NaN    1987   \n",
       "Zzikhimyeon jukneunda                              3.0    2000   \n",
       "bestefreunde                                       3.0    2014   \n",
       "bwoy                                               NaN    2016   \n",
       "eCupid                                             33.0   2011   \n",
       "                                                   47.0   2011   \n",
       "el Ziara                                           NaN    2014   \n",
       "fl 19,99                                           NaN    1998   \n",
       "                                                   NaN    1998   \n",
       "iBoy                                               9.0    2017   \n",
       "inter.m@tes                                        6.0    2004   \n",
       "kingdom of ants                                    NaN    2016   \n",
       "                                                   NaN    2016   \n",
       "les aventures d'archives                           NaN    2016   \n",
       "w Delta z                                          8.0    2007   \n",
       "xXx: Return of Xander Cage                         34.0   2017   \n",
       "                                                   64.0   2017   \n",
       "                                                   84.0   2017   \n",
       "xXx: State of the Union                            NaN    2005   \n",
       "\n",
       "                                                                            name  \\\n",
       "title                                              n                               \n",
       "Zwei in einem Anzug                                2.0         Wolf Albach-Retty   \n",
       "Zwei in einem Auto                                 2.0         Wolf Albach-Retty   \n",
       "Zweimal zwei im Himmelbett                         1.0           Georg Alexander   \n",
       "Zwischen Lachen und Weinen                         NaN           Georg Alexander   \n",
       "Zwischen Pankow und Zehlendorf                     3.0         Kathrin Ackermann   \n",
       "                                                   NaN              Eugen Albert   \n",
       "Zwischen Welten                                    2.0             Mohsin Ahmady   \n",
       "Zwischen den Sternen                               2.0                Fatih Alas   \n",
       "Zwischen vierzehn und siebzehn - Sexualnot der ... 5.0             Fritz Alberti   \n",
       "Zwischengleis                                      7.0        Alexander Allerson   \n",
       "Zyat iz provintsii                                 NaN       Dinmukhamet Akhimov   \n",
       "                                                   NaN    Kalampyr Ajsangaliyeva   \n",
       "Zzikhimyeon jukneunda                              3.0              Jae-hwan Ahn   \n",
       "bestefreunde                                       3.0         Tina Amon Amonsen   \n",
       "bwoy                                               NaN           Drew (IV) Allen   \n",
       "eCupid                                             33.0         Christy Alvarado   \n",
       "                                                   47.0               Shon Abram   \n",
       "el Ziara                                           NaN           Manel Abdelkoui   \n",
       "fl 19,99                                           NaN               Thomas Acda   \n",
       "                                                   NaN             Marijke Aerts   \n",
       "iBoy                                               9.0      Shaquille Ali-Yebuah   \n",
       "inter.m@tes                                        6.0               Jojo Alejar   \n",
       "kingdom of ants                                    NaN             Zayar Abdulla   \n",
       "                                                   NaN           Rupak Abdulkadr   \n",
       "les aventures d'archives                           NaN               Buzz Aldrin   \n",
       "w Delta z                                          8.0             Barbara Adair   \n",
       "xXx: Return of Xander Cage                         34.0            Wayne Ambrose   \n",
       "                                                   64.0              Jeimi Abila   \n",
       "                                                   84.0             Julie Abcede   \n",
       "xXx: State of the Union                            NaN             Robert Alonzo   \n",
       "\n",
       "                                                             type  \\\n",
       "title                                              n                \n",
       "Zwei in einem Anzug                                2.0      actor   \n",
       "Zwei in einem Auto                                 2.0      actor   \n",
       "Zweimal zwei im Himmelbett                         1.0      actor   \n",
       "Zwischen Lachen und Weinen                         NaN      actor   \n",
       "Zwischen Pankow und Zehlendorf                     3.0    actress   \n",
       "                                                   NaN      actor   \n",
       "Zwischen Welten                                    2.0      actor   \n",
       "Zwischen den Sternen                               2.0      actor   \n",
       "Zwischen vierzehn und siebzehn - Sexualnot der ... 5.0      actor   \n",
       "Zwischengleis                                      7.0      actor   \n",
       "Zyat iz provintsii                                 NaN      actor   \n",
       "                                                   NaN    actress   \n",
       "Zzikhimyeon jukneunda                              3.0      actor   \n",
       "bestefreunde                                       3.0    actress   \n",
       "bwoy                                               NaN      actor   \n",
       "eCupid                                             33.0   actress   \n",
       "                                                   47.0     actor   \n",
       "el Ziara                                           NaN      actor   \n",
       "fl 19,99                                           NaN      actor   \n",
       "                                                   NaN    actress   \n",
       "iBoy                                               9.0      actor   \n",
       "inter.m@tes                                        6.0      actor   \n",
       "kingdom of ants                                    NaN      actor   \n",
       "                                                   NaN    actress   \n",
       "les aventures d'archives                           NaN      actor   \n",
       "w Delta z                                          8.0    actress   \n",
       "xXx: Return of Xander Cage                         34.0     actor   \n",
       "                                                   64.0   actress   \n",
       "                                                   84.0     actor   \n",
       "xXx: State of the Union                            NaN      actor   \n",
       "\n",
       "                                                                        character  \n",
       "title                                              n                               \n",
       "Zwei in einem Anzug                                2.0                 Otto Vogel  \n",
       "Zwei in einem Auto                                 2.0          Georg Schmittlein  \n",
       "Zweimal zwei im Himmelbett                         1.0             Arnd Krusemark  \n",
       "Zwischen Lachen und Weinen                         NaN                       Hans  \n",
       "Zwischen Pankow und Zehlendorf                     3.0               Nora Permont  \n",
       "                                                   NaN                     Soldat  \n",
       "Zwischen Welten                                    2.0                      Tarik  \n",
       "Zwischen den Sternen                               2.0                       Umut  \n",
       "Zwischen vierzehn und siebzehn - Sexualnot der ... 5.0                     Parent  \n",
       "Zwischengleis                                      7.0                      Bolle  \n",
       "Zyat iz provintsii                                 NaN                  ?Taksist?  \n",
       "                                                   NaN                     Luzhan  \n",
       "Zzikhimyeon jukneunda                              3.0                The Teacher  \n",
       "bestefreunde                                       3.0                     Vivian  \n",
       "bwoy                                               NaN                       Boss  \n",
       "eCupid                                             33.0                    Patron  \n",
       "                                                   47.0                    Patron  \n",
       "el Ziara                                           NaN                      Randa  \n",
       "fl 19,99                                           NaN             Harrie Harings  \n",
       "                                                   NaN           Mevrouw van Veen  \n",
       "iBoy                                               9.0                       Cass  \n",
       "inter.m@tes                                        6.0    Gus 'Hopeless' Geronimo  \n",
       "kingdom of ants                                    NaN                       Hadi  \n",
       "                                                   NaN               Rupak mother  \n",
       "les aventures d'archives                           NaN                    Himself  \n",
       "w Delta z                                          8.0              Alice Jackson  \n",
       "xXx: Return of Xander Cage                         34.0             Choir Members  \n",
       "                                                   64.0            Lazarus' Girls  \n",
       "                                                   84.0          Catwalk Partiers  \n",
       "xXx: State of the Union                            NaN                      Guard  "
      ]
     },
     "execution_count": 49,
     "metadata": {},
     "output_type": "execute_result"
    }
   ],
   "source": [
    "cm = cast.set_index(['title', 'n']).sort_index()\n",
    "cm.tail(30)"
   ]
  },
  {
   "cell_type": "code",
   "execution_count": 50,
   "id": "cb769f6b",
   "metadata": {},
   "outputs": [
    {
     "data": {
      "text/html": [
       "<div>\n",
       "<style scoped>\n",
       "    .dataframe tbody tr th:only-of-type {\n",
       "        vertical-align: middle;\n",
       "    }\n",
       "\n",
       "    .dataframe tbody tr th {\n",
       "        vertical-align: top;\n",
       "    }\n",
       "\n",
       "    .dataframe thead th {\n",
       "        text-align: right;\n",
       "    }\n",
       "</style>\n",
       "<table border=\"1\" class=\"dataframe\">\n",
       "  <thead>\n",
       "    <tr style=\"text-align: right;\">\n",
       "      <th></th>\n",
       "      <th>year</th>\n",
       "      <th>name</th>\n",
       "      <th>type</th>\n",
       "      <th>character</th>\n",
       "    </tr>\n",
       "    <tr>\n",
       "      <th>n</th>\n",
       "      <th></th>\n",
       "      <th></th>\n",
       "      <th></th>\n",
       "      <th></th>\n",
       "    </tr>\n",
       "  </thead>\n",
       "  <tbody>\n",
       "    <tr>\n",
       "      <th>4.0</th>\n",
       "      <td>1916</td>\n",
       "      <td>Spottiswoode Aitken</td>\n",
       "      <td>actor</td>\n",
       "      <td>Duncan</td>\n",
       "    </tr>\n",
       "    <tr>\n",
       "      <th>6.0</th>\n",
       "      <td>1916</td>\n",
       "      <td>Mary Alden</td>\n",
       "      <td>actress</td>\n",
       "      <td>Lady Macduff</td>\n",
       "    </tr>\n",
       "    <tr>\n",
       "      <th>18.0</th>\n",
       "      <td>1948</td>\n",
       "      <td>William Alland</td>\n",
       "      <td>actor</td>\n",
       "      <td>Second Murderer</td>\n",
       "    </tr>\n",
       "    <tr>\n",
       "      <th>21.0</th>\n",
       "      <td>1997</td>\n",
       "      <td>Stevie Allen</td>\n",
       "      <td>actor</td>\n",
       "      <td>Murderer</td>\n",
       "    </tr>\n",
       "    <tr>\n",
       "      <th>NaN</th>\n",
       "      <td>2015</td>\n",
       "      <td>Darren Adamson</td>\n",
       "      <td>actor</td>\n",
       "      <td>Soldier</td>\n",
       "    </tr>\n",
       "    <tr>\n",
       "      <th>NaN</th>\n",
       "      <td>1948</td>\n",
       "      <td>Robert Alan</td>\n",
       "      <td>actor</td>\n",
       "      <td>Third Murderer</td>\n",
       "    </tr>\n",
       "    <tr>\n",
       "      <th>NaN</th>\n",
       "      <td>2016</td>\n",
       "      <td>John Albasiny</td>\n",
       "      <td>actor</td>\n",
       "      <td>Doctor</td>\n",
       "    </tr>\n",
       "    <tr>\n",
       "      <th>NaN</th>\n",
       "      <td>2014</td>\n",
       "      <td>Moyo Akand?</td>\n",
       "      <td>actress</td>\n",
       "      <td>Witch</td>\n",
       "    </tr>\n",
       "  </tbody>\n",
       "</table>\n",
       "</div>"
      ],
      "text/plain": [
       "      year                 name     type        character\n",
       "n                                                        \n",
       "4.0   1916  Spottiswoode Aitken    actor           Duncan\n",
       "6.0   1916           Mary Alden  actress     Lady Macduff\n",
       "18.0  1948       William Alland    actor  Second Murderer\n",
       "21.0  1997         Stevie Allen    actor         Murderer\n",
       "NaN   2015       Darren Adamson    actor          Soldier\n",
       "NaN   1948          Robert Alan    actor   Third Murderer\n",
       "NaN   2016        John Albasiny    actor           Doctor\n",
       "NaN   2014          Moyo Akand?  actress            Witch"
      ]
     },
     "execution_count": 50,
     "metadata": {},
     "output_type": "execute_result"
    }
   ],
   "source": [
    "cm.loc['Macbeth']"
   ]
  },
  {
   "cell_type": "code",
   "execution_count": 51,
   "id": "381012c8",
   "metadata": {},
   "outputs": [
    {
     "data": {
      "text/html": [
       "<div>\n",
       "<style scoped>\n",
       "    .dataframe tbody tr th:only-of-type {\n",
       "        vertical-align: middle;\n",
       "    }\n",
       "\n",
       "    .dataframe tbody tr th {\n",
       "        vertical-align: top;\n",
       "    }\n",
       "\n",
       "    .dataframe thead th {\n",
       "        text-align: right;\n",
       "    }\n",
       "</style>\n",
       "<table border=\"1\" class=\"dataframe\">\n",
       "  <thead>\n",
       "    <tr style=\"text-align: right;\">\n",
       "      <th></th>\n",
       "      <th>year</th>\n",
       "      <th>name</th>\n",
       "      <th>type</th>\n",
       "      <th>character</th>\n",
       "    </tr>\n",
       "    <tr>\n",
       "      <th>n</th>\n",
       "      <th></th>\n",
       "      <th></th>\n",
       "      <th></th>\n",
       "      <th></th>\n",
       "    </tr>\n",
       "  </thead>\n",
       "  <tbody>\n",
       "    <tr>\n",
       "      <th>4.0</th>\n",
       "      <td>1916</td>\n",
       "      <td>Spottiswoode Aitken</td>\n",
       "      <td>actor</td>\n",
       "      <td>Duncan</td>\n",
       "    </tr>\n",
       "    <tr>\n",
       "      <th>6.0</th>\n",
       "      <td>1916</td>\n",
       "      <td>Mary Alden</td>\n",
       "      <td>actress</td>\n",
       "      <td>Lady Macduff</td>\n",
       "    </tr>\n",
       "    <tr>\n",
       "      <th>18.0</th>\n",
       "      <td>1948</td>\n",
       "      <td>William Alland</td>\n",
       "      <td>actor</td>\n",
       "      <td>Second Murderer</td>\n",
       "    </tr>\n",
       "  </tbody>\n",
       "</table>\n",
       "</div>"
      ],
      "text/plain": [
       "      year                 name     type        character\n",
       "n                                                        \n",
       "4.0   1916  Spottiswoode Aitken    actor           Duncan\n",
       "6.0   1916           Mary Alden  actress     Lady Macduff\n",
       "18.0  1948       William Alland    actor  Second Murderer"
      ]
     },
     "execution_count": 51,
     "metadata": {},
     "output_type": "execute_result"
    }
   ],
   "source": [
    "cm.loc['Macbeth'].loc[4:18]"
   ]
  },
  {
   "cell_type": "code",
   "execution_count": 52,
   "id": "04e7a246",
   "metadata": {},
   "outputs": [
    {
     "data": {
      "text/plain": [
       "year                        1916\n",
       "name         Spottiswoode Aitken\n",
       "type                       actor\n",
       "character                 Duncan\n",
       "Name: 4.0, dtype: object"
      ]
     },
     "execution_count": 52,
     "metadata": {},
     "output_type": "execute_result"
    }
   ],
   "source": [
    "cm.loc['Macbeth'].loc[4]"
   ]
  },
  {
   "cell_type": "code",
   "execution_count": 53,
   "id": "7cfbdcbe",
   "metadata": {},
   "outputs": [
    {
     "data": {
      "text/html": [
       "<div>\n",
       "<style scoped>\n",
       "    .dataframe tbody tr th:only-of-type {\n",
       "        vertical-align: middle;\n",
       "    }\n",
       "\n",
       "    .dataframe tbody tr th {\n",
       "        vertical-align: top;\n",
       "    }\n",
       "\n",
       "    .dataframe thead th {\n",
       "        text-align: right;\n",
       "    }\n",
       "</style>\n",
       "<table border=\"1\" class=\"dataframe\">\n",
       "  <thead>\n",
       "    <tr style=\"text-align: right;\">\n",
       "      <th></th>\n",
       "      <th></th>\n",
       "      <th>year</th>\n",
       "      <th>name</th>\n",
       "      <th>type</th>\n",
       "      <th>character</th>\n",
       "    </tr>\n",
       "    <tr>\n",
       "      <th>title</th>\n",
       "      <th>n</th>\n",
       "      <th></th>\n",
       "      <th></th>\n",
       "      <th></th>\n",
       "      <th></th>\n",
       "    </tr>\n",
       "  </thead>\n",
       "  <tbody>\n",
       "    <tr>\n",
       "      <th>#1 Serial Killer</th>\n",
       "      <th>17.0</th>\n",
       "      <td>2013</td>\n",
       "      <td>Michael Alton</td>\n",
       "      <td>actor</td>\n",
       "      <td>Detective Roberts</td>\n",
       "    </tr>\n",
       "    <tr>\n",
       "      <th>#DigitalLivesMatter</th>\n",
       "      <th>NaN</th>\n",
       "      <td>2016</td>\n",
       "      <td>Rashan Ali</td>\n",
       "      <td>actress</td>\n",
       "      <td>News Reporter</td>\n",
       "    </tr>\n",
       "  </tbody>\n",
       "</table>\n",
       "</div>"
      ],
      "text/plain": [
       "                           year           name     type          character\n",
       "title               n                                                     \n",
       "#1 Serial Killer    17.0   2013  Michael Alton    actor  Detective Roberts\n",
       "#DigitalLivesMatter NaN    2016     Rashan Ali  actress      News Reporter"
      ]
     },
     "execution_count": 53,
     "metadata": {},
     "output_type": "execute_result"
    }
   ],
   "source": [
    "cm.head(2)"
   ]
  },
  {
   "cell_type": "markdown",
   "id": "df98224e",
   "metadata": {},
   "source": [
    "### reset index\n",
    "\n",
    "reset_index( ) 을 사용하여 인덱스를 제설정 할 수 있다."
   ]
  },
  {
   "cell_type": "code",
   "execution_count": 54,
   "id": "c423b72f",
   "metadata": {},
   "outputs": [
    {
     "data": {
      "text/html": [
       "<div>\n",
       "<style scoped>\n",
       "    .dataframe tbody tr th:only-of-type {\n",
       "        vertical-align: middle;\n",
       "    }\n",
       "\n",
       "    .dataframe tbody tr th {\n",
       "        vertical-align: top;\n",
       "    }\n",
       "\n",
       "    .dataframe thead th {\n",
       "        text-align: right;\n",
       "    }\n",
       "</style>\n",
       "<table border=\"1\" class=\"dataframe\">\n",
       "  <thead>\n",
       "    <tr style=\"text-align: right;\">\n",
       "      <th></th>\n",
       "      <th>n</th>\n",
       "      <th>year</th>\n",
       "      <th>name</th>\n",
       "      <th>type</th>\n",
       "      <th>character</th>\n",
       "    </tr>\n",
       "    <tr>\n",
       "      <th>title</th>\n",
       "      <th></th>\n",
       "      <th></th>\n",
       "      <th></th>\n",
       "      <th></th>\n",
       "      <th></th>\n",
       "    </tr>\n",
       "  </thead>\n",
       "  <tbody>\n",
       "    <tr>\n",
       "      <th>#1 Serial Killer</th>\n",
       "      <td>17.0</td>\n",
       "      <td>2013</td>\n",
       "      <td>Michael Alton</td>\n",
       "      <td>actor</td>\n",
       "      <td>Detective Roberts</td>\n",
       "    </tr>\n",
       "    <tr>\n",
       "      <th>#DigitalLivesMatter</th>\n",
       "      <td>NaN</td>\n",
       "      <td>2016</td>\n",
       "      <td>Rashan Ali</td>\n",
       "      <td>actress</td>\n",
       "      <td>News Reporter</td>\n",
       "    </tr>\n",
       "  </tbody>\n",
       "</table>\n",
       "</div>"
      ],
      "text/plain": [
       "                        n  year           name     type          character\n",
       "title                                                                     \n",
       "#1 Serial Killer     17.0  2013  Michael Alton    actor  Detective Roberts\n",
       "#DigitalLivesMatter   NaN  2016     Rashan Ali  actress      News Reporter"
      ]
     },
     "execution_count": 54,
     "metadata": {},
     "output_type": "execute_result"
    }
   ],
   "source": [
    "cm = cm.reset_index('n')\n",
    "cm.head(2)"
   ]
  },
  {
   "cell_type": "markdown",
   "id": "96429f9c",
   "metadata": {},
   "source": [
    "## CSV library\n",
    "\n",
    "### read file"
   ]
  },
  {
   "cell_type": "code",
   "execution_count": 58,
   "id": "6065f6a5",
   "metadata": {},
   "outputs": [
    {
     "data": {
      "text/plain": [
       "[{'title': 'The Rising Son', 'year': '1990'},\n",
       " {'title': 'The Thousand Plane Raid', 'year': '1969'},\n",
       " {'title': 'Crucea de piatra', 'year': '1993'},\n",
       " {'title': 'Country', 'year': '2000'},\n",
       " {'title': 'Gaiking II', 'year': '2011'}]"
      ]
     },
     "execution_count": 58,
     "metadata": {},
     "output_type": "execute_result"
    }
   ],
   "source": [
    "import csv\n",
    "titles = list(csv.DictReader(open('./pythondsp-pandasguide-b936c3b43406/data/titles.csv')))\n",
    "titles[0:5]"
   ]
  },
  {
   "cell_type": "code",
   "execution_count": 61,
   "id": "c45a5dfa",
   "metadata": {},
   "outputs": [
    {
     "data": {
      "text/plain": [
       "[{'title': 'Rebel', 'year': '1970'},\n",
       " {'title': 'Suzanne', 'year': '1996'},\n",
       " {'title': 'Bomba', 'year': '2013'},\n",
       " {'title': 'Aao Jao Ghar Tumhara', 'year': '1984'},\n",
       " {'title': 'Mrs. Munck', 'year': '1995'}]"
      ]
     },
     "execution_count": 61,
     "metadata": {},
     "output_type": "execute_result"
    }
   ],
   "source": [
    "titles[-5:]"
   ]
  },
  {
   "cell_type": "markdown",
   "id": "e9e92536",
   "metadata": {},
   "source": [
    "* 별도의 행에 제목과 연도 표시"
   ]
  },
  {
   "cell_type": "code",
   "execution_count": 60,
   "id": "b4d97d7f",
   "metadata": {},
   "outputs": [
    {
     "name": "stdout",
     "output_type": "stream",
     "text": [
      "title : The Rising Son\n",
      "year : 1990\n"
     ]
    }
   ],
   "source": [
    "for k, v in titles[0].items():\n",
    "    print(k, ':', v)"
   ]
  },
  {
   "cell_type": "markdown",
   "id": "adc7d27e",
   "metadata": {},
   "source": [
    "### 연도에 따라 영화 표시\n",
    "\n",
    "* 1985년의 모든 영화 표시"
   ]
  },
  {
   "cell_type": "code",
   "execution_count": 62,
   "id": "2f1425fa",
   "metadata": {},
   "outputs": [
    {
     "data": {
      "text/plain": [
       "[{'title': 'Insaaf Main Karoonga', 'year': '1985'},\n",
       " {'title': 'Vivre pour survivre', 'year': '1985'},\n",
       " {'title': 'Water', 'year': '1985'},\n",
       " {'title': 'Doea tanda mata', 'year': '1985'},\n",
       " {'title': 'Koritsia gia tsibima', 'year': '1985'}]"
      ]
     },
     "execution_count": 62,
     "metadata": {},
     "output_type": "execute_result"
    }
   ],
   "source": [
    "year85 = [a for a in titles if a['year']=='1985']\n",
    "year85[:5]"
   ]
  },
  {
   "cell_type": "markdown",
   "id": "a633f99c",
   "metadata": {},
   "source": [
    "* 1990~1999년 영화표시"
   ]
  },
  {
   "cell_type": "code",
   "execution_count": 63,
   "id": "b17eaa08",
   "metadata": {},
   "outputs": [
    {
     "data": {
      "text/plain": [
       "[{'title': 'The Rising Son', 'year': '1990'},\n",
       " {'title': 'Crucea de piatra', 'year': '1993'},\n",
       " {'title': 'Poka Makorer Ghar Bosoti', 'year': '1996'},\n",
       " {'title': 'Maa Durga Shakti', 'year': '1999'},\n",
       " {'title': 'Conflict of Interest', 'year': '1993'}]"
      ]
     },
     "execution_count": 63,
     "metadata": {},
     "output_type": "execute_result"
    }
   ],
   "source": [
    "movies90 = [m for m in titles if (int(m['year'])<int('2000')) and (int(m['year'])>int('1989'))]\n",
    "movies90[:5]"
   ]
  },
  {
   "cell_type": "markdown",
   "id": "cd9663f7",
   "metadata": {},
   "source": [
    "* 모든 'Macbeth' 찾기"
   ]
  },
  {
   "cell_type": "code",
   "execution_count": 64,
   "id": "83c3c8fa",
   "metadata": {},
   "outputs": [
    {
     "data": {
      "text/plain": [
       "[{'title': 'Macbeth', 'year': '1913'},\n",
       " {'title': 'Macbeth', 'year': '2006'},\n",
       " {'title': 'Macbeth', 'year': '2013'}]"
      ]
     },
     "execution_count": 64,
     "metadata": {},
     "output_type": "execute_result"
    }
   ],
   "source": [
    "macbeth = [m for m in titles if m['title']=='Macbeth']\n",
    "macbeth[:3]"
   ]
  },
  {
   "cell_type": "markdown",
   "id": "0a092807",
   "metadata": {},
   "source": [
    "### itemgetter\n",
    "\n",
    "* 연도별로 영화 정렬"
   ]
  },
  {
   "cell_type": "code",
   "execution_count": 65,
   "id": "3e148650",
   "metadata": {},
   "outputs": [
    {
     "data": {
      "text/plain": [
       "[{'title': 'Macbeth', 'year': '1913'},\n",
       " {'title': 'Macbeth', 'year': '1997'},\n",
       " {'title': 'Macbeth', 'year': '1998'}]"
      ]
     },
     "execution_count": 65,
     "metadata": {},
     "output_type": "execute_result"
    }
   ],
   "source": [
    "from operator import itemgetter\n",
    "sorted(macbeth, key=itemgetter('year'))[:3]"
   ]
  },
  {
   "cell_type": "markdown",
   "id": "db959fd8",
   "metadata": {},
   "source": [
    "### 공백 0으로 채우기"
   ]
  },
  {
   "cell_type": "code",
   "execution_count": 74,
   "id": "c046aa08",
   "metadata": {},
   "outputs": [],
   "source": [
    "casts = list(csv.DictReader(open('./pythondsp-pandasguide-b936c3b43406/data/cast.csv')))"
   ]
  },
  {
   "cell_type": "code",
   "execution_count": 75,
   "id": "a4c72ac6",
   "metadata": {},
   "outputs": [
    {
     "data": {
      "text/plain": [
       "[{'title': 'Secret in Their Eyes',\n",
       "  'year': '2015',\n",
       "  'name': '$hutter',\n",
       "  'type': 'actor',\n",
       "  'character': '2002 Dodger Fan',\n",
       "  'n': ''},\n",
       " {'title': 'Steve Jobs',\n",
       "  'year': '2015',\n",
       "  'name': '$hutter',\n",
       "  'type': 'actor',\n",
       "  'character': '1988 Opera House Patron',\n",
       "  'n': ''}]"
      ]
     },
     "execution_count": 75,
     "metadata": {},
     "output_type": "execute_result"
    }
   ],
   "source": [
    "casts[3:5]"
   ]
  },
  {
   "cell_type": "markdown",
   "id": "8176fde0",
   "metadata": {},
   "source": [
    "* 0으로 대체"
   ]
  },
  {
   "cell_type": "code",
   "execution_count": 76,
   "id": "42edb376",
   "metadata": {},
   "outputs": [
    {
     "data": {
      "text/plain": [
       "[{'title': 'Secret in Their Eyes',\n",
       "  'year': '2015',\n",
       "  'name': '$hutter',\n",
       "  'type': 'actor',\n",
       "  'character': '2002 Dodger Fan',\n",
       "  'n': '0'},\n",
       " {'title': 'Steve Jobs',\n",
       "  'year': '2015',\n",
       "  'name': '$hutter',\n",
       "  'type': 'actor',\n",
       "  'character': '1988 Opera House Patron',\n",
       "  'n': '0'}]"
      ]
     },
     "execution_count": 76,
     "metadata": {},
     "output_type": "execute_result"
    }
   ],
   "source": [
    "cast0 = [{**c, 'n':c['n'].replace('', '0')} for c in casts]\n",
    "cast0[3:5]"
   ]
  },
  {
   "cell_type": "markdown",
   "id": "91435f58",
   "metadata": {},
   "source": [
    "* Maa 로 시작하는 영화"
   ]
  },
  {
   "cell_type": "code",
   "execution_count": 77,
   "id": "68cfcc7b",
   "metadata": {},
   "outputs": [
    {
     "data": {
      "text/plain": [
       "[{'title': 'Maa Durga Shakti', 'year': '1999'},\n",
       " {'title': 'Maarek hob', 'year': '2004'},\n",
       " {'title': 'Maa Aur Mamta', 'year': '1970'}]"
      ]
     },
     "execution_count": 77,
     "metadata": {},
     "output_type": "execute_result"
    }
   ],
   "source": [
    "maa = [m for m in titles if m['title'].startswith('Maa')]\n",
    "maa[:3]"
   ]
  },
  {
   "cell_type": "markdown",
   "id": "2f687710",
   "metadata": {},
   "source": [
    "### collections.counter\n",
    "\n",
    "* 연도별로 영화계산"
   ]
  },
  {
   "cell_type": "code",
   "execution_count": 78,
   "id": "33e00414",
   "metadata": {},
   "outputs": [
    {
     "data": {
      "text/plain": [
       "[('2016', 2363), ('2017', 2138), ('2015', 1849)]"
      ]
     },
     "execution_count": 78,
     "metadata": {},
     "output_type": "execute_result"
    }
   ],
   "source": [
    "from collections import Counter\n",
    "\n",
    "by_year = Counter(t['year']for t in titles)\n",
    "by_year.most_common(3)"
   ]
  },
  {
   "cell_type": "code",
   "execution_count": 79,
   "id": "e83d61f3",
   "metadata": {},
   "outputs": [
    {
     "data": {
      "image/png": "[encoded data removed]",
      "text/plain": [
       "<Figure size 640x480 with 1 Axes>"
      ]
     },
     "metadata": {},
     "output_type": "display_data"
    }
   ],
   "source": [
    "import matplotlib.pyplot as plt\n",
    "\n",
    "data = by_year.most_common(len(titles))\n",
    "data = sorted(data)\n",
    "x = [c[0] for c in data]\n",
    "y = [c[1] for c in data]\n",
    "plt.plot(x, y)\n",
    "plt.show()"
   ]
  },
  {
   "cell_type": "markdown",
   "id": "d92ae52a",
   "metadata": {},
   "source": [
    "### collections.defaultdict\n",
    "\n",
    "* 연도별로 dictionary에 영화 추가"
   ]
  },
  {
   "cell_type": "code",
   "execution_count": 80,
   "id": "d4526cd9",
   "metadata": {},
   "outputs": [],
   "source": [
    "from collections import defaultdict"
   ]
  },
  {
   "cell_type": "code",
   "execution_count": 81,
   "id": "2e4e4bd0",
   "metadata": {},
   "outputs": [
    {
     "data": {
      "image/png": "[encoded data removed]",
      "text/plain": [
       "<Figure size 640x480 with 1 Axes>"
      ]
     },
     "metadata": {},
     "output_type": "display_data"
    }
   ],
   "source": [
    "d = defaultdict(list)\n",
    "for row in titles:\n",
    "    d[row['year']].append(row['title'])\n",
    "    \n",
    "xx=[]\n",
    "yy=[]\n",
    "for k, v in d.items():\n",
    "    xx.append(k)\n",
    "    yy.append(len(v))\n",
    "\n",
    "plt.plot(sorted(xx), yy)\n",
    "plt.show()"
   ]
  },
  {
   "cell_type": "code",
   "execution_count": 82,
   "id": "1fc67b2a",
   "metadata": {},
   "outputs": [
    {
     "data": {
      "text/plain": [
       "['1990', '1969', '1993', '2000', '2011']"
      ]
     },
     "execution_count": 82,
     "metadata": {},
     "output_type": "execute_result"
    }
   ],
   "source": [
    "xx[:5]"
   ]
  },
  {
   "cell_type": "code",
   "execution_count": 83,
   "id": "63083e87",
   "metadata": {},
   "outputs": [
    {
     "data": {
      "text/plain": [
       "[515, 465, 437, 616, 1457]"
      ]
     },
     "execution_count": 83,
     "metadata": {},
     "output_type": "execute_result"
    }
   ],
   "source": [
    "yy[:5]"
   ]
  },
  {
   "cell_type": "markdown",
   "id": "81f787af",
   "metadata": {},
   "source": [
    "* Aaron Abrams 의 모든 영화 보기"
   ]
  },
  {
   "cell_type": "code",
   "execution_count": 84,
   "id": "d21e272a",
   "metadata": {},
   "outputs": [
    {
     "data": {
      "text/plain": [
       "[{'title': '#FromJennifer',\n",
       "  'year': '2017',\n",
       "  'name': 'Aaron Abrams',\n",
       "  'type': 'actor',\n",
       "  'character': 'Ralph Sinclair',\n",
       "  'n': ''},\n",
       " {'title': '388 Arletta Avenue',\n",
       "  'year': '2011',\n",
       "  'name': 'Aaron Abrams',\n",
       "  'type': 'actor',\n",
       "  'character': 'Alex',\n",
       "  'n': '4'},\n",
       " {'title': 'Amelia',\n",
       "  'year': '2009',\n",
       "  'name': 'Aaron Abrams',\n",
       "  'type': 'actor',\n",
       "  'character': 'Slim Gordon',\n",
       "  'n': '8'}]"
      ]
     },
     "execution_count": 84,
     "metadata": {},
     "output_type": "execute_result"
    }
   ],
   "source": [
    "cf = [c for c in casts if c['name']=='Aaron Abrams']\n",
    "cf[:3]"
   ]
  },
  {
   "cell_type": "code",
   "execution_count": 85,
   "id": "9cfc33ef",
   "metadata": {
    "scrolled": true
   },
   "outputs": [
    {
     "data": {
      "text/plain": [
       "defaultdict(list,\n",
       "            {'2017': ['#FromJennifer', 'The Go-Getters'],\n",
       "             '2011': ['388 Arletta Avenue',\n",
       "              'Jesus Henry Christ',\n",
       "              'Jesus Henry Christ',\n",
       "              'Take This Waltz',\n",
       "              'The Chicago 8'],\n",
       "             '2009': ['Amelia', 'At Home by Myself... with You'],\n",
       "             '2005': ['Cinderella Man', 'Sabah'],\n",
       "             '2015': ['Closet Monster', 'Regression'],\n",
       "             '2018': ['Code 8'],\n",
       "             '2007': ['Firehouse Dog', 'Young People Fucking'],\n",
       "             '2008': ['Flash of Genius'],\n",
       "             '2013': ['It Was You Charlie'],\n",
       "             '2004': ['Resident Evil: Apocalypse', 'Siblings'],\n",
       "             '2003': ['The In-Laws', 'The Visual Bible: The Gospel of John'],\n",
       "             '2006': ['Zoom']})"
      ]
     },
     "execution_count": 85,
     "metadata": {},
     "output_type": "execute_result"
    }
   ],
   "source": [
    "dcf = defaultdict(list)\n",
    "for row in cf:\n",
    "    dcf[row['year']].append(row['title'])\n",
    "    \n",
    "dcf"
   ]
  }
 ],
 "metadata": {
  "kernelspec": {
   "display_name": "Python 3.8.8 64-bit ('base': conda)",
   "language": "python",
   "name": "python388jvsc74a57bd073769b30c8fab288a5558a7fff30e3c8e36bc07cececaa2fd452c8fe00f0dbf4"
  },
  "language_info": {
   "codemirror_mode": {
    "name": "ipython",
    "version": 3
   },
   "file_extension": ".py",
   "mimetype": "text/x-python",
   "name": "python",
   "nbconvert_exporter": "python",
   "pygments_lexer": "ipython3",
   "version": "3.8.8"
  }
 },
 "nbformat": 4,
 "nbformat_minor": 5
}
