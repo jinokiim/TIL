{
 "cells": [
  {
   "cell_type": "markdown",
   "id": "cde1fdd3",
   "metadata": {},
   "source": [
    "# chapter 1\n",
    "\n",
    "## 표현식\n",
    "### 어떠한 값을 만들어 내는 간단한 코드\n",
    "273\n",
    "10 + 20 + 30 * 10\n",
    "print('python programming')\n",
    "\n",
    "## 키워드\n",
    "### 특별한 의미가 부여된 단어"
   ]
  },
  {
   "cell_type": "code",
   "execution_count": 2,
   "id": "362fbcea",
   "metadata": {},
   "outputs": [
    {
     "name": "stdout",
     "output_type": "stream",
     "text": [
      "['False', 'None', 'True', 'and', 'as', 'assert', 'async', 'await', 'break', 'class', 'continue', 'def', 'del', 'elif', 'else', 'except', 'finally', 'for', 'from', 'global', 'if', 'import', 'in', 'is', 'lambda', 'nonlocal', 'not', 'or', 'pass', 'raise', 'return', 'try', 'while', 'with', 'yield']\n"
     ]
    }
   ],
   "source": [
    "import keyword\n",
    "print(keyword.kwlist)"
   ]
  },
  {
   "cell_type": "markdown",
   "id": "40d7c9c7",
   "metadata": {},
   "source": [
    "## 식별자\n",
    "\n",
    "### 프로그래밍 언어에서 이름을 붙일 때 사용하는 단어.\n",
    "### 주로 별수 또는 함수 이름으로 사용\n",
    "\n",
    "* 키워드를 사용하면 안된다\n",
    "* 특수문자는  언더 바(_) 만 허용\n",
    "* 숫자로 시작하면 안된다.\n",
    "* 공백을 포함할 수 없다.\n",
    "|사용 가능한 단어|사용 불가능한 단어\n",
    "|:---:|:---:|\n",
    "|alpta|break|\n",
    "|alpha10|273alpha|\n",
    "|AlPHa|has space|"
   ]
  },
  {
   "cell_type": "markdown",
   "id": "d8332712",
   "metadata": {},
   "source": [
    "## 주석\n",
    "\n",
    "프로그램의 진행에 전혀 영향을 주지않는 코드, 설명하기 위해 사용"
   ]
  },
  {
   "cell_type": "code",
   "execution_count": 3,
   "id": "c5a8b336",
   "metadata": {},
   "outputs": [
    {
     "name": "stdout",
     "output_type": "stream",
     "text": [
      "Hello World!\n"
     ]
    }
   ],
   "source": [
    "# 주석 사용의 예\n",
    "print('Hello World!')  # 문자열을 출력합니다"
   ]
  },
  {
   "cell_type": "markdown",
   "id": "86d40853",
   "metadata": {},
   "source": [
    "## 출력 : print()\n",
    "\n",
    "현재 무엇을 하는지 알 수 있도록 메세지를 출력하는 기본방법.\n",
    "print(출력1, 출력2, ...)\n",
    "\n",
    "## 하나만 출력하기"
   ]
  },
  {
   "cell_type": "code",
   "execution_count": 4,
   "id": "2e59ea18",
   "metadata": {},
   "outputs": [
    {
     "name": "stdout",
     "output_type": "stream",
     "text": [
      "Hello, World!\n",
      "52\n",
      "273\n"
     ]
    }
   ],
   "source": [
    "print(\"Hello, World!\")\n",
    "print(52)\n",
    "print(273)"
   ]
  },
  {
   "cell_type": "markdown",
   "id": "f8ebe876",
   "metadata": {},
   "source": [
    "## 여러개 출력하기"
   ]
  },
  {
   "cell_type": "code",
   "execution_count": 5,
   "id": "edabb3d5",
   "metadata": {},
   "outputs": [
    {
     "name": "stdout",
     "output_type": "stream",
     "text": [
      "52 273 hello\n",
      "안녕하세요 저의 이름은 김진호입니다.\n"
     ]
    }
   ],
   "source": [
    "print(52, 273, \"hello\")\n",
    "print('안녕하세요', '저의', '이름은', '김진호입니다.')"
   ]
  },
  {
   "cell_type": "markdown",
   "id": "d9bf7050",
   "metadata": {},
   "source": [
    "## 줄바꿈하기"
   ]
  },
  {
   "cell_type": "code",
   "execution_count": 7,
   "id": "2e1fa586",
   "metadata": {},
   "outputs": [
    {
     "name": "stdout",
     "output_type": "stream",
     "text": [
      "\n"
     ]
    }
   ],
   "source": [
    "print()  # 빈줄을 출력합니다."
   ]
  },
  {
   "cell_type": "markdown",
   "id": "9a88730d",
   "metadata": {},
   "source": [
    "## 기본 출력"
   ]
  },
  {
   "cell_type": "code",
   "execution_count": 8,
   "id": "ad939b12",
   "metadata": {},
   "outputs": [
    {
     "name": "stdout",
     "output_type": "stream",
     "text": [
      "# 하나만 출력합니다.\n",
      "Hello, Python Programming...!\n",
      "\n",
      "# 여러개를 출력합니다.\n",
      "10 20 30 40 50\n",
      "Hello, my name is Jinho!\n",
      "\n",
      "아무것도 출럭하지 않습니다\n",
      "-----확인 전용선-----\n",
      "\n",
      "\n",
      "\n",
      "\n",
      "-----확인 전용선-----\n"
     ]
    }
   ],
   "source": [
    "print('# 하나만 출력합니다.')\n",
    "print('Hello, Python Programming...!')\n",
    "print()\n",
    "\n",
    "print('# 여러개를 출력합니다.')\n",
    "print(10, 20, 30, 40, 50)\n",
    "print('Hello,', 'my', 'name', 'is', 'Jinho!')\n",
    "print()\n",
    "\n",
    "print('아무것도 출럭하지 않습니다')\n",
    "print('-----확인 전용선-----')\n",
    "print()\n",
    "print()\n",
    "print()\n",
    "print()\n",
    "print('-----확인 전용선-----')"
   ]
  }
 ],
 "metadata": {
  "kernelspec": {
   "display_name": "Python 3",
   "language": "python",
   "name": "python3"
  },
  "language_info": {
   "codemirror_mode": {
    "name": "ipython",
    "version": 3
   },
   "file_extension": ".py",
   "mimetype": "text/x-python",
   "name": "python",
   "nbconvert_exporter": "python",
   "pygments_lexer": "ipython3",
   "version": "3.8.8"
  }
 },
 "nbformat": 4,
 "nbformat_minor": 5
}
