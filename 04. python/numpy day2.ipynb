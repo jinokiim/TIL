{
 "cells": [
  {
   "cell_type": "markdown",
   "id": "83e2c303",
   "metadata": {},
   "source": [
    "# Numpy 기초\n",
    "\n",
    "## 난수 기반 배열 생성\n",
    "\n",
    "numpy는 난수 발생 및 배열을 생성하는 다음과 같은 numpy.random 모듈을 제공한다.\n",
    "\n",
    "* np.random.normal\n",
    "* np.random.rand\n",
    "* np.random.randn\n",
    "* np.random.randint\n",
    "* np.random.random"
   ]
  },
  {
   "cell_type": "code",
   "execution_count": 2,
   "id": "058a3b8e",
   "metadata": {},
   "outputs": [],
   "source": [
    "import numpy as np\n",
    "import matplotlib.pyplot as plt\n",
    "def pprint(arr):\n",
    "    print('type : {}'.format(type(arr)))\n",
    "    print('shape : {}, demention : {}, dtype : {}'.format(arr.shape, arr.ndim, arr.dtype))\n",
    "    print(\"array's Data : \\n\", arr)"
   ]
  },
  {
   "cell_type": "markdown",
   "id": "b7a88433",
   "metadata": {},
   "source": [
    "### np.random.normal( )\n",
    "\n",
    "* normal(loc=0.0, scale=1.0, size=None)\n",
    "* 정규 분포 확률 밀도에서 표본 추출\n",
    "* loc : 정규 분포의 평균\n",
    "* scale : 표준편자"
   ]
  },
  {
   "cell_type": "code",
   "execution_count": 4,
   "id": "9df8fdea",
   "metadata": {},
   "outputs": [
    {
     "name": "stdout",
     "output_type": "stream",
     "text": [
      "type : <class 'numpy.ndarray'>\n",
      "shape : (2, 3), demention : 2, dtype : float64\n",
      "array's Data : \n",
      " [[-0.81666728  0.86587411  0.72678577]\n",
      " [-2.47332927 -0.7998561   1.41042991]]\n"
     ]
    }
   ],
   "source": [
    "mean = 0\n",
    "std = 1\n",
    "a = np.random.normal(mean, std, (2, 3))\n",
    "pprint(a)"
   ]
  },
  {
   "cell_type": "code",
   "execution_count": 17,
   "id": "0d21b94c",
   "metadata": {},
   "outputs": [
    {
     "data": {
      "text/plain": [
       "<function matplotlib.pyplot.show(close=None, block=None)>"
      ]
     },
     "execution_count": 17,
     "metadata": {},
     "output_type": "execute_result"
    },
    {
     "data": {
      "image/png": "[encoded data removed]",
      "text/plain": [
       "<Figure size 432x288 with 1 Axes>"
      ]
     },
     "metadata": {
      "needs_background": "light"
     },
     "output_type": "display_data"
    }
   ],
   "source": [
    "data = np.random.normal(0, 1, 10000)\n",
    "plt.hist(data, bins=100)\n",
    "plt.show"
   ]
  },
  {
   "cell_type": "markdown",
   "id": "59948766",
   "metadata": {},
   "source": [
    "### np.random.rand( )\n",
    "\n",
    "* numpy.random.rand(d0, d1, ... , dn)\n",
    "* shapedl (d0, d1, ..., dn)인 배열 생성 후 난수로 초기화\n",
    "* 난수 : 균등분포(Uniform Distribution) 형상으로 표본추출"
   ]
  },
  {
   "cell_type": "code",
   "execution_count": 18,
   "id": "3236407c",
   "metadata": {
    "scrolled": true
   },
   "outputs": [
    {
     "name": "stdout",
     "output_type": "stream",
     "text": [
      "type : <class 'numpy.ndarray'>\n",
      "shape : (3, 2), demention : 2, dtype : float64\n",
      "array's Data : \n",
      " [[0.1638656  0.12792174]\n",
      " [0.2677758  0.85816475]\n",
      " [0.71601203 0.72992428]]\n"
     ]
    }
   ],
   "source": [
    "a = np.random.rand(3, 2)\n",
    "pprint(a)"
   ]
  },
  {
   "cell_type": "markdown",
   "id": "13e98ae2",
   "metadata": {},
   "source": [
    "* 균등한 비율로 표본 추출\n",
    "* 아래는 균등 분포로 10000개의 표본 추출한 결과를 시각화한 것이다.\n",
    "* 표본 10000개를 10개의 구간으로 구분했을때 균등분포 형태를 보이고 있다."
   ]
  },
  {
   "cell_type": "code",
   "execution_count": 21,
   "id": "a1dab7ad",
   "metadata": {},
   "outputs": [
    {
     "data": {
      "image/png": "[encoded data removed]",
      "text/plain": [
       "<Figure size 432x288 with 1 Axes>"
      ]
     },
     "metadata": {
      "needs_background": "light"
     },
     "output_type": "display_data"
    }
   ],
   "source": [
    "data = np.random.rand(10000)\n",
    "plt.hist(data, bins=10)\n",
    "plt.show()"
   ]
  },
  {
   "cell_type": "markdown",
   "id": "9da82c1e",
   "metadata": {},
   "source": [
    "## np.random.randn( )\n",
    "\n",
    "* numpy.random.randn(d0, d1, ..., dn)\n",
    "* (d0, d1, ..., dn) shape 배열 생성 후 난수로 초기화\n",
    "* 난수 : 표준 정규 분포(standard normal distribution)에서 표본 추출"
   ]
  },
  {
   "cell_type": "code",
   "execution_count": 22,
   "id": "bc00594a",
   "metadata": {},
   "outputs": [
    {
     "name": "stdout",
     "output_type": "stream",
     "text": [
      "type : <class 'numpy.ndarray'>\n",
      "shape : (2, 4), demention : 2, dtype : float64\n",
      "array's Data : \n",
      " [[-0.31560668 -1.53699715  1.33081214 -0.22791779]\n",
      " [ 1.07056951  0.5235682   0.46737796 -2.1603113 ]]\n"
     ]
    }
   ],
   "source": [
    "a = np.random.randn(2, 4)\n",
    "pprint(a)"
   ]
  },
  {
   "cell_type": "markdown",
   "id": "5e003df2",
   "metadata": {},
   "source": [
    "* np,random.randn 은 정규 분포로 표본 추출\n",
    "* 아래는 정규 분포로 10000개를 표본 추출한 결과를 히스토그램으로 표현한 것이다.\n",
    "* 표본 10000개의 배열을 10개 구간으로 구분했을때 정규 분포 형태를 보이고 있다."
   ]
  },
  {
   "cell_type": "code",
   "execution_count": 23,
   "id": "a181d49f",
   "metadata": {},
   "outputs": [
    {
     "data": {
      "image/png": "[encoded data removed]",
      "text/plain": [
       "<Figure size 432x288 with 1 Axes>"
      ]
     },
     "metadata": {
      "needs_background": "light"
     },
     "output_type": "display_data"
    }
   ],
   "source": [
    "data = np.random.randn(10000)\n",
    "plt.hist(data, bins = 10)\n",
    "plt.show()"
   ]
  },
  {
   "cell_type": "markdown",
   "id": "9d63a06a",
   "metadata": {},
   "source": [
    "### np.random.randint\n",
    "\n",
    "* numpy.random.randint(low, high=None, size=None, dtype='I')\n",
    "* 지정된 shape으로 배열을 만들고 low부터 high 미만의 범위에서 정수 표본 추출"
   ]
  },
  {
   "cell_type": "code",
   "execution_count": 24,
   "id": "a1fe51d8",
   "metadata": {},
   "outputs": [
    {
     "name": "stdout",
     "output_type": "stream",
     "text": [
      "type : <class 'numpy.ndarray'>\n",
      "shape : (2, 4), demention : 2, dtype : int64\n",
      "array's Data : \n",
      " [[6 6 7 7]\n",
      " [7 7 7 5]]\n"
     ]
    }
   ],
   "source": [
    "a = np.random.randint(5, 10, size = (2, 4))\n",
    "pprint(a)"
   ]
  },
  {
   "cell_type": "code",
   "execution_count": 4,
   "id": "03641e05",
   "metadata": {},
   "outputs": [
    {
     "name": "stdout",
     "output_type": "stream",
     "text": [
      "type : <class 'numpy.ndarray'>\n",
      "shape : (10,), demention : 1, dtype : int64\n",
      "array's Data : \n",
      " [0 0 0 0 0 0 0 0 0 0]\n"
     ]
    }
   ],
   "source": [
    "a = np.random.randint(1, size=10)\n",
    "pprint(a)"
   ]
  },
  {
   "cell_type": "markdown",
   "id": "6d748f66",
   "metadata": {},
   "source": [
    "* -100에서 100의 범위에서 정수를 균등하게 표본 추출한다.\n",
    "* 균등 분포로 10000개의 표본 추출한 결과를 시각화한것이다.\n",
    "* 표본 1000개의 배열을 10개의 구간으로 구분했을때 균등한 분포를 보인다."
   ]
  },
  {
   "cell_type": "code",
   "execution_count": 42,
   "id": "2b41ca94",
   "metadata": {},
   "outputs": [
    {
     "data": {
      "image/png": "[encoded data removed]",
      "text/plain": [
       "<Figure size 432x288 with 1 Axes>"
      ]
     },
     "metadata": {
      "needs_background": "light"
     },
     "output_type": "display_data"
    }
   ],
   "source": [
    "data = np.random.randint(-100, 100, 10000)\n",
    "plt.hist(data, bins=10)\n",
    "plt.show()"
   ]
  },
  {
   "cell_type": "markdown",
   "id": "43d838ec",
   "metadata": {},
   "source": [
    "### np.random.random\n",
    "\n",
    "* np.random.random(size=None)\n",
    "* 난수 : 균등 분포에서 표본 추출"
   ]
  },
  {
   "cell_type": "code",
   "execution_count": 45,
   "id": "b43e6d7c",
   "metadata": {},
   "outputs": [
    {
     "name": "stdout",
     "output_type": "stream",
     "text": [
      "type : <class 'numpy.ndarray'>\n",
      "shape : (2, 4), demention : 2, dtype : float64\n",
      "array's Data : \n",
      " [[0.91801448 0.83336041 0.97690668 0.95632603]\n",
      " [0.85216192 0.22771662 0.339517   0.53920135]]\n"
     ]
    }
   ],
   "source": [
    "a = np.random.random((2, 4))\n",
    "pprint(a)"
   ]
  },
  {
   "cell_type": "markdown",
   "id": "7b6f13f1",
   "metadata": {},
   "source": [
    "* np.rnadom.random은 균등 분포로 표본을 추출한다.\n",
    "* 아래는 정규 분포로 10000개를 표본 추출한 결과를 시각화 한 것입니다.\n",
    "* 표본 10000개의 배열을 10개 구간으로 구분했을때 정규분포 형태를 보인다."
   ]
  },
  {
   "cell_type": "code",
   "execution_count": 49,
   "id": "f24383a6",
   "metadata": {},
   "outputs": [
    {
     "data": {
      "image/png": "[encoded data removed]",
      "text/plain": [
       "<Figure size 432x288 with 1 Axes>"
      ]
     },
     "metadata": {
      "needs_background": "light"
     },
     "output_type": "display_data"
    }
   ],
   "source": [
    "data = np.random.random(10000)\n",
    "plt.hist(data, bins=10)\n",
    "plt.show()"
   ]
  },
  {
   "cell_type": "markdown",
   "id": "9f808eb8",
   "metadata": {},
   "source": [
    "## 약속된 난수\n",
    "\n",
    "무작위 수를 만드는 난수는 특정 시작 숫자로부터 난수처럼 보이는 수열을 만드는 알고리즘의 결과이다. 따라서 시작점을 설정함으로써 난수 발생을 재연할 수 있다.  \n",
    "난수의 시작점을 설정하는 함수는 np.random.seed 이다."
   ]
  },
  {
   "cell_type": "code",
   "execution_count": 50,
   "id": "74510c46",
   "metadata": {},
   "outputs": [
    {
     "data": {
      "text/plain": [
       "array([[0.89388547, 0.34015065],\n",
       "       [0.07278817, 0.76712908]])"
      ]
     },
     "execution_count": 50,
     "metadata": {},
     "output_type": "execute_result"
    }
   ],
   "source": [
    "np.random.random((2, 2))"
   ]
  },
  {
   "cell_type": "code",
   "execution_count": 51,
   "id": "dac8410b",
   "metadata": {},
   "outputs": [
    {
     "data": {
      "text/plain": [
       "array([[1, 1, 0],\n",
       "       [3, 6, 2]])"
      ]
     },
     "execution_count": 51,
     "metadata": {},
     "output_type": "execute_result"
    }
   ],
   "source": [
    "np.random.randint(0, 10, (2, 3))"
   ]
  },
  {
   "cell_type": "code",
   "execution_count": 52,
   "id": "b4f4b39b",
   "metadata": {},
   "outputs": [
    {
     "data": {
      "text/plain": [
       "array([[0.68182251, 0.21436768],\n",
       "       [0.50504071, 0.87970853]])"
      ]
     },
     "execution_count": 52,
     "metadata": {},
     "output_type": "execute_result"
    }
   ],
   "source": [
    "np.random.random((2, 2))"
   ]
  },
  {
   "cell_type": "code",
   "execution_count": 53,
   "id": "eacf3be9",
   "metadata": {},
   "outputs": [
    {
     "data": {
      "text/plain": [
       "array([[5, 0, 1],\n",
       "       [6, 0, 7]])"
      ]
     },
     "execution_count": 53,
     "metadata": {},
     "output_type": "execute_result"
    }
   ],
   "source": [
    "np.random.randint(0, 10, (2, 3))"
   ]
  },
  {
   "cell_type": "markdown",
   "id": "c3241d9e",
   "metadata": {},
   "source": [
    "* np.random.seed 함루를 이용해 무작위 수 재연\n",
    "* np.random.seed(100)을 기준으로 동일한 무작위수로 초기화된 배열이 만들어진다."
   ]
  },
  {
   "cell_type": "code",
   "execution_count": 54,
   "id": "31dd5b16",
   "metadata": {},
   "outputs": [],
   "source": [
    "np.random.seed(100)"
   ]
  },
  {
   "cell_type": "code",
   "execution_count": 57,
   "id": "44a0e2cb",
   "metadata": {},
   "outputs": [
    {
     "data": {
      "text/plain": [
       "array([[0.54340494, 0.27836939],\n",
       "       [0.42451759, 0.84477613]])"
      ]
     },
     "execution_count": 57,
     "metadata": {},
     "output_type": "execute_result"
    }
   ],
   "source": [
    "np.random.random((2, 2))"
   ]
  },
  {
   "cell_type": "code",
   "execution_count": 58,
   "id": "48fe2d00",
   "metadata": {},
   "outputs": [
    {
     "data": {
      "text/plain": [
       "array([[4, 2, 5],\n",
       "       [2, 2, 2]])"
      ]
     },
     "execution_count": 58,
     "metadata": {},
     "output_type": "execute_result"
    }
   ],
   "source": [
    "np.random.randint(0, 10, (2, 3))"
   ]
  },
  {
   "cell_type": "markdown",
   "id": "9a08449c",
   "metadata": {},
   "source": [
    "## numpy 입출력\n",
    "\n",
    "numpy는 배열 객체를 바이너리 파일 혹은 텍스트 파일에 저장하고 리딩할수 있다.  \n",
    "\n",
    "|함수명|기능|파일포멧|\n",
    "|:---:|:---:|:---:|\n",
    "|np.save( )|numpy 배열 객체 1개를 파일에 저장|바이너리|\n",
    "|np.savez( )|numpy 배열 객체 복수개를 파일에 저장|바이너리|\n",
    "|np.load()|numpy 배열 저장 파일로 부터 객체 로딩|바이너리|\n",
    "|np.loadtxt( )|텍스트 파일로부터 배열 로딩|텍스트|\n",
    "|np.savetxt( )|텍스트 파일에 numpy 배열 객체 저장|텍스트|\n",
    "\n",
    "* 다음과 같은 a, b 두개 배열 사용"
   ]
  },
  {
   "cell_type": "code",
   "execution_count": 59,
   "id": "51303f6b",
   "metadata": {},
   "outputs": [
    {
     "name": "stdout",
     "output_type": "stream",
     "text": [
      "type : <class 'numpy.ndarray'>\n",
      "shape : (2, 3), demention : 2, dtype : int64\n",
      "array's Data : \n",
      " [[1 0 8]\n",
      " [4 0 9]]\n",
      "type : <class 'numpy.ndarray'>\n",
      "shape : (2, 3), demention : 2, dtype : int64\n",
      "array's Data : \n",
      " [[6 2 4]\n",
      " [1 5 3]]\n"
     ]
    }
   ],
   "source": [
    "a = np.random.randint(0, 10, (2, 3))\n",
    "b = np.random.randint(0, 10, (2, 3))\n",
    "pprint(a)\n",
    "pprint(b)"
   ]
  },
  {
   "cell_type": "markdown",
   "id": "95c369b3",
   "metadata": {},
   "source": [
    "### 배열 객체 저장\n",
    "\n",
    "np.save 함수와 np.savez 함수를 이용하여 배열 객체를 파일로 저장\n",
    "* np.save : 확장자(.npy)\n",
    "* np.savez : 확장자(.npy)\n",
    "* 배열 저장 파일은 바이너리 형태"
   ]
  },
  {
   "cell_type": "code",
   "execution_count": 62,
   "id": "b7c18a2c",
   "metadata": {},
   "outputs": [],
   "source": [
    "np.save('./my_array1', a)       # 파일 저장"
   ]
  },
  {
   "cell_type": "code",
   "execution_count": 66,
   "id": "2a4b04e1",
   "metadata": {},
   "outputs": [],
   "source": [
    "np.savez('./my_array2', a, b)   # 두개 파일 저장"
   ]
  },
  {
   "cell_type": "code",
   "execution_count": 63,
   "id": "cdac3ba7",
   "metadata": {},
   "outputs": [
    {
     "data": {
      "text/plain": [
       "array([[1, 0, 8],\n",
       "       [4, 0, 9]])"
      ]
     },
     "execution_count": 63,
     "metadata": {},
     "output_type": "execute_result"
    }
   ],
   "source": [
    "np.load('./my_array1.npy')      # 파일 조회"
   ]
  },
  {
   "cell_type": "code",
   "execution_count": 67,
   "id": "294efd5e",
   "metadata": {},
   "outputs": [
    {
     "data": {
      "text/plain": [
       "['arr_0', 'arr_1']"
      ]
     },
     "execution_count": 67,
     "metadata": {},
     "output_type": "execute_result"
    }
   ],
   "source": [
    "npzfiles = np.load('./my_array2.npz')   # 파일 로딩\n",
    "npzfiles.files"
   ]
  },
  {
   "cell_type": "code",
   "execution_count": 68,
   "id": "8661a208",
   "metadata": {},
   "outputs": [
    {
     "data": {
      "text/plain": [
       "array([[1, 0, 8],\n",
       "       [4, 0, 9]])"
      ]
     },
     "execution_count": 68,
     "metadata": {},
     "output_type": "execute_result"
    }
   ],
   "source": [
    "npzfiles['arr_0']"
   ]
  },
  {
   "cell_type": "code",
   "execution_count": 69,
   "id": "ae6b81f8",
   "metadata": {},
   "outputs": [
    {
     "data": {
      "text/plain": [
       "array([[6, 2, 4],\n",
       "       [1, 5, 3]])"
      ]
     },
     "execution_count": 69,
     "metadata": {},
     "output_type": "execute_result"
    }
   ],
   "source": [
    "npzfiles['arr_1']"
   ]
  },
  {
   "cell_type": "markdown",
   "id": "fc00af90",
   "metadata": {},
   "source": [
    "### 텍스트 파일 로딩\n",
    "\n",
    "텍스트 파일을 np.loadtxt 로 로딩할 수 있다.\n",
    "* np.loadtxt(fname, dtype=<class'float'>, comments='#', delimeter=None, converters=None, skiprows=0, usecols=None, unpack=False, ndimn=0)\n",
    "  \n",
    "* fname : 파일명\n",
    "* commeonts : comment 시작 부호\n",
    "* delimiter : 구분자\n",
    "* skiprows : 제외 라인 수(header 제거용)"
   ]
  },
  {
   "cell_type": "code",
   "execution_count": 70,
   "id": "d57776e6",
   "metadata": {},
   "outputs": [
    {
     "data": {
      "text/plain": [
       "array([[1., 2., 3.],\n",
       "       [4., 5., 6.]])"
      ]
     },
     "execution_count": 70,
     "metadata": {},
     "output_type": "execute_result"
    }
   ],
   "source": [
    "np.loadtxt('./simple.csv')"
   ]
  },
  {
   "cell_type": "code",
   "execution_count": 72,
   "id": "8e5dc7c7",
   "metadata": {},
   "outputs": [
    {
     "name": "stderr",
     "output_type": "stream",
     "text": [
      "<ipython-input-72-bdfdd9e740a7>:1: DeprecationWarning: `np.int` is a deprecated alias for the builtin `int`. To silence this warning, use `int` by itself. Doing this will not modify any behavior and is safe. When replacing `np.int`, you may wish to use e.g. `np.int64` or `np.int32` to specify the precision. If you wish to review your current use, check the release note link for additional information.\n",
      "Deprecated in NumPy 1.20; for more details and guidance: https://numpy.org/devdocs/release/1.20.0-notes.html#deprecations\n",
      "  np.loadtxt('./simple.csv', dtype=np.int)\n"
     ]
    },
    {
     "data": {
      "text/plain": [
       "array([[1, 2, 3],\n",
       "       [4, 5, 6]])"
      ]
     },
     "execution_count": 72,
     "metadata": {},
     "output_type": "execute_result"
    }
   ],
   "source": [
    "np.loadtxt('./simple.csv', dtype=np.int)"
   ]
  },
  {
   "cell_type": "markdown",
   "id": "849c3324",
   "metadata": {},
   "source": [
    "### 문자열을 포함하는 텍스트 파일 로딩\n",
    "\n",
    "* president_height.csv 파일은 숫자와 문자를 모두 포함하는 데이터 파일이다.\n",
    "* dtype을 이용하여 컬럼 타입을 지정하여 로딩한다.\n",
    "* delimiter와 skiprows를 이용하여 구분자와 무시해야 할 라인을 지정한다."
   ]
  },
  {
   "cell_type": "code",
   "execution_count": 74,
   "id": "07cc8a0f",
   "metadata": {},
   "outputs": [
    {
     "data": {
      "text/plain": [
       "array([(1, b'George Washington', 189.), (2, b'John Adams', 170.),\n",
       "       (3, b'Tomas Jefferson', 189.)],\n",
       "      dtype=[('order', '<i4'), ('name', 'S20'), ('height', '<f4')])"
      ]
     },
     "execution_count": 74,
     "metadata": {},
     "output_type": "execute_result"
    }
   ],
   "source": [
    "data = np.loadtxt('./president_height.csv', delimiter=',', skiprows=1,\n",
    "                 dtype={\n",
    "                     'names': ('order','name','height'),\n",
    "                     'formats':('i','S20','f')\n",
    "                 })\n",
    "data[:3]"
   ]
  },
  {
   "cell_type": "code",
   "execution_count": 75,
   "id": "30953ef0",
   "metadata": {},
   "outputs": [
    {
     "name": "stdout",
     "output_type": "stream",
     "text": [
      "type : <class 'numpy.ndarray'>\n",
      "shape : (3, 4), demention : 2, dtype : float64\n",
      "array's Data : \n",
      " [[0.27407375 0.43170418 0.94002982 0.81764938]\n",
      " [0.33611195 0.17541045 0.37283205 0.00568851]\n",
      " [0.25242635 0.79566251 0.01525497 0.59884338]]\n"
     ]
    }
   ],
   "source": [
    "data = np.random.random((3, 4))       # 데모 데이터 생성\n",
    "pprint(data)"
   ]
  },
  {
   "cell_type": "code",
   "execution_count": 76,
   "id": "ebd5f24d",
   "metadata": {},
   "outputs": [],
   "source": [
    "np.savetxt('./saved.csv', data, delimiter=',')     # 텍스트 파일로 저장"
   ]
  },
  {
   "cell_type": "code",
   "execution_count": 78,
   "id": "7e21ef0c",
   "metadata": {},
   "outputs": [
    {
     "data": {
      "text/plain": [
       "array([[0.27407375, 0.43170418, 0.94002982, 0.81764938],\n",
       "       [0.33611195, 0.17541045, 0.37283205, 0.00568851],\n",
       "       [0.25242635, 0.79566251, 0.01525497, 0.59884338]])"
      ]
     },
     "execution_count": 78,
     "metadata": {},
     "output_type": "execute_result"
    }
   ],
   "source": [
    "np.loadtxt('./saved.csv', delimiter=',')     # 파일 로딩"
   ]
  },
  {
   "cell_type": "code",
   "execution_count": 113,
   "id": "65ff36df",
   "metadata": {},
   "outputs": [
    {
     "ename": "SyntaxError",
     "evalue": "positional argument follows keyword argument (<ipython-input-113-9d9c851be0f6>, line 6)",
     "output_type": "error",
     "traceback": [
      "\u001b[0;36m  File \u001b[0;32m\"<ipython-input-113-9d9c851be0f6>\"\u001b[0;36m, line \u001b[0;32m6\u001b[0m\n\u001b[0;31m    })\u001b[0m\n\u001b[0m     ^\u001b[0m\n\u001b[0;31mSyntaxError\u001b[0m\u001b[0;31m:\u001b[0m positional argument follows keyword argument\n"
     ]
    }
   ],
   "source": [
    "# 데이터 파일 로딩 실패\n",
    "data = np.loadtxt('./dust.csv', delimiter=',', skiprows=1,\n",
    "                 dtype={\n",
    "                     'names': ('지역','지역명','도로명'),\n",
    "                     'formats':('S20','S20','S20')\n",
    "                 }) \n",
    "data[2:]"
   ]
  },
  {
   "cell_type": "code",
   "execution_count": 104,
   "id": "6a7d201f",
   "metadata": {},
   "outputs": [],
   "source": [
    "import pandas as pd"
   ]
  },
  {
   "cell_type": "code",
   "execution_count": 105,
   "id": "8a5a1953",
   "metadata": {
    "scrolled": true
   },
   "outputs": [
    {
     "data": {
      "text/html": [
       "<div>\n",
       "<style scoped>\n",
       "    .dataframe tbody tr th:only-of-type {\n",
       "        vertical-align: middle;\n",
       "    }\n",
       "\n",
       "    .dataframe tbody tr th {\n",
       "        vertical-align: top;\n",
       "    }\n",
       "\n",
       "    .dataframe thead th {\n",
       "        text-align: right;\n",
       "    }\n",
       "</style>\n",
       "<table border=\"1\" class=\"dataframe\">\n",
       "  <thead>\n",
       "    <tr style=\"text-align: right;\">\n",
       "      <th></th>\n",
       "      <th>시도명</th>\n",
       "      <th>시군구명</th>\n",
       "      <th>구청명</th>\n",
       "      <th>법정동명</th>\n",
       "      <th>등록품종수</th>\n",
       "      <th>등록개체수</th>\n",
       "      <th>소유자수</th>\n",
       "      <th>관리부서명</th>\n",
       "      <th>관리부서연락처</th>\n",
       "      <th>데이터기준일자</th>\n",
       "    </tr>\n",
       "  </thead>\n",
       "  <tbody>\n",
       "    <tr>\n",
       "      <th>0</th>\n",
       "      <td>경기도</td>\n",
       "      <td>수원시</td>\n",
       "      <td>권선구</td>\n",
       "      <td>탑동</td>\n",
       "      <td>67</td>\n",
       "      <td>1343</td>\n",
       "      <td>998</td>\n",
       "      <td>권선구 경제교통과</td>\n",
       "      <td>031-228-6373</td>\n",
       "      <td>2020/10/06</td>\n",
       "    </tr>\n",
       "    <tr>\n",
       "      <th>1</th>\n",
       "      <td>경기도</td>\n",
       "      <td>수원시</td>\n",
       "      <td>권선구</td>\n",
       "      <td>평동</td>\n",
       "      <td>26</td>\n",
       "      <td>127</td>\n",
       "      <td>102</td>\n",
       "      <td>권선구 경제교통과</td>\n",
       "      <td>031-228-6373</td>\n",
       "      <td>2020/10/06</td>\n",
       "    </tr>\n",
       "    <tr>\n",
       "      <th>2</th>\n",
       "      <td>경기도</td>\n",
       "      <td>수원시</td>\n",
       "      <td>권선구</td>\n",
       "      <td>고색동</td>\n",
       "      <td>49</td>\n",
       "      <td>924</td>\n",
       "      <td>697</td>\n",
       "      <td>권선구 경제교통과</td>\n",
       "      <td>031-228-6373</td>\n",
       "      <td>2020/10/06</td>\n",
       "    </tr>\n",
       "    <tr>\n",
       "      <th>3</th>\n",
       "      <td>경기도</td>\n",
       "      <td>수원시</td>\n",
       "      <td>권선구</td>\n",
       "      <td>구운동</td>\n",
       "      <td>61</td>\n",
       "      <td>1373</td>\n",
       "      <td>1065</td>\n",
       "      <td>권선구 경제교통과</td>\n",
       "      <td>031-228-6373</td>\n",
       "      <td>2020/10/06</td>\n",
       "    </tr>\n",
       "    <tr>\n",
       "      <th>4</th>\n",
       "      <td>경기도</td>\n",
       "      <td>수원시</td>\n",
       "      <td>권선구</td>\n",
       "      <td>권선동</td>\n",
       "      <td>87</td>\n",
       "      <td>4547</td>\n",
       "      <td>3483</td>\n",
       "      <td>권선구 경제교통과</td>\n",
       "      <td>031-228-6373</td>\n",
       "      <td>2020/10/06</td>\n",
       "    </tr>\n",
       "    <tr>\n",
       "      <th>5</th>\n",
       "      <td>경기도</td>\n",
       "      <td>수원시</td>\n",
       "      <td>권선구</td>\n",
       "      <td>금곡동</td>\n",
       "      <td>62</td>\n",
       "      <td>1972</td>\n",
       "      <td>1522</td>\n",
       "      <td>권선구 경제교통과</td>\n",
       "      <td>031-228-6373</td>\n",
       "      <td>2020/10/06</td>\n",
       "    </tr>\n",
       "    <tr>\n",
       "      <th>6</th>\n",
       "      <td>경기도</td>\n",
       "      <td>수원시</td>\n",
       "      <td>권선구</td>\n",
       "      <td>당수동</td>\n",
       "      <td>34</td>\n",
       "      <td>389</td>\n",
       "      <td>303</td>\n",
       "      <td>권선구 경제교통과</td>\n",
       "      <td>031-228-6373</td>\n",
       "      <td>2020/10/06</td>\n",
       "    </tr>\n",
       "    <tr>\n",
       "      <th>7</th>\n",
       "      <td>경기도</td>\n",
       "      <td>수원시</td>\n",
       "      <td>권선구</td>\n",
       "      <td>서둔동</td>\n",
       "      <td>56</td>\n",
       "      <td>934</td>\n",
       "      <td>664</td>\n",
       "      <td>권선구 경제교통과</td>\n",
       "      <td>031-228-6373</td>\n",
       "      <td>2020/10/06</td>\n",
       "    </tr>\n",
       "    <tr>\n",
       "      <th>8</th>\n",
       "      <td>경기도</td>\n",
       "      <td>수원시</td>\n",
       "      <td>권선구</td>\n",
       "      <td>세류동</td>\n",
       "      <td>87</td>\n",
       "      <td>3366</td>\n",
       "      <td>2474</td>\n",
       "      <td>권선구 경제교통과</td>\n",
       "      <td>031-228-6373</td>\n",
       "      <td>2020/10/06</td>\n",
       "    </tr>\n",
       "    <tr>\n",
       "      <th>9</th>\n",
       "      <td>경기도</td>\n",
       "      <td>수원시</td>\n",
       "      <td>권선구</td>\n",
       "      <td>입북동</td>\n",
       "      <td>31</td>\n",
       "      <td>284</td>\n",
       "      <td>229</td>\n",
       "      <td>권선구 경제교통과</td>\n",
       "      <td>031-228-6373</td>\n",
       "      <td>2020/10/06</td>\n",
       "    </tr>\n",
       "    <tr>\n",
       "      <th>10</th>\n",
       "      <td>경기도</td>\n",
       "      <td>수원시</td>\n",
       "      <td>권선구</td>\n",
       "      <td>장지동</td>\n",
       "      <td>4</td>\n",
       "      <td>10</td>\n",
       "      <td>10</td>\n",
       "      <td>권선구 경제교통과</td>\n",
       "      <td>031-228-6373</td>\n",
       "      <td>2020/10/06</td>\n",
       "    </tr>\n",
       "    <tr>\n",
       "      <th>11</th>\n",
       "      <td>경기도</td>\n",
       "      <td>수원시</td>\n",
       "      <td>권선구</td>\n",
       "      <td>평리동</td>\n",
       "      <td>1</td>\n",
       "      <td>1</td>\n",
       "      <td>1</td>\n",
       "      <td>권선구 경제교통과</td>\n",
       "      <td>031-228-6373</td>\n",
       "      <td>2020/10/06</td>\n",
       "    </tr>\n",
       "    <tr>\n",
       "      <th>12</th>\n",
       "      <td>경기도</td>\n",
       "      <td>수원시</td>\n",
       "      <td>권선구</td>\n",
       "      <td>곡반정동</td>\n",
       "      <td>62</td>\n",
       "      <td>1459</td>\n",
       "      <td>1027</td>\n",
       "      <td>권선구 경제교통과</td>\n",
       "      <td>031-228-6373</td>\n",
       "      <td>2020/10/06</td>\n",
       "    </tr>\n",
       "    <tr>\n",
       "      <th>13</th>\n",
       "      <td>경기도</td>\n",
       "      <td>수원시</td>\n",
       "      <td>권선구</td>\n",
       "      <td>오목천동</td>\n",
       "      <td>53</td>\n",
       "      <td>982</td>\n",
       "      <td>740</td>\n",
       "      <td>권선구 경제교통과</td>\n",
       "      <td>031-228-6373</td>\n",
       "      <td>2020/10/06</td>\n",
       "    </tr>\n",
       "    <tr>\n",
       "      <th>14</th>\n",
       "      <td>경기도</td>\n",
       "      <td>수원시</td>\n",
       "      <td>권선구</td>\n",
       "      <td>호매실동</td>\n",
       "      <td>59</td>\n",
       "      <td>1636</td>\n",
       "      <td>1254</td>\n",
       "      <td>권선구 경제교통과</td>\n",
       "      <td>031-228-6373</td>\n",
       "      <td>2020/10/06</td>\n",
       "    </tr>\n",
       "    <tr>\n",
       "      <th>15</th>\n",
       "      <td>경기도</td>\n",
       "      <td>수원시</td>\n",
       "      <td>영통구</td>\n",
       "      <td>신동</td>\n",
       "      <td>35</td>\n",
       "      <td>246</td>\n",
       "      <td>188</td>\n",
       "      <td>영통구 경제교통과</td>\n",
       "      <td>031-228-8882</td>\n",
       "      <td>2020/10/06</td>\n",
       "    </tr>\n",
       "    <tr>\n",
       "      <th>16</th>\n",
       "      <td>경기도</td>\n",
       "      <td>수원시</td>\n",
       "      <td>영통구</td>\n",
       "      <td>하동</td>\n",
       "      <td>59</td>\n",
       "      <td>1252</td>\n",
       "      <td>951</td>\n",
       "      <td>영통구 경제교통과</td>\n",
       "      <td>031-228-8882</td>\n",
       "      <td>2020/10/06</td>\n",
       "    </tr>\n",
       "    <tr>\n",
       "      <th>17</th>\n",
       "      <td>경기도</td>\n",
       "      <td>수원시</td>\n",
       "      <td>영통구</td>\n",
       "      <td>망포동</td>\n",
       "      <td>60</td>\n",
       "      <td>2242</td>\n",
       "      <td>1825</td>\n",
       "      <td>영통구 경제교통과</td>\n",
       "      <td>031-228-8882</td>\n",
       "      <td>2020/10/06</td>\n",
       "    </tr>\n",
       "    <tr>\n",
       "      <th>18</th>\n",
       "      <td>경기도</td>\n",
       "      <td>수원시</td>\n",
       "      <td>영통구</td>\n",
       "      <td>매탄동</td>\n",
       "      <td>85</td>\n",
       "      <td>4761</td>\n",
       "      <td>3764</td>\n",
       "      <td>영통구 경제교통과</td>\n",
       "      <td>031-228-8882</td>\n",
       "      <td>2020/10/06</td>\n",
       "    </tr>\n",
       "    <tr>\n",
       "      <th>19</th>\n",
       "      <td>경기도</td>\n",
       "      <td>수원시</td>\n",
       "      <td>영통구</td>\n",
       "      <td>영통동</td>\n",
       "      <td>81</td>\n",
       "      <td>3765</td>\n",
       "      <td>3115</td>\n",
       "      <td>영통구 경제교통과</td>\n",
       "      <td>031-228-8882</td>\n",
       "      <td>2020/10/06</td>\n",
       "    </tr>\n",
       "    <tr>\n",
       "      <th>20</th>\n",
       "      <td>경기도</td>\n",
       "      <td>수원시</td>\n",
       "      <td>영통구</td>\n",
       "      <td>원천동</td>\n",
       "      <td>56</td>\n",
       "      <td>1338</td>\n",
       "      <td>1025</td>\n",
       "      <td>영통구 경제교통과</td>\n",
       "      <td>031-228-8882</td>\n",
       "      <td>2020/10/06</td>\n",
       "    </tr>\n",
       "    <tr>\n",
       "      <th>21</th>\n",
       "      <td>경기도</td>\n",
       "      <td>수원시</td>\n",
       "      <td>영통구</td>\n",
       "      <td>이의동</td>\n",
       "      <td>72</td>\n",
       "      <td>2136</td>\n",
       "      <td>1664</td>\n",
       "      <td>영통구 경제교통과</td>\n",
       "      <td>031-228-8882</td>\n",
       "      <td>2020/10/06</td>\n",
       "    </tr>\n",
       "    <tr>\n",
       "      <th>22</th>\n",
       "      <td>경기도</td>\n",
       "      <td>수원시</td>\n",
       "      <td>장안구</td>\n",
       "      <td>송죽동</td>\n",
       "      <td>53</td>\n",
       "      <td>1222</td>\n",
       "      <td>954</td>\n",
       "      <td>장안구 경제교통과</td>\n",
       "      <td>031-228-5384</td>\n",
       "      <td>2020/10/06</td>\n",
       "    </tr>\n",
       "    <tr>\n",
       "      <th>23</th>\n",
       "      <td>경기도</td>\n",
       "      <td>수원시</td>\n",
       "      <td>장안구</td>\n",
       "      <td>연무동</td>\n",
       "      <td>58</td>\n",
       "      <td>1106</td>\n",
       "      <td>816</td>\n",
       "      <td>장안구 경제교통과</td>\n",
       "      <td>031-228-5384</td>\n",
       "      <td>2020/10/06</td>\n",
       "    </tr>\n",
       "    <tr>\n",
       "      <th>24</th>\n",
       "      <td>경기도</td>\n",
       "      <td>수원시</td>\n",
       "      <td>장안구</td>\n",
       "      <td>영화동</td>\n",
       "      <td>65</td>\n",
       "      <td>1384</td>\n",
       "      <td>989</td>\n",
       "      <td>장안구 경제교통과</td>\n",
       "      <td>031-228-5384</td>\n",
       "      <td>2020/10/06</td>\n",
       "    </tr>\n",
       "    <tr>\n",
       "      <th>25</th>\n",
       "      <td>경기도</td>\n",
       "      <td>수원시</td>\n",
       "      <td>장안구</td>\n",
       "      <td>율전동</td>\n",
       "      <td>53</td>\n",
       "      <td>1178</td>\n",
       "      <td>951</td>\n",
       "      <td>장안구 경제교통과</td>\n",
       "      <td>031-228-5384</td>\n",
       "      <td>2020/10/06</td>\n",
       "    </tr>\n",
       "    <tr>\n",
       "      <th>26</th>\n",
       "      <td>경기도</td>\n",
       "      <td>수원시</td>\n",
       "      <td>장안구</td>\n",
       "      <td>이목동</td>\n",
       "      <td>45</td>\n",
       "      <td>311</td>\n",
       "      <td>213</td>\n",
       "      <td>장안구 경제교통과</td>\n",
       "      <td>031-228-5384</td>\n",
       "      <td>2020/10/06</td>\n",
       "    </tr>\n",
       "    <tr>\n",
       "      <th>27</th>\n",
       "      <td>경기도</td>\n",
       "      <td>수원시</td>\n",
       "      <td>장안구</td>\n",
       "      <td>정자동</td>\n",
       "      <td>82</td>\n",
       "      <td>4205</td>\n",
       "      <td>3324</td>\n",
       "      <td>장안구 경제교통과</td>\n",
       "      <td>031-228-5384</td>\n",
       "      <td>2020/10/06</td>\n",
       "    </tr>\n",
       "    <tr>\n",
       "      <th>28</th>\n",
       "      <td>경기도</td>\n",
       "      <td>수원시</td>\n",
       "      <td>장안구</td>\n",
       "      <td>조원동</td>\n",
       "      <td>69</td>\n",
       "      <td>2835</td>\n",
       "      <td>2213</td>\n",
       "      <td>장안구 경제교통과</td>\n",
       "      <td>031-228-5384</td>\n",
       "      <td>2020/10/06</td>\n",
       "    </tr>\n",
       "    <tr>\n",
       "      <th>29</th>\n",
       "      <td>경기도</td>\n",
       "      <td>수원시</td>\n",
       "      <td>장안구</td>\n",
       "      <td>천천동</td>\n",
       "      <td>49</td>\n",
       "      <td>1242</td>\n",
       "      <td>1035</td>\n",
       "      <td>장안구 경제교통과</td>\n",
       "      <td>031-228-5384</td>\n",
       "      <td>2020/10/06</td>\n",
       "    </tr>\n",
       "    <tr>\n",
       "      <th>30</th>\n",
       "      <td>경기도</td>\n",
       "      <td>수원시</td>\n",
       "      <td>장안구</td>\n",
       "      <td>파장동</td>\n",
       "      <td>52</td>\n",
       "      <td>1117</td>\n",
       "      <td>885</td>\n",
       "      <td>장안구 경제교통과</td>\n",
       "      <td>031-228-5384</td>\n",
       "      <td>2020/10/06</td>\n",
       "    </tr>\n",
       "    <tr>\n",
       "      <th>31</th>\n",
       "      <td>경기도</td>\n",
       "      <td>수원시</td>\n",
       "      <td>장안구</td>\n",
       "      <td>상광교동</td>\n",
       "      <td>4</td>\n",
       "      <td>6</td>\n",
       "      <td>4</td>\n",
       "      <td>장안구 경제교통과</td>\n",
       "      <td>031-228-5384</td>\n",
       "      <td>2020/10/06</td>\n",
       "    </tr>\n",
       "    <tr>\n",
       "      <th>32</th>\n",
       "      <td>경기도</td>\n",
       "      <td>수원시</td>\n",
       "      <td>장안구</td>\n",
       "      <td>하광교동</td>\n",
       "      <td>13</td>\n",
       "      <td>22</td>\n",
       "      <td>15</td>\n",
       "      <td>장안구 경제교통과</td>\n",
       "      <td>031-228-5384</td>\n",
       "      <td>2020/10/06</td>\n",
       "    </tr>\n",
       "    <tr>\n",
       "      <th>33</th>\n",
       "      <td>경기도</td>\n",
       "      <td>수원시</td>\n",
       "      <td>팔달구</td>\n",
       "      <td>교동</td>\n",
       "      <td>36</td>\n",
       "      <td>178</td>\n",
       "      <td>113</td>\n",
       "      <td>팔달구 경제교통과</td>\n",
       "      <td>031-228-7355</td>\n",
       "      <td>2020/10/06</td>\n",
       "    </tr>\n",
       "    <tr>\n",
       "      <th>34</th>\n",
       "      <td>경기도</td>\n",
       "      <td>수원시</td>\n",
       "      <td>팔달구</td>\n",
       "      <td>영동</td>\n",
       "      <td>13</td>\n",
       "      <td>35</td>\n",
       "      <td>24</td>\n",
       "      <td>팔달구 경제교통과</td>\n",
       "      <td>031-228-7355</td>\n",
       "      <td>2020/10/06</td>\n",
       "    </tr>\n",
       "    <tr>\n",
       "      <th>35</th>\n",
       "      <td>경기도</td>\n",
       "      <td>수원시</td>\n",
       "      <td>팔달구</td>\n",
       "      <td>중동</td>\n",
       "      <td>6</td>\n",
       "      <td>26</td>\n",
       "      <td>17</td>\n",
       "      <td>팔달구 경제교통과</td>\n",
       "      <td>031-228-7355</td>\n",
       "      <td>2020/10/06</td>\n",
       "    </tr>\n",
       "    <tr>\n",
       "      <th>36</th>\n",
       "      <td>경기도</td>\n",
       "      <td>수원시</td>\n",
       "      <td>팔달구</td>\n",
       "      <td>지동</td>\n",
       "      <td>61</td>\n",
       "      <td>986</td>\n",
       "      <td>700</td>\n",
       "      <td>팔달구 경제교통과</td>\n",
       "      <td>031-228-7355</td>\n",
       "      <td>2020/10/06</td>\n",
       "    </tr>\n",
       "    <tr>\n",
       "      <th>37</th>\n",
       "      <td>경기도</td>\n",
       "      <td>수원시</td>\n",
       "      <td>팔달구</td>\n",
       "      <td>고등동</td>\n",
       "      <td>48</td>\n",
       "      <td>688</td>\n",
       "      <td>515</td>\n",
       "      <td>팔달구 경제교통과</td>\n",
       "      <td>031-228-7355</td>\n",
       "      <td>2020/10/06</td>\n",
       "    </tr>\n",
       "    <tr>\n",
       "      <th>38</th>\n",
       "      <td>경기도</td>\n",
       "      <td>수원시</td>\n",
       "      <td>팔달구</td>\n",
       "      <td>구천동</td>\n",
       "      <td>16</td>\n",
       "      <td>59</td>\n",
       "      <td>42</td>\n",
       "      <td>팔달구 경제교통과</td>\n",
       "      <td>031-228-7355</td>\n",
       "      <td>2020/10/06</td>\n",
       "    </tr>\n",
       "    <tr>\n",
       "      <th>39</th>\n",
       "      <td>경기도</td>\n",
       "      <td>수원시</td>\n",
       "      <td>팔달구</td>\n",
       "      <td>남수동</td>\n",
       "      <td>27</td>\n",
       "      <td>94</td>\n",
       "      <td>64</td>\n",
       "      <td>팔달구 경제교통과</td>\n",
       "      <td>031-228-7355</td>\n",
       "      <td>2020/10/06</td>\n",
       "    </tr>\n",
       "    <tr>\n",
       "      <th>40</th>\n",
       "      <td>경기도</td>\n",
       "      <td>수원시</td>\n",
       "      <td>팔달구</td>\n",
       "      <td>남창동</td>\n",
       "      <td>26</td>\n",
       "      <td>96</td>\n",
       "      <td>70</td>\n",
       "      <td>팔달구 경제교통과</td>\n",
       "      <td>031-228-7355</td>\n",
       "      <td>2020/10/06</td>\n",
       "    </tr>\n",
       "    <tr>\n",
       "      <th>41</th>\n",
       "      <td>경기도</td>\n",
       "      <td>수원시</td>\n",
       "      <td>팔달구</td>\n",
       "      <td>매교동</td>\n",
       "      <td>41</td>\n",
       "      <td>364</td>\n",
       "      <td>257</td>\n",
       "      <td>팔달구 경제교통과</td>\n",
       "      <td>031-228-7355</td>\n",
       "      <td>2020/10/06</td>\n",
       "    </tr>\n",
       "    <tr>\n",
       "      <th>42</th>\n",
       "      <td>경기도</td>\n",
       "      <td>수원시</td>\n",
       "      <td>팔달구</td>\n",
       "      <td>매향동</td>\n",
       "      <td>20</td>\n",
       "      <td>72</td>\n",
       "      <td>55</td>\n",
       "      <td>팔달구 경제교통과</td>\n",
       "      <td>031-228-7355</td>\n",
       "      <td>2020/10/06</td>\n",
       "    </tr>\n",
       "    <tr>\n",
       "      <th>43</th>\n",
       "      <td>경기도</td>\n",
       "      <td>수원시</td>\n",
       "      <td>팔달구</td>\n",
       "      <td>북수동</td>\n",
       "      <td>29</td>\n",
       "      <td>115</td>\n",
       "      <td>78</td>\n",
       "      <td>팔달구 경제교통과</td>\n",
       "      <td>031-228-7355</td>\n",
       "      <td>2020/10/06</td>\n",
       "    </tr>\n",
       "    <tr>\n",
       "      <th>44</th>\n",
       "      <td>경기도</td>\n",
       "      <td>수원시</td>\n",
       "      <td>팔달구</td>\n",
       "      <td>신풍동</td>\n",
       "      <td>31</td>\n",
       "      <td>121</td>\n",
       "      <td>85</td>\n",
       "      <td>팔달구 경제교통과</td>\n",
       "      <td>031-228-7355</td>\n",
       "      <td>2020/10/06</td>\n",
       "    </tr>\n",
       "    <tr>\n",
       "      <th>45</th>\n",
       "      <td>경기도</td>\n",
       "      <td>수원시</td>\n",
       "      <td>팔달구</td>\n",
       "      <td>우만동</td>\n",
       "      <td>68</td>\n",
       "      <td>2061</td>\n",
       "      <td>1572</td>\n",
       "      <td>팔달구 경제교통과</td>\n",
       "      <td>031-228-7355</td>\n",
       "      <td>2020/10/06</td>\n",
       "    </tr>\n",
       "    <tr>\n",
       "      <th>46</th>\n",
       "      <td>경기도</td>\n",
       "      <td>수원시</td>\n",
       "      <td>팔달구</td>\n",
       "      <td>인계동</td>\n",
       "      <td>73</td>\n",
       "      <td>2924</td>\n",
       "      <td>2154</td>\n",
       "      <td>팔달구 경제교통과</td>\n",
       "      <td>031-228-7355</td>\n",
       "      <td>2020/10/06</td>\n",
       "    </tr>\n",
       "    <tr>\n",
       "      <th>47</th>\n",
       "      <td>경기도</td>\n",
       "      <td>수원시</td>\n",
       "      <td>팔달구</td>\n",
       "      <td>장안동</td>\n",
       "      <td>20</td>\n",
       "      <td>70</td>\n",
       "      <td>55</td>\n",
       "      <td>팔달구 경제교통과</td>\n",
       "      <td>031-228-7355</td>\n",
       "      <td>2020/10/06</td>\n",
       "    </tr>\n",
       "    <tr>\n",
       "      <th>48</th>\n",
       "      <td>경기도</td>\n",
       "      <td>수원시</td>\n",
       "      <td>팔달구</td>\n",
       "      <td>화서동</td>\n",
       "      <td>64</td>\n",
       "      <td>2609</td>\n",
       "      <td>2056</td>\n",
       "      <td>팔달구 경제교통과</td>\n",
       "      <td>031-228-7355</td>\n",
       "      <td>2020/10/06</td>\n",
       "    </tr>\n",
       "    <tr>\n",
       "      <th>49</th>\n",
       "      <td>경기도</td>\n",
       "      <td>수원시</td>\n",
       "      <td>팔달구</td>\n",
       "      <td>매산로1가</td>\n",
       "      <td>29</td>\n",
       "      <td>157</td>\n",
       "      <td>90</td>\n",
       "      <td>팔달구 경제교통과</td>\n",
       "      <td>031-228-7355</td>\n",
       "      <td>2020/10/06</td>\n",
       "    </tr>\n",
       "    <tr>\n",
       "      <th>50</th>\n",
       "      <td>경기도</td>\n",
       "      <td>수원시</td>\n",
       "      <td>팔달구</td>\n",
       "      <td>매산로2가</td>\n",
       "      <td>35</td>\n",
       "      <td>344</td>\n",
       "      <td>262</td>\n",
       "      <td>팔달구 경제교통과</td>\n",
       "      <td>031-228-7355</td>\n",
       "      <td>2020/10/06</td>\n",
       "    </tr>\n",
       "    <tr>\n",
       "      <th>51</th>\n",
       "      <td>경기도</td>\n",
       "      <td>수원시</td>\n",
       "      <td>팔달구</td>\n",
       "      <td>매산로3가</td>\n",
       "      <td>37</td>\n",
       "      <td>231</td>\n",
       "      <td>164</td>\n",
       "      <td>팔달구 경제교통과</td>\n",
       "      <td>031-228-7355</td>\n",
       "      <td>2020/10/06</td>\n",
       "    </tr>\n",
       "    <tr>\n",
       "      <th>52</th>\n",
       "      <td>경기도</td>\n",
       "      <td>수원시</td>\n",
       "      <td>팔달구</td>\n",
       "      <td>팔달로1가</td>\n",
       "      <td>13</td>\n",
       "      <td>25</td>\n",
       "      <td>16</td>\n",
       "      <td>팔달구 경제교통과</td>\n",
       "      <td>031-228-7355</td>\n",
       "      <td>2020/10/06</td>\n",
       "    </tr>\n",
       "    <tr>\n",
       "      <th>53</th>\n",
       "      <td>경기도</td>\n",
       "      <td>수원시</td>\n",
       "      <td>팔달구</td>\n",
       "      <td>팔달로2가</td>\n",
       "      <td>19</td>\n",
       "      <td>46</td>\n",
       "      <td>31</td>\n",
       "      <td>팔달구 경제교통과</td>\n",
       "      <td>031-228-7355</td>\n",
       "      <td>2020/10/06</td>\n",
       "    </tr>\n",
       "    <tr>\n",
       "      <th>54</th>\n",
       "      <td>경기도</td>\n",
       "      <td>수원시</td>\n",
       "      <td>팔달구</td>\n",
       "      <td>팔달로3가</td>\n",
       "      <td>13</td>\n",
       "      <td>33</td>\n",
       "      <td>23</td>\n",
       "      <td>팔달구 경제교통과</td>\n",
       "      <td>031-228-7355</td>\n",
       "      <td>2020/10/06</td>\n",
       "    </tr>\n",
       "  </tbody>\n",
       "</table>\n",
       "</div>"
      ],
      "text/plain": [
       "    시도명 시군구명  구청명   법정동명  등록품종수  등록개체수  소유자수      관리부서명       관리부서연락처  \\\n",
       "0   경기도  수원시  권선구     탑동     67   1343   998  권선구 경제교통과  031-228-6373   \n",
       "1   경기도  수원시  권선구     평동     26    127   102  권선구 경제교통과  031-228-6373   \n",
       "2   경기도  수원시  권선구    고색동     49    924   697  권선구 경제교통과  031-228-6373   \n",
       "3   경기도  수원시  권선구    구운동     61   1373  1065  권선구 경제교통과  031-228-6373   \n",
       "4   경기도  수원시  권선구    권선동     87   4547  3483  권선구 경제교통과  031-228-6373   \n",
       "5   경기도  수원시  권선구    금곡동     62   1972  1522  권선구 경제교통과  031-228-6373   \n",
       "6   경기도  수원시  권선구    당수동     34    389   303  권선구 경제교통과  031-228-6373   \n",
       "7   경기도  수원시  권선구    서둔동     56    934   664  권선구 경제교통과  031-228-6373   \n",
       "8   경기도  수원시  권선구    세류동     87   3366  2474  권선구 경제교통과  031-228-6373   \n",
       "9   경기도  수원시  권선구    입북동     31    284   229  권선구 경제교통과  031-228-6373   \n",
       "10  경기도  수원시  권선구    장지동      4     10    10  권선구 경제교통과  031-228-6373   \n",
       "11  경기도  수원시  권선구    평리동      1      1     1  권선구 경제교통과  031-228-6373   \n",
       "12  경기도  수원시  권선구   곡반정동     62   1459  1027  권선구 경제교통과  031-228-6373   \n",
       "13  경기도  수원시  권선구   오목천동     53    982   740  권선구 경제교통과  031-228-6373   \n",
       "14  경기도  수원시  권선구   호매실동     59   1636  1254  권선구 경제교통과  031-228-6373   \n",
       "15  경기도  수원시  영통구     신동     35    246   188  영통구 경제교통과  031-228-8882   \n",
       "16  경기도  수원시  영통구     하동     59   1252   951  영통구 경제교통과  031-228-8882   \n",
       "17  경기도  수원시  영통구    망포동     60   2242  1825  영통구 경제교통과  031-228-8882   \n",
       "18  경기도  수원시  영통구    매탄동     85   4761  3764  영통구 경제교통과  031-228-8882   \n",
       "19  경기도  수원시  영통구    영통동     81   3765  3115  영통구 경제교통과  031-228-8882   \n",
       "20  경기도  수원시  영통구    원천동     56   1338  1025  영통구 경제교통과  031-228-8882   \n",
       "21  경기도  수원시  영통구    이의동     72   2136  1664  영통구 경제교통과  031-228-8882   \n",
       "22  경기도  수원시  장안구    송죽동     53   1222   954  장안구 경제교통과  031-228-5384   \n",
       "23  경기도  수원시  장안구    연무동     58   1106   816  장안구 경제교통과  031-228-5384   \n",
       "24  경기도  수원시  장안구    영화동     65   1384   989  장안구 경제교통과  031-228-5384   \n",
       "25  경기도  수원시  장안구    율전동     53   1178   951  장안구 경제교통과  031-228-5384   \n",
       "26  경기도  수원시  장안구    이목동     45    311   213  장안구 경제교통과  031-228-5384   \n",
       "27  경기도  수원시  장안구    정자동     82   4205  3324  장안구 경제교통과  031-228-5384   \n",
       "28  경기도  수원시  장안구    조원동     69   2835  2213  장안구 경제교통과  031-228-5384   \n",
       "29  경기도  수원시  장안구    천천동     49   1242  1035  장안구 경제교통과  031-228-5384   \n",
       "30  경기도  수원시  장안구    파장동     52   1117   885  장안구 경제교통과  031-228-5384   \n",
       "31  경기도  수원시  장안구   상광교동      4      6     4  장안구 경제교통과  031-228-5384   \n",
       "32  경기도  수원시  장안구   하광교동     13     22    15  장안구 경제교통과  031-228-5384   \n",
       "33  경기도  수원시  팔달구     교동     36    178   113  팔달구 경제교통과  031-228-7355   \n",
       "34  경기도  수원시  팔달구     영동     13     35    24  팔달구 경제교통과  031-228-7355   \n",
       "35  경기도  수원시  팔달구     중동      6     26    17  팔달구 경제교통과  031-228-7355   \n",
       "36  경기도  수원시  팔달구     지동     61    986   700  팔달구 경제교통과  031-228-7355   \n",
       "37  경기도  수원시  팔달구    고등동     48    688   515  팔달구 경제교통과  031-228-7355   \n",
       "38  경기도  수원시  팔달구    구천동     16     59    42  팔달구 경제교통과  031-228-7355   \n",
       "39  경기도  수원시  팔달구    남수동     27     94    64  팔달구 경제교통과  031-228-7355   \n",
       "40  경기도  수원시  팔달구    남창동     26     96    70  팔달구 경제교통과  031-228-7355   \n",
       "41  경기도  수원시  팔달구    매교동     41    364   257  팔달구 경제교통과  031-228-7355   \n",
       "42  경기도  수원시  팔달구    매향동     20     72    55  팔달구 경제교통과  031-228-7355   \n",
       "43  경기도  수원시  팔달구    북수동     29    115    78  팔달구 경제교통과  031-228-7355   \n",
       "44  경기도  수원시  팔달구    신풍동     31    121    85  팔달구 경제교통과  031-228-7355   \n",
       "45  경기도  수원시  팔달구    우만동     68   2061  1572  팔달구 경제교통과  031-228-7355   \n",
       "46  경기도  수원시  팔달구    인계동     73   2924  2154  팔달구 경제교통과  031-228-7355   \n",
       "47  경기도  수원시  팔달구    장안동     20     70    55  팔달구 경제교통과  031-228-7355   \n",
       "48  경기도  수원시  팔달구    화서동     64   2609  2056  팔달구 경제교통과  031-228-7355   \n",
       "49  경기도  수원시  팔달구  매산로1가     29    157    90  팔달구 경제교통과  031-228-7355   \n",
       "50  경기도  수원시  팔달구  매산로2가     35    344   262  팔달구 경제교통과  031-228-7355   \n",
       "51  경기도  수원시  팔달구  매산로3가     37    231   164  팔달구 경제교통과  031-228-7355   \n",
       "52  경기도  수원시  팔달구  팔달로1가     13     25    16  팔달구 경제교통과  031-228-7355   \n",
       "53  경기도  수원시  팔달구  팔달로2가     19     46    31  팔달구 경제교통과  031-228-7355   \n",
       "54  경기도  수원시  팔달구  팔달로3가     13     33    23  팔달구 경제교통과  031-228-7355   \n",
       "\n",
       "       데이터기준일자  \n",
       "0   2020/10/06  \n",
       "1   2020/10/06  \n",
       "2   2020/10/06  \n",
       "3   2020/10/06  \n",
       "4   2020/10/06  \n",
       "5   2020/10/06  \n",
       "6   2020/10/06  \n",
       "7   2020/10/06  \n",
       "8   2020/10/06  \n",
       "9   2020/10/06  \n",
       "10  2020/10/06  \n",
       "11  2020/10/06  \n",
       "12  2020/10/06  \n",
       "13  2020/10/06  \n",
       "14  2020/10/06  \n",
       "15  2020/10/06  \n",
       "16  2020/10/06  \n",
       "17  2020/10/06  \n",
       "18  2020/10/06  \n",
       "19  2020/10/06  \n",
       "20  2020/10/06  \n",
       "21  2020/10/06  \n",
       "22  2020/10/06  \n",
       "23  2020/10/06  \n",
       "24  2020/10/06  \n",
       "25  2020/10/06  \n",
       "26  2020/10/06  \n",
       "27  2020/10/06  \n",
       "28  2020/10/06  \n",
       "29  2020/10/06  \n",
       "30  2020/10/06  \n",
       "31  2020/10/06  \n",
       "32  2020/10/06  \n",
       "33  2020/10/06  \n",
       "34  2020/10/06  \n",
       "35  2020/10/06  \n",
       "36  2020/10/06  \n",
       "37  2020/10/06  \n",
       "38  2020/10/06  \n",
       "39  2020/10/06  \n",
       "40  2020/10/06  \n",
       "41  2020/10/06  \n",
       "42  2020/10/06  \n",
       "43  2020/10/06  \n",
       "44  2020/10/06  \n",
       "45  2020/10/06  \n",
       "46  2020/10/06  \n",
       "47  2020/10/06  \n",
       "48  2020/10/06  \n",
       "49  2020/10/06  \n",
       "50  2020/10/06  \n",
       "51  2020/10/06  \n",
       "52  2020/10/06  \n",
       "53  2020/10/06  \n",
       "54  2020/10/06  "
      ]
     },
     "execution_count": 105,
     "metadata": {},
     "output_type": "execute_result"
    }
   ],
   "source": [
    "# pandas 로 데이터파일 로딩\n",
    "df = pd.read_csv('./pet1.csv', encoding='utf-8')\n",
    "df"
   ]
  },
  {
   "cell_type": "code",
   "execution_count": 119,
   "id": "e7c9687b",
   "metadata": {},
   "outputs": [],
   "source": [
    "arr = np.random.random((5, 2, 3))"
   ]
  },
  {
   "cell_type": "code",
   "execution_count": 120,
   "id": "1569e102",
   "metadata": {},
   "outputs": [
    {
     "data": {
      "text/plain": [
       "numpy.ndarray"
      ]
     },
     "execution_count": 120,
     "metadata": {},
     "output_type": "execute_result"
    }
   ],
   "source": [
    "type(arr)"
   ]
  },
  {
   "cell_type": "code",
   "execution_count": 121,
   "id": "7786cc4c",
   "metadata": {},
   "outputs": [
    {
     "data": {
      "text/plain": [
       "(5, 2, 3)"
      ]
     },
     "execution_count": 121,
     "metadata": {},
     "output_type": "execute_result"
    }
   ],
   "source": [
    "arr.shape"
   ]
  },
  {
   "cell_type": "code",
   "execution_count": 122,
   "id": "3ec6b6ae",
   "metadata": {},
   "outputs": [
    {
     "data": {
      "text/plain": [
       "5"
      ]
     },
     "execution_count": 122,
     "metadata": {},
     "output_type": "execute_result"
    }
   ],
   "source": [
    "len(arr)"
   ]
  },
  {
   "cell_type": "code",
   "execution_count": 123,
   "id": "5031327a",
   "metadata": {},
   "outputs": [
    {
     "data": {
      "text/plain": [
       "3"
      ]
     },
     "execution_count": 123,
     "metadata": {},
     "output_type": "execute_result"
    }
   ],
   "source": [
    "arr.ndim"
   ]
  },
  {
   "cell_type": "code",
   "execution_count": 125,
   "id": "fddc1c67",
   "metadata": {},
   "outputs": [
    {
     "data": {
      "text/plain": [
       "30"
      ]
     },
     "execution_count": 125,
     "metadata": {},
     "output_type": "execute_result"
    }
   ],
   "source": [
    "arr.size"
   ]
  },
  {
   "cell_type": "code",
   "execution_count": 124,
   "id": "640e65bf",
   "metadata": {},
   "outputs": [
    {
     "data": {
      "text/plain": [
       "dtype('float64')"
      ]
     },
     "execution_count": 124,
     "metadata": {},
     "output_type": "execute_result"
    }
   ],
   "source": [
    "arr.dtype"
   ]
  },
  {
   "cell_type": "code",
   "execution_count": 126,
   "id": "e173fc61",
   "metadata": {},
   "outputs": [
    {
     "data": {
      "text/plain": [
       "'float64'"
      ]
     },
     "execution_count": 126,
     "metadata": {},
     "output_type": "execute_result"
    }
   ],
   "source": [
    "arr.dtype.name"
   ]
  },
  {
   "cell_type": "code",
   "execution_count": 127,
   "id": "dc5de6f5",
   "metadata": {},
   "outputs": [
    {
     "name": "stderr",
     "output_type": "stream",
     "text": [
      "<ipython-input-127-d877ecd8ec94>:1: DeprecationWarning: `np.int` is a deprecated alias for the builtin `int`. To silence this warning, use `int` by itself. Doing this will not modify any behavior and is safe. When replacing `np.int`, you may wish to use e.g. `np.int64` or `np.int32` to specify the precision. If you wish to review your current use, check the release note link for additional information.\n",
      "Deprecated in NumPy 1.20; for more details and guidance: https://numpy.org/devdocs/release/1.20.0-notes.html#deprecations\n",
      "  arr.astype(np.int)\n"
     ]
    },
    {
     "data": {
      "text/plain": [
       "array([[[0, 0, 0],\n",
       "        [0, 0, 0]],\n",
       "\n",
       "       [[0, 0, 0],\n",
       "        [0, 0, 0]],\n",
       "\n",
       "       [[0, 0, 0],\n",
       "        [0, 0, 0]],\n",
       "\n",
       "       [[0, 0, 0],\n",
       "        [0, 0, 0]],\n",
       "\n",
       "       [[0, 0, 0],\n",
       "        [0, 0, 0]]])"
      ]
     },
     "execution_count": 127,
     "metadata": {},
     "output_type": "execute_result"
    }
   ],
   "source": [
    "arr.astype(np.int)"
   ]
  },
  {
   "cell_type": "code",
   "execution_count": 128,
   "id": "648b6169",
   "metadata": {},
   "outputs": [
    {
     "name": "stderr",
     "output_type": "stream",
     "text": [
      "<ipython-input-128-fb487a07ef9c>:1: DeprecationWarning: `np.float` is a deprecated alias for the builtin `float`. To silence this warning, use `float` by itself. Doing this will not modify any behavior and is safe. If you specifically wanted the numpy scalar type, use `np.float64` here.\n",
      "Deprecated in NumPy 1.20; for more details and guidance: https://numpy.org/devdocs/release/1.20.0-notes.html#deprecations\n",
      "  arr.astype(np.float)\n"
     ]
    },
    {
     "data": {
      "text/plain": [
       "array([[[0.5928054 , 0.62994188, 0.14260031],\n",
       "        [0.9338413 , 0.94637988, 0.60229666]],\n",
       "\n",
       "       [[0.38776628, 0.363188  , 0.20434528],\n",
       "        [0.27676506, 0.24653588, 0.173608  ]],\n",
       "\n",
       "       [[0.96660969, 0.9570126 , 0.59797368],\n",
       "        [0.73130075, 0.34038522, 0.0920556 ]],\n",
       "\n",
       "       [[0.46349802, 0.50869889, 0.08846017],\n",
       "        [0.52803522, 0.99215804, 0.39503593]],\n",
       "\n",
       "       [[0.33559644, 0.80545054, 0.75434899],\n",
       "        [0.31306644, 0.63403668, 0.54040458]]])"
      ]
     },
     "execution_count": 128,
     "metadata": {},
     "output_type": "execute_result"
    }
   ],
   "source": [
    "arr.astype(np.float)"
   ]
  },
  {
   "cell_type": "code",
   "execution_count": 129,
   "id": "80ff3cd2",
   "metadata": {},
   "outputs": [
    {
     "name": "stdout",
     "output_type": "stream",
     "text": [
      "type : <class 'numpy.ndarray'>\n",
      "shape : (3, 3), demention : 2, dtype : int64\n",
      "array's Data : \n",
      " [[1 2 3]\n",
      " [4 5 6]\n",
      " [7 8 9]]\n"
     ]
    }
   ],
   "source": [
    "a = np.arange(1, 10).reshape(3, 3)\n",
    "pprint(a)"
   ]
  },
  {
   "cell_type": "code",
   "execution_count": 131,
   "id": "a11dc66b",
   "metadata": {},
   "outputs": [
    {
     "name": "stdout",
     "output_type": "stream",
     "text": [
      "type : <class 'numpy.ndarray'>\n",
      "shape : (3, 3), demention : 2, dtype : int64\n",
      "array's Data : \n",
      " [[9 8 7]\n",
      " [6 5 4]\n",
      " [3 2 1]]\n"
     ]
    }
   ],
   "source": [
    "b = np.arange(9, 0, -1).reshape(3, 3)\n",
    "pprint(b)"
   ]
  },
  {
   "cell_type": "code",
   "execution_count": 132,
   "id": "34381a65",
   "metadata": {},
   "outputs": [
    {
     "data": {
      "text/plain": [
       "array([[-8, -6, -4],\n",
       "       [-2,  0,  2],\n",
       "       [ 4,  6,  8]])"
      ]
     },
     "execution_count": 132,
     "metadata": {},
     "output_type": "execute_result"
    }
   ],
   "source": [
    "a-b"
   ]
  },
  {
   "cell_type": "code",
   "execution_count": 134,
   "id": "1cdba27b",
   "metadata": {},
   "outputs": [
    {
     "data": {
      "text/plain": [
       "array([[-8, -6, -4],\n",
       "       [-2,  0,  2],\n",
       "       [ 4,  6,  8]])"
      ]
     },
     "execution_count": 134,
     "metadata": {},
     "output_type": "execute_result"
    }
   ],
   "source": [
    "np.subtract(a,b)"
   ]
  },
  {
   "cell_type": "code",
   "execution_count": 135,
   "id": "7198585c",
   "metadata": {},
   "outputs": [
    {
     "data": {
      "text/plain": [
       "array([[10, 10, 10],\n",
       "       [10, 10, 10],\n",
       "       [10, 10, 10]])"
      ]
     },
     "execution_count": 135,
     "metadata": {},
     "output_type": "execute_result"
    }
   ],
   "source": [
    "a+b"
   ]
  },
  {
   "cell_type": "code",
   "execution_count": 136,
   "id": "73355404",
   "metadata": {},
   "outputs": [
    {
     "data": {
      "text/plain": [
       "array([[10, 10, 10],\n",
       "       [10, 10, 10],\n",
       "       [10, 10, 10]])"
      ]
     },
     "execution_count": 136,
     "metadata": {},
     "output_type": "execute_result"
    }
   ],
   "source": [
    "np.add(a,b)"
   ]
  },
  {
   "cell_type": "code",
   "execution_count": 138,
   "id": "78763b91",
   "metadata": {},
   "outputs": [
    {
     "data": {
      "text/plain": [
       "array([[0.11111111, 0.25      , 0.42857143],\n",
       "       [0.66666667, 1.        , 1.5       ],\n",
       "       [2.33333333, 4.        , 9.        ]])"
      ]
     },
     "execution_count": 138,
     "metadata": {},
     "output_type": "execute_result"
    }
   ],
   "source": [
    "a/b"
   ]
  },
  {
   "cell_type": "code",
   "execution_count": 139,
   "id": "2656bad6",
   "metadata": {},
   "outputs": [
    {
     "data": {
      "text/plain": [
       "array([[0.11111111, 0.25      , 0.42857143],\n",
       "       [0.66666667, 1.        , 1.5       ],\n",
       "       [2.33333333, 4.        , 9.        ]])"
      ]
     },
     "execution_count": 139,
     "metadata": {},
     "output_type": "execute_result"
    }
   ],
   "source": [
    "np.divide(a,b)"
   ]
  },
  {
   "cell_type": "code",
   "execution_count": 140,
   "id": "a4262908",
   "metadata": {},
   "outputs": [
    {
     "data": {
      "text/plain": [
       "array([[ 9, 16, 21],\n",
       "       [24, 25, 24],\n",
       "       [21, 16,  9]])"
      ]
     },
     "execution_count": 140,
     "metadata": {},
     "output_type": "execute_result"
    }
   ],
   "source": [
    "a*b"
   ]
  },
  {
   "cell_type": "code",
   "execution_count": 141,
   "id": "b6968718",
   "metadata": {},
   "outputs": [
    {
     "data": {
      "text/plain": [
       "array([[ 9, 16, 21],\n",
       "       [24, 25, 24],\n",
       "       [21, 16,  9]])"
      ]
     },
     "execution_count": 141,
     "metadata": {},
     "output_type": "execute_result"
    }
   ],
   "source": [
    "np.multiply(a,b)"
   ]
  },
  {
   "cell_type": "code",
   "execution_count": 142,
   "id": "75ef1e52",
   "metadata": {},
   "outputs": [
    {
     "data": {
      "text/plain": [
       "array([[8.10308393e+03, 2.98095799e+03, 1.09663316e+03],\n",
       "       [4.03428793e+02, 1.48413159e+02, 5.45981500e+01],\n",
       "       [2.00855369e+01, 7.38905610e+00, 2.71828183e+00]])"
      ]
     },
     "execution_count": 142,
     "metadata": {},
     "output_type": "execute_result"
    }
   ],
   "source": [
    "np.exp(b)"
   ]
  },
  {
   "cell_type": "code",
   "execution_count": 143,
   "id": "ab736116",
   "metadata": {},
   "outputs": [
    {
     "data": {
      "text/plain": [
       "array([[1.        , 1.41421356, 1.73205081],\n",
       "       [2.        , 2.23606798, 2.44948974],\n",
       "       [2.64575131, 2.82842712, 3.        ]])"
      ]
     },
     "execution_count": 143,
     "metadata": {},
     "output_type": "execute_result"
    }
   ],
   "source": [
    "np.sqrt(a)"
   ]
  },
  {
   "cell_type": "code",
   "execution_count": 145,
   "id": "b75e3d50",
   "metadata": {},
   "outputs": [
    {
     "data": {
      "text/plain": [
       "array([[ 1.55740772, -2.18503986, -0.14254654],\n",
       "       [ 1.15782128, -3.38051501, -0.29100619],\n",
       "       [ 0.87144798, -6.79971146, -0.45231566]])"
      ]
     },
     "execution_count": 145,
     "metadata": {},
     "output_type": "execute_result"
    }
   ],
   "source": [
    "np.sin(a)"
   ]
  },
  {
   "cell_type": "code",
   "execution_count": 147,
   "id": "3e6ee714",
   "metadata": {},
   "outputs": [
    {
     "data": {
      "text/plain": [
       "array([[ 0.54030231, -0.41614684, -0.9899925 ],\n",
       "       [-0.65364362,  0.28366219,  0.96017029],\n",
       "       [ 0.75390225, -0.14550003, -0.91113026]])"
      ]
     },
     "execution_count": 147,
     "metadata": {},
     "output_type": "execute_result"
    }
   ],
   "source": [
    "np.cos(a)"
   ]
  },
  {
   "cell_type": "code",
   "execution_count": 148,
   "id": "2c600f53",
   "metadata": {},
   "outputs": [
    {
     "data": {
      "text/plain": [
       "array([[ 1.55740772, -2.18503986, -0.14254654],\n",
       "       [ 1.15782128, -3.38051501, -0.29100619],\n",
       "       [ 0.87144798, -6.79971146, -0.45231566]])"
      ]
     },
     "execution_count": 148,
     "metadata": {},
     "output_type": "execute_result"
    }
   ],
   "source": [
    "np.tan(a)"
   ]
  },
  {
   "cell_type": "code",
   "execution_count": 150,
   "id": "b70f2747",
   "metadata": {},
   "outputs": [
    {
     "data": {
      "text/plain": [
       "array([[0.        , 0.69314718, 1.09861229],\n",
       "       [1.38629436, 1.60943791, 1.79175947],\n",
       "       [1.94591015, 2.07944154, 2.19722458]])"
      ]
     },
     "execution_count": 150,
     "metadata": {},
     "output_type": "execute_result"
    }
   ],
   "source": [
    "np.log(a)"
   ]
  },
  {
   "cell_type": "code",
   "execution_count": 151,
   "id": "46ea59dc",
   "metadata": {},
   "outputs": [
    {
     "data": {
      "text/plain": [
       "array([[ 30,  24,  18],\n",
       "       [ 84,  69,  54],\n",
       "       [138, 114,  90]])"
      ]
     },
     "execution_count": 151,
     "metadata": {},
     "output_type": "execute_result"
    }
   ],
   "source": [
    "np.dot(a, b)"
   ]
  },
  {
   "cell_type": "code",
   "execution_count": 152,
   "id": "c7108517",
   "metadata": {},
   "outputs": [
    {
     "data": {
      "text/plain": [
       "array([[False, False, False],\n",
       "       [False,  True, False],\n",
       "       [False, False, False]])"
      ]
     },
     "execution_count": 152,
     "metadata": {},
     "output_type": "execute_result"
    }
   ],
   "source": [
    "a==b"
   ]
  },
  {
   "cell_type": "code",
   "execution_count": 153,
   "id": "ff22b0df",
   "metadata": {},
   "outputs": [
    {
     "data": {
      "text/plain": [
       "array([[False, False, False],\n",
       "       [False, False,  True],\n",
       "       [ True,  True,  True]])"
      ]
     },
     "execution_count": 153,
     "metadata": {},
     "output_type": "execute_result"
    }
   ],
   "source": [
    "a>b"
   ]
  },
  {
   "cell_type": "code",
   "execution_count": 154,
   "id": "824df3a3",
   "metadata": {},
   "outputs": [
    {
     "data": {
      "text/plain": [
       "False"
      ]
     },
     "execution_count": 154,
     "metadata": {},
     "output_type": "execute_result"
    }
   ],
   "source": [
    "np.array_equal(a,b)   # 배열 전체 비교"
   ]
  },
  {
   "cell_type": "code",
   "execution_count": 158,
   "id": "e54d6aea",
   "metadata": {},
   "outputs": [
    {
     "name": "stdout",
     "output_type": "stream",
     "text": [
      "type : <class 'numpy.ndarray'>\n",
      "shape : (3, 3), demention : 2, dtype : int64\n",
      "array's Data : \n",
      " [[1 2 3]\n",
      " [4 5 6]\n",
      " [7 8 9]]\n"
     ]
    }
   ],
   "source": [
    "a = np.arange(1, 10).reshape(3, 3)\n",
    "pprint(a)"
   ]
  },
  {
   "cell_type": "code",
   "execution_count": 160,
   "id": "835fd6b7",
   "metadata": {},
   "outputs": [
    {
     "data": {
      "text/plain": [
       "(45, 45)"
      ]
     },
     "execution_count": 160,
     "metadata": {},
     "output_type": "execute_result"
    }
   ],
   "source": [
    "a.sum(), np.sum(a)"
   ]
  },
  {
   "cell_type": "code",
   "execution_count": 161,
   "id": "c9cf519a",
   "metadata": {},
   "outputs": [
    {
     "data": {
      "text/plain": [
       "(array([12, 15, 18]), array([12, 15, 18]))"
      ]
     },
     "execution_count": 161,
     "metadata": {},
     "output_type": "execute_result"
    }
   ],
   "source": [
    "a.sum(axis=0), np.sum(a, axis=0)"
   ]
  },
  {
   "cell_type": "code",
   "execution_count": 162,
   "id": "7056c340",
   "metadata": {},
   "outputs": [
    {
     "data": {
      "text/plain": [
       "(array([ 6, 15, 24]), array([ 6, 15, 24]))"
      ]
     },
     "execution_count": 162,
     "metadata": {},
     "output_type": "execute_result"
    }
   ],
   "source": [
    "a.sum(axis=1), np.sum(a, axis=1)"
   ]
  },
  {
   "cell_type": "code",
   "execution_count": 163,
   "id": "ec7bc640",
   "metadata": {},
   "outputs": [
    {
     "data": {
      "text/plain": [
       "(9, 9)"
      ]
     },
     "execution_count": 163,
     "metadata": {},
     "output_type": "execute_result"
    }
   ],
   "source": [
    "a.max(), np.max(a)"
   ]
  },
  {
   "cell_type": "code",
   "execution_count": 164,
   "id": "2f8b5f6c",
   "metadata": {},
   "outputs": [
    {
     "data": {
      "text/plain": [
       "(array([7, 8, 9]), array([7, 8, 9]))"
      ]
     },
     "execution_count": 164,
     "metadata": {},
     "output_type": "execute_result"
    }
   ],
   "source": [
    "a.max(axis=0), np.max(a, axis=0)"
   ]
  },
  {
   "cell_type": "code",
   "execution_count": 165,
   "id": "4efd5cec",
   "metadata": {},
   "outputs": [
    {
     "data": {
      "text/plain": [
       "(array([3, 6, 9]), array([3, 6, 9]))"
      ]
     },
     "execution_count": 165,
     "metadata": {},
     "output_type": "execute_result"
    }
   ],
   "source": [
    "a.max(axis=1), np.max(a,axis=1)"
   ]
  },
  {
   "cell_type": "code",
   "execution_count": 166,
   "id": "9d066886",
   "metadata": {},
   "outputs": [
    {
     "data": {
      "text/plain": [
       "(array([ 1,  3,  6, 10, 15, 21, 28, 36, 45]),\n",
       " array([ 1,  3,  6, 10, 15, 21, 28, 36, 45]))"
      ]
     },
     "execution_count": 166,
     "metadata": {},
     "output_type": "execute_result"
    }
   ],
   "source": [
    "a.cumsum(), np.cumsum(a)"
   ]
  },
  {
   "cell_type": "code",
   "execution_count": 167,
   "id": "0a82d9f0",
   "metadata": {},
   "outputs": [
    {
     "data": {
      "text/plain": [
       "(array([[ 1,  2,  3],\n",
       "        [ 5,  7,  9],\n",
       "        [12, 15, 18]]),\n",
       " array([[ 1,  2,  3],\n",
       "        [ 5,  7,  9],\n",
       "        [12, 15, 18]]))"
      ]
     },
     "execution_count": 167,
     "metadata": {},
     "output_type": "execute_result"
    }
   ],
   "source": [
    "a.cumsum(axis=0), np.cumsum(a, axis=0)"
   ]
  },
  {
   "cell_type": "code",
   "execution_count": 168,
   "id": "9e5ff21d",
   "metadata": {},
   "outputs": [
    {
     "data": {
      "text/plain": [
       "(array([[ 1,  3,  6],\n",
       "        [ 4,  9, 15],\n",
       "        [ 7, 15, 24]]),\n",
       " array([[ 1,  3,  6],\n",
       "        [ 4,  9, 15],\n",
       "        [ 7, 15, 24]]))"
      ]
     },
     "execution_count": 168,
     "metadata": {},
     "output_type": "execute_result"
    }
   ],
   "source": [
    "a.cumsum(axis=1), np.cumsum(a, axis=1)"
   ]
  },
  {
   "cell_type": "code",
   "execution_count": 169,
   "id": "7b4e4a22",
   "metadata": {},
   "outputs": [
    {
     "data": {
      "text/plain": [
       "(5.0, 5.0)"
      ]
     },
     "execution_count": 169,
     "metadata": {},
     "output_type": "execute_result"
    }
   ],
   "source": [
    "a.mean(), np.mean(a)"
   ]
  },
  {
   "cell_type": "code",
   "execution_count": 170,
   "id": "0a96e5bd",
   "metadata": {},
   "outputs": [
    {
     "data": {
      "text/plain": [
       "(array([4., 5., 6.]), array([4., 5., 6.]))"
      ]
     },
     "execution_count": 170,
     "metadata": {},
     "output_type": "execute_result"
    }
   ],
   "source": [
    "a.mean(axis=0), np.mean(a, axis=0)"
   ]
  },
  {
   "cell_type": "code",
   "execution_count": 171,
   "id": "3b110f17",
   "metadata": {},
   "outputs": [
    {
     "data": {
      "text/plain": [
       "(array([2., 5., 8.]), array([2., 5., 8.]))"
      ]
     },
     "execution_count": 171,
     "metadata": {},
     "output_type": "execute_result"
    }
   ],
   "source": [
    "a.mean(axis=1), np.mean(a, axis=1)"
   ]
  },
  {
   "cell_type": "code",
   "execution_count": 172,
   "id": "ba8c6c2c",
   "metadata": {},
   "outputs": [
    {
     "data": {
      "text/plain": [
       "5.0"
      ]
     },
     "execution_count": 172,
     "metadata": {},
     "output_type": "execute_result"
    }
   ],
   "source": [
    "np.median(a)"
   ]
  },
  {
   "cell_type": "code",
   "execution_count": 173,
   "id": "2b07f6ae",
   "metadata": {},
   "outputs": [
    {
     "data": {
      "text/plain": [
       "array([4., 5., 6.])"
      ]
     },
     "execution_count": 173,
     "metadata": {},
     "output_type": "execute_result"
    }
   ],
   "source": [
    "np.median(a, axis=0)"
   ]
  },
  {
   "cell_type": "code",
   "execution_count": 174,
   "id": "78ec01df",
   "metadata": {},
   "outputs": [
    {
     "data": {
      "text/plain": [
       "array([2., 5., 8.])"
      ]
     },
     "execution_count": 174,
     "metadata": {},
     "output_type": "execute_result"
    }
   ],
   "source": [
    "np.median(a, axis=1)"
   ]
  },
  {
   "cell_type": "code",
   "execution_count": 177,
   "id": "363b4f60",
   "metadata": {},
   "outputs": [
    {
     "name": "stdout",
     "output_type": "stream",
     "text": [
      "type : <class 'numpy.ndarray'>\n",
      "shape : (4, 6), demention : 2, dtype : int64\n",
      "array's Data : \n",
      " [[ 1  2  3  4  5  6]\n",
      " [ 7  8  9 10 11 12]\n",
      " [13 14 15 16 17 18]\n",
      " [19 20 21 22 23 24]]\n",
      "type : <class 'numpy.ndarray'>\n",
      "shape : (4, 6), demention : 2, dtype : int64\n",
      "array's Data : \n",
      " [[25 26 27 28 29 30]\n",
      " [31 32 33 34 35 36]\n",
      " [37 38 39 40 41 42]\n",
      " [43 44 45 46 47 48]]\n"
     ]
    }
   ],
   "source": [
    "a = np.arange(1, 25). reshape(4, 6)\n",
    "pprint(a)\n",
    "b = np.arange(25, 49). reshape(4, 6)\n",
    "pprint(b)"
   ]
  },
  {
   "cell_type": "code",
   "execution_count": 178,
   "id": "73911351",
   "metadata": {},
   "outputs": [
    {
     "data": {
      "text/plain": [
       "array([[26, 28, 30, 32, 34, 36],\n",
       "       [38, 40, 42, 44, 46, 48],\n",
       "       [50, 52, 54, 56, 58, 60],\n",
       "       [62, 64, 66, 68, 70, 72]])"
      ]
     },
     "execution_count": 178,
     "metadata": {},
     "output_type": "execute_result"
    }
   ],
   "source": [
    "a+b"
   ]
  },
  {
   "cell_type": "code",
   "execution_count": 183,
   "id": "ebc7e182",
   "metadata": {},
   "outputs": [
    {
     "name": "stdout",
     "output_type": "stream",
     "text": [
      "type : <class 'numpy.ndarray'>\n",
      "shape : (4, 6), demention : 2, dtype : int64\n",
      "array's Data : \n",
      " [[ 1  2  3  4  5  6]\n",
      " [ 7  8  9 10 11 12]\n",
      " [13 14 15 16 17 18]\n",
      " [19 20 21 22 23 24]]\n"
     ]
    }
   ],
   "source": [
    "a = np.arange(1, 25).reshape(4, 6)\n",
    "pprint(a)"
   ]
  },
  {
   "cell_type": "code",
   "execution_count": 184,
   "id": "38eef9c5",
   "metadata": {},
   "outputs": [
    {
     "data": {
      "text/plain": [
       "array([[101, 102, 103, 104, 105, 106],\n",
       "       [107, 108, 109, 110, 111, 112],\n",
       "       [113, 114, 115, 116, 117, 118],\n",
       "       [119, 120, 121, 122, 123, 124]])"
      ]
     },
     "execution_count": 184,
     "metadata": {},
     "output_type": "execute_result"
    }
   ],
   "source": [
    "a+100"
   ]
  },
  {
   "cell_type": "code",
   "execution_count": 185,
   "id": "ebb6a2cd",
   "metadata": {},
   "outputs": [
    {
     "name": "stdout",
     "output_type": "stream",
     "text": [
      "type : <class 'numpy.ndarray'>\n",
      "shape : (1, 5), demention : 2, dtype : int64\n",
      "array's Data : \n",
      " [[0 1 2 3 4]]\n",
      "type : <class 'numpy.ndarray'>\n",
      "shape : (5, 1), demention : 2, dtype : int64\n",
      "array's Data : \n",
      " [[0]\n",
      " [1]\n",
      " [2]\n",
      " [3]\n",
      " [4]]\n"
     ]
    }
   ],
   "source": [
    "a = np.arange(5).reshape((1, 5))\n",
    "pprint(a)\n",
    "b = np.arange(5).reshape((5, 1))\n",
    "pprint(b)"
   ]
  },
  {
   "cell_type": "code",
   "execution_count": 186,
   "id": "d266747a",
   "metadata": {},
   "outputs": [
    {
     "data": {
      "text/plain": [
       "array([[0, 1, 2, 3, 4],\n",
       "       [1, 2, 3, 4, 5],\n",
       "       [2, 3, 4, 5, 6],\n",
       "       [3, 4, 5, 6, 7],\n",
       "       [4, 5, 6, 7, 8]])"
      ]
     },
     "execution_count": 186,
     "metadata": {},
     "output_type": "execute_result"
    }
   ],
   "source": [
    "a+b"
   ]
  },
  {
   "cell_type": "code",
   "execution_count": 195,
   "id": "932584a9",
   "metadata": {},
   "outputs": [],
   "source": [
    "a = np.arange(10000000)"
   ]
  },
  {
   "cell_type": "code",
   "execution_count": 196,
   "id": "4f64241e",
   "metadata": {},
   "outputs": [],
   "source": [
    "result = 0"
   ]
  },
  {
   "cell_type": "code",
   "execution_count": 197,
   "id": "2bc8407a",
   "metadata": {},
   "outputs": [
    {
     "name": "stdout",
     "output_type": "stream",
     "text": [
      "CPU times: user 1.29 s, sys: 4.47 ms, total: 1.29 s\n",
      "Wall time: 1.29 s\n"
     ]
    }
   ],
   "source": [
    "%%time\n",
    "for v in a:\n",
    "    result += v"
   ]
  },
  {
   "cell_type": "code",
   "execution_count": 198,
   "id": "149d0927",
   "metadata": {},
   "outputs": [
    {
     "data": {
      "text/plain": [
       "49999995000000"
      ]
     },
     "execution_count": 198,
     "metadata": {},
     "output_type": "execute_result"
    }
   ],
   "source": [
    "result"
   ]
  },
  {
   "cell_type": "code",
   "execution_count": 221,
   "id": "5d1476c0",
   "metadata": {},
   "outputs": [
    {
     "name": "stdout",
     "output_type": "stream",
     "text": [
      "type : <class 'numpy.ndarray'>\n",
      "shape : (3, 3), demention : 2, dtype : int64\n",
      "array's Data : \n",
      " [[1 3 1]\n",
      " [4 8 8]\n",
      " [2 2 7]]\n"
     ]
    }
   ],
   "source": [
    "a = np.random.randint(0, 9, (3, 3))\n",
    "pprint(a)"
   ]
  },
  {
   "cell_type": "code",
   "execution_count": 222,
   "id": "84379821",
   "metadata": {},
   "outputs": [
    {
     "name": "stdout",
     "output_type": "stream",
     "text": [
      "type : <class 'numpy.ndarray'>\n",
      "shape : (3, 3), demention : 2, dtype : int64\n",
      "array's Data : \n",
      " [[1 3 1]\n",
      " [4 8 8]\n",
      " [2 2 7]]\n"
     ]
    }
   ],
   "source": [
    "copied_a1 = np.copy(a)\n",
    "pprint(copied_a1)"
   ]
  },
  {
   "cell_type": "code",
   "execution_count": 223,
   "id": "552687cb",
   "metadata": {},
   "outputs": [
    {
     "name": "stdout",
     "output_type": "stream",
     "text": [
      "type : <class 'numpy.ndarray'>\n",
      "shape : (3, 3), demention : 2, dtype : int64\n",
      "array's Data : \n",
      " [[0 3 1]\n",
      " [0 8 8]\n",
      " [0 2 7]]\n"
     ]
    }
   ],
   "source": [
    "copied_a1[:, 0]=0\n",
    "pprint(copied_a1)"
   ]
  },
  {
   "cell_type": "code",
   "execution_count": 224,
   "id": "27c6ef6c",
   "metadata": {},
   "outputs": [
    {
     "name": "stdout",
     "output_type": "stream",
     "text": [
      "type : <class 'numpy.ndarray'>\n",
      "shape : (3, 3), demention : 2, dtype : float64\n",
      "array's Data : \n",
      " [[0.01742254 0.05096687 0.43507174]\n",
      " [0.97684387 0.09378331 0.5515195 ]\n",
      " [0.64310314 0.44025463 0.78887382]]\n"
     ]
    }
   ],
   "source": [
    "unsorted_arr = np.random.random((3,3))\n",
    "pprint(unsorted_arr)"
   ]
  },
  {
   "cell_type": "code",
   "execution_count": 225,
   "id": "5c8c341d",
   "metadata": {},
   "outputs": [],
   "source": [
    "unsorted_arr1 = unsorted_arr.copy()\n",
    "unsorted_arr2 = unsorted_arr.copy()\n",
    "unsorted_arr3 = unsorted_arr.copy()"
   ]
  },
  {
   "cell_type": "code",
   "execution_count": 226,
   "id": "52cc60a6",
   "metadata": {},
   "outputs": [
    {
     "name": "stdout",
     "output_type": "stream",
     "text": [
      "type : <class 'numpy.ndarray'>\n",
      "shape : (3, 3), demention : 2, dtype : float64\n",
      "array's Data : \n",
      " [[0.01742254 0.05096687 0.43507174]\n",
      " [0.97684387 0.09378331 0.5515195 ]\n",
      " [0.64310314 0.44025463 0.78887382]]\n"
     ]
    }
   ],
   "source": [
    "unsorted_arr.sort()\n",
    "pprint(unsorted_arr1)"
   ]
  },
  {
   "cell_type": "code",
   "execution_count": 227,
   "id": "fb6d4989",
   "metadata": {},
   "outputs": [
    {
     "name": "stdout",
     "output_type": "stream",
     "text": [
      "type : <class 'numpy.ndarray'>\n",
      "shape : (3, 3), demention : 2, dtype : float64\n",
      "array's Data : \n",
      " [[0.01742254 0.05096687 0.43507174]\n",
      " [0.64310314 0.09378331 0.5515195 ]\n",
      " [0.97684387 0.44025463 0.78887382]]\n"
     ]
    }
   ],
   "source": [
    "unsorted_arr2.sort(axis=0)\n",
    "pprint(unsorted_arr2)"
   ]
  },
  {
   "cell_type": "code",
   "execution_count": 229,
   "id": "936c1821",
   "metadata": {},
   "outputs": [
    {
     "name": "stdout",
     "output_type": "stream",
     "text": [
      "type : <class 'numpy.ndarray'>\n",
      "shape : (3, 3), demention : 2, dtype : float64\n",
      "array's Data : \n",
      " [[0.01742254 0.05096687 0.43507174]\n",
      " [0.09378331 0.5515195  0.97684387]\n",
      " [0.44025463 0.64310314 0.78887382]]\n"
     ]
    }
   ],
   "source": [
    "unsorted_arr3.sort(axis=1)\n",
    "pprint(unsorted_arr3)"
   ]
  },
  {
   "cell_type": "code",
   "execution_count": 230,
   "id": "7a994228",
   "metadata": {},
   "outputs": [
    {
     "name": "stdout",
     "output_type": "stream",
     "text": [
      "type : <class 'numpy.ndarray'>\n",
      "shape : (24,), demention : 1, dtype : int64\n",
      "array's Data : \n",
      " [ 0  1  2  3  4  5  6  7  8  9 10 11 12 13 14 15 16 17 18 19 20 21 22 23]\n",
      "type : <class 'numpy.ndarray'>\n",
      "shape : (4, 6), demention : 2, dtype : int64\n",
      "array's Data : \n",
      " [[ 0  1  2  3  4  5]\n",
      " [ 6  7  8  9 10 11]\n",
      " [12 13 14 15 16 17]\n",
      " [18 19 20 21 22 23]]\n",
      "type : <class 'numpy.ndarray'>\n",
      "shape : (2, 4, 3), demention : 3, dtype : int64\n",
      "array's Data : \n",
      " [[[ 0  1  2]\n",
      "  [ 3  4  5]\n",
      "  [ 6  7  8]\n",
      "  [ 9 10 11]]\n",
      "\n",
      " [[12 13 14]\n",
      "  [15 16 17]\n",
      "  [18 19 20]\n",
      "  [21 22 23]]]\n"
     ]
    }
   ],
   "source": [
    "a0 = np.arange(24)\n",
    "pprint(a0)\n",
    "a1 = np.arange(24).reshape((4, 6))\n",
    "pprint(a1)\n",
    "a2 = np.arange(24).reshape((2, 4, 3))\n",
    "pprint(a2)"
   ]
  },
  {
   "cell_type": "code",
   "execution_count": 231,
   "id": "54054dcd",
   "metadata": {},
   "outputs": [
    {
     "data": {
      "text/plain": [
       "5"
      ]
     },
     "execution_count": 231,
     "metadata": {},
     "output_type": "execute_result"
    }
   ],
   "source": [
    "a0[5]"
   ]
  },
  {
   "cell_type": "code",
   "execution_count": 232,
   "id": "dd9d7409",
   "metadata": {},
   "outputs": [],
   "source": [
    "a0[5] = 100000"
   ]
  },
  {
   "cell_type": "code",
   "execution_count": 234,
   "id": "939b0ad9",
   "metadata": {},
   "outputs": [
    {
     "name": "stdout",
     "output_type": "stream",
     "text": [
      "type : <class 'numpy.ndarray'>\n",
      "shape : (24,), demention : 1, dtype : int64\n",
      "array's Data : \n",
      " [     0      1      2      3      4 100000      6      7      8      9\n",
      "     10     11     12     13     14     15     16     17     18     19\n",
      "     20     21     22     23]\n"
     ]
    }
   ],
   "source": [
    "pprint(a0)"
   ]
  },
  {
   "cell_type": "code",
   "execution_count": 238,
   "id": "7762de32",
   "metadata": {},
   "outputs": [
    {
     "name": "stdout",
     "output_type": "stream",
     "text": [
      "type : <class 'numpy.ndarray'>\n",
      "shape : (4, 6), demention : 2, dtype : int64\n",
      "array's Data : \n",
      " [[    0 10000     2     3     4     5]\n",
      " [    6     7     8     9    10    11]\n",
      " [   12    13    14    15    16    17]\n",
      " [   18    19    20    21    22    23]]\n"
     ]
    }
   ],
   "source": [
    "a1[0,1]=10000\n",
    "pprint(a1)"
   ]
  },
  {
   "cell_type": "code",
   "execution_count": 240,
   "id": "ad738b47",
   "metadata": {},
   "outputs": [
    {
     "name": "stdout",
     "output_type": "stream",
     "text": [
      "type : <class 'numpy.ndarray'>\n",
      "shape : (2, 4, 3), demention : 3, dtype : int64\n",
      "array's Data : \n",
      " [[[    0     1     2]\n",
      "  [    3     4     5]\n",
      "  [    6     7     8]\n",
      "  [    9    10    11]]\n",
      "\n",
      " [[   12 10000    14]\n",
      "  [   15    16    17]\n",
      "  [   18    19    20]\n",
      "  [   21    22    23]]]\n"
     ]
    }
   ],
   "source": [
    "a2[1, 0, 1] = 10000\n",
    "pprint(a2)"
   ]
  },
  {
   "cell_type": "code",
   "execution_count": 241,
   "id": "1e4fa787",
   "metadata": {},
   "outputs": [
    {
     "name": "stdout",
     "output_type": "stream",
     "text": [
      "type : <class 'numpy.ndarray'>\n",
      "shape : (4, 6), demention : 2, dtype : int64\n",
      "array's Data : \n",
      " [[ 1  2  3  4  5  6]\n",
      " [ 7  8  9 10 11 12]\n",
      " [13 14 15 16 17 18]\n",
      " [19 20 21 22 23 24]]\n"
     ]
    }
   ],
   "source": [
    "a1 = np.arange(1, 25).reshape((4, 6))\n",
    "pprint(a1)"
   ]
  },
  {
   "cell_type": "code",
   "execution_count": 242,
   "id": "97b70b19",
   "metadata": {},
   "outputs": [
    {
     "data": {
      "text/plain": [
       "array([[ 8,  9, 10, 11],\n",
       "       [14, 15, 16, 17]])"
      ]
     },
     "execution_count": 242,
     "metadata": {},
     "output_type": "execute_result"
    }
   ],
   "source": [
    "a1[1:3, 1:5]"
   ]
  },
  {
   "cell_type": "code",
   "execution_count": 243,
   "id": "c48dedc1",
   "metadata": {},
   "outputs": [
    {
     "data": {
      "text/plain": [
       "array([[ 8,  9, 10, 11],\n",
       "       [14, 15, 16, 17]])"
      ]
     },
     "execution_count": 243,
     "metadata": {},
     "output_type": "execute_result"
    }
   ],
   "source": [
    "a1[1:-1, 1:-1]"
   ]
  },
  {
   "cell_type": "code",
   "execution_count": 244,
   "id": "e46e9463",
   "metadata": {},
   "outputs": [
    {
     "name": "stdout",
     "output_type": "stream",
     "text": [
      "type : <class 'numpy.ndarray'>\n",
      "shape : (4, 6), demention : 2, dtype : int64\n",
      "array's Data : \n",
      " [[ 1  2  3  4  5  6]\n",
      " [ 7  8  9 10 11 12]\n",
      " [13 14 15 16 17 18]\n",
      " [19 20 21 22 23 24]]\n"
     ]
    }
   ],
   "source": [
    "pprint(a1)"
   ]
  },
  {
   "cell_type": "code",
   "execution_count": 259,
   "id": "513c4986",
   "metadata": {},
   "outputs": [
    {
     "name": "stdout",
     "output_type": "stream",
     "text": [
      "type : <class 'numpy.ndarray'>\n",
      "shape : (2, 4), demention : 2, dtype : int64\n",
      "array's Data : \n",
      " [[ 8  9 10 11]\n",
      " [14 15 16 17]]\n"
     ]
    }
   ],
   "source": [
    "slide_arr = a1[1:3, 1:5]\n",
    "pprint(slide_arr)"
   ]
  },
  {
   "cell_type": "code",
   "execution_count": 260,
   "id": "9600fc1f",
   "metadata": {},
   "outputs": [
    {
     "name": "stdout",
     "output_type": "stream",
     "text": [
      "type : <class 'numpy.ndarray'>\n",
      "shape : (2, 4), demention : 2, dtype : int64\n",
      "array's Data : \n",
      " [[ 8  9 10 11]\n",
      " [14 15 16 17]]\n"
     ]
    }
   ],
   "source": [
    "slide_arr[:, 1:3]\n",
    "pprint(slide_arr)"
   ]
  },
  {
   "cell_type": "code",
   "execution_count": 261,
   "id": "fb292be6",
   "metadata": {},
   "outputs": [
    {
     "name": "stdout",
     "output_type": "stream",
     "text": [
      "type : <class 'numpy.ndarray'>\n",
      "shape : (2, 4), demention : 2, dtype : int64\n",
      "array's Data : \n",
      " [[    8 99999 99999    11]\n",
      " [   14 99999 99999    17]]\n"
     ]
    }
   ],
   "source": [
    "slide_arr[:, 1:3] = 99999\n",
    "pprint(slide_arr)"
   ]
  },
  {
   "cell_type": "code",
   "execution_count": 262,
   "id": "0ccaacdf",
   "metadata": {},
   "outputs": [
    {
     "name": "stdout",
     "output_type": "stream",
     "text": [
      "type : <class 'numpy.ndarray'>\n",
      "shape : (4, 6), demention : 2, dtype : int64\n",
      "array's Data : \n",
      " [[    1     2     3     4     5     6]\n",
      " [    7     8 99999 99999    11    12]\n",
      " [   13    14 99999 99999    17    18]\n",
      " [   19    20    21    22    23    24]]\n"
     ]
    }
   ],
   "source": [
    "pprint(a1)"
   ]
  },
  {
   "cell_type": "code",
   "execution_count": null,
   "id": "e05b0181",
   "metadata": {},
   "outputs": [],
   "source": []
  },
  {
   "cell_type": "code",
   "execution_count": null,
   "id": "46edeea0",
   "metadata": {},
   "outputs": [],
   "source": []
  }
 ],
 "metadata": {
  "kernelspec": {
   "display_name": "Python 3.9.6 64-bit ('playdata': conda)",
   "language": "python",
   "name": "python396jvsc74a57bd084c32ba9f13543de06db758d214554c655fa453ae6ce06eb19158602db9f1fd7"
  },
  "language_info": {
   "codemirror_mode": {
    "name": "ipython",
    "version": 3
   },
   "file_extension": ".py",
   "mimetype": "text/x-python",
   "name": "python",
   "nbconvert_exporter": "python",
   "pygments_lexer": "ipython3",
   "version": "3.9.6"
  }
 },
 "nbformat": 4,
 "nbformat_minor": 5
}
