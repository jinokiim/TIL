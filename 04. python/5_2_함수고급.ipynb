{
 "cells": [
  {
   "cell_type": "markdown",
   "metadata": {},
   "source": [
    "# chapter5\n",
    "  \n",
    "## 함수 고급\n",
    "  \n",
    "## tuple 튜플\n",
    "  \n",
    "튜플(tuple)은 리스트와 비슷한 자료형이다.   \n",
    "리스트와 다른점은 한번 결정된 요소를 바꿀 수 없다는 것이다.  \n",
    "튜플은 다음과 같은 방법으로 생성한다.  \n",
    "(*데이터, 데이터, 데이터, ...*)"
   ]
  },
  {
   "cell_type": "code",
   "execution_count": 5,
   "metadata": {},
   "outputs": [
    {
     "name": "stdout",
     "output_type": "stream",
     "text": [
      "10\n",
      "20\n",
      "30\n"
     ]
    }
   ],
   "source": [
    "tuple_test = (10, 20, 30)       # 요소를 하나만 가지는 튜플 : (10, )\n",
    "print(tuple_test[0])\n",
    "print(tuple_test[1])\n",
    "print(tuple_test[2])"
   ]
  },
  {
   "cell_type": "code",
   "execution_count": 7,
   "metadata": {},
   "outputs": [
    {
     "name": "stdout",
     "output_type": "stream",
     "text": [
      "10\n",
      "20\n",
      "30\n",
      "40\n"
     ]
    }
   ],
   "source": [
    "[a, b] = [10, 20]\n",
    "(c, d) = [30, 40]\n",
    "print(a)\n",
    "print(b)\n",
    "print(c)\n",
    "print(d)"
   ]
  },
  {
   "cell_type": "markdown",
   "metadata": {},
   "source": [
    "### 변수의 값 교환"
   ]
  },
  {
   "cell_type": "code",
   "execution_count": 11,
   "metadata": {},
   "outputs": [
    {
     "name": "stdout",
     "output_type": "stream",
     "text": [
      "교환전 :  e :  10 / f :  20\n",
      "교환후 :  e :  20 / f :  10\n"
     ]
    }
   ],
   "source": [
    "e, f = 10, 20\n",
    "print(\"교환전 : \", \"e : \", e, \"/ f : \", f)\n",
    "\n",
    "e, f = f, e\n",
    "print(\"교환후 : \", \"e : \", e, \"/ f : \", f)"
   ]
  },
  {
   "cell_type": "markdown",
   "metadata": {},
   "source": [
    "## lambda 람다\n",
    "\n",
    "코드를 좀 더 효율적으로 작성할 수 있도록 lambda 를 사용  \n",
    "  \n",
    "함수를 매개변수로 전달하는 대표적인 표준함수로  \n",
    "map( ) 함수와 filter( ) 함수가 있다.  \n",
    "map(함수, 리스트) : 리스트의 요소를 함수에 넣고 새로운 리스트를 구성  \n",
    "filter(함수, 리스트) : 리스트의 요소를 함수에 넣고 리턴된 값이 True  \n"
   ]
  },
  {
   "cell_type": "markdown",
   "metadata": {},
   "source": [
    "### map( )함수와 filter( )함수"
   ]
  },
  {
   "cell_type": "code",
   "execution_count": 16,
   "metadata": {},
   "outputs": [
    {
     "name": "stdout",
     "output_type": "stream",
     "text": [
      "<map object at 0x7f9369dc5130>\n",
      "[1, 4, 9, 16, 25]\n",
      "\n",
      "<map object at 0x7f9369db5d60>\n",
      "[True, True, False, False, False]\n",
      "\n",
      "<filter object at 0x7f9369db5970>\n",
      "[1, 2]\n"
     ]
    }
   ],
   "source": [
    "def power(item):\n",
    "    return item * item\n",
    "def under_3(item):\n",
    "    return item < 3\n",
    "\n",
    "list_input_a = [1, 2, 3, 4, 5]\n",
    "\n",
    "# map 함수 사용\n",
    "output_a = map(power, list_input_a)\n",
    "print(output_a)\n",
    "print(list(output_a))\n",
    "print()\n",
    "output_b = map(under_3, list_input_a)\n",
    "output_c = filter(under_3, list_input_a)\n",
    "print(output_b)\n",
    "print(list(output_b))\n",
    "print()\n",
    "print(output_c)\n",
    "print(list(output_c))"
   ]
  },
  {
   "cell_type": "markdown",
   "metadata": {},
   "source": [
    "위의 복잡함을 피하고자 람다에 매개변수를 직접 입력"
   ]
  },
  {
   "cell_type": "code",
   "execution_count": 20,
   "metadata": {
    "scrolled": true
   },
   "outputs": [
    {
     "name": "stdout",
     "output_type": "stream",
     "text": [
      "<map object at 0x7f9369b1fb20>\n",
      "[1, 4, 9, 16, 25]\n",
      "\n",
      "<filter object at 0x7f9369b1f520>\n",
      "[1, 2]\n"
     ]
    }
   ],
   "source": [
    "list_input_a = [1, 2, 3, 4, 5]\n",
    "\n",
    "output_a = map(lambda x: x * x, list_input_a)\n",
    "print(output_a)\n",
    "print(list(output_a))\n",
    "print()\n",
    "\n",
    "output_b = filter(lambda x: x < 3, list_input_a)\n",
    "print(output_b)\n",
    "print(list(output_b))"
   ]
  },
  {
   "cell_type": "markdown",
   "metadata": {},
   "source": [
    "### 매개변수가 여러개인 람다도 만들 수 있다.\n",
    "lambda x, y : x * y"
   ]
  },
  {
   "cell_type": "markdown",
   "metadata": {},
   "source": [
    "## map( ) 함수 추가\n",
    "\n",
    "* map 함수는 원본 리스트를 변경하지 않고 새 리스트를 생성한다.\n",
    "* map 함수는 map 타입으로 결과를 리턴하기 때문에 리스트나 튜플 등으로 변환한다.\n",
    "\n",
    "list에 저장된 요소를 정수로 변환하고 list로 변환"
   ]
  },
  {
   "cell_type": "code",
   "execution_count": 3,
   "metadata": {},
   "outputs": [
    {
     "name": "stdout",
     "output_type": "stream",
     "text": [
      "[1, 2, 3, 4]\n"
     ]
    }
   ],
   "source": [
    "a = [1.2, 2.5, 3.7, 4.1]\n",
    "a = list(map(int, a))\n",
    "print(a)"
   ]
  },
  {
   "cell_type": "markdown",
   "metadata": {},
   "source": [
    "* 여러개의 입력값을 받고 변수로 저장"
   ]
  },
  {
   "cell_type": "code",
   "execution_count": 7,
   "metadata": {
    "scrolled": false
   },
   "outputs": [
    {
     "name": "stdout",
     "output_type": "stream",
     "text": [
      "10 20\n",
      "10\n",
      "20\n"
     ]
    }
   ],
   "source": [
    "a, b = input().split()      # a, b 의 입력을 공백을 기준으로 각각저장하고,\n",
    "                            # a 와 b 로 각각 변수로 저장\n",
    "print(a)\n",
    "print(b)"
   ]
  },
  {
   "cell_type": "markdown",
   "metadata": {},
   "source": [
    "* 위에서 입력같은 값을 바로 정수로 저장"
   ]
  },
  {
   "cell_type": "code",
   "execution_count": 8,
   "metadata": {},
   "outputs": [
    {
     "name": "stdout",
     "output_type": "stream",
     "text": [
      "10 20 \n",
      "10\n",
      "20\n"
     ]
    }
   ],
   "source": [
    "a, b = map(int, input().split())\n",
    "\n",
    "print(a)\n",
    "print(b)"
   ]
  },
  {
   "cell_type": "markdown",
   "metadata": {},
   "source": [
    "## 파일 처리\n",
    "\n",
    "파일을 처리하기 위해 파일열기를 실행하고  \n",
    "이후 파일 읽기 또는 파일 쓰기를 할 수 있다.  \n",
    "  \n",
    "open( ) : 파일을 열때 사용  \n",
    "파일 객체 = open(파일경로, 읽기 모드)\n",
    "|모드|설명|\n",
    "|:---:|:---:|\n",
    "|w|write 모드(새로 쓰기 모드)|\n",
    "|a|append 모드(이어서 쓰기 모드)|\n",
    "|r|read 모드(읽기 모드)|\n",
    "\n",
    "close( ) : 파일을 닫을때 사용"
   ]
  },
  {
   "cell_type": "code",
   "execution_count": null,
   "metadata": {},
   "outputs": [],
   "source": [
    "# 파일 열기\n",
    "file = open('basic.txt, 'w')\n",
    "# 파일에 쓸 텍스트 입력\n",
    "file.write('hello python programming')\n",
    "# 파일 닫기\n",
    "file.close()"
   ]
  },
  {
   "cell_type": "markdown",
   "metadata": {},
   "source": [
    "### with 키워드\n",
    "\n",
    "파일을 열고 닫지않는 실수를 하지 않기위해 with 키워드 사용  \n",
    "with open(파일 경로, 모드) as 파일 객체:  \n",
    "문장"
   ]
  },
  {
   "cell_type": "code",
   "execution_count": null,
   "metadata": {},
   "outputs": [],
   "source": [
    "with open('basic.txt', 'w') as file:\n",
    "    file.write('hello python programming')"
   ]
  },
  {
   "cell_type": "markdown",
   "metadata": {},
   "source": [
    "### 텍스트 읽기\n",
    "파일 객체.read()  "
   ]
  },
  {
   "cell_type": "markdown",
   "metadata": {},
   "source": [
    "### 랜덤하게 1000명의 키와 몸무게 만들기"
   ]
  },
  {
   "cell_type": "code",
   "execution_count": null,
   "metadata": {},
   "outputs": [],
   "source": [
    "# 랜덤함을 만들기 위해 가져오기\n",
    "import random\n",
    "\n",
    "# 랜덤이름을 위해 한글 리스트 만들기\n",
    "h = list('진호정준수정미지민영화주우현재')\n",
    "\n",
    "# 파일을 쓰기모드로 열기\n",
    "with open('randomhuman.txt', 'w')as file:\n",
    "    for i in range(100):\n",
    "        name = random.choice(h) + random.choice(h)  # h 리스트에서 한글자씩 가져온다\n",
    "        weight = random.randrange(40, 110)\n",
    "        heght = random.randrange(140, 195)\n",
    "\n",
    "        # 텍스트 작성\n",
    "        file.write('{}, {}, {}\\n'.format(name, height, weight))"
   ]
  },
  {
   "cell_type": "code",
   "execution_count": null,
   "metadata": {},
   "outputs": [],
   "source": [
    "# 반복문으로 파일 한 줄씩 읽기\n",
    "\n",
    "with open('randomhuman.txt', 'r')as file:\n",
    "    # 변수 선언\n",
    "    (name, height, weight) = line.strip().split(', ')\n",
    "\n",
    "    # 데이터에 문제가 없는지 확인, 문제가 있으면 지나감\n",
    "    if (not name) or (not height) or (not weight):\n",
    "        continue\n",
    "    # 결과계산\n",
    "    bmi = int(weight) / ((int(weight)/100)**2)\n",
    "    result = ''\n",
    "    if 25 <= bmi:\n",
    "        result = '과체중'\n",
    "    elif 18.5 <= bmi:\n",
    "        result = '정상체중'\n",
    "    else:\n",
    "        result = '저체중'\n",
    "    \n",
    "    # 출력\n",
    "    print('\\n'.join([\n",
    "        '이름 : {}',\n",
    "        '키 : {}',\n",
    "        '몸무게 : {}',\n",
    "        'BMI : {}',\n",
    "        '결과 : {}'\n",
    "    ]).format(name, height, weight, bmi, result)\n",
    "    )"
   ]
  }
 ],
 "metadata": {
  "interpreter": {
   "hash": "73769b30c8fab288a5558a7fff30e3c8e36bc07cececaa2fd452c8fe00f0dbf4"
  },
  "kernelspec": {
   "display_name": "Python 3",
   "language": "python",
   "name": "python3"
  },
  "language_info": {
   "codemirror_mode": {
    "name": "ipython",
    "version": 3
   },
   "file_extension": ".py",
   "mimetype": "text/x-python",
   "name": "python",
   "nbconvert_exporter": "python",
   "pygments_lexer": "ipython3",
   "version": "3.8.8"
  }
 },
 "nbformat": 4,
 "nbformat_minor": 2
}
