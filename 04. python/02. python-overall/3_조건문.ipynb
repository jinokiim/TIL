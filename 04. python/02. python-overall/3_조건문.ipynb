{
 "cells": [
  {
   "cell_type": "markdown",
   "source": [
    "# chapter3\n",
    "\n",
    "## 불 자료형과 if 조건문\n",
    "\n",
    "Boolean(Bool) 은 True 와 False 값만 가질 수 있다.\n",
    "\n",
    "## Boolean 만들기 : 비교연산자\n",
    "\n",
    "boolean 은 비교연산자를 통해 만들수 있다.\n",
    "\n",
    "|연산자|설명|연산자|설명|\n",
    "|:---:|:---:|:---:|:---:|\n",
    "|==|같다|>|크다|\n",
    "|!=|다르다|<=|작거나같다|\n",
    "|<|작다|>=|크거나같다|\n"
   ],
   "metadata": {}
  },
  {
   "cell_type": "code",
   "execution_count": 10,
   "source": [
    "print(10 == 100)\n",
    "print(5 < 10)\n",
    "print('가' < '다')"
   ],
   "outputs": [
    {
     "output_type": "stream",
     "name": "stdout",
     "text": [
      "False\n",
      "True\n",
      "True\n"
     ]
    }
   ],
   "metadata": {}
  },
  {
   "cell_type": "markdown",
   "source": [
    "## boolean 연산하기 : 논리 연산자\n",
    "\n",
    "boolean 끼리는 논리 연산자를 사용할 수 있다.\n",
    "\n",
    "|연산자|의미|설명|\n",
    "|:---:|:---:|:---:|\n",
    "|not|아니다|boolean을 반대로 전환|\n",
    "|and|그리고|모두 참일때 True, 이외는 False|\n",
    "|or|또는|두개중 하나만 참이라도 True 출력|  "
   ],
   "metadata": {}
  },
  {
   "cell_type": "markdown",
   "source": [
    "## if 조건문\n",
    "\n",
    "조건에 따라 코드를 실행하거나 실행하지 않게 하기위해 사용"
   ],
   "metadata": {}
  },
  {
   "cell_type": "code",
   "execution_count": 12,
   "source": [
    "# input\n",
    "number = input(\"정수를 입력하시오. > \")\n",
    "n = int(number)\n",
    "\n",
    "# 양수 조건\n",
    "if n > 0:\n",
    "    print(\"양수입니다.\")\n",
    "# 0 조건\n",
    "if n == 0:\n",
    "    print(\"0입니다.\")\n",
    "# 음수 조건\n",
    "if n < 0:\n",
    "    print(\"음수 입니다.\")"
   ],
   "outputs": [
    {
     "output_type": "stream",
     "name": "stdout",
     "text": [
      "양수입니다.\n"
     ]
    }
   ],
   "metadata": {}
  },
  {
   "cell_type": "markdown",
   "source": [
    "## 날짜 / 시간 활용하기\n",
    "\n",
    "날짜, 시간과 관련된 기능을 가져옵니다"
   ],
   "metadata": {}
  },
  {
   "cell_type": "code",
   "execution_count": 13,
   "source": [
    "import datetime\n",
    "\n",
    "# 현재 날짜와 시간을 구합니다.\n",
    "now = datetime.datetime.now()\n",
    "\n",
    "# 출력합니다.\n",
    "print(now)\n",
    "print(now.year)\n",
    "print(now.month)\n",
    "print(now.day)\n",
    "print(now.hour)\n",
    "print(now.minute)\n",
    "print(now.second)\n",
    "print()\n",
    "# format 을 이용\n",
    "print(\"{}년 {}월 {}일 {}시 {}분 {}초\".format(\n",
    "    now.year, now.month, now.day, now.hour, now.minute, now.second\n",
    "))"
   ],
   "outputs": [
    {
     "output_type": "stream",
     "name": "stdout",
     "text": [
      "2021-08-28 16:37:34.669989\n",
      "2021\n",
      "8\n",
      "28\n",
      "16\n",
      "37\n",
      "34\n",
      "\n",
      "2021년 8월 28일 16시 37분 34초\n"
     ]
    }
   ],
   "metadata": {}
  },
  {
   "cell_type": "markdown",
   "source": [
    "## if ~ else 와 elif 구문\n",
    "\n",
    "if 조건 : 조건이 참일때 실행할 문장  \n",
    "else 조건 : 조건이 거짓일때 실행할 문장  \n",
    "elif 조건 : if 와 else 조건문 사이에 입력\n"
   ],
   "metadata": {}
  },
  {
   "cell_type": "code",
   "execution_count": 15,
   "source": [
    "import datetime\n",
    "\n",
    "now = datetime.datetime.now()\n",
    "month = now.month    # datetime 을 가져오고 현재 월을 변수로 저장\n",
    "\n",
    "if 3 <= month <= 5:\n",
    "    print(\"봄입니다.\")\n",
    "\n",
    "elif 6 <= month <= 8:\n",
    "    print(\"여름입니다.\")\n",
    "\n",
    "elif 9 <= month <= 11:\n",
    "    print(\"가을입니다.\")\n",
    "\n",
    "else :\n",
    "    print(\"겨울입니다.\")\n",
    "\n",
    "# 조건을 추후에 넣기 위해서 pass 를 이용\n",
    "\n",
    "number = input(\"정수 입력 >\")\n",
    "number = int(number)\n",
    "\n",
    "if number > 0:\n",
    "    pass\n",
    "else :\n",
    "    pass"
   ],
   "outputs": [
    {
     "output_type": "stream",
     "name": "stdout",
     "text": [
      "여름입니다.\n"
     ]
    }
   ],
   "metadata": {}
  },
  {
   "cell_type": "code",
   "execution_count": null,
   "source": [],
   "outputs": [],
   "metadata": {}
  }
 ],
 "metadata": {
  "orig_nbformat": 4,
  "language_info": {
   "name": "python",
   "version": "3.9.6",
   "mimetype": "text/x-python",
   "codemirror_mode": {
    "name": "ipython",
    "version": 3
   },
   "pygments_lexer": "ipython3",
   "nbconvert_exporter": "python",
   "file_extension": ".py"
  },
  "kernelspec": {
   "name": "python3",
   "display_name": "Python 3.9.6 64-bit"
  },
  "interpreter": {
   "hash": "aee8b7b246df8f9039afb4144a1f6fd8d2ca17a180786b69acc140d282b71a49"
  }
 },
 "nbformat": 4,
 "nbformat_minor": 2
}