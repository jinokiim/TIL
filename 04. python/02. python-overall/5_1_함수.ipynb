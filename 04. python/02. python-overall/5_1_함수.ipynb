{
 "cells": [
  {
   "cell_type": "markdown",
   "source": [
    "# chapter5\n",
    "\n",
    "## 함수의 기본\n",
    "\n",
    "함수는 코드의 집함이다. 함수를 생성하는 기본 형태는 다음과 같다.  \n",
    "  \n",
    "def 함수 이름( ):  \n",
    "        문장  \n",
    "  \n",
    "### 기본적인 함수"
   ],
   "metadata": {}
  },
  {
   "cell_type": "code",
   "execution_count": 1,
   "source": [
    "def print_3times():\n",
    "    print('hello world')\n",
    "    print('hello world')\n",
    "    print('hello world')\n",
    "\n",
    "print_3times()"
   ],
   "outputs": [
    {
     "output_type": "stream",
     "name": "stdout",
     "text": [
      "hello world\n",
      "hello world\n",
      "hello world\n"
     ]
    }
   ],
   "metadata": {}
  },
  {
   "cell_type": "markdown",
   "source": [
    "## 함수에 매개변수 만들기\n",
    "\n",
    "def 함수 이름(매개변수, 매개변수, ...):  \n",
    "  \n",
    "  ### 매개변수의 기본"
   ],
   "metadata": {}
  },
  {
   "cell_type": "code",
   "execution_count": 9,
   "source": [
    "def print_3times(value, n):\n",
    "    for i in range(n):\n",
    "        print(value)\n",
    "\n",
    "print_3times('hello', 5)"
   ],
   "outputs": [
    {
     "output_type": "stream",
     "name": "stdout",
     "text": [
      "hello\n",
      "hello\n",
      "hello\n",
      "hello\n",
      "hello\n"
     ]
    }
   ],
   "metadata": {}
  },
  {
   "cell_type": "code",
   "execution_count": 12,
   "source": [
    "def print_string(n, *values):\n",
    "    for i in range(n):\n",
    "        for value in values:\n",
    "            print(value)\n",
    "        \n",
    "print_string(3, 'hello!', 'python', 'programming!')"
   ],
   "outputs": [
    {
     "output_type": "stream",
     "name": "stdout",
     "text": [
      "hello!\n",
      "python\n",
      "programming!\n",
      "hello!\n",
      "python\n",
      "programming!\n",
      "hello!\n",
      "python\n",
      "programming!\n"
     ]
    }
   ],
   "metadata": {}
  },
  {
   "cell_type": "code",
   "execution_count": 5,
   "source": [
    "def print_ntimes(value, n = 2):\n",
    "    for i in range(n):\n",
    "        print(value)\n",
    "print_ntimes(\"hello world\")"
   ],
   "outputs": [
    {
     "output_type": "stream",
     "name": "stdout",
     "text": [
      "hello world\n",
      "hello world\n"
     ]
    }
   ],
   "metadata": {}
  },
  {
   "cell_type": "code",
   "execution_count": 13,
   "source": [
    "def return_test():\n",
    "    print(\"A\")\n",
    "    return          # return 을 만나면 이후는 실행하지 않고 종료\n",
    "    print(\"B\")\n",
    "return_test()\n"
   ],
   "outputs": [
    {
     "output_type": "stream",
     "name": "stdout",
     "text": [
      "A\n"
     ]
    }
   ],
   "metadata": {}
  },
  {
   "cell_type": "markdown",
   "source": [
    "### 범위 내부의 정수를 모두 더하는 함수 만들기"
   ],
   "metadata": {}
  },
  {
   "cell_type": "code",
   "execution_count": 19,
   "source": [
    "def sum_all(start, end):\n",
    "    output = 0\n",
    "    for i in range(start, end + 1):\n",
    "        output += i\n",
    "    return output\n",
    "\n",
    "print(sum_all(0, 100))\n",
    "print(sum_all(0, 1000))\n",
    "print(sum_all(50, 100))"
   ],
   "outputs": [
    {
     "output_type": "stream",
     "name": "stdout",
     "text": [
      "5050\n",
      "500500\n",
      "3825\n"
     ]
    }
   ],
   "metadata": {}
  },
  {
   "cell_type": "markdown",
   "source": [
    "### 기본 매개변수와 키워드 매개변수를 활용"
   ],
   "metadata": {}
  },
  {
   "cell_type": "code",
   "execution_count": 23,
   "source": [
    "def sum_all(start = 0, end = 100, step = 1):\n",
    "    output = 0\n",
    "    for i in range(start, end+1, step):\n",
    "        output += i\n",
    "    return output\n",
    "print(sum_all())\n",
    "print(sum_all(end = 1000))\n",
    "print(sum_all(start = 50, end = 100, step = 2))"
   ],
   "outputs": [
    {
     "output_type": "stream",
     "name": "stdout",
     "text": [
      "5050\n",
      "500500\n",
      "1950\n"
     ]
    }
   ],
   "metadata": {}
  },
  {
   "cell_type": "markdown",
   "source": [
    "### 반복문으로 factorial 구하기"
   ],
   "metadata": {}
  },
  {
   "cell_type": "code",
   "execution_count": 24,
   "source": [
    "def factorial(n):\n",
    "    output = 1\n",
    "    for i in range(1, n+1):\n",
    "        output *= i\n",
    "    return output\n",
    "print(factorial(5))\n"
   ],
   "outputs": [
    {
     "output_type": "stream",
     "name": "stdout",
     "text": [
      "120\n"
     ]
    }
   ],
   "metadata": {}
  },
  {
   "cell_type": "markdown",
   "source": [
    "## 재귀함수(recursion)\n",
    "\n",
    "재귀란 '자기 자신을 호출하는 것' 을 의미한다.\n",
    "\n",
    "### 재귀함수로 factorial 구하기"
   ],
   "metadata": {}
  },
  {
   "cell_type": "code",
   "execution_count": 28,
   "source": [
    "def factorial(n):\n",
    "    if n == 0:\n",
    "        return 1\n",
    "    else:\n",
    "        return n * factorial(n-1)\n",
    "\n",
    "factorial(8)"
   ],
   "outputs": [
    {
     "output_type": "execute_result",
     "data": {
      "text/plain": [
       "40320"
      ]
     },
     "metadata": {},
     "execution_count": 28
    }
   ],
   "metadata": {}
  },
  {
   "cell_type": "markdown",
   "source": [
    "### 재귀함수로 fibonacci 수열 구하기"
   ],
   "metadata": {}
  },
  {
   "cell_type": "code",
   "execution_count": 45,
   "source": [
    "def fibonacci(n):\n",
    "    if n == 1:\n",
    "        return 1\n",
    "    elif n == 2:\n",
    "        return 1\n",
    "    else:\n",
    "        return fibonacci(n-1)+fibonacci(n-2)\n",
    "fibonacci(40)"
   ],
   "outputs": [
    {
     "output_type": "execute_result",
     "data": {
      "text/plain": [
       "102334155"
      ]
     },
     "metadata": {},
     "execution_count": 45
    }
   ],
   "metadata": {}
  },
  {
   "cell_type": "markdown",
   "source": [
    "### memo 를 통한 fibonacci 수열 구하기"
   ],
   "metadata": {}
  },
  {
   "cell_type": "code",
   "execution_count": 47,
   "source": [
    "dic = {\n",
    "    1:1,\n",
    "    2:1\n",
    "}\n",
    "def fibonacci(n):\n",
    "    if n in dic:\n",
    "        return dic[n]\n",
    "    else:\n",
    "        return fibonacci(n-1)+fibonacci(n-2)\n",
    "fibonacci(40)"
   ],
   "outputs": [
    {
     "output_type": "execute_result",
     "data": {
      "text/plain": [
       "102334155"
      ]
     },
     "metadata": {},
     "execution_count": 47
    }
   ],
   "metadata": {}
  }
 ],
 "metadata": {
  "orig_nbformat": 4,
  "language_info": {
   "name": "python",
   "version": "3.8.8",
   "mimetype": "text/x-python",
   "codemirror_mode": {
    "name": "ipython",
    "version": 3
   },
   "pygments_lexer": "ipython3",
   "nbconvert_exporter": "python",
   "file_extension": ".py"
  },
  "kernelspec": {
   "name": "python3",
   "display_name": "Python 3.8.8 64-bit ('base': conda)"
  },
  "interpreter": {
   "hash": "73769b30c8fab288a5558a7fff30e3c8e36bc07cececaa2fd452c8fe00f0dbf4"
  }
 },
 "nbformat": 4,
 "nbformat_minor": 2
}