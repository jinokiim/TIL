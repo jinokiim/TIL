{
 "cells": [
  {
   "cell_type": "markdown",
   "source": [
    "# chapter4  \n",
    "  \n",
    "## list 와 반복문  \n",
    "  \n",
    "list : 여러가지 자료를 저장할 수 있는 자료  \n",
    " [element, element, element, ...] 형태로 입력  \n",
    "  \n",
    "list_a = [273, 32, 103, 'string', True, False] 일때  \n",
    "각 요소가 들어있는 위치는  \n",
    "|list_a|273|32|103|string|True|False|\n",
    "|:---:|:---:|:---:|:---:|:---:|:---:|:---:|\n",
    "|[0]|[1]|[2]|[3]|[4]|[5]|[6]|\n",
    "  \n",
    "이때 [ ] 안에 들어간 숫자를 인덱스(index)라고 부른다.  \n",
    "  \n",
    "  \n",
    "## 리스트 연산자 : 연결(+), 반복(*), len( )\n",
    "  \n",
    "\n",
    "\n",
    "\n"
   ],
   "metadata": {}
  },
  {
   "cell_type": "code",
   "execution_count": 1,
   "source": [
    "list_a = [1, 2, 3]\n",
    "list_b = [4, 5, 6]\n",
    "print(\"# list\")\n",
    "print(\"list_a : \", list_a)\n",
    "print(\"list_b : \", list_b)\n",
    "print()\n",
    "\n",
    "print(\"# list 기본 연산자\")\n",
    "print(\"list_a + list_b = \", list_a + list_b)\n",
    "print(\"list_a * 3 = \", list_a * 3)\n",
    "print()\n",
    "\n",
    "print(\"list 길이구하기\")\n",
    "print(\"list 의 길이 = \", len(list_a))"
   ],
   "outputs": [
    {
     "output_type": "stream",
     "name": "stdout",
     "text": [
      "# list\n",
      "list_a :  [1, 2, 3]\n",
      "list_b :  [4, 5, 6]\n",
      "\n",
      "# list 기본 연산자\n",
      "list_a + list_b =  [1, 2, 3, 4, 5, 6]\n",
      "list_a * 3 =  [1, 2, 3, 1, 2, 3, 1, 2, 3]\n",
      "\n",
      "list 길이구하기\n",
      "list 의 길이 =  3\n"
     ]
    }
   ],
   "metadata": {}
  },
  {
   "cell_type": "markdown",
   "source": [
    "## 리스트에 요소 추가하기 : append, insert\n",
    "  \n",
    "listname.append(element) : list 뒤에 element 추가  \n",
    "listname.insert(위치, element) : 지정 위치에 요소 추가  "
   ],
   "metadata": {}
  },
  {
   "cell_type": "code",
   "execution_count": 2,
   "source": [
    "list_c = [1, 2, 3]\n",
    "list_c.append(4)\n",
    "print(list_c)\n",
    "print()\n",
    "list_c.insert(2, 8)\n",
    "print(list_c)\n"
   ],
   "outputs": [
    {
     "output_type": "stream",
     "name": "stdout",
     "text": [
      "[1, 2, 3, 4]\n",
      "\n",
      "[1, 2, 8, 3, 4]\n"
     ]
    }
   ],
   "metadata": {}
  },
  {
   "cell_type": "markdown",
   "source": [
    "## 리스트 요소 제거하기\n",
    "    \n",
    "del listname[index]  \n",
    "listname.pop(index)  \n",
    "listname.remove(값)  \n",
    "listname.clear( ) : 모두 제거하기"
   ],
   "metadata": {}
  },
  {
   "cell_type": "code",
   "execution_count": 3,
   "source": [
    "list_d = [1, 2, 3, 4, 5]\n",
    "del list_d[1]\n",
    "print(list_d)\n",
    "list_d.pop(3)\n",
    "print(list_d)\n",
    "list_d.remove(3)\n",
    "print(list_d)\n",
    "list_d.clear()\n",
    "print(list_d)"
   ],
   "outputs": [
    {
     "output_type": "stream",
     "name": "stdout",
     "text": [
      "[1, 3, 4, 5]\n",
      "[1, 3, 4]\n",
      "[1, 4]\n",
      "[]\n"
     ]
    }
   ],
   "metadata": {}
  },
  {
   "cell_type": "markdown",
   "source": [
    "## 리스트 내부에 있는지 확인하기 : in / not in 연산자\n",
    "  \n",
    "값 in listname"
   ],
   "metadata": {}
  },
  {
   "cell_type": "code",
   "execution_count": 4,
   "source": [
    "list_h = [1, 2, 3, 4, 5, 6, 7]\n",
    "\n",
    "print(3 in list_h)\n",
    "print(10 in list_h)"
   ],
   "outputs": [
    {
     "output_type": "stream",
     "name": "stdout",
     "text": [
      "True\n",
      "False\n"
     ]
    }
   ],
   "metadata": {}
  },
  {
   "cell_type": "markdown",
   "source": [
    "## For 반복문\n",
    "  \n",
    "조건에 맞게 반복한다."
   ],
   "metadata": {}
  },
  {
   "cell_type": "code",
   "execution_count": 5,
   "source": [
    "for i in range(10):\n",
    "    print('print')"
   ],
   "outputs": [
    {
     "output_type": "stream",
     "name": "stdout",
     "text": [
      "print\n",
      "print\n",
      "print\n",
      "print\n",
      "print\n",
      "print\n",
      "print\n",
      "print\n",
      "print\n",
      "print\n"
     ]
    }
   ],
   "metadata": {}
  },
  {
   "cell_type": "markdown",
   "source": [
    "## For 반복문 list 와 함께 사용하기\n",
    "  \n",
    "기본형태  \n",
    "for *반복자* in *반복할 수 있는 것* :  \n",
    "&#4; 코드"
   ],
   "metadata": {}
  },
  {
   "cell_type": "code",
   "execution_count": 6,
   "source": [
    "array = [273, 32, 103, 57, 52]\n",
    "\n",
    "for element in array:\n",
    "    print(element)\n",
    "print()\n",
    "# 문자열에선\n",
    "for character in 'hello world':\n",
    "    print(\"- \", character)"
   ],
   "outputs": [
    {
     "output_type": "stream",
     "name": "stdout",
     "text": [
      "273\n",
      "32\n",
      "103\n",
      "57\n",
      "52\n",
      "\n",
      "-  h\n",
      "-  e\n",
      "-  l\n",
      "-  l\n",
      "-  o\n",
      "-   \n",
      "-  w\n",
      "-  o\n",
      "-  r\n",
      "-  l\n",
      "-  d\n"
     ]
    }
   ],
   "metadata": {}
  },
  {
   "cell_type": "markdown",
   "source": [
    "## 딕셔너리와 반복문\n",
    "  \n",
    "리스트는 '인덱스'를 기반으로 값을 저장하는 것 이라면  \n",
    "딕셔너리(dictionary)는 '키'를 기반으로 값을 저장한다.  \n",
    "{  \n",
    "    '키A' : 10(키값),  \n",
    "}  \n",
    "  \n",
    "|자료형|의미|가리키는 위치|선언 형식|\n",
    "|:---:|:---:|:---:|:---:|\n",
    "|리스트|인덱스를 기반으로 값을 저장|인덱스|변수 = [ ]|\n",
    "|딕셔너리|키를 기반으로 값을 저장|키|변수 = { }|\n",
    "  \n",
    "## 딕셔너리 선언하기\n",
    "  \n",
    "변수 = {  \n",
    "        키 : 값,  \n",
    "        키 : 값,  \n",
    "        ...\n",
    "        키 : 값,  \n",
    "}  \n"
   ],
   "metadata": {}
  },
  {
   "cell_type": "code",
   "execution_count": 10,
   "source": [
    "# dictionary 선언하기\n",
    "dict_avengers = {\n",
    "    \"name\" : \"avengers endgame\",\n",
    "    \"type\" : \"hero movie\",\n",
    "    \"release date\" : \"april 4th\",\n",
    "    \"character\" : [\"ironman\", \"thor\", \"cpt america\", \"hulk\"],\n",
    "    \"director\" : \"russo\"\n",
    "}\n",
    "\n",
    "# 출력하기\n",
    "print('name : ', dict_avengers['name'])\n",
    "print('type : ', dict_avengers['type'])\n",
    "print('realease date : ', dict_avengers['release date'])\n",
    "print('character : ', dict_avengers['character'])\n",
    "print('director : ', dict_avengers['director'])\n",
    "print()\n",
    "# 값을 변경하기\n",
    "dict_avengers[\"director\"] = \"joe russo\"\n",
    "print(\"director : \", dict_avengers[\"director\"])\n"
   ],
   "outputs": [
    {
     "output_type": "stream",
     "name": "stdout",
     "text": [
      "name :  avengers endgame\n",
      "type :  hero movie\n",
      "realease date :  april 4th\n",
      "character :  ['ironman', 'thor', 'cpt america', 'hulk']\n",
      "director :  russo\n",
      "\n",
      "director :  joe russo\n"
     ]
    }
   ],
   "metadata": {}
  },
  {
   "cell_type": "markdown",
   "source": [
    "## dictionary 에 새로운 값 추가하기\n",
    " dictionary 에 새로운값 추가하기  \n",
    " dictionaryname['새로운 키'] = 새로운 값  \n",
    "  \n",
    " dictionary 에 요소 제거하기  \n",
    " del dictionaryname['key]  \n",
    "  \n",
    "## key 가 존재하는지 확인  \n",
    "  \n",
    "1. if 를 활용  \n",
    "key = input(\"접근하고자 하는 키 입력하시오 > \")  : 원하는 key를 입력받음  \n",
    "if key in dictionary:  \n",
    "print(dictionary[key])  \n",
    "else:  \n",
    "  print(\"존재하지 않는 키\")\n",
    "  \n",
    "2. get 함수를 이용  \n",
    "  value = dictionary.get(\"존재하지 않는 키\")   : 존재하지 않는 key를 value로 확인  \n",
    "print(value) : value가 없으면 None로 출력\n",
    "  \n",
    " 반복문(for) 과 dictionary  \n",
    " for key in dictionary :  \n",
    " print(key, \" : \", dictionary[key])"
   ],
   "metadata": {}
  },
  {
   "cell_type": "markdown",
   "source": [
    "## 반복문과 while 반복문\n",
    "  \n",
    "### range(범위)\n",
    "  \n",
    "1. range(A)  * A 는 숫자  "
   ],
   "metadata": {}
  },
  {
   "cell_type": "code",
   "execution_count": 13,
   "source": [
    "a = range(5)\n",
    "print(list(a))"
   ],
   "outputs": [
    {
     "output_type": "stream",
     "name": "stdout",
     "text": [
      "[0, 1, 2, 3, 4]\n"
     ]
    }
   ],
   "metadata": {}
  },
  {
   "cell_type": "markdown",
   "source": [
    "2. range(A, B)  \n",
    "A 부터 B - 1 까지 정수로 범위를 만든다."
   ],
   "metadata": {}
  },
  {
   "cell_type": "code",
   "execution_count": 12,
   "source": [
    "b = range(3, 7)\n",
    "print(list(b))"
   ],
   "outputs": [
    {
     "output_type": "stream",
     "name": "stdout",
     "text": [
      "[3, 4, 5, 6]\n"
     ]
    }
   ],
   "metadata": {}
  },
  {
   "cell_type": "markdown",
   "source": [
    "3. range(A, B, C)  \n",
    "A 부터 B-1 까지 정수로 범위를 만드는데, 앞뒤의 숫자가 C 만큼의 차이를 가진다.\n"
   ],
   "metadata": {}
  },
  {
   "cell_type": "code",
   "execution_count": 14,
   "source": [
    "c = range(0, 10, 2)\n",
    "print(list(c))\n"
   ],
   "outputs": [
    {
     "output_type": "stream",
     "name": "stdout",
     "text": [
      "[0, 2, 4, 6, 8]\n"
     ]
    }
   ],
   "metadata": {}
  },
  {
   "cell_type": "markdown",
   "source": [
    "## for 반복문과 함께 사용하기\n",
    "  \n",
    "  for `숫자 변수` in range"
   ],
   "metadata": {}
  },
  {
   "cell_type": "code",
   "execution_count": 15,
   "source": [
    "for i in range(5):\n",
    "    print(str(i) + \" 는 \" + str(i + 1) + \"번째 출력입니다.\")"
   ],
   "outputs": [
    {
     "output_type": "stream",
     "name": "stdout",
     "text": [
      "0 는 1번째 출력입니다.\n",
      "1 는 2번째 출력입니다.\n",
      "2 는 3번째 출력입니다.\n",
      "3 는 4번째 출력입니다.\n",
      "4 는 5번째 출력입니다.\n"
     ]
    }
   ],
   "metadata": {}
  },
  {
   "cell_type": "markdown",
   "source": [
    "## for 반복문과 list 와 range 조합하기"
   ],
   "metadata": {}
  },
  {
   "cell_type": "code",
   "execution_count": 16,
   "source": [
    "array = [273, 32, 103, 57, 52]      # list 선언하기\n",
    "for element in array:               # list 에 반복문 적용\n",
    "    print(element)                  # list element 출력\n",
    "print()\n",
    "\n",
    "for i in range(len(array)):         # list 의 length 만큼 range 를 준다\n",
    "    print(\"{}번째 요소 : {}\".format(i, array[i]))\n"
   ],
   "outputs": [
    {
     "output_type": "stream",
     "name": "stdout",
     "text": [
      "273\n",
      "32\n",
      "103\n",
      "57\n",
      "52\n",
      "\n",
      "0번째 요소 : 273\n",
      "1번째 요소 : 32\n",
      "2번째 요소 : 103\n",
      "3번째 요소 : 57\n",
      "4번째 요소 : 52\n"
     ]
    }
   ],
   "metadata": {}
  },
  {
   "cell_type": "markdown",
   "source": [
    "## while 반복문\n",
    "  \n",
    "특정 횟수만틈 반복하는 경우에는 for 을 사용했니만  \n",
    "while 반복문은 boolean이 True 인 동안 문장을 계속 반복한다.\n",
    "\n",
    "`while boolean 표현식:`  \n",
    "    문장  \n"
   ],
   "metadata": {}
  },
  {
   "cell_type": "code",
   "execution_count": 43,
   "source": [
    "i = 0\n",
    "while i < 10:\n",
    "    print('{}번째 반복입니다.'.format(i))\n",
    "    i += 1"
   ],
   "outputs": [
    {
     "output_type": "stream",
     "name": "stdout",
     "text": [
      "0번째 반복입니다.\n",
      "1번째 반복입니다.\n",
      "2번째 반복입니다.\n",
      "3번째 반복입니다.\n",
      "4번째 반복입니다.\n",
      "5번째 반복입니다.\n",
      "6번째 반복입니다.\n",
      "7번째 반복입니다.\n",
      "8번째 반복입니다.\n",
      "9번째 반복입니다.\n"
     ]
    }
   ],
   "metadata": {}
  },
  {
   "cell_type": "code",
   "execution_count": 44,
   "source": [
    "list_test = [1, 2, 1, 2,1, 2, 1, 2]\n",
    "value = 2\n",
    "while value in list_test:\n",
    "    list_test.remove(value)\n",
    "print(list_test)"
   ],
   "outputs": [
    {
     "output_type": "stream",
     "name": "stdout",
     "text": [
      "[1, 1, 1, 1]\n"
     ]
    }
   ],
   "metadata": {}
  },
  {
   "cell_type": "code",
   "execution_count": 47,
   "source": [
    "import time\n",
    "time.time()\n",
    "\n",
    "number = 0\n",
    "target_tick = time.time() + 5\n",
    "while time.time() < target_tick:\n",
    "    number +=1\n",
    "\n",
    "print('5초동안 {}번 반복했습니다.'.format(number))"
   ],
   "outputs": [
    {
     "output_type": "stream",
     "name": "stdout",
     "text": [
      "5초동안 31879236번 반복했습니다.\n"
     ]
    }
   ],
   "metadata": {}
  },
  {
   "cell_type": "code",
   "execution_count": 48,
   "source": [
    "i = 0\n",
    "while True:\n",
    "    print(\"{}번째 반복입니다.\".format(i + 1))\n",
    "    i += 1\n",
    "    # 반복을 종료\n",
    "    input_text = input(\"quit??? (y/n) : \")\n",
    "    if input_text in [\"y\", \"Y\"]:\n",
    "        print(\"quit\")\n",
    "        break\n",
    "print()\n"
   ],
   "outputs": [
    {
     "output_type": "stream",
     "name": "stdout",
     "text": [
      "1번째 반복입니다.\n",
      "2번째 반복입니다.\n",
      "3번째 반복입니다.\n",
      "4번째 반복입니다.\n",
      "5번째 반복입니다.\n",
      "quit\n",
      "\n"
     ]
    }
   ],
   "metadata": {}
  },
  {
   "cell_type": "code",
   "execution_count": 51,
   "source": [
    "numbers = [5, 15, 6, 20, 7, 25]\n",
    "\n",
    "for number in numbers:\n",
    "    if number < 10:\n",
    "        continue\n",
    "    print(number)"
   ],
   "outputs": [
    {
     "output_type": "stream",
     "name": "stdout",
     "text": [
      "15\n",
      "20\n",
      "25\n"
     ]
    }
   ],
   "metadata": {}
  },
  {
   "cell_type": "markdown",
   "source": [
    "## list 에 적용할 수 있는 기본 함수\n",
    "  \n",
    "|함수|설명|\n",
    "|:---:|:---:|\n",
    "|min()|list 내부에서 최솟값을 찾습니다.|\n",
    "|max()|list 내부에서 최댓값을 찾습니다.|\n",
    "|sum()|list 내부에서 값을 모두 더합니다.|\n",
    "|reversed()|list 뒤집기|\n",
    "|enumerate()|현재 인덱스가 몇 번째인지 확인하기|\n",
    "|items()|딕셔너리로 쉽게 반복문 작성하기|\n",
    "\n"
   ],
   "metadata": {}
  },
  {
   "cell_type": "code",
   "execution_count": 1,
   "source": [
    "l = [1, 2, 3, 4, 5]\n",
    "print(min(l))\n",
    "print(max(l))\n",
    "print(sum(l))\n",
    "rl = reversed(l)\n",
    "print(list(rl))"
   ],
   "outputs": [
    {
     "output_type": "stream",
     "name": "stdout",
     "text": [
      "1\n",
      "5\n",
      "15\n",
      "[5, 4, 3, 2, 1]\n"
     ]
    }
   ],
   "metadata": {}
  },
  {
   "cell_type": "markdown",
   "source": [],
   "metadata": {}
  },
  {
   "cell_type": "code",
   "execution_count": 3,
   "source": [
    "l = ['a', 'b', 'c', 'd', 'e']\n",
    "print(list(enumerate(l)))"
   ],
   "outputs": [
    {
     "output_type": "stream",
     "name": "stdout",
     "text": [
      "[(0, 'a'), (1, 'b'), (2, 'c'), (3, 'd'), (4, 'e')]\n"
     ]
    }
   ],
   "metadata": {}
  },
  {
   "cell_type": "code",
   "execution_count": 5,
   "source": [
    "dictionary_a = {\n",
    "    \"keyA\" : \"elementA\",\n",
    "    \"keyB\" : \"elementB\",\n",
    "    \"keyC\" : \"elementC\"\n",
    "} \n",
    "for key, element in dictionary_a.items():\n",
    "    print(\"dictionary[{}] : {}\".format(key, element))\n",
    "print()"
   ],
   "outputs": [
    {
     "output_type": "stream",
     "name": "stdout",
     "text": [
      "dictionary[keyA] : elementA\n",
      "dictionary[keyB] : elementB\n",
      "dictionary[keyC] : elementC\n",
      "\n"
     ]
    }
   ],
   "metadata": {}
  },
  {
   "cell_type": "code",
   "execution_count": 9,
   "source": [
    "array = []\n",
    "for i in range(0, 20, 2):\n",
    "    array.append(i*i)\n",
    "print(array)"
   ],
   "outputs": [
    {
     "output_type": "stream",
     "name": "stdout",
     "text": [
      "[0, 4, 16, 36, 64, 100, 144, 196, 256, 324]\n"
     ]
    }
   ],
   "metadata": {}
  },
  {
   "cell_type": "code",
   "execution_count": 10,
   "source": [
    "array_a = [i * i for i in range(0, 20, 2)]        # 최종 결과를 맨 앞에 작성(i * i)\n",
    "print(array_a)"
   ],
   "outputs": [
    {
     "output_type": "stream",
     "name": "stdout",
     "text": [
      "[0, 4, 16, 36, 64, 100, 144, 196, 256, 324]\n"
     ]
    }
   ],
   "metadata": {}
  },
  {
   "cell_type": "code",
   "execution_count": 11,
   "source": [
    "array_b = [\"apple\", \"banana\", \"orange\", \"chocolate\"]\n",
    "output = [fruit for fruit in array_b if fruit != \"chocolate\"]\n",
    "print(output)"
   ],
   "outputs": [
    {
     "output_type": "stream",
     "name": "stdout",
     "text": [
      "['apple', 'banana', 'orange']\n"
     ]
    }
   ],
   "metadata": {}
  },
  {
   "cell_type": "markdown",
   "source": [
    "## 진수 변환하기\n",
    "  \n",
    "### 방법 1\n"
   ],
   "metadata": {}
  },
  {
   "cell_type": "code",
   "execution_count": 24,
   "source": [
    "value = 60\n",
    "b = format(value, 'b')      # 2진수 \n",
    "o = format(value, 'o')      # 8진수\n",
    "h = format(value, 'x')      # 16진수\n",
    "print(b)\n",
    "print(h)\n",
    "print(o)\n",
    "print(type(b))\n",
    "print()\n",
    "ib = int(b)\n",
    "print(ib)\n",
    "print(type(ib))"
   ],
   "outputs": [
    {
     "output_type": "stream",
     "name": "stdout",
     "text": [
      "111100\n",
      "3c\n",
      "74\n",
      "<class 'str'>\n",
      "\n",
      "111100\n",
      "<class 'int'>\n"
     ]
    }
   ],
   "metadata": {}
  },
  {
   "cell_type": "markdown",
   "source": [
    "### 방법 2"
   ],
   "metadata": {}
  },
  {
   "cell_type": "code",
   "execution_count": 29,
   "source": [
    "b = '{:b}'.format(60)\n",
    "print(b)\n",
    "print(type(b))\n",
    "print()\n",
    "ib = int(b)\n",
    "print(ib)\n",
    "print(type(ib))"
   ],
   "outputs": [
    {
     "output_type": "stream",
     "name": "stdout",
     "text": [
      "111100\n",
      "<class 'str'>\n",
      "\n",
      "111100\n",
      "<class 'int'>\n"
     ]
    }
   ],
   "metadata": {}
  },
  {
   "cell_type": "markdown",
   "source": [
    "## list 연습문제\n",
    "  \n",
    "### 1."
   ],
   "metadata": {}
  },
  {
   "cell_type": "code",
   "execution_count": 20,
   "source": [
    "numbers = [273, 103, 5, 32, 65, 9, 72, 800, 99]\n",
    "\n",
    "for n in numbers:\n",
    "    if n >= 100:\n",
    "        print('- 100 이상의 수 : {}'.format(n))\n",
    "    "
   ],
   "outputs": [
    {
     "output_type": "stream",
     "name": "stdout",
     "text": [
      "- 100 이상의 수 : 273\n",
      "- 100 이상의 수 : 103\n",
      "- 100 이상의 수 : 800\n"
     ]
    }
   ],
   "metadata": {}
  },
  {
   "cell_type": "markdown",
   "source": [
    "### 2."
   ],
   "metadata": {}
  },
  {
   "cell_type": "code",
   "execution_count": 29,
   "source": [
    "numbers = [273, 103, 5, 32, 65, 9, 72, 800, 99]\n",
    "\n",
    "for i in numbers:\n",
    "    if i % 2 == 0:\n",
    "        print('{} 는 짝수입니다.'.format(i))\n",
    "    else:\n",
    "        print('{} 는 홀수입니다.'.format(i))\n",
    "\n",
    "for i in numbers:\n",
    "    print('{} 는 {} 자릿수입니다.'.format(i, len(str(i))))"
   ],
   "outputs": [
    {
     "output_type": "stream",
     "name": "stdout",
     "text": [
      "273 는 홀수입니다.\n",
      "103 는 홀수입니다.\n",
      "5 는 홀수입니다.\n",
      "32 는 짝수입니다.\n",
      "65 는 홀수입니다.\n",
      "9 는 홀수입니다.\n",
      "72 는 짝수입니다.\n",
      "800 는 짝수입니다.\n",
      "99 는 홀수입니다.\n",
      "273 는 3 자릿수입니다.\n",
      "103 는 3 자릿수입니다.\n",
      "5 는 1 자릿수입니다.\n",
      "32 는 2 자릿수입니다.\n",
      "65 는 2 자릿수입니다.\n",
      "9 는 1 자릿수입니다.\n",
      "72 는 2 자릿수입니다.\n",
      "800 는 3 자릿수입니다.\n",
      "99 는 2 자릿수입니다.\n"
     ]
    }
   ],
   "metadata": {}
  },
  {
   "cell_type": "markdown",
   "source": [],
   "metadata": {}
  },
  {
   "cell_type": "markdown",
   "source": [
    "### 3."
   ],
   "metadata": {}
  },
  {
   "cell_type": "code",
   "execution_count": 38,
   "source": [
    "l = [\n",
    "    [1, 2, 3],\n",
    "    [4, 5, 6, 7],\n",
    "    [8, 9]\n",
    "]\n",
    "\n",
    "for i in l:\n",
    "    for j in i:\n",
    "        print(j)\n"
   ],
   "outputs": [
    {
     "output_type": "stream",
     "name": "stdout",
     "text": [
      "1\n",
      "2\n",
      "3\n",
      "4\n",
      "5\n",
      "6\n",
      "7\n",
      "8\n",
      "9\n"
     ]
    }
   ],
   "metadata": {}
  },
  {
   "cell_type": "markdown",
   "source": [
    "## 4."
   ],
   "metadata": {}
  },
  {
   "cell_type": "code",
   "execution_count": 42,
   "source": [
    "numbers = [1, 2, 3, 4, 5, 6, 7, 8, 9]\n",
    "output = [[], [], []]\n",
    "\n",
    "for number in numbers:\n",
    "    output[(number + 2)%3].append(number)\n",
    "print(output)"
   ],
   "outputs": [
    {
     "output_type": "stream",
     "name": "stdout",
     "text": [
      "[[1, 4, 7], [2, 5, 8], [3, 6, 9]]\n"
     ]
    }
   ],
   "metadata": {}
  }
 ],
 "metadata": {
  "orig_nbformat": 4,
  "language_info": {
   "name": "python",
   "version": "3.8.8",
   "mimetype": "text/x-python",
   "codemirror_mode": {
    "name": "ipython",
    "version": 3
   },
   "pygments_lexer": "ipython3",
   "nbconvert_exporter": "python",
   "file_extension": ".py"
  },
  "kernelspec": {
   "name": "python3",
   "display_name": "Python 3.8.8 64-bit ('base': conda)"
  },
  "interpreter": {
   "hash": "73769b30c8fab288a5558a7fff30e3c8e36bc07cececaa2fd452c8fe00f0dbf4"
  }
 },
 "nbformat": 4,
 "nbformat_minor": 2
}