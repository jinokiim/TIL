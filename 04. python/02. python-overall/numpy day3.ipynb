{
 "cells": [
  {
   "cell_type": "markdown",
   "id": "e6b376b7",
   "metadata": {},
   "source": [
    "# Numpy 기초\n",
    "\n",
    "### 불리언 인덱싱(booleam indexing) \n",
    "\n",
    "numpy 불리언 인덱싱은 배열 각 요소의 선택 여부를 Ture, False 로 지정하는 방식입니다.  \n",
    "해당 인덱스의 True만을 조회합니다."
   ]
  },
  {
   "cell_type": "code",
   "execution_count": 1,
   "id": "70dd0b2c",
   "metadata": {},
   "outputs": [],
   "source": [
    "import numpy as np\n",
    "import matplotlib.pyplot as plt\n",
    "def pprint(arr):\n",
    "    print('type : {}'.format(type(arr)))\n",
    "    print('shape : {}, demention : {}, dtype : {}'.format(arr.shape, arr.ndim, arr.dtype))\n",
    "    print(\"array's Data : \\n\", arr)"
   ]
  },
  {
   "cell_type": "markdown",
   "id": "a7024e92",
   "metadata": {},
   "source": [
    "a1배열에서 요소의 값이 짝수인 요소들의 총합 구하기"
   ]
  },
  {
   "cell_type": "code",
   "execution_count": 3,
   "id": "c48110b4",
   "metadata": {},
   "outputs": [
    {
     "name": "stdout",
     "output_type": "stream",
     "text": [
      "type : <class 'numpy.ndarray'>\n",
      "shape : (4, 6), demention : 2, dtype : int64\n",
      "array's Data : \n",
      " [[ 1  2  3  4  5  6]\n",
      " [ 7  8  9 10 11 12]\n",
      " [13 14 15 16 17 18]\n",
      " [19 20 21 22 23 24]]\n"
     ]
    }
   ],
   "source": [
    "a1 = np.arange(1, 25).reshape((4, 6))\n",
    "pprint(a1)"
   ]
  },
  {
   "cell_type": "code",
   "execution_count": 4,
   "id": "33615bb6",
   "metadata": {},
   "outputs": [
    {
     "name": "stdout",
     "output_type": "stream",
     "text": [
      "type : <class 'numpy.ndarray'>\n",
      "shape : (4, 6), demention : 2, dtype : bool\n",
      "array's Data : \n",
      " [[False  True False  True False  True]\n",
      " [False  True False  True False  True]\n",
      " [False  True False  True False  True]\n",
      " [False  True False  True False  True]]\n"
     ]
    }
   ],
   "source": [
    "even_arr = a1%2==0\n",
    "pprint(even_arr)"
   ]
  },
  {
   "cell_type": "code",
   "execution_count": 6,
   "id": "5c83c468",
   "metadata": {},
   "outputs": [
    {
     "data": {
      "text/plain": [
       "array([ 2,  4,  6,  8, 10, 12, 14, 16, 18, 20, 22, 24])"
      ]
     },
     "execution_count": 6,
     "metadata": {},
     "output_type": "execute_result"
    }
   ],
   "source": [
    "# a1[a1%2==0] 과 동일한 의미이다.\n",
    "a1[even_arr]"
   ]
  },
  {
   "cell_type": "markdown",
   "id": "68faf4d1",
   "metadata": {},
   "source": [
    "## Boolean Indexing 의 응용\n",
    "\n",
    "* 2014년 시애틀 강수량 데이터 사용\n",
    "* 1년중 1월의 평균 강수량 구하기"
   ]
  },
  {
   "cell_type": "code",
   "execution_count": 7,
   "id": "ab91cba4",
   "metadata": {},
   "outputs": [],
   "source": [
    "import pandas as pd"
   ]
  },
  {
   "cell_type": "code",
   "execution_count": 20,
   "id": "2966a00d",
   "metadata": {},
   "outputs": [
    {
     "name": "stdout",
     "output_type": "stream",
     "text": [
      "Data Sizd: 365\n"
     ]
    }
   ],
   "source": [
    "# 데이터 로딩\n",
    "rains_in_seattle = pd.read_csv('./seattle2014.csv')\n",
    "rains_arr = rains_in_seattle['PRCP'].values\n",
    "print('Data Sizd:', len(rains_arr))"
   ]
  },
  {
   "cell_type": "code",
   "execution_count": 9,
   "id": "c09cf436",
   "metadata": {},
   "outputs": [],
   "source": [
    "# 날짜 배열\n",
    "days_arr = np.arange(0, 365)"
   ]
  },
  {
   "cell_type": "code",
   "execution_count": 10,
   "id": "e7097eb9",
   "metadata": {},
   "outputs": [],
   "source": [
    "# 1월인 날을 구하기 위해 boolean indexing\n",
    "condition_jan = days_arr < 31"
   ]
  },
  {
   "cell_type": "code",
   "execution_count": 12,
   "id": "39a95165",
   "metadata": {},
   "outputs": [
    {
     "data": {
      "text/plain": [
       "array([ True,  True,  True,  True,  True,  True,  True,  True,  True,\n",
       "        True,  True,  True,  True,  True,  True,  True,  True,  True,\n",
       "        True,  True,  True,  True,  True,  True,  True,  True,  True,\n",
       "        True,  True,  True,  True, False, False, False, False, False,\n",
       "       False, False, False, False])"
      ]
     },
     "execution_count": 12,
     "metadata": {},
     "output_type": "execute_result"
    }
   ],
   "source": [
    "# 40일까지 조회\n",
    "condition_jan[:40]"
   ]
  },
  {
   "cell_type": "code",
   "execution_count": 13,
   "id": "90187792",
   "metadata": {},
   "outputs": [],
   "source": [
    "# 1월의 강수량 추출 (40일)\n",
    "rains_jan = rains_arr[condition_jan]"
   ]
  },
  {
   "cell_type": "code",
   "execution_count": 14,
   "id": "08917790",
   "metadata": {},
   "outputs": [
    {
     "data": {
      "text/plain": [
       "31"
      ]
     },
     "execution_count": 14,
     "metadata": {},
     "output_type": "execute_result"
    }
   ],
   "source": [
    "# 1월의 강수량 데이터 수\n",
    "len(rains_jan)"
   ]
  },
  {
   "cell_type": "code",
   "execution_count": 15,
   "id": "1c4d9ffc",
   "metadata": {},
   "outputs": [
    {
     "data": {
      "text/plain": [
       "940"
      ]
     },
     "execution_count": 15,
     "metadata": {},
     "output_type": "execute_result"
    }
   ],
   "source": [
    "# 1월 강수량 총합\n",
    "np.sum(rains_jan)"
   ]
  },
  {
   "cell_type": "code",
   "execution_count": 16,
   "id": "77f42816",
   "metadata": {},
   "outputs": [
    {
     "data": {
      "text/plain": [
       "30.322580645161292"
      ]
     },
     "execution_count": 16,
     "metadata": {},
     "output_type": "execute_result"
    }
   ],
   "source": [
    "# 1월 평균 강수량\n",
    "np.mean(rains_jan)"
   ]
  },
  {
   "cell_type": "markdown",
   "id": "e7545855",
   "metadata": {},
   "source": [
    "## 원하는 달을 input으로 받아 강수량을 알려주는 프로그램 작성"
   ]
  },
  {
   "cell_type": "code",
   "execution_count": 29,
   "id": "961d37c6",
   "metadata": {},
   "outputs": [
    {
     "name": "stdout",
     "output_type": "stream",
     "text": [
      "해당 월을 숫자로 입력하시오7\n",
      "데이터 수 :  30\n",
      "총 강수량 :  5835\n",
      "평균 강수량 :  194.5\n"
     ]
    }
   ],
   "source": [
    "days_arr = np.arange(0, 361)\n",
    "\n",
    "month = int(input('해당 월을 숫자로 입력하시오'))\n",
    "\n",
    "start = (month-1)*30\n",
    "end = month * 30\n",
    "rains_month = days_arr[start:end]\n",
    "\n",
    "print('데이터 수 : ', len(rains_month))\n",
    "print('총 강수량 : ', np.sum(rains_month))\n",
    "print('평균 강수량 : ', np.mean(rains_month))"
   ]
  },
  {
   "cell_type": "markdown",
   "id": "031fb080",
   "metadata": {},
   "source": [
    "###  팬시 인덱싱(Fancy indexing)\n",
    "\n",
    "배열에 인덱스 배열을 전달하여 요소를 참조하는 방법이다."
   ]
  },
  {
   "cell_type": "code",
   "execution_count": 31,
   "id": "a7aac158",
   "metadata": {},
   "outputs": [
    {
     "name": "stdout",
     "output_type": "stream",
     "text": [
      "type : <class 'numpy.ndarray'>\n",
      "shape : (4, 6), demention : 2, dtype : int64\n",
      "array's Data : \n",
      " [[ 1  2  3  4  5  6]\n",
      " [ 7  8  9 10 11 12]\n",
      " [13 14 15 16 17 18]\n",
      " [19 20 21 22 23 24]]\n"
     ]
    }
   ],
   "source": [
    "arr = np.arange(1, 25).reshape((4, 6))\n",
    "pprint(arr)"
   ]
  },
  {
   "cell_type": "markdown",
   "id": "c0ba6f0d",
   "metadata": {},
   "source": [
    "### fancy case 1"
   ]
  },
  {
   "cell_type": "code",
   "execution_count": 32,
   "id": "559437a7",
   "metadata": {},
   "outputs": [
    {
     "data": {
      "text/plain": [
       "[1, 9, 15, 22]"
      ]
     },
     "execution_count": 32,
     "metadata": {},
     "output_type": "execute_result"
    }
   ],
   "source": [
    "[arr[0,0], arr[1,2], arr[2,2], arr[3,3]]"
   ]
  },
  {
   "cell_type": "code",
   "execution_count": 33,
   "id": "187c9703",
   "metadata": {},
   "outputs": [
    {
     "data": {
      "text/plain": [
       "array([ 1,  8, 15, 22])"
      ]
     },
     "execution_count": 33,
     "metadata": {},
     "output_type": "execute_result"
    }
   ],
   "source": [
    "# (0,0), (1,1), (2,2), (3,3) 으로 배열 전달\n",
    "arr[[0, 1, 2, 3], [0, 1, 2, 3]]"
   ]
  },
  {
   "cell_type": "markdown",
   "id": "62ab82ac",
   "metadata": {},
   "source": [
    "### fancy case 2"
   ]
  },
  {
   "cell_type": "code",
   "execution_count": 34,
   "id": "37e75123",
   "metadata": {},
   "outputs": [
    {
     "data": {
      "text/plain": [
       "array([[ 2,  3],\n",
       "       [ 8,  9],\n",
       "       [14, 15],\n",
       "       [20, 21]])"
      ]
     },
     "execution_count": 34,
     "metadata": {},
     "output_type": "execute_result"
    }
   ],
   "source": [
    "# 전체 행에 대해 1,2 번 칼럼 참조\n",
    "arr[:, [1, 2]]"
   ]
  },
  {
   "cell_type": "markdown",
   "id": "e38f229f",
   "metadata": {},
   "source": [
    "## 배열 변환\n",
    "\n",
    "배열을 변환하는 방법으로 전치, shape변환, 요소추가, 결합, 분리 등이 있다.\n",
    "\n",
    "### [numpy.ndarray 객체] . T\n",
    "\n",
    "전치(Tranpose)는 행렬의 인덱스가 바뀌는 변환이다.\n",
    "(a, b) -> (b, a)로 변환된다."
   ]
  },
  {
   "cell_type": "code",
   "execution_count": 35,
   "id": "152a21e8",
   "metadata": {},
   "outputs": [
    {
     "name": "stdout",
     "output_type": "stream",
     "text": [
      "type : <class 'numpy.ndarray'>\n",
      "shape : (2, 3), demention : 2, dtype : int64\n",
      "array's Data : \n",
      " [[4 1 5]\n",
      " [4 2 5]]\n"
     ]
    }
   ],
   "source": [
    "a = np.random.randint(1, 10, (2, 3))\n",
    "pprint(a)"
   ]
  },
  {
   "cell_type": "code",
   "execution_count": 37,
   "id": "d1476f2e",
   "metadata": {},
   "outputs": [
    {
     "name": "stdout",
     "output_type": "stream",
     "text": [
      "type : <class 'numpy.ndarray'>\n",
      "shape : (3, 2), demention : 2, dtype : int64\n",
      "array's Data : \n",
      " [[4 4]\n",
      " [1 2]\n",
      " [5 5]]\n"
     ]
    }
   ],
   "source": [
    "pprint(a.T)"
   ]
  },
  {
   "cell_type": "markdown",
   "id": "d4d4045b",
   "metadata": {},
   "source": [
    "## 배열 형태 변경\n",
    "\n",
    "### [numpy.ndarray 객체] . ravel( )\n",
    "\n",
    "* ravel 은 배열의 shape을 1차원 배열로 만든다."
   ]
  },
  {
   "cell_type": "code",
   "execution_count": 38,
   "id": "d4509856",
   "metadata": {},
   "outputs": [
    {
     "name": "stdout",
     "output_type": "stream",
     "text": [
      "type : <class 'numpy.ndarray'>\n",
      "shape : (2, 3), demention : 2, dtype : int64\n",
      "array's Data : \n",
      " [[9 3 6]\n",
      " [3 5 6]]\n"
     ]
    }
   ],
   "source": [
    "a = np.random.randint(1, 10, (2, 3))\n",
    "pprint(a)"
   ]
  },
  {
   "cell_type": "code",
   "execution_count": 39,
   "id": "424ecc63",
   "metadata": {},
   "outputs": [
    {
     "data": {
      "text/plain": [
       "array([9, 3, 6, 3, 5, 6])"
      ]
     },
     "execution_count": 39,
     "metadata": {},
     "output_type": "execute_result"
    }
   ],
   "source": [
    "a.ravel()"
   ]
  },
  {
   "cell_type": "code",
   "execution_count": 40,
   "id": "0f611ff2",
   "metadata": {},
   "outputs": [
    {
     "name": "stdout",
     "output_type": "stream",
     "text": [
      "type : <class 'numpy.ndarray'>\n",
      "shape : (6,), demention : 1, dtype : int64\n",
      "array's Data : \n",
      " [9 3 6 3 5 6]\n"
     ]
    }
   ],
   "source": [
    "b = a.ravel()\n",
    "pprint(b)"
   ]
  },
  {
   "cell_type": "code",
   "execution_count": 41,
   "id": "df19b688",
   "metadata": {},
   "outputs": [
    {
     "name": "stdout",
     "output_type": "stream",
     "text": [
      "type : <class 'numpy.ndarray'>\n",
      "shape : (6,), demention : 1, dtype : int64\n",
      "array's Data : \n",
      " [99  3  6  3  5  6]\n"
     ]
    }
   ],
   "source": [
    "b[0]=99\n",
    "pprint(b)"
   ]
  },
  {
   "cell_type": "markdown",
   "id": "fd5b2d78",
   "metadata": {},
   "source": [
    "* 반환 행렬의 데이터를 변경하면 원래의 a 행렬도 변경된다."
   ]
  },
  {
   "cell_type": "code",
   "execution_count": 42,
   "id": "7466c915",
   "metadata": {},
   "outputs": [
    {
     "name": "stdout",
     "output_type": "stream",
     "text": [
      "type : <class 'numpy.ndarray'>\n",
      "shape : (2, 3), demention : 2, dtype : int64\n",
      "array's Data : \n",
      " [[99  3  6]\n",
      " [ 3  5  6]]\n"
     ]
    }
   ],
   "source": [
    "pprint(a)"
   ]
  },
  {
   "cell_type": "markdown",
   "id": "a4417913",
   "metadata": {},
   "source": [
    "### [numpy.ndarray 객체] . reshape( )\n",
    "\n",
    "* reshape은 데이터 변경 없이 지정된 shape으로 변환한다."
   ]
  },
  {
   "cell_type": "code",
   "execution_count": 44,
   "id": "adae748e",
   "metadata": {},
   "outputs": [
    {
     "name": "stdout",
     "output_type": "stream",
     "text": [
      "type : <class 'numpy.ndarray'>\n",
      "shape : (2, 3), demention : 2, dtype : int64\n",
      "array's Data : \n",
      " [[2 2 1]\n",
      " [8 7 7]]\n"
     ]
    }
   ],
   "source": [
    "a = np.random.randint(1, 10, (2, 3))\n",
    "pprint(a)"
   ]
  },
  {
   "cell_type": "code",
   "execution_count": 45,
   "id": "a38f0c83",
   "metadata": {},
   "outputs": [
    {
     "name": "stdout",
     "output_type": "stream",
     "text": [
      "type : <class 'numpy.ndarray'>\n",
      "shape : (3, 2, 1), demention : 3, dtype : int64\n",
      "array's Data : \n",
      " [[[2]\n",
      "  [2]]\n",
      "\n",
      " [[1]\n",
      "  [8]]\n",
      "\n",
      " [[7]\n",
      "  [7]]]\n"
     ]
    }
   ],
   "source": [
    "result = a.reshape((3, 2, 1))\n",
    "pprint(result)"
   ]
  },
  {
   "cell_type": "markdown",
   "id": "e35adbbf",
   "metadata": {},
   "source": [
    "## 배열 요소 추가 삭제\n",
    "\n",
    "### resize( )\n",
    "\n",
    "* np.resize(a, new_shape)\n",
    "* np.ndarry.resize(new_shape, refcheck=True)\n",
    "* 배열의 shape과 크기를 변경합니다.\n"
   ]
  },
  {
   "cell_type": "code",
   "execution_count": 46,
   "id": "0ddf558b",
   "metadata": {},
   "outputs": [
    {
     "name": "stdout",
     "output_type": "stream",
     "text": [
      "type : <class 'numpy.ndarray'>\n",
      "shape : (2, 6), demention : 2, dtype : int64\n",
      "array's Data : \n",
      " [[6 6 3 6 4 5]\n",
      " [2 8 9 6 6 8]]\n"
     ]
    }
   ],
   "source": [
    "a = np.random.randint(1, 10, (2, 6))\n",
    "pprint(a)"
   ]
  },
  {
   "cell_type": "code",
   "execution_count": 47,
   "id": "ecba63e8",
   "metadata": {},
   "outputs": [
    {
     "name": "stdout",
     "output_type": "stream",
     "text": [
      "type : <class 'numpy.ndarray'>\n",
      "shape : (6, 2), demention : 2, dtype : int64\n",
      "array's Data : \n",
      " [[6 6]\n",
      " [3 6]\n",
      " [4 5]\n",
      " [2 8]\n",
      " [9 6]\n",
      " [6 8]]\n"
     ]
    }
   ],
   "source": [
    "a.resize((6, 2))\n",
    "pprint(a)"
   ]
  },
  {
   "cell_type": "markdown",
   "id": "5eb7a684",
   "metadata": {},
   "source": [
    "* 배열의 요소 수를 늘이거나 줄일 수 있다."
   ]
  },
  {
   "cell_type": "code",
   "execution_count": 48,
   "id": "a317bd6b",
   "metadata": {},
   "outputs": [
    {
     "name": "stdout",
     "output_type": "stream",
     "text": [
      "type : <class 'numpy.ndarray'>\n",
      "shape : (2, 6), demention : 2, dtype : int64\n",
      "array's Data : \n",
      " [[4 4 1 6 6 5]\n",
      " [8 6 3 8 1 5]]\n"
     ]
    }
   ],
   "source": [
    "a = np.random.randint(1, 10, (2, 6))\n",
    "pprint(a)"
   ]
  },
  {
   "cell_type": "code",
   "execution_count": 49,
   "id": "a630727b",
   "metadata": {},
   "outputs": [
    {
     "name": "stdout",
     "output_type": "stream",
     "text": [
      "type : <class 'numpy.ndarray'>\n",
      "shape : (2, 10), demention : 2, dtype : int64\n",
      "array's Data : \n",
      " [[4 4 1 6 6 5 8 6 3 8]\n",
      " [1 5 0 0 0 0 0 0 0 0]]\n"
     ]
    }
   ],
   "source": [
    "a.resize((2, 10))\n",
    "pprint(a)"
   ]
  },
  {
   "cell_type": "code",
   "execution_count": 50,
   "id": "e1f05a3d",
   "metadata": {},
   "outputs": [
    {
     "name": "stdout",
     "output_type": "stream",
     "text": [
      "type : <class 'numpy.ndarray'>\n",
      "shape : (2, 6), demention : 2, dtype : int64\n",
      "array's Data : \n",
      " [[1 6 7 3 7 5]\n",
      " [5 8 1 5 1 8]]\n"
     ]
    }
   ],
   "source": [
    "a = np.random.randint(1, 10, (2, 6))\n",
    "pprint(a)"
   ]
  },
  {
   "cell_type": "code",
   "execution_count": 51,
   "id": "368b6bce",
   "metadata": {},
   "outputs": [
    {
     "name": "stdout",
     "output_type": "stream",
     "text": [
      "type : <class 'numpy.ndarray'>\n",
      "shape : (3, 3), demention : 2, dtype : int64\n",
      "array's Data : \n",
      " [[1 6 7]\n",
      " [3 7 5]\n",
      " [5 8 1]]\n"
     ]
    }
   ],
   "source": [
    "a.resize((3, 3))\n",
    "pprint(a)"
   ]
  },
  {
   "cell_type": "markdown",
   "id": "f015a47e",
   "metadata": {},
   "source": [
    "### append( )\n",
    "\n",
    "* np.append(arr, values, axis=None)\n",
    "* 배열의 끝에 값을 추가"
   ]
  },
  {
   "cell_type": "code",
   "execution_count": 52,
   "id": "215c24cf",
   "metadata": {},
   "outputs": [
    {
     "name": "stdout",
     "output_type": "stream",
     "text": [
      "type : <class 'numpy.ndarray'>\n",
      "shape : (3, 3), demention : 2, dtype : int64\n",
      "array's Data : \n",
      " [[1 2 3]\n",
      " [4 5 6]\n",
      " [7 8 9]]\n",
      "type : <class 'numpy.ndarray'>\n",
      "shape : (3, 3), demention : 2, dtype : int64\n",
      "array's Data : \n",
      " [[10 11 12]\n",
      " [13 14 15]\n",
      " [16 17 18]]\n"
     ]
    }
   ],
   "source": [
    "a = np.arange(1, 10).reshape(3, 3)\n",
    "pprint(a)\n",
    "b = np.arange(10, 19).reshape(3, 3)\n",
    "pprint(b)"
   ]
  },
  {
   "cell_type": "markdown",
   "id": "1cb21758",
   "metadata": {},
   "source": [
    "* axis을 자정하지 않으면 1차원 배열로 변형되어 결함된다."
   ]
  },
  {
   "cell_type": "code",
   "execution_count": 53,
   "id": "9fef4352",
   "metadata": {},
   "outputs": [
    {
     "name": "stdout",
     "output_type": "stream",
     "text": [
      "type : <class 'numpy.ndarray'>\n",
      "shape : (18,), demention : 1, dtype : int64\n",
      "array's Data : \n",
      " [ 1  2  3  4  5  6  7  8  9 10 11 12 13 14 15 16 17 18]\n"
     ]
    }
   ],
   "source": [
    "result = np.append(a, b)\n",
    "pprint(result)"
   ]
  },
  {
   "cell_type": "code",
   "execution_count": 54,
   "id": "e61d9829",
   "metadata": {},
   "outputs": [
    {
     "name": "stdout",
     "output_type": "stream",
     "text": [
      "type : <class 'numpy.ndarray'>\n",
      "shape : (3, 3), demention : 2, dtype : int64\n",
      "array's Data : \n",
      " [[1 2 3]\n",
      " [4 5 6]\n",
      " [7 8 9]]\n"
     ]
    }
   ],
   "source": [
    "pprint(a)"
   ]
  },
  {
   "cell_type": "markdown",
   "id": "14809d3a",
   "metadata": {},
   "source": [
    "* axis=0 설정시 나머지 shape은 같아야한다. (이외는 오류 발생)"
   ]
  },
  {
   "cell_type": "code",
   "execution_count": 55,
   "id": "2811ccd4",
   "metadata": {},
   "outputs": [
    {
     "name": "stdout",
     "output_type": "stream",
     "text": [
      "type : <class 'numpy.ndarray'>\n",
      "shape : (6, 3), demention : 2, dtype : int64\n",
      "array's Data : \n",
      " [[ 1  2  3]\n",
      " [ 4  5  6]\n",
      " [ 7  8  9]\n",
      " [10 11 12]\n",
      " [13 14 15]\n",
      " [16 17 18]]\n"
     ]
    }
   ],
   "source": [
    "result = np.append(a, b, axis=0)\n",
    "pprint(result)"
   ]
  },
  {
   "cell_type": "code",
   "execution_count": 56,
   "id": "8baca7e7",
   "metadata": {},
   "outputs": [
    {
     "name": "stdout",
     "output_type": "stream",
     "text": [
      "type : <class 'numpy.ndarray'>\n",
      "shape : (2, 5), demention : 2, dtype : int64\n",
      "array's Data : \n",
      " [[10 11 12 13 14]\n",
      " [15 16 17 18 19]]\n"
     ]
    }
   ],
   "source": [
    "different_shape_arr = np.arange(10, 20).reshape(2, 5)\n",
    "pprint(different_shape_arr)"
   ]
  },
  {
   "cell_type": "markdown",
   "id": "a10eb4e7",
   "metadata": {},
   "source": [
    "* 오류 발생 예제"
   ]
  },
  {
   "cell_type": "code",
   "execution_count": 57,
   "id": "23567dbb",
   "metadata": {},
   "outputs": [
    {
     "ename": "ValueError",
     "evalue": "all the input array dimensions for the concatenation axis must match exactly, but along dimension 1, the array at index 0 has size 3 and the array at index 1 has size 5",
     "output_type": "error",
     "traceback": [
      "\u001b[0;31m---------------------------------------------------------------------------\u001b[0m",
      "\u001b[0;31mValueError\u001b[0m                                Traceback (most recent call last)",
      "\u001b[0;32m<ipython-input-57-5f18e0ed6945>\u001b[0m in \u001b[0;36m<module>\u001b[0;34m\u001b[0m\n\u001b[0;32m----> 1\u001b[0;31m \u001b[0mnp\u001b[0m\u001b[0;34m.\u001b[0m\u001b[0mappend\u001b[0m\u001b[0;34m(\u001b[0m\u001b[0ma\u001b[0m\u001b[0;34m,\u001b[0m \u001b[0mdifferent_shape_arr\u001b[0m\u001b[0;34m,\u001b[0m \u001b[0maxis\u001b[0m\u001b[0;34m=\u001b[0m\u001b[0;36m0\u001b[0m\u001b[0;34m)\u001b[0m\u001b[0;34m\u001b[0m\u001b[0;34m\u001b[0m\u001b[0m\n\u001b[0m",
      "\u001b[0;32m<__array_function__ internals>\u001b[0m in \u001b[0;36mappend\u001b[0;34m(*args, **kwargs)\u001b[0m\n",
      "\u001b[0;32m~/opt/anaconda3/lib/python3.8/site-packages/numpy/lib/function_base.py\u001b[0m in \u001b[0;36mappend\u001b[0;34m(arr, values, axis)\u001b[0m\n\u001b[1;32m   4743\u001b[0m         \u001b[0mvalues\u001b[0m \u001b[0;34m=\u001b[0m \u001b[0mravel\u001b[0m\u001b[0;34m(\u001b[0m\u001b[0mvalues\u001b[0m\u001b[0;34m)\u001b[0m\u001b[0;34m\u001b[0m\u001b[0;34m\u001b[0m\u001b[0m\n\u001b[1;32m   4744\u001b[0m         \u001b[0maxis\u001b[0m \u001b[0;34m=\u001b[0m \u001b[0marr\u001b[0m\u001b[0;34m.\u001b[0m\u001b[0mndim\u001b[0m\u001b[0;34m-\u001b[0m\u001b[0;36m1\u001b[0m\u001b[0;34m\u001b[0m\u001b[0;34m\u001b[0m\u001b[0m\n\u001b[0;32m-> 4745\u001b[0;31m     \u001b[0;32mreturn\u001b[0m \u001b[0mconcatenate\u001b[0m\u001b[0;34m(\u001b[0m\u001b[0;34m(\u001b[0m\u001b[0marr\u001b[0m\u001b[0;34m,\u001b[0m \u001b[0mvalues\u001b[0m\u001b[0;34m)\u001b[0m\u001b[0;34m,\u001b[0m \u001b[0maxis\u001b[0m\u001b[0;34m=\u001b[0m\u001b[0maxis\u001b[0m\u001b[0;34m)\u001b[0m\u001b[0;34m\u001b[0m\u001b[0;34m\u001b[0m\u001b[0m\n\u001b[0m\u001b[1;32m   4746\u001b[0m \u001b[0;34m\u001b[0m\u001b[0m\n\u001b[1;32m   4747\u001b[0m \u001b[0;34m\u001b[0m\u001b[0m\n",
      "\u001b[0;32m<__array_function__ internals>\u001b[0m in \u001b[0;36mconcatenate\u001b[0;34m(*args, **kwargs)\u001b[0m\n",
      "\u001b[0;31mValueError\u001b[0m: all the input array dimensions for the concatenation axis must match exactly, but along dimension 1, the array at index 0 has size 3 and the array at index 1 has size 5"
     ]
    }
   ],
   "source": [
    "np.append(a, different_shape_arr, axis=0)"
   ]
  },
  {
   "cell_type": "markdown",
   "id": "98404803",
   "metadata": {},
   "source": [
    "* axis = 1 설정 시, shape[1]을 제외한 나머지 shape은 같아야한다."
   ]
  },
  {
   "cell_type": "code",
   "execution_count": 58,
   "id": "69f9c778",
   "metadata": {},
   "outputs": [
    {
     "name": "stdout",
     "output_type": "stream",
     "text": [
      "type : <class 'numpy.ndarray'>\n",
      "shape : (3, 6), demention : 2, dtype : int64\n",
      "array's Data : \n",
      " [[ 1  2  3 10 11 12]\n",
      " [ 4  5  6 13 14 15]\n",
      " [ 7  8  9 16 17 18]]\n"
     ]
    }
   ],
   "source": [
    "# axis = 1\n",
    "result = np.append(a, b, axis=1)\n",
    "pprint(result)"
   ]
  },
  {
   "cell_type": "markdown",
   "id": "cbdbd38c",
   "metadata": {},
   "source": [
    "### insert( )\n",
    "\n",
    "* np.insert(arr, obj, values, axis=None)\n",
    "* axis를 지정하지 않으며 1차원 배열로 변환\n",
    "* 추가할 방향을 axis 로 지정"
   ]
  },
  {
   "cell_type": "code",
   "execution_count": 60,
   "id": "0333bf7a",
   "metadata": {},
   "outputs": [
    {
     "name": "stdout",
     "output_type": "stream",
     "text": [
      "type : <class 'numpy.ndarray'>\n",
      "shape : (3, 3), demention : 2, dtype : int64\n",
      "array's Data : \n",
      " [[1 2 3]\n",
      " [4 5 6]\n",
      " [7 8 9]]\n"
     ]
    }
   ],
   "source": [
    "a = np.arange(1, 10).reshape(3, 3)\n",
    "pprint(a)"
   ]
  },
  {
   "cell_type": "code",
   "execution_count": 61,
   "id": "025d1cd8",
   "metadata": {},
   "outputs": [
    {
     "data": {
      "text/plain": [
       "array([  1, 999,   2,   3,   4,   5,   6,   7,   8,   9])"
      ]
     },
     "execution_count": 61,
     "metadata": {},
     "output_type": "execute_result"
    }
   ],
   "source": [
    "# a 배열을 1차원 배열로 변환하고 1번index에 999 추가\n",
    "np.insert(a, 1, 999)"
   ]
  },
  {
   "cell_type": "code",
   "execution_count": 62,
   "id": "aa0497c7",
   "metadata": {},
   "outputs": [
    {
     "data": {
      "text/plain": [
       "array([[  1,   2,   3],\n",
       "       [999, 999, 999],\n",
       "       [  4,   5,   6],\n",
       "       [  7,   8,   9]])"
      ]
     },
     "execution_count": 62,
     "metadata": {},
     "output_type": "execute_result"
    }
   ],
   "source": [
    "# a 배열의 axis 0방향 1번 인덱스에 추가\n",
    "# index가 1인 row에 999 추가\n",
    "np.insert(a, 1, 999, axis=0)"
   ]
  },
  {
   "cell_type": "code",
   "execution_count": 63,
   "id": "2db744c0",
   "metadata": {},
   "outputs": [
    {
     "data": {
      "text/plain": [
       "array([[  1, 999,   2,   3],\n",
       "       [  4, 999,   5,   6],\n",
       "       [  7, 999,   8,   9]])"
      ]
     },
     "execution_count": 63,
     "metadata": {},
     "output_type": "execute_result"
    }
   ],
   "source": [
    "# a 배열의 axis 1 방향 1번 인덱스에 추가\n",
    "# index가 1인 column에 999 추가\n",
    "np.insert(a, 1, 999, axis=1)"
   ]
  },
  {
   "cell_type": "markdown",
   "id": "8e748108",
   "metadata": {},
   "source": [
    "### delete( )\n",
    "\n",
    "* np.delete(arr, obj, axis=None)\n",
    "* axis를 지정하지 않으며 1차원 배열로 변환\n",
    "* 삭제할 방향을 axis 로 지정\n",
    "* delete 함수는 원본 배열을 변경하지 않으며 새로운 배열을 반환"
   ]
  },
  {
   "cell_type": "code",
   "execution_count": 64,
   "id": "0eaff783",
   "metadata": {},
   "outputs": [
    {
     "name": "stdout",
     "output_type": "stream",
     "text": [
      "type : <class 'numpy.ndarray'>\n",
      "shape : (3, 3), demention : 2, dtype : int64\n",
      "array's Data : \n",
      " [[1 2 3]\n",
      " [4 5 6]\n",
      " [7 8 9]]\n"
     ]
    }
   ],
   "source": [
    "a = np.arange(1, 10).reshape(3, 3)\n",
    "pprint(a)"
   ]
  },
  {
   "cell_type": "code",
   "execution_count": 65,
   "id": "9fdf86a9",
   "metadata": {},
   "outputs": [
    {
     "data": {
      "text/plain": [
       "array([1, 3, 4, 5, 6, 7, 8, 9])"
      ]
     },
     "execution_count": 65,
     "metadata": {},
     "output_type": "execute_result"
    }
   ],
   "source": [
    "# a 배열을 1차원 배열로 변환하고 1번 index 삭제\n",
    "np.delete(a, 1)"
   ]
  },
  {
   "cell_type": "code",
   "execution_count": 66,
   "id": "502982cb",
   "metadata": {},
   "outputs": [
    {
     "data": {
      "text/plain": [
       "array([[1, 2, 3],\n",
       "       [7, 8, 9]])"
      ]
     },
     "execution_count": 66,
     "metadata": {},
     "output_type": "execute_result"
    }
   ],
   "source": [
    "# a 배열의 axis 0 방향 1번 index 행을 삭제한 배열 생성하여 반환\n",
    "np.delete(a, 1, axis=0)"
   ]
  },
  {
   "cell_type": "code",
   "execution_count": 67,
   "id": "526320b5",
   "metadata": {},
   "outputs": [
    {
     "data": {
      "text/plain": [
       "array([[1, 3],\n",
       "       [4, 6],\n",
       "       [7, 9]])"
      ]
     },
     "execution_count": 67,
     "metadata": {},
     "output_type": "execute_result"
    }
   ],
   "source": [
    "# a 배열의 axis 1방향 1번 index 인 열을 삭제한 배열을 생성하여 반환\n",
    "np.delete(a, 1, axis=1)"
   ]
  },
  {
   "cell_type": "markdown",
   "id": "d02216e7",
   "metadata": {},
   "source": [
    "## 배열 결합\n",
    "\n",
    "배열과 배열을 결합하는 함수로 np.concatenate, np.vstack, np.hstack 가 있다.\n",
    "\n",
    "### np.concatenate\n",
    "\n",
    "* concatenate((a1, a2, ...), axis=0)"
   ]
  },
  {
   "cell_type": "code",
   "execution_count": 68,
   "id": "8c983574",
   "metadata": {},
   "outputs": [
    {
     "name": "stdout",
     "output_type": "stream",
     "text": [
      "type : <class 'numpy.ndarray'>\n",
      "shape : (2, 3), demention : 2, dtype : int64\n",
      "array's Data : \n",
      " [[1 2 3]\n",
      " [4 5 6]]\n",
      "type : <class 'numpy.ndarray'>\n",
      "shape : (2, 3), demention : 2, dtype : int64\n",
      "array's Data : \n",
      " [[ 7  8  9]\n",
      " [10 11 12]]\n"
     ]
    }
   ],
   "source": [
    "a = np.arange(1, 7).reshape((2, 3))\n",
    "pprint(a)\n",
    "b = np.arange(7, 13).reshape((2, 3))\n",
    "pprint(b)"
   ]
  },
  {
   "cell_type": "code",
   "execution_count": 69,
   "id": "af281fc9",
   "metadata": {},
   "outputs": [
    {
     "data": {
      "text/plain": [
       "array([[ 1,  2,  3],\n",
       "       [ 4,  5,  6],\n",
       "       [ 7,  8,  9],\n",
       "       [10, 11, 12]])"
      ]
     },
     "execution_count": 69,
     "metadata": {},
     "output_type": "execute_result"
    }
   ],
   "source": [
    "# axis=0 방향으로 두 배열 결합, axis 기본값 = 0\n",
    "result = np.concatenate((a, b))\n",
    "result"
   ]
  },
  {
   "cell_type": "code",
   "execution_count": 70,
   "id": "10a493d6",
   "metadata": {},
   "outputs": [
    {
     "data": {
      "text/plain": [
       "array([[ 1,  2,  3,  7,  8,  9],\n",
       "       [ 4,  5,  6, 10, 11, 12]])"
      ]
     },
     "execution_count": 70,
     "metadata": {},
     "output_type": "execute_result"
    }
   ],
   "source": [
    "# axis =1 방향으로 두 배열 결합\n",
    "result = np.concatenate((a, b), axis=1)\n",
    "result"
   ]
  },
  {
   "cell_type": "markdown",
   "id": "c0c6c8c4",
   "metadata": {},
   "source": [
    "### np.vstack 수직 방향 배열 결합\n",
    "\n",
    "* np.vstack(tuple)\n",
    "* 튜플로 설정된 여러 배열을 수직방향으로 연결\n",
    "* np.concatenate(tup, axis=0)와 동일하다."
   ]
  },
  {
   "cell_type": "code",
   "execution_count": 71,
   "id": "0db94a8d",
   "metadata": {},
   "outputs": [
    {
     "name": "stdout",
     "output_type": "stream",
     "text": [
      "type : <class 'numpy.ndarray'>\n",
      "shape : (2, 3), demention : 2, dtype : int64\n",
      "array's Data : \n",
      " [[1 2 3]\n",
      " [4 5 6]]\n",
      "type : <class 'numpy.ndarray'>\n",
      "shape : (2, 3), demention : 2, dtype : int64\n",
      "array's Data : \n",
      " [[ 7  8  9]\n",
      " [10 11 12]]\n"
     ]
    }
   ],
   "source": [
    "a = np.arange(1, 7).reshape((2, 3))\n",
    "pprint(a)\n",
    "b = np.arange(7, 13).reshape((2, 3))\n",
    "pprint(b)"
   ]
  },
  {
   "cell_type": "code",
   "execution_count": 72,
   "id": "0569526a",
   "metadata": {},
   "outputs": [
    {
     "data": {
      "text/plain": [
       "array([[ 1,  2,  3],\n",
       "       [ 4,  5,  6],\n",
       "       [ 7,  8,  9],\n",
       "       [10, 11, 12]])"
      ]
     },
     "execution_count": 72,
     "metadata": {},
     "output_type": "execute_result"
    }
   ],
   "source": [
    "np.vstack((a, b))"
   ]
  },
  {
   "cell_type": "code",
   "execution_count": 73,
   "id": "af438fd8",
   "metadata": {},
   "outputs": [
    {
     "data": {
      "text/plain": [
       "array([[ 1,  2,  3],\n",
       "       [ 4,  5,  6],\n",
       "       [ 7,  8,  9],\n",
       "       [10, 11, 12],\n",
       "       [ 1,  2,  3],\n",
       "       [ 4,  5,  6],\n",
       "       [ 7,  8,  9],\n",
       "       [10, 11, 12]])"
      ]
     },
     "execution_count": 73,
     "metadata": {},
     "output_type": "execute_result"
    }
   ],
   "source": [
    "np.vstack((a, b, a, b))"
   ]
  },
  {
   "cell_type": "markdown",
   "id": "614b4c3e",
   "metadata": {},
   "source": [
    "### np.vhstack 수평방향 배열 결합\n",
    "\n",
    "* np.hstack(tuple)\n",
    "* 튜플로 설정된 여러 배열을 수평방향으로 연결(axis=1 방향)"
   ]
  },
  {
   "cell_type": "code",
   "execution_count": 82,
   "id": "dfbf1b5c",
   "metadata": {},
   "outputs": [
    {
     "name": "stdout",
     "output_type": "stream",
     "text": [
      "type : <class 'numpy.ndarray'>\n",
      "shape : (2, 3), demention : 2, dtype : int64\n",
      "array's Data : \n",
      " [[1 2 3]\n",
      " [4 5 6]]\n",
      "type : <class 'numpy.ndarray'>\n",
      "shape : (2, 3), demention : 2, dtype : int64\n",
      "array's Data : \n",
      " [[ 7  8  9]\n",
      " [10 11 12]]\n"
     ]
    }
   ],
   "source": [
    "a = np.arange(1, 7).reshape((2, 3))\n",
    "pprint(a)\n",
    "b = np.arange(7, 13).reshape((2, 3))\n",
    "pprint(b)"
   ]
  },
  {
   "cell_type": "code",
   "execution_count": 75,
   "id": "110958a0",
   "metadata": {},
   "outputs": [
    {
     "data": {
      "text/plain": [
       "array([[ 1,  2,  3,  7,  8,  9],\n",
       "       [ 4,  5,  6, 10, 11, 12]])"
      ]
     },
     "execution_count": 75,
     "metadata": {},
     "output_type": "execute_result"
    }
   ],
   "source": [
    "np.hstack((a, b))"
   ]
  },
  {
   "cell_type": "code",
   "execution_count": 76,
   "id": "19b731b9",
   "metadata": {},
   "outputs": [
    {
     "data": {
      "text/plain": [
       "array([[ 1,  2,  3,  7,  8,  9,  1,  2,  3,  7,  8,  9],\n",
       "       [ 4,  5,  6, 10, 11, 12,  4,  5,  6, 10, 11, 12]])"
      ]
     },
     "execution_count": 76,
     "metadata": {},
     "output_type": "execute_result"
    }
   ],
   "source": [
    "np.hstack((a, b, a, b, ))"
   ]
  },
  {
   "cell_type": "markdown",
   "id": "a94704c1",
   "metadata": {},
   "source": [
    "## 배열 분리\n",
    "\n",
    "* np.hsplit( ) : 지정한 배열을 수평 방향으로 분할\n",
    "* np.vsplit( ) : 지정한 배열을 수직 방향으로 분할\n",
    "\n",
    "### np.hsplit(ary, indices_or_sections)"
   ]
  },
  {
   "cell_type": "code",
   "execution_count": 77,
   "id": "d84e8717",
   "metadata": {},
   "outputs": [
    {
     "name": "stdout",
     "output_type": "stream",
     "text": [
      "type : <class 'numpy.ndarray'>\n",
      "shape : (4, 6), demention : 2, dtype : int64\n",
      "array's Data : \n",
      " [[ 1  2  3  4  5  6]\n",
      " [ 7  8  9 10 11 12]\n",
      " [13 14 15 16 17 18]\n",
      " [19 20 21 22 23 24]]\n"
     ]
    }
   ],
   "source": [
    "a = np.arange(1, 25).reshape((4, 6))\n",
    "pprint(a)"
   ]
  },
  {
   "cell_type": "code",
   "execution_count": 78,
   "id": "0e1e0f4c",
   "metadata": {},
   "outputs": [
    {
     "data": {
      "text/plain": [
       "[array([[ 1,  2,  3],\n",
       "        [ 7,  8,  9],\n",
       "        [13, 14, 15],\n",
       "        [19, 20, 21]]),\n",
       " array([[ 4,  5,  6],\n",
       "        [10, 11, 12],\n",
       "        [16, 17, 18],\n",
       "        [22, 23, 24]])]"
      ]
     },
     "execution_count": 78,
     "metadata": {},
     "output_type": "execute_result"
    }
   ],
   "source": [
    "result = np.hsplit(a, 2)\n",
    "result"
   ]
  },
  {
   "cell_type": "code",
   "execution_count": 79,
   "id": "a886d68d",
   "metadata": {},
   "outputs": [
    {
     "data": {
      "text/plain": [
       "[array([[ 1,  2],\n",
       "        [ 7,  8],\n",
       "        [13, 14],\n",
       "        [19, 20]]),\n",
       " array([[ 3,  4],\n",
       "        [ 9, 10],\n",
       "        [15, 16],\n",
       "        [21, 22]]),\n",
       " array([[ 5,  6],\n",
       "        [11, 12],\n",
       "        [17, 18],\n",
       "        [23, 24]])]"
      ]
     },
     "execution_count": 79,
     "metadata": {},
     "output_type": "execute_result"
    }
   ],
   "source": [
    "result = np.hsplit(a, 3)\n",
    "result"
   ]
  },
  {
   "cell_type": "code",
   "execution_count": 80,
   "id": "a6c3215e",
   "metadata": {},
   "outputs": [
    {
     "data": {
      "text/plain": [
       "[array([[ 1],\n",
       "        [ 7],\n",
       "        [13],\n",
       "        [19]]),\n",
       " array([[ 2,  3],\n",
       "        [ 8,  9],\n",
       "        [14, 15],\n",
       "        [20, 21]]),\n",
       " array([[ 4,  5],\n",
       "        [10, 11],\n",
       "        [16, 17],\n",
       "        [22, 23]]),\n",
       " array([[ 6],\n",
       "        [12],\n",
       "        [18],\n",
       "        [24]])]"
      ]
     },
     "execution_count": 80,
     "metadata": {},
     "output_type": "execute_result"
    }
   ],
   "source": [
    "np.hsplit(a, [1, 3, 5])"
   ]
  },
  {
   "cell_type": "markdown",
   "id": "9da48dbf",
   "metadata": {},
   "source": [
    "### np.vsplit(ary, indices_or_sections)"
   ]
  },
  {
   "cell_type": "code",
   "execution_count": 83,
   "id": "859e07f5",
   "metadata": {},
   "outputs": [
    {
     "name": "stdout",
     "output_type": "stream",
     "text": [
      "type : <class 'numpy.ndarray'>\n",
      "shape : (4, 6), demention : 2, dtype : int64\n",
      "array's Data : \n",
      " [[ 1  2  3  4  5  6]\n",
      " [ 7  8  9 10 11 12]\n",
      " [13 14 15 16 17 18]\n",
      " [19 20 21 22 23 24]]\n"
     ]
    }
   ],
   "source": [
    "a = np.arange(1, 25).reshape((4, 6))\n",
    "pprint(a)"
   ]
  },
  {
   "cell_type": "code",
   "execution_count": 84,
   "id": "09b16c4f",
   "metadata": {},
   "outputs": [
    {
     "data": {
      "text/plain": [
       "[array([[ 1,  2,  3,  4,  5,  6],\n",
       "        [ 7,  8,  9, 10, 11, 12]]),\n",
       " array([[13, 14, 15, 16, 17, 18],\n",
       "        [19, 20, 21, 22, 23, 24]])]"
      ]
     },
     "execution_count": 84,
     "metadata": {},
     "output_type": "execute_result"
    }
   ],
   "source": [
    "result=np.vsplit(a, 2)\n",
    "result"
   ]
  },
  {
   "cell_type": "code",
   "execution_count": 86,
   "id": "7997ad99",
   "metadata": {},
   "outputs": [
    {
     "data": {
      "text/plain": [
       "(2, 2, 6)"
      ]
     },
     "execution_count": 86,
     "metadata": {},
     "output_type": "execute_result"
    }
   ],
   "source": [
    "np.array(result).shape"
   ]
  },
  {
   "cell_type": "code",
   "execution_count": 87,
   "id": "812df05c",
   "metadata": {},
   "outputs": [
    {
     "data": {
      "text/plain": [
       "[array([[1, 2, 3, 4, 5, 6]]),\n",
       " array([[ 7,  8,  9, 10, 11, 12]]),\n",
       " array([[13, 14, 15, 16, 17, 18]]),\n",
       " array([[19, 20, 21, 22, 23, 24]])]"
      ]
     },
     "execution_count": 87,
     "metadata": {},
     "output_type": "execute_result"
    }
   ],
   "source": [
    "result=np.vsplit(a, 4)\n",
    "result"
   ]
  },
  {
   "cell_type": "code",
   "execution_count": 88,
   "id": "6c4c5b34",
   "metadata": {},
   "outputs": [
    {
     "data": {
      "text/plain": [
       "(4, 1, 6)"
      ]
     },
     "execution_count": 88,
     "metadata": {},
     "output_type": "execute_result"
    }
   ],
   "source": [
    "np.array(result).shape"
   ]
  },
  {
   "cell_type": "code",
   "execution_count": 89,
   "id": "5840617f",
   "metadata": {},
   "outputs": [
    {
     "data": {
      "text/plain": [
       "[array([[1, 2, 3, 4, 5, 6]]),\n",
       " array([[ 7,  8,  9, 10, 11, 12],\n",
       "        [13, 14, 15, 16, 17, 18]]),\n",
       " array([[19, 20, 21, 22, 23, 24]])]"
      ]
     },
     "execution_count": 89,
     "metadata": {},
     "output_type": "execute_result"
    }
   ],
   "source": [
    "# row를 1, 2-3, 4번째 라인으로 구분\n",
    "np.vsplit(a, [1, 3])"
   ]
  }
 ],
 "metadata": {
  "kernelspec": {
   "display_name": "Python 3.8.8 64-bit ('base': conda)",
   "language": "python",
   "name": "python388jvsc74a57bd073769b30c8fab288a5558a7fff30e3c8e36bc07cececaa2fd452c8fe00f0dbf4"
  },
  "language_info": {
   "codemirror_mode": {
    "name": "ipython",
    "version": 3
   },
   "file_extension": ".py",
   "mimetype": "text/x-python",
   "name": "python",
   "nbconvert_exporter": "python",
   "pygments_lexer": "ipython3",
   "version": "3.8.8"
  }
 },
 "nbformat": 4,
 "nbformat_minor": 5
}
