{
 "cells": [
  {
   "cell_type": "markdown",
   "id": "3f649934",
   "metadata": {},
   "source": [
    "# numpy 기초\n",
    "\n",
    "**Numpy** 는 행렬 연산을 위한 핵심 라이브러리로 대규모 다차원 배열과 행렬 연산에 필요한 다양한 함수를 제공한다. 특히 메모리 버퍼에 배열 데이터를 저장하고 처리하는 효율적인 인터페이스를 제공한다.  \n",
    "Numpy 는 다음과 같은 특징을 갖는다.\n",
    "* 강력한 N차원 배열 객체\n",
    "* 정교한 Broadcast 기능\n",
    "* C/C++ 및 포트란 코드 통합 도구\n",
    "* 유용한 선형 대수학, 푸리에 변환 및 난수 기능\n",
    "* 범용적 데이터 처리에 사용 가능한 다차원 컨테이너\n",
    "\n",
    "## Numpy 배열\n",
    "\n",
    "파이썬에서 numpy 를 사용할때, 다음과 같이 numpy 모듈을 'np'로 사용한다."
   ]
  },
  {
   "cell_type": "code",
   "execution_count": 3,
   "id": "15cf1ff8",
   "metadata": {},
   "outputs": [
    {
     "data": {
      "text/plain": [
       "'1.20.3'"
      ]
     },
     "execution_count": 3,
     "metadata": {},
     "output_type": "execute_result"
    }
   ],
   "source": [
    "import numpy as np\n",
    "np.__version__"
   ]
  },
  {
   "cell_type": "markdown",
   "id": "793645d7",
   "metadata": {},
   "source": [
    "numpy 객체의 정보를 출력하기 위해 pprint( ) 를 정의한다."
   ]
  },
  {
   "cell_type": "code",
   "execution_count": 5,
   "id": "6857bf66",
   "metadata": {},
   "outputs": [],
   "source": [
    "def pprint(arr):\n",
    "    print('type : {}'.format(type(arr)))\n",
    "    print('shape : {}, demention : {}, dtype : {}'.format(arr.shape, arr.ndim, arr.dtype))\n",
    "    print(\"array's Data : \\n\", arr)"
   ]
  },
  {
   "cell_type": "markdown",
   "id": "6a961f72",
   "metadata": {},
   "source": [
    "## 배열 생성\n",
    "\n",
    "numpy 배열 생성 방법이다.\n",
    "\n",
    "### 1차원 배열 생성"
   ]
  },
  {
   "cell_type": "code",
   "execution_count": 4,
   "id": "44a5456d",
   "metadata": {},
   "outputs": [],
   "source": [
    "arr = [1, 2, 3]\n",
    "a = np.array([1, 2, 3])"
   ]
  },
  {
   "cell_type": "code",
   "execution_count": 5,
   "id": "fce4d321",
   "metadata": {},
   "outputs": [
    {
     "name": "stdout",
     "output_type": "stream",
     "text": [
      "type : <class 'numpy.ndarray'>\n",
      "shape : (3,), demention : 1, dtype : int64\n",
      "array's Data : \n",
      " [1 2 3]\n"
     ]
    }
   ],
   "source": [
    "pprint(a)"
   ]
  },
  {
   "cell_type": "markdown",
   "id": "3e9df5f1",
   "metadata": {},
   "source": [
    "### 2차원 배열 생성, 원소 datatype 지정"
   ]
  },
  {
   "cell_type": "code",
   "execution_count": 6,
   "id": "f259a871",
   "metadata": {},
   "outputs": [],
   "source": [
    "arr = [(1, 2, 3), (4, 5, 6)]\n",
    "a = np.array(arr, dtype = float)"
   ]
  },
  {
   "cell_type": "code",
   "execution_count": 7,
   "id": "82ef5a64",
   "metadata": {},
   "outputs": [
    {
     "name": "stdout",
     "output_type": "stream",
     "text": [
      "type : <class 'numpy.ndarray'>\n",
      "shape : (2, 3), demention : 2, dtype : float64\n",
      "array's Data : \n",
      " [[1. 2. 3.]\n",
      " [4. 5. 6.]]\n"
     ]
    }
   ],
   "source": [
    "pprint(a)"
   ]
  },
  {
   "cell_type": "markdown",
   "id": "120dc39b",
   "metadata": {},
   "source": [
    "### 3차원 배열 생성, 원소 datatype 지정"
   ]
  },
  {
   "cell_type": "code",
   "execution_count": 10,
   "id": "d9eca2a8",
   "metadata": {},
   "outputs": [],
   "source": [
    "arr = np.array([[[1, 2, 3], [4, 5, 6]], [[3, 2, 1], [4, 5, 6]]], dtype = float)\n",
    "a = np.array(arr, dtype = float)\n"
   ]
  },
  {
   "cell_type": "code",
   "execution_count": 11,
   "id": "0774a635",
   "metadata": {},
   "outputs": [
    {
     "name": "stdout",
     "output_type": "stream",
     "text": [
      "type : <class 'numpy.ndarray'>\n",
      "shape : (2, 2, 3), demention : 3, dtype : float64\n",
      "array's Data : \n",
      " [[[1. 2. 3.]\n",
      "  [4. 5. 6.]]\n",
      "\n",
      " [[3. 2. 1.]\n",
      "  [4. 5. 6.]]]\n"
     ]
    }
   ],
   "source": [
    "pprint(a)"
   ]
  },
  {
   "cell_type": "code",
   "execution_count": 12,
   "id": "df049584",
   "metadata": {},
   "outputs": [],
   "source": [
    "array1 = np.array([1, 2, 3])\n",
    "array2 = np.array([[1, 2, 3], [2, 3, 4]])\n",
    "array3 = np.array([[1, 2, 3]])"
   ]
  },
  {
   "cell_type": "code",
   "execution_count": 14,
   "id": "f0743aa3",
   "metadata": {},
   "outputs": [
    {
     "name": "stdout",
     "output_type": "stream",
     "text": [
      "type : <class 'numpy.ndarray'>\n",
      "shape : (3,), demention : 1, dtype : int64\n",
      "array's Data : \n",
      " [1 2 3]\n",
      "\n",
      "type : <class 'numpy.ndarray'>\n",
      "shape : (2, 3), demention : 2, dtype : int64\n",
      "array's Data : \n",
      " [[1 2 3]\n",
      " [2 3 4]]\n",
      "\n",
      "type : <class 'numpy.ndarray'>\n",
      "shape : (1, 3), demention : 2, dtype : int64\n",
      "array's Data : \n",
      " [[1 2 3]]\n"
     ]
    }
   ],
   "source": [
    "pprint(array1)\n",
    "print()\n",
    "pprint(array2)\n",
    "print()\n",
    "pprint(array3)"
   ]
  },
  {
   "cell_type": "markdown",
   "id": "a955154e",
   "metadata": {},
   "source": [
    "## 배열 생성 및 초기화\n",
    "\n",
    "### np.zeors( )\n",
    "\n",
    "* 지정된 shape의 배열을 생성하고, 모든 요소를 0으로 초기화\n",
    "* zeors(shape, dtype=float, order='C')"
   ]
  },
  {
   "cell_type": "code",
   "execution_count": 16,
   "id": "16a7e14e",
   "metadata": {
    "scrolled": true
   },
   "outputs": [
    {
     "name": "stdout",
     "output_type": "stream",
     "text": [
      "type : <class 'numpy.ndarray'>\n",
      "shape : (3, 4), demention : 2, dtype : float64\n",
      "array's Data : \n",
      " [[0. 0. 0. 0.]\n",
      " [0. 0. 0. 0.]\n",
      " [0. 0. 0. 0.]]\n"
     ]
    }
   ],
   "source": [
    "a = np.zeros((3, 4))\n",
    "pprint(a)"
   ]
  },
  {
   "cell_type": "markdown",
   "id": "ce8f75a4",
   "metadata": {},
   "source": [
    "### np.zeros( )\n",
    "\n",
    "* 지정된 shape의 배열을 생성하고, 모든 요소를 1로 초기화\n",
    "* np.ones(shape, dtype-None, order='C'"
   ]
  },
  {
   "cell_type": "code",
   "execution_count": 17,
   "id": "6a3ac30f",
   "metadata": {},
   "outputs": [
    {
     "name": "stdout",
     "output_type": "stream",
     "text": [
      "type : <class 'numpy.ndarray'>\n",
      "shape : (2, 3, 4), demention : 3, dtype : int16\n",
      "array's Data : \n",
      " [[[1 1 1 1]\n",
      "  [1 1 1 1]\n",
      "  [1 1 1 1]]\n",
      "\n",
      " [[1 1 1 1]\n",
      "  [1 1 1 1]\n",
      "  [1 1 1 1]]]\n"
     ]
    }
   ],
   "source": [
    "a = np.ones((2,3,4),dtype=np.int16)\n",
    "pprint(a)"
   ]
  },
  {
   "cell_type": "markdown",
   "id": "82bead3e",
   "metadata": {},
   "source": [
    "### np.full( )\n",
    "\n",
    "* 지정된 shape의 배열을 생성하고, 모든 요소를 지정한 'fill_value'로 초기화\n",
    "* np.full(shape, sill_value, dtype=None, order='C'"
   ]
  },
  {
   "cell_type": "code",
   "execution_count": 18,
   "id": "3bc64e42",
   "metadata": {},
   "outputs": [
    {
     "name": "stdout",
     "output_type": "stream",
     "text": [
      "type : <class 'numpy.ndarray'>\n",
      "shape : (2, 2), demention : 2, dtype : int64\n",
      "array's Data : \n",
      " [[7 7]\n",
      " [7 7]]\n"
     ]
    }
   ],
   "source": [
    "a = np.full((2,2),7)\n",
    "pprint(a)"
   ]
  },
  {
   "cell_type": "markdown",
   "id": "bb5e461d",
   "metadata": {},
   "source": [
    "### np.eye( )\n",
    "\n",
    "* (N,N)shape의 단위행렬(Unit matrix)을 생성\n",
    "* np.eye(N,M=None, k=0, dtype=<class 'float'>)"
   ]
  },
  {
   "cell_type": "code",
   "execution_count": 21,
   "id": "283699e5",
   "metadata": {},
   "outputs": [
    {
     "data": {
      "text/plain": [
       "array([[1., 0., 0., 0.],\n",
       "       [0., 1., 0., 0.],\n",
       "       [0., 0., 1., 0.],\n",
       "       [0., 0., 0., 1.]])"
      ]
     },
     "execution_count": 21,
     "metadata": {},
     "output_type": "execute_result"
    }
   ],
   "source": [
    "np.eye(4)"
   ]
  },
  {
   "cell_type": "markdown",
   "id": "114ef003",
   "metadata": {},
   "source": [
    "### np.empty( )\n",
    "\n",
    "* 지정된 shape의 배열 생성\n",
    "* empty(shape, dtype=float, order='C')\n",
    "* 요소의 초기화 과정에 없고, 기존 메모리값을 그대로 사용\n",
    "* 배열 생성비용이 가장 저렴하고 빠름\n",
    "* 배열 사용 시 주의(초기화 고려)"
   ]
  },
  {
   "cell_type": "code",
   "execution_count": 22,
   "id": "86f876a7",
   "metadata": {},
   "outputs": [
    {
     "name": "stdout",
     "output_type": "stream",
     "text": [
      "type : <class 'numpy.ndarray'>\n",
      "shape : (4, 2), demention : 2, dtype : float64\n",
      "array's Data : \n",
      " [[0.00000000e+000 2.00390545e+000]\n",
      " [2.47032823e-323 0.00000000e+000]\n",
      " [0.00000000e+000 0.00000000e+000]\n",
      " [0.00000000e+000 0.00000000e+000]]\n"
     ]
    }
   ],
   "source": [
    "a = np.empty((4, 2))\n",
    "pprint(a)"
   ]
  },
  {
   "cell_type": "markdown",
   "id": "e9be4d25",
   "metadata": {},
   "source": [
    "### like( )\n",
    "\n",
    "* 지정된 배열과 shape이 같은 행렬은 만든다.\n",
    "* np.zeros_like : 요소가 0으로 채워진 행렬\n",
    "* np.ones_like : 요소가 1로 채워진 행렬\n",
    "* np.full_like : 요소가 입력한 요소로 채워진 행렬\n",
    "* np.empty_like : 요소가 없는 행렬"
   ]
  },
  {
   "cell_type": "code",
   "execution_count": 29,
   "id": "8d42c1f3",
   "metadata": {},
   "outputs": [
    {
     "name": "stdout",
     "output_type": "stream",
     "text": [
      "type : <class 'numpy.ndarray'>\n",
      "shape : (2, 3), demention : 2, dtype : int64\n",
      "array's Data : \n",
      " [[1 1 1]\n",
      " [1 1 1]]\n",
      "type : <class 'numpy.ndarray'>\n",
      "shape : (2, 3), demention : 2, dtype : int64\n",
      "array's Data : \n",
      " [[5 5 5]\n",
      " [5 5 5]]\n"
     ]
    }
   ],
   "source": [
    "a = np.array([[1, 2, 3], [4, 5, 6]])\n",
    "b = np.ones_like(a)\n",
    "c = np.full_like(a, 5)    \n",
    "pprint(b)\n",
    "pprint(c)"
   ]
  },
  {
   "cell_type": "markdown",
   "id": "a3846870",
   "metadata": {},
   "source": [
    "## 데이터 생성 함수\n",
    "\n",
    "주어진 조건으로 데이터를 생성한 수, 배열을 만드는 데이터 생성함수\n",
    "\n",
    "* numpy.arange\n",
    "* numpy.linspace\n",
    "* numpy.logspace\n",
    "\n",
    "### np.arange( )\n",
    "\n",
    "* numpy.arange(start, stop, step, dtype=None)\n",
    "* start 부터 stop 미만까지 step 간격으로 데이터를 생성한후 배열을 만듦\n",
    "* 범위내에서 step을 기준 균등하게 배열\n",
    "* 요소의 갯수가 아닌 step을 기준으로 배열 생성"
   ]
  },
  {
   "cell_type": "code",
   "execution_count": 6,
   "id": "e1ee1d8c",
   "metadata": {},
   "outputs": [
    {
     "name": "stdout",
     "output_type": "stream",
     "text": [
      "type : <class 'numpy.ndarray'>\n",
      "shape : (10,), demention : 1, dtype : int64\n",
      "array's Data : \n",
      " [0 1 2 3 4 5 6 7 8 9]\n"
     ]
    }
   ],
   "source": [
    "seq = np.arange(10)\n",
    "pprint(seq)"
   ]
  },
  {
   "cell_type": "code",
   "execution_count": 7,
   "id": "3ab622ae",
   "metadata": {},
   "outputs": [
    {
     "data": {
      "image/png": "[encoded data removed]",
      "text/plain": [
       "<Figure size 640x480 with 1 Axes>"
      ]
     },
     "metadata": {},
     "output_type": "display_data"
    }
   ],
   "source": [
    "import matplotlib.pyplot as plt    # 데이터 시각화 위해 import\n",
    "plt.plot(seq, 'o')\n",
    "plt.show()\n"
   ]
  },
  {
   "cell_type": "markdown",
   "id": "9564b11e",
   "metadata": {},
   "source": [
    "### np.linspace( )\n",
    "\n",
    "* numpy.linspace(start, stop, num=50, endpoint=True, retstep=False, dtype=None)\n",
    "* start부터 stop의 범위에서 num개를 균일간격으로 데이터를 생성하고 배열을 만드는 함수\n",
    "* 요소 개수를 기준으로 균등한 간격으로 배열 생성"
   ]
  },
  {
   "cell_type": "code",
   "execution_count": 31,
   "id": "84c926b0",
   "metadata": {},
   "outputs": [
    {
     "name": "stdout",
     "output_type": "stream",
     "text": [
      "type : <class 'numpy.ndarray'>\n",
      "shape : (5,), demention : 1, dtype : float64\n",
      "array's Data : \n",
      " [0.   0.25 0.5  0.75 1.  ]\n"
     ]
    }
   ],
   "source": [
    "a = np.linspace(0, 1, 5)\n",
    "pprint(a)"
   ]
  },
  {
   "cell_type": "code",
   "execution_count": 40,
   "id": "8ce4f53b",
   "metadata": {},
   "outputs": [
    {
     "data": {
      "image/png": "[encoded data removed]",
      "text/plain": [
       "<Figure size 640x480 with 1 Axes>"
      ]
     },
     "metadata": {},
     "output_type": "display_data"
    }
   ],
   "source": [
    "plt.plot(a, 'o')\n",
    "plt.show()"
   ]
  },
  {
   "cell_type": "code",
   "execution_count": 47,
   "id": "96b1e02d",
   "metadata": {},
   "outputs": [
    {
     "name": "stdout",
     "output_type": "stream",
     "text": [
      "type : <class 'numpy.ndarray'>\n",
      "shape : (5,), demention : 1, dtype : float64\n",
      "array's Data : \n",
      " [0. 2. 4. 6. 8.]\n"
     ]
    },
    {
     "name": "stderr",
     "output_type": "stream",
     "text": [
      "<ipython-input-47-5324c5374c50>:1: DeprecationWarning: `np.float` is a deprecated alias for the builtin `float`. To silence this warning, use `float` by itself. Doing this will not modify any behavior and is safe. If you specifically wanted the numpy scalar type, use `np.float64` here.\n",
      "Deprecated in NumPy 1.20; for more details and guidance: https://numpy.org/devdocs/release/1.20.0-notes.html#deprecations\n",
      "  a = np.arange(0, 10, 2, np.float)\n"
     ]
    }
   ],
   "source": [
    "a = np.arange(0, 10, 2, np.float)\n",
    "pprint(a)"
   ]
  },
  {
   "cell_type": "code",
   "execution_count": 44,
   "id": "753d2ff9",
   "metadata": {},
   "outputs": [
    {
     "data": {
      "image/png": "[encoded data removed]",
      "text/plain": [
       "<Figure size 640x480 with 1 Axes>"
      ]
     },
     "metadata": {},
     "output_type": "display_data"
    }
   ],
   "source": [
    "plt.plot(a, 'o')\n",
    "plt.show()"
   ]
  },
  {
   "cell_type": "markdown",
   "id": "31b9571d",
   "metadata": {},
   "source": [
    "### np.logspace( )\n",
    "\n",
    "* numpy.logspace(start, stop, num=50, endpoint=True, base=10.0, dtype=None)\n",
    "* 로그 스케일의 linspace 함수\n",
    "* 로그스케일로 지정된 범위에서 num개수만틈 균등간격으로 데이터를 생성."
   ]
  },
  {
   "cell_type": "code",
   "execution_count": 48,
   "id": "ef89db88",
   "metadata": {},
   "outputs": [
    {
     "name": "stdout",
     "output_type": "stream",
     "text": [
      "type : <class 'numpy.ndarray'>\n",
      "shape : (20,), demention : 1, dtype : float64\n",
      "array's Data : \n",
      " [ 1.25892541  1.40400425  1.565802    1.74624535  1.94748304  2.1719114\n",
      "  2.42220294  2.70133812  3.0126409   3.35981829  3.74700446  4.17881006\n",
      "  4.66037703  5.19743987  5.79639395  6.46437163  7.2093272   8.04013161\n",
      "  8.9666781  10.        ]\n"
     ]
    }
   ],
   "source": [
    "a = np.logspace(0.1, 1, 20, endpoint=True)\n",
    "pprint(a)"
   ]
  },
  {
   "cell_type": "code",
   "execution_count": 49,
   "id": "30f42d85",
   "metadata": {},
   "outputs": [
    {
     "data": {
      "image/png": "[encoded data removed]",
      "text/plain": [
       "<Figure size 640x480 with 1 Axes>"
      ]
     },
     "metadata": {},
     "output_type": "display_data"
    }
   ],
   "source": [
    "plt.plot(a, 'o')\n",
    "plt.show()"
   ]
  },
  {
   "cell_type": "code",
   "execution_count": 52,
   "id": "dcf6e985",
   "metadata": {},
   "outputs": [
    {
     "name": "stdout",
     "output_type": "stream",
     "text": [
      "type : <class 'numpy.ndarray'>\n",
      "shape : (10,), demention : 1, dtype : int64\n",
      "array's Data : \n",
      " [0 1 2 3 4 5 6 7 8 9]\n",
      "\n",
      "type : <class 'numpy.ndarray'>\n",
      "shape : (2, 5), demention : 2, dtype : int64\n",
      "array's Data : \n",
      " [[0 1 2 3 4]\n",
      " [5 6 7 8 9]]\n",
      "\n",
      "type : <class 'numpy.ndarray'>\n",
      "shape : (5, 2), demention : 2, dtype : int64\n",
      "array's Data : \n",
      " [[0 1]\n",
      " [2 3]\n",
      " [4 5]\n",
      " [6 7]\n",
      " [8 9]]\n",
      "\n",
      "type : <class 'numpy.ndarray'>\n",
      "shape : (2, 5), demention : 2, dtype : int64\n",
      "array's Data : \n",
      " [[0 1 2 3 4]\n",
      " [5 6 7 8 9]]\n"
     ]
    }
   ],
   "source": [
    "array1 = np.arange(10)\n",
    "array2 = array1.reshape(2, 5)\n",
    "array3 = array1.reshape(5, 2)\n",
    "array4 = array1.reshape(2, -1)\n",
    "pprint(array1)\n",
    "print()\n",
    "pprint(array2)\n",
    "print()\n",
    "pprint(array3)\n",
    "print()\n",
    "pprint(array4)"
   ]
  }
 ],
 "metadata": {
  "kernelspec": {
   "display_name": "Python 3",
   "language": "python",
   "name": "python3"
  },
  "language_info": {
   "codemirror_mode": {
    "name": "ipython",
    "version": 3
   },
   "file_extension": ".py",
   "mimetype": "text/x-python",
   "name": "python",
   "nbconvert_exporter": "python",
   "pygments_lexer": "ipython3",
   "version": "3.8.8"
  }
 },
 "nbformat": 4,
 "nbformat_minor": 5
}
